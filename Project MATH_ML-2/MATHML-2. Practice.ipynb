{
  "cells": [
    {
      "attachments": {},
      "cell_type": "markdown",
      "id": "b054bd88",
      "metadata": {
        "id": "b054bd88"
      },
      "source": [
        "# <center> Линейная алгебра в контексте линейных методов. Практика.\n",
        "\n",
        "## <center> Прогнозирование выработки газа на скважинах."
      ]
    },
    {
      "attachments": {},
      "cell_type": "markdown",
      "id": "325bc80b",
      "metadata": {
        "id": "325bc80b"
      },
      "source": [
        "## Постановка задачи"
      ]
    },
    {
      "attachments": {},
      "cell_type": "markdown",
      "id": "8247bd54",
      "metadata": {
        "id": "8247bd54"
      },
      "source": [
        "У Василия, основателя компании «Газ-Таз-Ваз-Нефть», дела идут в гору: у него уже функционирует 200 скважин для добычи газа. В этом году он открывает 30 новых скважин. Однако в целях оптимизации расходов и повышения дохода Василию необходимо оценить, сколько денег будет приносить ему каждая из скважин, а также понять, какие факторы (параметры скважин) потенциально сильнее всего повлияют на объём добычи газа. Для этого Василий решил нанять вас как специалиста в области Data Science.\n",
        "\n",
        "Василий представляет вам набор данных о добыче газа на своих скважинах. Файл с данными вы можете скачать на платформе.\n",
        "\n",
        "**Признаки в данных:**\n",
        "\n",
        "* Well — идентификатор скважины;\n",
        "* Por — пористость скважины (%);\n",
        "* Perm — проницаемость скважины;\n",
        "* AI — акустический импеданс ($кг/м^2 * 10^6$);\n",
        "* Brittle — коэффициент хрупкости скважины (%);\n",
        "* TOC — общий органический углерод (%);\n",
        "* VR — коэффициент отражения витринита (%);\n",
        "* Prod — добыча газа в сутки (млн. кубических футов).\n",
        "\n",
        "**Ваша задача** — построить регрессионную модель, которая прогнозирует выработку газа на скважине (целевой признак — Prod) на основе остальных характеристик скважины, и проинтерпретировать результаты вашей модели.\n",
        "\n",
        "Разделим задачу на две части:\n",
        "* В первой мы построим простейшую модель линейной регрессии, проанализируем результаты её работы и выберем наиболее значимые факторы для прогнозирования.\n",
        "* Во второй мы займёмся построением модели полиномиальной регрессии с регуляризацией и посмотрим на итоговые результаты моделирования.\n"
      ]
    },
    {
      "attachments": {},
      "cell_type": "markdown",
      "id": "d67d069e",
      "metadata": {
        "id": "d67d069e"
      },
      "source": [
        "Импортируем необходимые библиотеки:"
      ]
    },
    {
      "cell_type": "code",
      "execution_count": 1,
      "id": "83a555bc-8dff-4b7e-bba1-cd4f4a9e69b2",
      "metadata": {
        "id": "83a555bc-8dff-4b7e-bba1-cd4f4a9e69b2"
      },
      "outputs": [],
      "source": [
        "import numpy as np\n",
        "import pandas as pd\n",
        "import seaborn as sns \n",
        "import matplotlib.pyplot as plt\n",
        "import plotly.graph_objs as go\n",
        "from plotly.subplots import make_subplots\n",
        "\n",
        "%matplotlib inline\n",
        "\n",
        "from sklearn.linear_model import LinearRegression\n",
        "from sklearn import metrics\n",
        "from sklearn.model_selection import cross_val_score\n",
        "\n",
        "from sklearn.model_selection import RandomizedSearchCV\n",
        "import optuna\n",
        "\n",
        "import warnings\n",
        "warnings.filterwarnings('ignore') # отключаем уведомления системы"
      ]
    },
    {
      "attachments": {},
      "cell_type": "markdown",
      "id": "e689ddaf",
      "metadata": {
        "id": "e689ddaf"
      },
      "source": [
        "Прочитаем исходные данные:"
      ]
    },
    {
      "cell_type": "code",
      "execution_count": 2,
      "id": "b7b5cd9b-703f-4dbc-a6e3-61d583eafcac",
      "metadata": {
        "colab": {
          "base_uri": "https://localhost:8080/",
          "height": 206
        },
        "id": "b7b5cd9b-703f-4dbc-a6e3-61d583eafcac",
        "outputId": "d4e99a48-2a0d-4edd-f86c-617c44bf36d2"
      },
      "outputs": [
        {
          "data": {
            "text/html": [
              "<div>\n",
              "<style scoped>\n",
              "    .dataframe tbody tr th:only-of-type {\n",
              "        vertical-align: middle;\n",
              "    }\n",
              "\n",
              "    .dataframe tbody tr th {\n",
              "        vertical-align: top;\n",
              "    }\n",
              "\n",
              "    .dataframe thead th {\n",
              "        text-align: right;\n",
              "    }\n",
              "</style>\n",
              "<table border=\"1\" class=\"dataframe\">\n",
              "  <thead>\n",
              "    <tr style=\"text-align: right;\">\n",
              "      <th></th>\n",
              "      <th>Well</th>\n",
              "      <th>Por</th>\n",
              "      <th>Perm</th>\n",
              "      <th>AI</th>\n",
              "      <th>Brittle</th>\n",
              "      <th>TOC</th>\n",
              "      <th>VR</th>\n",
              "      <th>Prod</th>\n",
              "    </tr>\n",
              "  </thead>\n",
              "  <tbody>\n",
              "    <tr>\n",
              "      <th>0</th>\n",
              "      <td>1</td>\n",
              "      <td>12.08</td>\n",
              "      <td>2.92</td>\n",
              "      <td>2.80</td>\n",
              "      <td>81.40</td>\n",
              "      <td>1.16</td>\n",
              "      <td>2.31</td>\n",
              "      <td>4165.196191</td>\n",
              "    </tr>\n",
              "    <tr>\n",
              "      <th>1</th>\n",
              "      <td>2</td>\n",
              "      <td>12.38</td>\n",
              "      <td>3.53</td>\n",
              "      <td>3.22</td>\n",
              "      <td>46.17</td>\n",
              "      <td>0.89</td>\n",
              "      <td>1.88</td>\n",
              "      <td>3561.146205</td>\n",
              "    </tr>\n",
              "    <tr>\n",
              "      <th>2</th>\n",
              "      <td>3</td>\n",
              "      <td>14.02</td>\n",
              "      <td>2.59</td>\n",
              "      <td>4.01</td>\n",
              "      <td>72.80</td>\n",
              "      <td>0.89</td>\n",
              "      <td>2.72</td>\n",
              "      <td>4284.348574</td>\n",
              "    </tr>\n",
              "    <tr>\n",
              "      <th>3</th>\n",
              "      <td>4</td>\n",
              "      <td>17.67</td>\n",
              "      <td>6.75</td>\n",
              "      <td>2.63</td>\n",
              "      <td>39.81</td>\n",
              "      <td>1.08</td>\n",
              "      <td>1.88</td>\n",
              "      <td>5098.680869</td>\n",
              "    </tr>\n",
              "    <tr>\n",
              "      <th>4</th>\n",
              "      <td>5</td>\n",
              "      <td>17.52</td>\n",
              "      <td>4.57</td>\n",
              "      <td>3.18</td>\n",
              "      <td>10.94</td>\n",
              "      <td>1.51</td>\n",
              "      <td>1.90</td>\n",
              "      <td>3406.132832</td>\n",
              "    </tr>\n",
              "  </tbody>\n",
              "</table>\n",
              "</div>"
            ],
            "text/plain": [
              "   Well    Por  Perm    AI  Brittle   TOC    VR         Prod\n",
              "0     1  12.08  2.92  2.80    81.40  1.16  2.31  4165.196191\n",
              "1     2  12.38  3.53  3.22    46.17  0.89  1.88  3561.146205\n",
              "2     3  14.02  2.59  4.01    72.80  0.89  2.72  4284.348574\n",
              "3     4  17.67  6.75  2.63    39.81  1.08  1.88  5098.680869\n",
              "4     5  17.52  4.57  3.18    10.94  1.51  1.90  3406.132832"
            ]
          },
          "execution_count": 2,
          "metadata": {},
          "output_type": "execute_result"
        }
      ],
      "source": [
        "data = pd.read_csv('https://lms-cdn.skillfactory.ru/assets/courseware/v1/71b705fb3dda956399b2209697366543/asset-v1:SkillFactory+DST-3.0+28FEB2021+type@asset+block/_unconv.zip')\n",
        "data.head()"
      ]
    },
    {
      "attachments": {},
      "cell_type": "markdown",
      "id": "58639b40",
      "metadata": {
        "id": "58639b40"
      },
      "source": [
        "## Практика: линейная регрессия по методу наименьших квадратов"
      ]
    },
    {
      "attachments": {},
      "cell_type": "markdown",
      "id": "a90535b8",
      "metadata": {
        "id": "a90535b8"
      },
      "source": [
        "Для начала построим простейшую модель линейной регрессии, проанализируем результаты её работы и выберем наиболее значимые факторы для прогнозирования.\n",
        "\n",
        "В первой части вам предстоит выполнить задания 5.0–5.6. Максимальное количество баллов, которое можно получить, — 9."
      ]
    },
    {
      "attachments": {},
      "cell_type": "markdown",
      "id": "4061b706",
      "metadata": {
        "id": "4061b706"
      },
      "source": [
        "### Задание 5.0. (не оценивается)\n",
        "\n",
        "Проведите небольшой разведывательный анализ, чтобы поближе познакомиться с исходными данными. Постройте несколько визуализаций, которые помогут вам понять, как устроены исходные признаки, а также смогут продемонстрировать взаимосвязь факторов. \n",
        "\n",
        "Сделайте промежуточные выводы из проведённого разведывательного анализа."
      ]
    },
    {
      "cell_type": "code",
      "execution_count": 3,
      "id": "daf1ccc7",
      "metadata": {
        "id": "daf1ccc7"
      },
      "outputs": [
        {
          "name": "stdout",
          "output_type": "stream",
          "text": [
            "<class 'pandas.core.frame.DataFrame'>\n",
            "RangeIndex: 200 entries, 0 to 199\n",
            "Data columns (total 8 columns):\n",
            " #   Column   Non-Null Count  Dtype  \n",
            "---  ------   --------------  -----  \n",
            " 0   Well     200 non-null    int64  \n",
            " 1   Por      200 non-null    float64\n",
            " 2   Perm     200 non-null    float64\n",
            " 3   AI       200 non-null    float64\n",
            " 4   Brittle  200 non-null    float64\n",
            " 5   TOC      200 non-null    float64\n",
            " 6   VR       200 non-null    float64\n",
            " 7   Prod     200 non-null    float64\n",
            "dtypes: float64(7), int64(1)\n",
            "memory usage: 12.6 KB\n"
          ]
        }
      ],
      "source": [
        "#посмотрим на типы представленных данных и оценим есть ли в них пропуски\n",
        "data.info()"
      ]
    },
    {
      "cell_type": "code",
      "execution_count": 4,
      "id": "bf5afd4b",
      "metadata": {},
      "outputs": [
        {
          "data": {
            "text/html": [
              "<div>\n",
              "<style scoped>\n",
              "    .dataframe tbody tr th:only-of-type {\n",
              "        vertical-align: middle;\n",
              "    }\n",
              "\n",
              "    .dataframe tbody tr th {\n",
              "        vertical-align: top;\n",
              "    }\n",
              "\n",
              "    .dataframe thead th {\n",
              "        text-align: right;\n",
              "    }\n",
              "</style>\n",
              "<table border=\"1\" class=\"dataframe\">\n",
              "  <thead>\n",
              "    <tr style=\"text-align: right;\">\n",
              "      <th></th>\n",
              "      <th>Well</th>\n",
              "      <th>Por</th>\n",
              "      <th>Perm</th>\n",
              "      <th>AI</th>\n",
              "      <th>Brittle</th>\n",
              "      <th>TOC</th>\n",
              "      <th>VR</th>\n",
              "      <th>Prod</th>\n",
              "    </tr>\n",
              "  </thead>\n",
              "  <tbody>\n",
              "    <tr>\n",
              "      <th>count</th>\n",
              "      <td>200.000000</td>\n",
              "      <td>200.000000</td>\n",
              "      <td>200.000000</td>\n",
              "      <td>200.000000</td>\n",
              "      <td>200.000000</td>\n",
              "      <td>200.000000</td>\n",
              "      <td>200.000000</td>\n",
              "      <td>200.000000</td>\n",
              "    </tr>\n",
              "    <tr>\n",
              "      <th>mean</th>\n",
              "      <td>100.500000</td>\n",
              "      <td>14.991150</td>\n",
              "      <td>4.330750</td>\n",
              "      <td>2.968850</td>\n",
              "      <td>48.161950</td>\n",
              "      <td>0.990450</td>\n",
              "      <td>1.964300</td>\n",
              "      <td>4311.219852</td>\n",
              "    </tr>\n",
              "    <tr>\n",
              "      <th>std</th>\n",
              "      <td>57.879185</td>\n",
              "      <td>2.971176</td>\n",
              "      <td>1.731014</td>\n",
              "      <td>0.566885</td>\n",
              "      <td>14.129455</td>\n",
              "      <td>0.481588</td>\n",
              "      <td>0.300827</td>\n",
              "      <td>992.038414</td>\n",
              "    </tr>\n",
              "    <tr>\n",
              "      <th>min</th>\n",
              "      <td>1.000000</td>\n",
              "      <td>6.550000</td>\n",
              "      <td>1.130000</td>\n",
              "      <td>1.280000</td>\n",
              "      <td>10.940000</td>\n",
              "      <td>-0.190000</td>\n",
              "      <td>0.930000</td>\n",
              "      <td>2107.139414</td>\n",
              "    </tr>\n",
              "    <tr>\n",
              "      <th>25%</th>\n",
              "      <td>50.750000</td>\n",
              "      <td>12.912500</td>\n",
              "      <td>3.122500</td>\n",
              "      <td>2.547500</td>\n",
              "      <td>37.755000</td>\n",
              "      <td>0.617500</td>\n",
              "      <td>1.770000</td>\n",
              "      <td>3618.064513</td>\n",
              "    </tr>\n",
              "    <tr>\n",
              "      <th>50%</th>\n",
              "      <td>100.500000</td>\n",
              "      <td>15.070000</td>\n",
              "      <td>4.035000</td>\n",
              "      <td>2.955000</td>\n",
              "      <td>49.510000</td>\n",
              "      <td>1.030000</td>\n",
              "      <td>1.960000</td>\n",
              "      <td>4284.687348</td>\n",
              "    </tr>\n",
              "    <tr>\n",
              "      <th>75%</th>\n",
              "      <td>150.250000</td>\n",
              "      <td>17.402500</td>\n",
              "      <td>5.287500</td>\n",
              "      <td>3.345000</td>\n",
              "      <td>58.262500</td>\n",
              "      <td>1.350000</td>\n",
              "      <td>2.142500</td>\n",
              "      <td>5086.089761</td>\n",
              "    </tr>\n",
              "    <tr>\n",
              "      <th>max</th>\n",
              "      <td>200.000000</td>\n",
              "      <td>23.550000</td>\n",
              "      <td>9.870000</td>\n",
              "      <td>4.630000</td>\n",
              "      <td>84.330000</td>\n",
              "      <td>2.180000</td>\n",
              "      <td>2.870000</td>\n",
              "      <td>6662.622385</td>\n",
              "    </tr>\n",
              "  </tbody>\n",
              "</table>\n",
              "</div>"
            ],
            "text/plain": [
              "             Well         Por        Perm          AI     Brittle         TOC  \\\n",
              "count  200.000000  200.000000  200.000000  200.000000  200.000000  200.000000   \n",
              "mean   100.500000   14.991150    4.330750    2.968850   48.161950    0.990450   \n",
              "std     57.879185    2.971176    1.731014    0.566885   14.129455    0.481588   \n",
              "min      1.000000    6.550000    1.130000    1.280000   10.940000   -0.190000   \n",
              "25%     50.750000   12.912500    3.122500    2.547500   37.755000    0.617500   \n",
              "50%    100.500000   15.070000    4.035000    2.955000   49.510000    1.030000   \n",
              "75%    150.250000   17.402500    5.287500    3.345000   58.262500    1.350000   \n",
              "max    200.000000   23.550000    9.870000    4.630000   84.330000    2.180000   \n",
              "\n",
              "               VR         Prod  \n",
              "count  200.000000   200.000000  \n",
              "mean     1.964300  4311.219852  \n",
              "std      0.300827   992.038414  \n",
              "min      0.930000  2107.139414  \n",
              "25%      1.770000  3618.064513  \n",
              "50%      1.960000  4284.687348  \n",
              "75%      2.142500  5086.089761  \n",
              "max      2.870000  6662.622385  "
            ]
          },
          "execution_count": 4,
          "metadata": {},
          "output_type": "execute_result"
        }
      ],
      "source": [
        "#посмотрим на статистические характеристики\n",
        "data.describe()"
      ]
    },
    {
      "attachments": {},
      "cell_type": "markdown",
      "id": "644d1d2f",
      "metadata": {},
      "source": [
        "**Выводы**\n",
        "\n",
        "В дата сете 7 значимых (без номера скважины) числовых признаков, каждый из которых имеет различный масштаб и диапазон. Наибольшиий разброс (от 10 до 85) у коэффициента хрупкости скважины ($Brittle$), а наименьший - у коэффициента отражения витринита ($VR$) и показателя общего органического углерода $TOC$ от (-0.19 до 2.18). Причём у последнего присуствуют и отрицательные значения. Пропуски отсутствуют."
      ]
    },
    {
      "attachments": {},
      "cell_type": "markdown",
      "id": "5ad14361",
      "metadata": {},
      "source": [
        "#### **Посмотрим распределение целевого показателя**"
      ]
    },
    {
      "cell_type": "code",
      "execution_count": 5,
      "id": "698ac75e",
      "metadata": {},
      "outputs": [
        {
          "data": {
            "image/png": "[encoded data removed]",
            "text/plain": [
              "<Figure size 1000x300 with 1 Axes>"
            ]
          },
          "metadata": {},
          "output_type": "display_data"
        }
      ],
      "source": [
        "fig = plt.figure(figsize=(10, 3))\n",
        "boxplot = sns.boxplot(\n",
        "    data=data,\n",
        "    x='Prod',\n",
        "    orient='h',\n",
        "    width=0.9\n",
        ")\n",
        "boxplot.set_title('Распределение мощности скважин');\n",
        "boxplot.set_xlabel('Добыча газа в сутки');\n",
        "boxplot.grid()"
      ]
    },
    {
      "attachments": {},
      "cell_type": "markdown",
      "id": "159c3414",
      "metadata": {},
      "source": [
        "По графику можно сказать, что большинство скважин добывают от 3500 до 5000 $м^3$ газа в сутки."
      ]
    },
    {
      "cell_type": "markdown",
      "id": "5723c1e5",
      "metadata": {},
      "source": [
        "#### **Оценим распределение наблюдений**"
      ]
    },
    {
      "cell_type": "code",
      "execution_count": 6,
      "metadata": {},
      "outputs": [],
      "source": [
        "# Создаём список категориальных признаков без номера скважины и целевого признака\n",
        "features = list(data.columns)\n",
        "features.remove('Well')\n",
        "features.remove('Prod')\n",
        "\n",
        "# Создаём словарь наименований и значений признаков\n",
        "features_name = {\n",
        "                'Por':'пористость скважины (%)', \n",
        "                'Perm':'проницаемость скважины',\n",
        "                'AI':'акустический импеданс (кг/кв.м * 10^6)',\n",
        "                'Brittle':'коэффициент хрупкости скважины (%)',\n",
        "                'TOC': 'общий органический углерод (%)',\n",
        "                'VR':'коэффициент отражения витринита (%)'\n",
        "}"
      ]
    },
    {
      "cell_type": "code",
      "execution_count": 7,
      "id": "1ae47451",
      "metadata": {},
      "outputs": [
        {
          "data": {
            "application/vnd.plotly.v1+json": {
              "config": {
                "plotlyServerURL": "https://plot.ly"
              },
              "data": [
                {
                  "type": "histogram",
                  "x": [
                    12.08,
                    12.38,
                    14.02,
                    17.67,
                    17.52,
                    14.53,
                    13.49,
                    11.58,
                    12.52,
                    13.25,
                    15.04,
                    16.19,
                    16.82,
                    17.39,
                    13.83,
                    11.34,
                    19.55,
                    15.58,
                    14.73,
                    12.47,
                    18.08,
                    16.32,
                    12.62,
                    10.03,
                    18.66,
                    7.27,
                    15.78,
                    15.73,
                    12.38,
                    12.89,
                    18.48,
                    14.74,
                    12.55,
                    13.58,
                    11.76,
                    11.98,
                    13.56,
                    16.55,
                    15.22,
                    14.54,
                    14.37,
                    15.4,
                    10.14,
                    11.09,
                    18.37,
                    14.71,
                    9.29,
                    11.85,
                    18.59,
                    18.18,
                    18.72,
                    20.96,
                    15.31,
                    11.98,
                    18.16,
                    13.61,
                    13.67,
                    15.21,
                    16.1,
                    13,
                    18.32,
                    14.96,
                    18.21,
                    15.07,
                    17.75,
                    15.77,
                    14.19,
                    13.8,
                    14.84,
                    12.54,
                    10.13,
                    14.17,
                    14.85,
                    16.62,
                    17.85,
                    18.73,
                    17.2,
                    10.49,
                    13.53,
                    18.04,
                    14.97,
                    16.18,
                    15.07,
                    13.69,
                    10.15,
                    13.45,
                    15.94,
                    14.88,
                    11.12,
                    13.5,
                    13.72,
                    7.38,
                    20.21,
                    10.69,
                    15.75,
                    17.96,
                    16.95,
                    19.73,
                    11.91,
                    15.53,
                    14.44,
                    13.37,
                    10.5,
                    18.9,
                    17.89,
                    15.32,
                    13.48,
                    17.17,
                    20.86,
                    15.19,
                    14.95,
                    12.1,
                    18.24,
                    19.86,
                    19.54,
                    18.37,
                    12.89,
                    15.2,
                    12.23,
                    17.88,
                    15.79,
                    12.38,
                    18.98,
                    13.76,
                    23.55,
                    14.86,
                    16.43,
                    15.86,
                    12.98,
                    17.21,
                    15.34,
                    17.57,
                    10.74,
                    18.79,
                    12.83,
                    15.35,
                    14.88,
                    14.69,
                    7.77,
                    15.87,
                    18.75,
                    15.63,
                    18.06,
                    12.05,
                    14.44,
                    16.69,
                    15.8,
                    16.84,
                    13.46,
                    14.63,
                    12.2,
                    10.5,
                    18.68,
                    16.88,
                    15.42,
                    13.01,
                    17.92,
                    15.97,
                    13.32,
                    18.1,
                    16.21,
                    18,
                    17.86,
                    11.6,
                    17.98,
                    16.61,
                    19.06,
                    12.83,
                    18.96,
                    11.71,
                    11.91,
                    17.44,
                    10.95,
                    12.94,
                    15.72,
                    14.02,
                    14.49,
                    11.8,
                    19.29,
                    7.22,
                    15.7,
                    14.48,
                    9.88,
                    18.8,
                    18.07,
                    15.68,
                    15.28,
                    10.88,
                    16.14,
                    16.12,
                    13.52,
                    6.55,
                    20.37,
                    12.92,
                    17.13,
                    11.95,
                    17.99,
                    12.12,
                    15.55,
                    20.89
                  ],
                  "xaxis": "x",
                  "yaxis": "y"
                },
                {
                  "type": "histogram",
                  "x": [
                    2.92,
                    3.53,
                    2.59,
                    6.75,
                    4.57,
                    4.81,
                    3.6,
                    3.03,
                    2.72,
                    3.94,
                    4.39,
                    6.3,
                    5.42,
                    4.95,
                    5.26,
                    2.72,
                    8.41,
                    3.67,
                    5,
                    2.53,
                    5.7,
                    4.06,
                    2.39,
                    1.88,
                    5.37,
                    2.01,
                    5,
                    6.42,
                    2.18,
                    2.41,
                    5.93,
                    3.1,
                    3.22,
                    2.39,
                    2.94,
                    3.67,
                    3.13,
                    5.7,
                    3.67,
                    3.67,
                    5.93,
                    3.9,
                    3.78,
                    2.56,
                    5.93,
                    4.35,
                    1.67,
                    3.46,
                    5.1,
                    4.39,
                    5.75,
                    9.21,
                    3.35,
                    2.75,
                    7.1,
                    3.53,
                    3.13,
                    4.1,
                    3.25,
                    4.66,
                    5.7,
                    2.16,
                    5.7,
                    5.42,
                    4.66,
                    7.03,
                    3.29,
                    3.29,
                    3.97,
                    3.49,
                    2.39,
                    3.94,
                    5,
                    4.62,
                    5.81,
                    7.46,
                    6.36,
                    1.62,
                    4.53,
                    3.9,
                    2.75,
                    4.01,
                    3.39,
                    3.86,
                    1.72,
                    2.51,
                    3.82,
                    4.81,
                    1.88,
                    2.66,
                    4.01,
                    1.88,
                    8.33,
                    2.66,
                    3.6,
                    4.26,
                    4.14,
                    7.85,
                    4.48,
                    5.42,
                    2.92,
                    4.66,
                    3.22,
                    4.57,
                    4.22,
                    3.71,
                    2.61,
                    3.82,
                    6.3,
                    5.05,
                    3.29,
                    5.1,
                    4.31,
                    6.82,
                    5.93,
                    4.95,
                    4.26,
                    3.49,
                    2.39,
                    5.58,
                    4.22,
                    2.48,
                    9.78,
                    3.86,
                    8.25,
                    3.9,
                    5.99,
                    2.94,
                    5.26,
                    4.62,
                    3.06,
                    4.44,
                    1.72,
                    4.48,
                    2.69,
                    4.66,
                    5.16,
                    3.63,
                    1.48,
                    6.82,
                    5.16,
                    4.66,
                    8,
                    2.36,
                    4.53,
                    5.05,
                    2.72,
                    5.1,
                    4.57,
                    7.1,
                    2.92,
                    2.56,
                    6.17,
                    6.62,
                    4.06,
                    3.6,
                    5.37,
                    3.19,
                    3.19,
                    9.58,
                    4.01,
                    5.58,
                    6.96,
                    1.73,
                    4.26,
                    3.49,
                    9.49,
                    3.56,
                    5.81,
                    1.88,
                    5.42,
                    5.7,
                    2.23,
                    2.64,
                    3.78,
                    4.48,
                    4.85,
                    2.92,
                    5,
                    1.42,
                    3,
                    3.82,
                    2.72,
                    6.05,
                    3.78,
                    5.37,
                    3.49,
                    3.32,
                    5.05,
                    4.1,
                    3.86,
                    1.13,
                    6.69,
                    3.9,
                    5.99,
                    3.13,
                    9.87,
                    2.27,
                    4.48,
                    7.54
                  ],
                  "xaxis": "x2",
                  "yaxis": "y2"
                },
                {
                  "type": "histogram",
                  "x": [
                    2.8,
                    3.22,
                    4.01,
                    2.63,
                    3.18,
                    2.69,
                    2.93,
                    3.25,
                    2.43,
                    3.71,
                    2.22,
                    2.29,
                    2.8,
                    2.55,
                    2.51,
                    3.43,
                    3.08,
                    2.53,
                    3.03,
                    3.54,
                    2.38,
                    2.41,
                    2.38,
                    3.29,
                    1.39,
                    3.41,
                    2.55,
                    3.74,
                    4.09,
                    2.9,
                    2.85,
                    2.45,
                    3.43,
                    2.95,
                    4.18,
                    3.17,
                    3.59,
                    2.28,
                    3.52,
                    2.04,
                    2.98,
                    2.86,
                    4.26,
                    3.16,
                    2.56,
                    2.39,
                    2.82,
                    3.26,
                    2.91,
                    3.27,
                    2.57,
                    2.45,
                    2.76,
                    4.63,
                    2.12,
                    2.75,
                    2.89,
                    3.11,
                    2.16,
                    3.1,
                    3.1,
                    2.25,
                    3.34,
                    3.04,
                    2.72,
                    4.1,
                    2.69,
                    3.15,
                    3.43,
                    3.59,
                    3.49,
                    2.92,
                    3.63,
                    2.31,
                    2.96,
                    2.88,
                    2.26,
                    3.77,
                    2.31,
                    2.47,
                    2.87,
                    3.04,
                    3.39,
                    3.51,
                    2.97,
                    3.25,
                    3.81,
                    3.3,
                    3.09,
                    3.94,
                    3.41,
                    2.54,
                    2.5,
                    3.49,
                    2.82,
                    2.87,
                    2.3,
                    2.63,
                    2.27,
                    2.64,
                    2.34,
                    3.04,
                    3.69,
                    2.65,
                    1.86,
                    3.29,
                    2.93,
                    2.35,
                    2.53,
                    3.11,
                    2.69,
                    3.97,
                    2.85,
                    2.77,
                    3.23,
                    2.45,
                    4.09,
                    3.2,
                    3.02,
                    3.2,
                    3.01,
                    2.63,
                    2.69,
                    3.46,
                    1.28,
                    2.64,
                    2.62,
                    2.74,
                    3.25,
                    2.79,
                    2.11,
                    2.3,
                    3.33,
                    3.57,
                    3.67,
                    3.07,
                    3.47,
                    2.39,
                    2.8,
                    3.2,
                    1.45,
                    2.85,
                    2.6,
                    3.21,
                    2.81,
                    3.44,
                    3.29,
                    3.16,
                    3.04,
                    3.02,
                    3.36,
                    3.11,
                    2.5,
                    2.45,
                    2.8,
                    2.38,
                    2.3,
                    2.63,
                    2.45,
                    3.34,
                    2.77,
                    1.71,
                    2.5,
                    2.18,
                    2.94,
                    1.83,
                    3.2,
                    3.15,
                    2.17,
                    4.01,
                    3.83,
                    3.44,
                    3.67,
                    2.88,
                    2.51,
                    3.01,
                    3,
                    3.64,
                    2.82,
                    3.6,
                    3.41,
                    3.56,
                    3.64,
                    3.23,
                    2.89,
                    3.77,
                    2.29,
                    4.09,
                    3.16,
                    2.42,
                    3.45,
                    4.13,
                    2.37,
                    3.68,
                    2.88,
                    2.97,
                    3.38,
                    3.52,
                    2.48,
                    3.23
                  ],
                  "xaxis": "x3",
                  "yaxis": "y3"
                },
                {
                  "type": "histogram",
                  "x": [
                    81.4,
                    46.17,
                    72.8,
                    39.81,
                    10.94,
                    53.6,
                    63.71,
                    53,
                    65.77,
                    66.2,
                    61.11,
                    49.1,
                    66.65,
                    56.43,
                    66.22,
                    58.03,
                    35.49,
                    29.43,
                    67.42,
                    48.82,
                    53.56,
                    46.78,
                    15.68,
                    37.74,
                    53.35,
                    54.56,
                    52.64,
                    31.9,
                    31.4,
                    51.24,
                    46.89,
                    36.86,
                    56.93,
                    52.16,
                    61.21,
                    27.12,
                    42.96,
                    63.39,
                    42.24,
                    66.27,
                    47.62,
                    46.29,
                    61.89,
                    29.62,
                    44.22,
                    26.33,
                    63.86,
                    24.76,
                    49.2,
                    45.48,
                    44.74,
                    33.84,
                    55.2,
                    60.31,
                    41.55,
                    55.04,
                    28.69,
                    32.37,
                    26.77,
                    64.54,
                    57.18,
                    34.65,
                    51.06,
                    39.39,
                    59.32,
                    44.54,
                    28.7,
                    46.08,
                    48.8,
                    58.03,
                    63.79,
                    59.3,
                    44.93,
                    31.41,
                    59.16,
                    53.39,
                    48.84,
                    52.31,
                    67.51,
                    57.53,
                    54.85,
                    41.4,
                    56.7,
                    69.53,
                    40.51,
                    58.3,
                    37.13,
                    63.31,
                    58.97,
                    36.68,
                    40.24,
                    42.24,
                    23.78,
                    84.33,
                    70.68,
                    49.41,
                    61.43,
                    49.91,
                    47.38,
                    64.49,
                    68.76,
                    52.23,
                    61.09,
                    18.63,
                    34.13,
                    55.99,
                    55.3,
                    38.08,
                    40.57,
                    57.97,
                    75.73,
                    63.24,
                    44.53,
                    45.44,
                    37.4,
                    42.26,
                    66.21,
                    42.63,
                    40.67,
                    49.61,
                    63.24,
                    33.48,
                    46.4,
                    52.36,
                    14.24,
                    60.5,
                    35.5,
                    51.49,
                    60.51,
                    20.12,
                    50.65,
                    44.57,
                    62.94,
                    35.74,
                    17.2,
                    26.63,
                    51.29,
                    62.93,
                    40.24,
                    32.82,
                    58.05,
                    40.83,
                    56.29,
                    42.36,
                    65.32,
                    36.22,
                    42.13,
                    60.43,
                    56.59,
                    21.47,
                    28.87,
                    54.54,
                    43.35,
                    65.82,
                    18.98,
                    50.41,
                    57.84,
                    52.55,
                    57.86,
                    56.09,
                    59.83,
                    28.46,
                    26.22,
                    53.54,
                    25.17,
                    60.13,
                    55.53,
                    29.87,
                    29.28,
                    44.03,
                    28.94,
                    57.33,
                    47.06,
                    38.29,
                    35.09,
                    62.59,
                    22.54,
                    35.35,
                    58.56,
                    63.09,
                    46.86,
                    47.44,
                    55.19,
                    74.07,
                    28.67,
                    57.85,
                    34.78,
                    55.09,
                    38.03,
                    35.84,
                    31.57,
                    56.69,
                    37.76,
                    71.4,
                    51.45,
                    67.18,
                    44.32,
                    57.07,
                    58.25,
                    46.17
                  ],
                  "xaxis": "x4",
                  "yaxis": "y4"
                },
                {
                  "type": "histogram",
                  "x": [
                    1.16,
                    0.89,
                    0.89,
                    1.08,
                    1.51,
                    0.94,
                    0.8,
                    0.69,
                    0.95,
                    1.14,
                    1.08,
                    1.53,
                    1.17,
                    1.87,
                    0.18,
                    0.57,
                    1.34,
                    1.35,
                    0.9,
                    0.9,
                    1.26,
                    1.21,
                    1,
                    0.38,
                    1.77,
                    -0.04,
                    1.37,
                    1.1,
                    0.72,
                    0.81,
                    1.45,
                    0.92,
                    0.79,
                    1.13,
                    0.43,
                    0.54,
                    0.48,
                    1.33,
                    1.14,
                    0.87,
                    0.97,
                    1.01,
                    -0.19,
                    0.83,
                    2.07,
                    0.66,
                    0.3,
                    0.08,
                    1,
                    1.24,
                    1.59,
                    1.53,
                    0.8,
                    0.76,
                    1.97,
                    0.76,
                    0.62,
                    0.78,
                    1.09,
                    0.2,
                    1.3,
                    1.07,
                    1.12,
                    1.07,
                    1.67,
                    0.04,
                    1.22,
                    1.28,
                    1.04,
                    0.47,
                    0.16,
                    0.91,
                    0.72,
                    1.1,
                    0.48,
                    1.42,
                    1.47,
                    0.46,
                    0.8,
                    1.15,
                    1.17,
                    1.22,
                    0.38,
                    0.6,
                    0.59,
                    1.04,
                    1.36,
                    0.95,
                    0.52,
                    1.17,
                    0.84,
                    0.38,
                    1.47,
                    0.39,
                    0.95,
                    0.92,
                    1.47,
                    1.59,
                    0.84,
                    1.55,
                    0.98,
                    0.86,
                    0.45,
                    1.06,
                    1.75,
                    1.35,
                    0.5,
                    1.43,
                    2.08,
                    1.15,
                    0.58,
                    0.38,
                    1.39,
                    1.33,
                    0.82,
                    1.4,
                    0.81,
                    1.52,
                    1.02,
                    1.23,
                    0.48,
                    1.17,
                    1.11,
                    0.5,
                    2.18,
                    1.33,
                    1.13,
                    1.62,
                    0.93,
                    1.52,
                    1.17,
                    1.46,
                    0.31,
                    0.93,
                    0.61,
                    1.53,
                    0.38,
                    1.04,
                    0.37,
                    0.58,
                    1.37,
                    0.84,
                    1.64,
                    0.5,
                    1.16,
                    1.48,
                    0.43,
                    1.6,
                    0.1,
                    1.26,
                    0.82,
                    0.45,
                    1.66,
                    0.63,
                    1.5,
                    0.48,
                    1.33,
                    1.41,
                    1.05,
                    1.02,
                    1.21,
                    1.74,
                    0.28,
                    0.6,
                    0.9,
                    1.54,
                    1.57,
                    1.09,
                    1.58,
                    0.04,
                    0.38,
                    1.33,
                    0.12,
                    1.25,
                    1.42,
                    1.04,
                    1.08,
                    0.35,
                    1.23,
                    -0.03,
                    0.14,
                    0.67,
                    0.52,
                    1.66,
                    1.52,
                    0.72,
                    1.28,
                    0.81,
                    0.97,
                    1.48,
                    1.51,
                    0.28,
                    1.4,
                    0.11,
                    1.77,
                    0.8,
                    0.98,
                    -0.04,
                    1.89,
                    1.71
                  ],
                  "xaxis": "x5",
                  "yaxis": "y5"
                },
                {
                  "type": "histogram",
                  "x": [
                    2.31,
                    1.88,
                    2.72,
                    1.88,
                    1.9,
                    1.67,
                    1.85,
                    1.93,
                    1.98,
                    2.65,
                    1.77,
                    1.86,
                    1.98,
                    2.19,
                    1.64,
                    2.15,
                    1.95,
                    1.88,
                    1.98,
                    2.54,
                    2.09,
                    1.72,
                    1.48,
                    1.7,
                    1.71,
                    1.68,
                    2.04,
                    2.15,
                    2.07,
                    1.97,
                    2.45,
                    1.59,
                    2.27,
                    2.2,
                    2.45,
                    1.69,
                    1.93,
                    1.96,
                    2.26,
                    1.64,
                    1.87,
                    1.99,
                    1.97,
                    1.96,
                    2.34,
                    1.15,
                    1.6,
                    1.38,
                    1.9,
                    2.25,
                    1.96,
                    1.84,
                    1.97,
                    2.87,
                    1.97,
                    1.74,
                    1.73,
                    1.81,
                    1.29,
                    1.71,
                    2.48,
                    1.67,
                    2.28,
                    2.17,
                    2.35,
                    1.97,
                    1.83,
                    2.07,
                    2.11,
                    2.03,
                    1.93,
                    1.91,
                    2.05,
                    1.54,
                    1.74,
                    2.14,
                    1.9,
                    2.37,
                    1.67,
                    2.01,
                    2.2,
                    2.01,
                    1.88,
                    2.04,
                    1.76,
                    2.33,
                    2.43,
                    2.03,
                    1.85,
                    2.6,
                    2.18,
                    1.28,
                    1.82,
                    1.97,
                    2.04,
                    2.01,
                    2.05,
                    2.11,
                    1.57,
                    2.1,
                    1.97,
                    1.72,
                    2.17,
                    1.54,
                    1.62,
                    2.42,
                    1.7,
                    1.97,
                    2.43,
                    2.16,
                    1.8,
                    1.93,
                    2.06,
                    2.08,
                    1.8,
                    2.06,
                    2.77,
                    2.23,
                    1.84,
                    2.37,
                    2.07,
                    1.73,
                    1.67,
                    1.89,
                    1.24,
                    1.95,
                    1.72,
                    2.15,
                    1.98,
                    1.93,
                    1.71,
                    1.98,
                    1.89,
                    2.3,
                    2.01,
                    2.05,
                    1.77,
                    1.93,
                    1.43,
                    1.64,
                    1.55,
                    1.7,
                    2.18,
                    1.77,
                    1.93,
                    2.52,
                    1.97,
                    2.6,
                    1.53,
                    1.79,
                    1.69,
                    1.82,
                    1.87,
                    1.5,
                    1.93,
                    1.55,
                    1.92,
                    2.09,
                    1.74,
                    2.15,
                    2.32,
                    1.49,
                    0.93,
                    1.5,
                    1.86,
                    1.86,
                    2.39,
                    2.09,
                    1.95,
                    1.84,
                    1.78,
                    2.38,
                    1.93,
                    1.94,
                    1.95,
                    2.16,
                    1.99,
                    1.76,
                    1.97,
                    1.67,
                    1.93,
                    2.11,
                    2.16,
                    2.54,
                    2.1,
                    2.35,
                    1.61,
                    2.4,
                    2.05,
                    1.84,
                    2.22,
                    2.1,
                    1.99,
                    1.91,
                    2.28,
                    2.06,
                    2.08,
                    1.73,
                    2.35,
                    2.27
                  ],
                  "xaxis": "x6",
                  "yaxis": "y6"
                }
              ],
              "layout": {
                "height": 800,
                "showlegend": false,
                "template": {
                  "data": {
                    "bar": [
                      {
                        "error_x": {
                          "color": "#2a3f5f"
                        },
                        "error_y": {
                          "color": "#2a3f5f"
                        },
                        "marker": {
                          "line": {
                            "color": "#E5ECF6",
                            "width": 0.5
                          },
                          "pattern": {
                            "fillmode": "overlay",
                            "size": 10,
                            "solidity": 0.2
                          }
                        },
                        "type": "bar"
                      }
                    ],
                    "barpolar": [
                      {
                        "marker": {
                          "line": {
                            "color": "#E5ECF6",
                            "width": 0.5
                          },
                          "pattern": {
                            "fillmode": "overlay",
                            "size": 10,
                            "solidity": 0.2
                          }
                        },
                        "type": "barpolar"
                      }
                    ],
                    "carpet": [
                      {
                        "aaxis": {
                          "endlinecolor": "#2a3f5f",
                          "gridcolor": "white",
                          "linecolor": "white",
                          "minorgridcolor": "white",
                          "startlinecolor": "#2a3f5f"
                        },
                        "baxis": {
                          "endlinecolor": "#2a3f5f",
                          "gridcolor": "white",
                          "linecolor": "white",
                          "minorgridcolor": "white",
                          "startlinecolor": "#2a3f5f"
                        },
                        "type": "carpet"
                      }
                    ],
                    "choropleth": [
                      {
                        "colorbar": {
                          "outlinewidth": 0,
                          "ticks": ""
                        },
                        "type": "choropleth"
                      }
                    ],
                    "contour": [
                      {
                        "colorbar": {
                          "outlinewidth": 0,
                          "ticks": ""
                        },
                        "colorscale": [
                          [
                            0,
                            "#0d0887"
                          ],
                          [
                            0.1111111111111111,
                            "#46039f"
                          ],
                          [
                            0.2222222222222222,
                            "#7201a8"
                          ],
                          [
                            0.3333333333333333,
                            "#9c179e"
                          ],
                          [
                            0.4444444444444444,
                            "#bd3786"
                          ],
                          [
                            0.5555555555555556,
                            "#d8576b"
                          ],
                          [
                            0.6666666666666666,
                            "#ed7953"
                          ],
                          [
                            0.7777777777777778,
                            "#fb9f3a"
                          ],
                          [
                            0.8888888888888888,
                            "#fdca26"
                          ],
                          [
                            1,
                            "#f0f921"
                          ]
                        ],
                        "type": "contour"
                      }
                    ],
                    "contourcarpet": [
                      {
                        "colorbar": {
                          "outlinewidth": 0,
                          "ticks": ""
                        },
                        "type": "contourcarpet"
                      }
                    ],
                    "heatmap": [
                      {
                        "colorbar": {
                          "outlinewidth": 0,
                          "ticks": ""
                        },
                        "colorscale": [
                          [
                            0,
                            "#0d0887"
                          ],
                          [
                            0.1111111111111111,
                            "#46039f"
                          ],
                          [
                            0.2222222222222222,
                            "#7201a8"
                          ],
                          [
                            0.3333333333333333,
                            "#9c179e"
                          ],
                          [
                            0.4444444444444444,
                            "#bd3786"
                          ],
                          [
                            0.5555555555555556,
                            "#d8576b"
                          ],
                          [
                            0.6666666666666666,
                            "#ed7953"
                          ],
                          [
                            0.7777777777777778,
                            "#fb9f3a"
                          ],
                          [
                            0.8888888888888888,
                            "#fdca26"
                          ],
                          [
                            1,
                            "#f0f921"
                          ]
                        ],
                        "type": "heatmap"
                      }
                    ],
                    "heatmapgl": [
                      {
                        "colorbar": {
                          "outlinewidth": 0,
                          "ticks": ""
                        },
                        "colorscale": [
                          [
                            0,
                            "#0d0887"
                          ],
                          [
                            0.1111111111111111,
                            "#46039f"
                          ],
                          [
                            0.2222222222222222,
                            "#7201a8"
                          ],
                          [
                            0.3333333333333333,
                            "#9c179e"
                          ],
                          [
                            0.4444444444444444,
                            "#bd3786"
                          ],
                          [
                            0.5555555555555556,
                            "#d8576b"
                          ],
                          [
                            0.6666666666666666,
                            "#ed7953"
                          ],
                          [
                            0.7777777777777778,
                            "#fb9f3a"
                          ],
                          [
                            0.8888888888888888,
                            "#fdca26"
                          ],
                          [
                            1,
                            "#f0f921"
                          ]
                        ],
                        "type": "heatmapgl"
                      }
                    ],
                    "histogram": [
                      {
                        "marker": {
                          "pattern": {
                            "fillmode": "overlay",
                            "size": 10,
                            "solidity": 0.2
                          }
                        },
                        "type": "histogram"
                      }
                    ],
                    "histogram2d": [
                      {
                        "colorbar": {
                          "outlinewidth": 0,
                          "ticks": ""
                        },
                        "colorscale": [
                          [
                            0,
                            "#0d0887"
                          ],
                          [
                            0.1111111111111111,
                            "#46039f"
                          ],
                          [
                            0.2222222222222222,
                            "#7201a8"
                          ],
                          [
                            0.3333333333333333,
                            "#9c179e"
                          ],
                          [
                            0.4444444444444444,
                            "#bd3786"
                          ],
                          [
                            0.5555555555555556,
                            "#d8576b"
                          ],
                          [
                            0.6666666666666666,
                            "#ed7953"
                          ],
                          [
                            0.7777777777777778,
                            "#fb9f3a"
                          ],
                          [
                            0.8888888888888888,
                            "#fdca26"
                          ],
                          [
                            1,
                            "#f0f921"
                          ]
                        ],
                        "type": "histogram2d"
                      }
                    ],
                    "histogram2dcontour": [
                      {
                        "colorbar": {
                          "outlinewidth": 0,
                          "ticks": ""
                        },
                        "colorscale": [
                          [
                            0,
                            "#0d0887"
                          ],
                          [
                            0.1111111111111111,
                            "#46039f"
                          ],
                          [
                            0.2222222222222222,
                            "#7201a8"
                          ],
                          [
                            0.3333333333333333,
                            "#9c179e"
                          ],
                          [
                            0.4444444444444444,
                            "#bd3786"
                          ],
                          [
                            0.5555555555555556,
                            "#d8576b"
                          ],
                          [
                            0.6666666666666666,
                            "#ed7953"
                          ],
                          [
                            0.7777777777777778,
                            "#fb9f3a"
                          ],
                          [
                            0.8888888888888888,
                            "#fdca26"
                          ],
                          [
                            1,
                            "#f0f921"
                          ]
                        ],
                        "type": "histogram2dcontour"
                      }
                    ],
                    "mesh3d": [
                      {
                        "colorbar": {
                          "outlinewidth": 0,
                          "ticks": ""
                        },
                        "type": "mesh3d"
                      }
                    ],
                    "parcoords": [
                      {
                        "line": {
                          "colorbar": {
                            "outlinewidth": 0,
                            "ticks": ""
                          }
                        },
                        "type": "parcoords"
                      }
                    ],
                    "pie": [
                      {
                        "automargin": true,
                        "type": "pie"
                      }
                    ],
                    "scatter": [
                      {
                        "fillpattern": {
                          "fillmode": "overlay",
                          "size": 10,
                          "solidity": 0.2
                        },
                        "type": "scatter"
                      }
                    ],
                    "scatter3d": [
                      {
                        "line": {
                          "colorbar": {
                            "outlinewidth": 0,
                            "ticks": ""
                          }
                        },
                        "marker": {
                          "colorbar": {
                            "outlinewidth": 0,
                            "ticks": ""
                          }
                        },
                        "type": "scatter3d"
                      }
                    ],
                    "scattercarpet": [
                      {
                        "marker": {
                          "colorbar": {
                            "outlinewidth": 0,
                            "ticks": ""
                          }
                        },
                        "type": "scattercarpet"
                      }
                    ],
                    "scattergeo": [
                      {
                        "marker": {
                          "colorbar": {
                            "outlinewidth": 0,
                            "ticks": ""
                          }
                        },
                        "type": "scattergeo"
                      }
                    ],
                    "scattergl": [
                      {
                        "marker": {
                          "colorbar": {
                            "outlinewidth": 0,
                            "ticks": ""
                          }
                        },
                        "type": "scattergl"
                      }
                    ],
                    "scattermapbox": [
                      {
                        "marker": {
                          "colorbar": {
                            "outlinewidth": 0,
                            "ticks": ""
                          }
                        },
                        "type": "scattermapbox"
                      }
                    ],
                    "scatterpolar": [
                      {
                        "marker": {
                          "colorbar": {
                            "outlinewidth": 0,
                            "ticks": ""
                          }
                        },
                        "type": "scatterpolar"
                      }
                    ],
                    "scatterpolargl": [
                      {
                        "marker": {
                          "colorbar": {
                            "outlinewidth": 0,
                            "ticks": ""
                          }
                        },
                        "type": "scatterpolargl"
                      }
                    ],
                    "scatterternary": [
                      {
                        "marker": {
                          "colorbar": {
                            "outlinewidth": 0,
                            "ticks": ""
                          }
                        },
                        "type": "scatterternary"
                      }
                    ],
                    "surface": [
                      {
                        "colorbar": {
                          "outlinewidth": 0,
                          "ticks": ""
                        },
                        "colorscale": [
                          [
                            0,
                            "#0d0887"
                          ],
                          [
                            0.1111111111111111,
                            "#46039f"
                          ],
                          [
                            0.2222222222222222,
                            "#7201a8"
                          ],
                          [
                            0.3333333333333333,
                            "#9c179e"
                          ],
                          [
                            0.4444444444444444,
                            "#bd3786"
                          ],
                          [
                            0.5555555555555556,
                            "#d8576b"
                          ],
                          [
                            0.6666666666666666,
                            "#ed7953"
                          ],
                          [
                            0.7777777777777778,
                            "#fb9f3a"
                          ],
                          [
                            0.8888888888888888,
                            "#fdca26"
                          ],
                          [
                            1,
                            "#f0f921"
                          ]
                        ],
                        "type": "surface"
                      }
                    ],
                    "table": [
                      {
                        "cells": {
                          "fill": {
                            "color": "#EBF0F8"
                          },
                          "line": {
                            "color": "white"
                          }
                        },
                        "header": {
                          "fill": {
                            "color": "#C8D4E3"
                          },
                          "line": {
                            "color": "white"
                          }
                        },
                        "type": "table"
                      }
                    ]
                  },
                  "layout": {
                    "annotationdefaults": {
                      "arrowcolor": "#2a3f5f",
                      "arrowhead": 0,
                      "arrowwidth": 1
                    },
                    "autotypenumbers": "strict",
                    "coloraxis": {
                      "colorbar": {
                        "outlinewidth": 0,
                        "ticks": ""
                      }
                    },
                    "colorscale": {
                      "diverging": [
                        [
                          0,
                          "#8e0152"
                        ],
                        [
                          0.1,
                          "#c51b7d"
                        ],
                        [
                          0.2,
                          "#de77ae"
                        ],
                        [
                          0.3,
                          "#f1b6da"
                        ],
                        [
                          0.4,
                          "#fde0ef"
                        ],
                        [
                          0.5,
                          "#f7f7f7"
                        ],
                        [
                          0.6,
                          "#e6f5d0"
                        ],
                        [
                          0.7,
                          "#b8e186"
                        ],
                        [
                          0.8,
                          "#7fbc41"
                        ],
                        [
                          0.9,
                          "#4d9221"
                        ],
                        [
                          1,
                          "#276419"
                        ]
                      ],
                      "sequential": [
                        [
                          0,
                          "#0d0887"
                        ],
                        [
                          0.1111111111111111,
                          "#46039f"
                        ],
                        [
                          0.2222222222222222,
                          "#7201a8"
                        ],
                        [
                          0.3333333333333333,
                          "#9c179e"
                        ],
                        [
                          0.4444444444444444,
                          "#bd3786"
                        ],
                        [
                          0.5555555555555556,
                          "#d8576b"
                        ],
                        [
                          0.6666666666666666,
                          "#ed7953"
                        ],
                        [
                          0.7777777777777778,
                          "#fb9f3a"
                        ],
                        [
                          0.8888888888888888,
                          "#fdca26"
                        ],
                        [
                          1,
                          "#f0f921"
                        ]
                      ],
                      "sequentialminus": [
                        [
                          0,
                          "#0d0887"
                        ],
                        [
                          0.1111111111111111,
                          "#46039f"
                        ],
                        [
                          0.2222222222222222,
                          "#7201a8"
                        ],
                        [
                          0.3333333333333333,
                          "#9c179e"
                        ],
                        [
                          0.4444444444444444,
                          "#bd3786"
                        ],
                        [
                          0.5555555555555556,
                          "#d8576b"
                        ],
                        [
                          0.6666666666666666,
                          "#ed7953"
                        ],
                        [
                          0.7777777777777778,
                          "#fb9f3a"
                        ],
                        [
                          0.8888888888888888,
                          "#fdca26"
                        ],
                        [
                          1,
                          "#f0f921"
                        ]
                      ]
                    },
                    "colorway": [
                      "#636efa",
                      "#EF553B",
                      "#00cc96",
                      "#ab63fa",
                      "#FFA15A",
                      "#19d3f3",
                      "#FF6692",
                      "#B6E880",
                      "#FF97FF",
                      "#FECB52"
                    ],
                    "font": {
                      "color": "#2a3f5f"
                    },
                    "geo": {
                      "bgcolor": "white",
                      "lakecolor": "white",
                      "landcolor": "#E5ECF6",
                      "showlakes": true,
                      "showland": true,
                      "subunitcolor": "white"
                    },
                    "hoverlabel": {
                      "align": "left"
                    },
                    "hovermode": "closest",
                    "mapbox": {
                      "style": "light"
                    },
                    "paper_bgcolor": "white",
                    "plot_bgcolor": "#E5ECF6",
                    "polar": {
                      "angularaxis": {
                        "gridcolor": "white",
                        "linecolor": "white",
                        "ticks": ""
                      },
                      "bgcolor": "#E5ECF6",
                      "radialaxis": {
                        "gridcolor": "white",
                        "linecolor": "white",
                        "ticks": ""
                      }
                    },
                    "scene": {
                      "xaxis": {
                        "backgroundcolor": "#E5ECF6",
                        "gridcolor": "white",
                        "gridwidth": 2,
                        "linecolor": "white",
                        "showbackground": true,
                        "ticks": "",
                        "zerolinecolor": "white"
                      },
                      "yaxis": {
                        "backgroundcolor": "#E5ECF6",
                        "gridcolor": "white",
                        "gridwidth": 2,
                        "linecolor": "white",
                        "showbackground": true,
                        "ticks": "",
                        "zerolinecolor": "white"
                      },
                      "zaxis": {
                        "backgroundcolor": "#E5ECF6",
                        "gridcolor": "white",
                        "gridwidth": 2,
                        "linecolor": "white",
                        "showbackground": true,
                        "ticks": "",
                        "zerolinecolor": "white"
                      }
                    },
                    "shapedefaults": {
                      "line": {
                        "color": "#2a3f5f"
                      }
                    },
                    "ternary": {
                      "aaxis": {
                        "gridcolor": "white",
                        "linecolor": "white",
                        "ticks": ""
                      },
                      "baxis": {
                        "gridcolor": "white",
                        "linecolor": "white",
                        "ticks": ""
                      },
                      "bgcolor": "#E5ECF6",
                      "caxis": {
                        "gridcolor": "white",
                        "linecolor": "white",
                        "ticks": ""
                      }
                    },
                    "title": {
                      "x": 0.05
                    },
                    "xaxis": {
                      "automargin": true,
                      "gridcolor": "white",
                      "linecolor": "white",
                      "ticks": "",
                      "title": {
                        "standoff": 15
                      },
                      "zerolinecolor": "white",
                      "zerolinewidth": 2
                    },
                    "yaxis": {
                      "automargin": true,
                      "gridcolor": "white",
                      "linecolor": "white",
                      "ticks": "",
                      "title": {
                        "standoff": 15
                      },
                      "zerolinecolor": "white",
                      "zerolinewidth": 2
                    }
                  }
                },
                "width": 1000,
                "xaxis": {
                  "anchor": "y",
                  "domain": [
                    0,
                    0.45
                  ]
                },
                "xaxis2": {
                  "anchor": "y2",
                  "domain": [
                    0.55,
                    1
                  ]
                },
                "xaxis3": {
                  "anchor": "y3",
                  "domain": [
                    0,
                    0.45
                  ]
                },
                "xaxis4": {
                  "anchor": "y4",
                  "domain": [
                    0.55,
                    1
                  ]
                },
                "xaxis5": {
                  "anchor": "y5",
                  "domain": [
                    0,
                    0.45
                  ]
                },
                "xaxis6": {
                  "anchor": "y6",
                  "domain": [
                    0.55,
                    1
                  ]
                },
                "yaxis": {
                  "anchor": "x",
                  "domain": [
                    0.7333333333333333,
                    1
                  ]
                },
                "yaxis2": {
                  "anchor": "x2",
                  "domain": [
                    0.7333333333333333,
                    1
                  ]
                },
                "yaxis3": {
                  "anchor": "x3",
                  "domain": [
                    0.36666666666666664,
                    0.6333333333333333
                  ]
                },
                "yaxis4": {
                  "anchor": "x4",
                  "domain": [
                    0.36666666666666664,
                    0.6333333333333333
                  ]
                },
                "yaxis5": {
                  "anchor": "x5",
                  "domain": [
                    0,
                    0.26666666666666666
                  ]
                },
                "yaxis6": {
                  "anchor": "x6",
                  "domain": [
                    0,
                    0.26666666666666666
                  ]
                }
              }
            }
          },
          "metadata": {},
          "output_type": "display_data"
        }
      ],
      "source": [
        "# Создаём подграфики:\n",
        "ncols = 2\n",
        "nrows = 3\n",
        "fig = make_subplots(rows=nrows, cols=ncols)\n",
        "\n",
        "for i, df_column in enumerate(features):\n",
        "    row = i // ncols + 1  # определяем номер ряда\n",
        "    col = i % ncols + 1  # определяем номер столбца\n",
        "    histogram = go.Histogram(x=data[df_column])  # создаем гистограмму\n",
        "    fig.add_trace(histogram, row=row, col=col)  # добавляем гистограмму на подграфик\n",
        "\n",
        "fig.update_layout(height=800, width=1000, showlegend=False).show();\n"
      ]
    },
    {
      "cell_type": "code",
      "execution_count": 8,
      "id": "80a59290",
      "metadata": {},
      "outputs": [
        {
          "data": {
            "image/png": "[encoded data removed]",
            "text/plain": [
              "<Figure size 1500x2400 with 12 Axes>"
            ]
          },
          "metadata": {},
          "output_type": "display_data"
        }
      ],
      "source": [
        "fig, axes = plt.subplots(len(features), 2, figsize=(15, 4*len(features))) #фигура+n*2 координатных плоскостей\n",
        "#Создаем цикл для всех признаков из списка категориальных признаков\n",
        "for i, feature in enumerate(features):\n",
        "    #Строим количественную столбчатую для долевого соотношения каждой из категорий в признаке\n",
        "    boxplot = sns.boxplot(data=data, x=feature, orient='h', ax=axes[i][0])\n",
        "    boxplot.set(xlabel=features_name[feature])\n",
        "    #Строим столбчатую диаграмму количества клиентов в разрезе согласия на депозит по каждому признаку\n",
        "    scatterplot = sns.scatterplot(data=data, x=feature,  y='Prod', ax=axes[i][1])\n",
        "    #повернём подписи на 45 градусов для удобочитаемости\n",
        "    scatterplot.xaxis.set_tick_params(rotation=45)\n",
        "    #подпишем каждый график по оси Х (берём данные из словаря) и Y\n",
        "    scatterplot.set(xlabel=features_name[feature], ylabel=\"добыча газа в сутки (млн. куб. футов)\")\n",
        "plt.tight_layout() #выравнивание графиков"
      ]
    },
    {
      "attachments": {},
      "cell_type": "markdown",
      "id": "932ea1a5",
      "metadata": {},
      "source": [
        "**Выводы**\n",
        "\n",
        "Судя по графикам рассеяния, проследивается прямая зависимость объёма добычи от пористости скважины ($Por$), а также, хоть и менее значительно, от проницаемости ($Perm$) и содержания общего органического углерода ($TOC$), тода как с ростом аккустического импенданса ($AI$), наоборот, мощность скважины  уменьшается. "
      ]
    },
    {
      "attachments": {},
      "cell_type": "markdown",
      "id": "d11cb44f",
      "metadata": {
        "id": "d11cb44f"
      },
      "source": [
        "### Задание 5.1. (2 балла)\n",
        "\n",
        "Постройте корреляционную матрицу факторов, включив в неё целевой признак. \n",
        "\n",
        "Для наглядности визуализируйте полученную матрицу с помощью тепловой карты. \n",
        "\n",
        "**Примечание.** *Для визуализации вы можете использовать любую из знакомых вам библиотек.*\n",
        "\n",
        "На основе построенной корреляционной матрицы ответьте на следующий вопрос:\n",
        "\n",
        "* Какие факторы сильнее всего коррелируют с целевой переменной?\n",
        "\n",
        "Вычислите ранг и определитель полученной матрицы корреляций и приведите развёрнутые ответы на следующие вопросы:\n",
        "* Является ли корреляционная матрица плохо обусловенной (близок ли её опредитель к нулю)?\n",
        "* Что вы можете сказать о наличии коллинераности/мультиколлинеарности в данных? \n",
        "* Применима ли в данном случае модель классической линейной регрессии по методу наименьших квадратов и почему? "
      ]
    },
    {
      "attachments": {},
      "cell_type": "markdown",
      "id": "57OjUl5e2oiL",
      "metadata": {
        "id": "57OjUl5e2oiL"
      },
      "source": [
        "**Критерии оценивания:**\n",
        "- Задание выполнено верно, учтены все условия (**2 балла**): \n",
        "    * приведён код для расчёта корреляционной матрицы;\n",
        "    * приведён код для визуализации корреляционной матрицы в виде тепловой карты;\n",
        "    * рассчитаны ранг и определитель корреляционной матрицы;\n",
        "    * предоставлены обоснованные ответы на все поставленные вопросы. \n",
        "\n",
        "- Задание выполнено верно, но не учтено одно условие (**1 балл**).\n",
        "- Задание выполнено неверно, не учтено несколько условий (**0 баллов**)."
      ]
    },
    {
      "cell_type": "code",
      "execution_count": 9,
      "id": "af00a5a0",
      "metadata": {
        "id": "af00a5a0"
      },
      "outputs": [
        {
          "name": "stdout",
          "output_type": "stream",
          "text": [
            "Количество факторов: 8\n",
            "Pанг корреляционой матрицы:  8\n",
            "Определитель корреляционой матрицы: 0.0007299\n"
          ]
        },
        {
          "data": {
            "text/html": [
              "<style type=\"text/css\">\n",
              "#T_a2207_row0_col0, #T_a2207_row1_col1, #T_a2207_row2_col2, #T_a2207_row3_col3, #T_a2207_row4_col4, #T_a2207_row5_col5, #T_a2207_row6_col6, #T_a2207_row7_col7 {\n",
              "  background-color: #023858;\n",
              "  color: #f1f1f1;\n",
              "}\n",
              "#T_a2207_row0_col1, #T_a2207_row0_col5 {\n",
              "  background-color: #abbfdc;\n",
              "  color: #000000;\n",
              "}\n",
              "#T_a2207_row0_col2 {\n",
              "  background-color: #ced0e6;\n",
              "  color: #000000;\n",
              "}\n",
              "#T_a2207_row0_col3, #T_a2207_row7_col4 {\n",
              "  background-color: #a7bddb;\n",
              "  color: #000000;\n",
              "}\n",
              "#T_a2207_row0_col4 {\n",
              "  background-color: #eee8f3;\n",
              "  color: #000000;\n",
              "}\n",
              "#T_a2207_row0_col6, #T_a2207_row1_col4, #T_a2207_row3_col1, #T_a2207_row3_col2, #T_a2207_row3_col5, #T_a2207_row3_col7, #T_a2207_row4_col0, #T_a2207_row5_col3, #T_a2207_row5_col4 {\n",
              "  background-color: #fff7fb;\n",
              "  color: #000000;\n",
              "}\n",
              "#T_a2207_row0_col7 {\n",
              "  background-color: #c0c9e2;\n",
              "  color: #000000;\n",
              "}\n",
              "#T_a2207_row1_col0 {\n",
              "  background-color: #e9e5f1;\n",
              "  color: #000000;\n",
              "}\n",
              "#T_a2207_row1_col2 {\n",
              "  background-color: #0566a0;\n",
              "  color: #f1f1f1;\n",
              "}\n",
              "#T_a2207_row1_col3 {\n",
              "  background-color: #f8f1f8;\n",
              "  color: #000000;\n",
              "}\n",
              "#T_a2207_row1_col5 {\n",
              "  background-color: #05659f;\n",
              "  color: #f1f1f1;\n",
              "}\n",
              "#T_a2207_row1_col6 {\n",
              "  background-color: #ede8f3;\n",
              "  color: #000000;\n",
              "}\n",
              "#T_a2207_row1_col7 {\n",
              "  background-color: #045382;\n",
              "  color: #f1f1f1;\n",
              "}\n",
              "#T_a2207_row2_col0 {\n",
              "  background-color: #e7e3f0;\n",
              "  color: #000000;\n",
              "}\n",
              "#T_a2207_row2_col1 {\n",
              "  background-color: #046097;\n",
              "  color: #f1f1f1;\n",
              "}\n",
              "#T_a2207_row2_col3 {\n",
              "  background-color: #dedcec;\n",
              "  color: #000000;\n",
              "}\n",
              "#T_a2207_row2_col4 {\n",
              "  background-color: #f4edf6;\n",
              "  color: #000000;\n",
              "}\n",
              "#T_a2207_row2_col5 {\n",
              "  background-color: #2a88bc;\n",
              "  color: #f1f1f1;\n",
              "}\n",
              "#T_a2207_row2_col6 {\n",
              "  background-color: #f7f0f7;\n",
              "  color: #000000;\n",
              "}\n",
              "#T_a2207_row2_col7, #T_a2207_row5_col1 {\n",
              "  background-color: #0567a1;\n",
              "  color: #f1f1f1;\n",
              "}\n",
              "#T_a2207_row3_col0 {\n",
              "  background-color: #eee9f3;\n",
              "  color: #000000;\n",
              "}\n",
              "#T_a2207_row3_col4 {\n",
              "  background-color: #c5cce3;\n",
              "  color: #000000;\n",
              "}\n",
              "#T_a2207_row3_col6 {\n",
              "  background-color: #73a9cf;\n",
              "  color: #f1f1f1;\n",
              "}\n",
              "#T_a2207_row4_col1 {\n",
              "  background-color: #e3e0ee;\n",
              "  color: #000000;\n",
              "}\n",
              "#T_a2207_row4_col2, #T_a2207_row7_col3 {\n",
              "  background-color: #f1ebf5;\n",
              "  color: #000000;\n",
              "}\n",
              "#T_a2207_row4_col3 {\n",
              "  background-color: #8fb4d6;\n",
              "  color: #000000;\n",
              "}\n",
              "#T_a2207_row4_col5 {\n",
              "  background-color: #d9d8ea;\n",
              "  color: #000000;\n",
              "}\n",
              "#T_a2207_row4_col6 {\n",
              "  background-color: #b8c6e0;\n",
              "  color: #000000;\n",
              "}\n",
              "#T_a2207_row4_col7 {\n",
              "  background-color: #88b1d4;\n",
              "  color: #000000;\n",
              "}\n",
              "#T_a2207_row5_col0 {\n",
              "  background-color: #f1ebf4;\n",
              "  color: #000000;\n",
              "}\n",
              "#T_a2207_row5_col2 {\n",
              "  background-color: #509ac6;\n",
              "  color: #f1f1f1;\n",
              "}\n",
              "#T_a2207_row5_col6 {\n",
              "  background-color: #bfc9e1;\n",
              "  color: #000000;\n",
              "}\n",
              "#T_a2207_row5_col7 {\n",
              "  background-color: #056faf;\n",
              "  color: #f1f1f1;\n",
              "}\n",
              "#T_a2207_row6_col0 {\n",
              "  background-color: #f5eef6;\n",
              "  color: #000000;\n",
              "}\n",
              "#T_a2207_row6_col1 {\n",
              "  background-color: #9fbad9;\n",
              "  color: #000000;\n",
              "}\n",
              "#T_a2207_row6_col2 {\n",
              "  background-color: #d3d4e7;\n",
              "  color: #000000;\n",
              "}\n",
              "#T_a2207_row6_col3 {\n",
              "  background-color: #2383ba;\n",
              "  color: #f1f1f1;\n",
              "}\n",
              "#T_a2207_row6_col4 {\n",
              "  background-color: #8cb3d5;\n",
              "  color: #000000;\n",
              "}\n",
              "#T_a2207_row6_col5 {\n",
              "  background-color: #60a1ca;\n",
              "  color: #f1f1f1;\n",
              "}\n",
              "#T_a2207_row6_col7 {\n",
              "  background-color: #6da6cd;\n",
              "  color: #f1f1f1;\n",
              "}\n",
              "#T_a2207_row7_col0 {\n",
              "  background-color: #f0eaf4;\n",
              "  color: #000000;\n",
              "}\n",
              "#T_a2207_row7_col1 {\n",
              "  background-color: #045280;\n",
              "  color: #f1f1f1;\n",
              "}\n",
              "#T_a2207_row7_col2 {\n",
              "  background-color: #056ba7;\n",
              "  color: #f1f1f1;\n",
              "}\n",
              "#T_a2207_row7_col5 {\n",
              "  background-color: #056ba9;\n",
              "  color: #f1f1f1;\n",
              "}\n",
              "#T_a2207_row7_col6 {\n",
              "  background-color: #b7c5df;\n",
              "  color: #000000;\n",
              "}\n",
              "</style>\n",
              "<table id=\"T_a2207\">\n",
              "  <thead>\n",
              "    <tr>\n",
              "      <th class=\"blank level0\" >&nbsp;</th>\n",
              "      <th id=\"T_a2207_level0_col0\" class=\"col_heading level0 col0\" >Well</th>\n",
              "      <th id=\"T_a2207_level0_col1\" class=\"col_heading level0 col1\" >Por</th>\n",
              "      <th id=\"T_a2207_level0_col2\" class=\"col_heading level0 col2\" >Perm</th>\n",
              "      <th id=\"T_a2207_level0_col3\" class=\"col_heading level0 col3\" >AI</th>\n",
              "      <th id=\"T_a2207_level0_col4\" class=\"col_heading level0 col4\" >Brittle</th>\n",
              "      <th id=\"T_a2207_level0_col5\" class=\"col_heading level0 col5\" >TOC</th>\n",
              "      <th id=\"T_a2207_level0_col6\" class=\"col_heading level0 col6\" >VR</th>\n",
              "      <th id=\"T_a2207_level0_col7\" class=\"col_heading level0 col7\" >Prod</th>\n",
              "    </tr>\n",
              "  </thead>\n",
              "  <tbody>\n",
              "    <tr>\n",
              "      <th id=\"T_a2207_level0_row0\" class=\"row_heading level0 row0\" >Well</th>\n",
              "      <td id=\"T_a2207_row0_col0\" class=\"data row0 col0\" >1.000000</td>\n",
              "      <td id=\"T_a2207_row0_col1\" class=\"data row0 col1\" >0.068927</td>\n",
              "      <td id=\"T_a2207_row0_col2\" class=\"data row0 col2\" >0.077928</td>\n",
              "      <td id=\"T_a2207_row0_col3\" class=\"data row0 col3\" >0.041483</td>\n",
              "      <td id=\"T_a2207_row0_col4\" class=\"data row0 col4\" >-0.079252</td>\n",
              "      <td id=\"T_a2207_row0_col5\" class=\"data row0 col5\" >0.022624</td>\n",
              "      <td id=\"T_a2207_row0_col6\" class=\"data row0 col6\" >-0.007279</td>\n",
              "      <td id=\"T_a2207_row0_col7\" class=\"data row0 col7\" >0.026817</td>\n",
              "    </tr>\n",
              "    <tr>\n",
              "      <th id=\"T_a2207_level0_row1\" class=\"row_heading level0 row1\" >Por</th>\n",
              "      <td id=\"T_a2207_row1_col0\" class=\"data row1 col0\" >0.068927</td>\n",
              "      <td id=\"T_a2207_row1_col1\" class=\"data row1 col1\" >1.000000</td>\n",
              "      <td id=\"T_a2207_row1_col2\" class=\"data row1 col2\" >0.760546</td>\n",
              "      <td id=\"T_a2207_row1_col3\" class=\"data row1 col3\" >-0.461549</td>\n",
              "      <td id=\"T_a2207_row1_col4\" class=\"data row1 col4\" >-0.218570</td>\n",
              "      <td id=\"T_a2207_row1_col5\" class=\"data row1 col5\" >0.711831</td>\n",
              "      <td id=\"T_a2207_row1_col6\" class=\"data row1 col6\" >0.111860</td>\n",
              "      <td id=\"T_a2207_row1_col7\" class=\"data row1 col7\" >0.861910</td>\n",
              "    </tr>\n",
              "    <tr>\n",
              "      <th id=\"T_a2207_level0_row2\" class=\"row_heading level0 row2\" >Perm</th>\n",
              "      <td id=\"T_a2207_row2_col0\" class=\"data row2 col0\" >0.077928</td>\n",
              "      <td id=\"T_a2207_row2_col1\" class=\"data row2 col1\" >0.760546</td>\n",
              "      <td id=\"T_a2207_row2_col2\" class=\"data row2 col2\" >1.000000</td>\n",
              "      <td id=\"T_a2207_row2_col3\" class=\"data row2 col3\" >-0.239636</td>\n",
              "      <td id=\"T_a2207_row2_col4\" class=\"data row2 col4\" >-0.124017</td>\n",
              "      <td id=\"T_a2207_row2_col5\" class=\"data row2 col5\" >0.471746</td>\n",
              "      <td id=\"T_a2207_row2_col6\" class=\"data row2 col6\" >0.051023</td>\n",
              "      <td id=\"T_a2207_row2_col7\" class=\"data row2 col7\" >0.727426</td>\n",
              "    </tr>\n",
              "    <tr>\n",
              "      <th id=\"T_a2207_level0_row3\" class=\"row_heading level0 row3\" >AI</th>\n",
              "      <td id=\"T_a2207_row3_col0\" class=\"data row3 col0\" >0.041483</td>\n",
              "      <td id=\"T_a2207_row3_col1\" class=\"data row3 col1\" >-0.461549</td>\n",
              "      <td id=\"T_a2207_row3_col2\" class=\"data row3 col2\" >-0.239636</td>\n",
              "      <td id=\"T_a2207_row3_col3\" class=\"data row3 col3\" >1.000000</td>\n",
              "      <td id=\"T_a2207_row3_col4\" class=\"data row3 col4\" >0.127599</td>\n",
              "      <td id=\"T_a2207_row3_col5\" class=\"data row3 col5\" >-0.531864</td>\n",
              "      <td id=\"T_a2207_row3_col6\" class=\"data row3 col6\" >0.499143</td>\n",
              "      <td id=\"T_a2207_row3_col7\" class=\"data row3 col7\" >-0.390835</td>\n",
              "    </tr>\n",
              "    <tr>\n",
              "      <th id=\"T_a2207_level0_row4\" class=\"row_heading level0 row4\" >Brittle</th>\n",
              "      <td id=\"T_a2207_row4_col0\" class=\"data row4 col0\" >-0.079252</td>\n",
              "      <td id=\"T_a2207_row4_col1\" class=\"data row4 col1\" >-0.218570</td>\n",
              "      <td id=\"T_a2207_row4_col2\" class=\"data row4 col2\" >-0.124017</td>\n",
              "      <td id=\"T_a2207_row4_col3\" class=\"data row4 col3\" >0.127599</td>\n",
              "      <td id=\"T_a2207_row4_col4\" class=\"data row4 col4\" >1.000000</td>\n",
              "      <td id=\"T_a2207_row4_col5\" class=\"data row4 col5\" >-0.214282</td>\n",
              "      <td id=\"T_a2207_row4_col6\" class=\"data row4 col6\" >0.317929</td>\n",
              "      <td id=\"T_a2207_row4_col7\" class=\"data row4 col7\" >0.237155</td>\n",
              "    </tr>\n",
              "    <tr>\n",
              "      <th id=\"T_a2207_level0_row5\" class=\"row_heading level0 row5\" >TOC</th>\n",
              "      <td id=\"T_a2207_row5_col0\" class=\"data row5 col0\" >0.022624</td>\n",
              "      <td id=\"T_a2207_row5_col1\" class=\"data row5 col1\" >0.711831</td>\n",
              "      <td id=\"T_a2207_row5_col2\" class=\"data row5 col2\" >0.471746</td>\n",
              "      <td id=\"T_a2207_row5_col3\" class=\"data row5 col3\" >-0.531864</td>\n",
              "      <td id=\"T_a2207_row5_col4\" class=\"data row5 col4\" >-0.214282</td>\n",
              "      <td id=\"T_a2207_row5_col5\" class=\"data row5 col5\" >1.000000</td>\n",
              "      <td id=\"T_a2207_row5_col6\" class=\"data row5 col6\" >0.299483</td>\n",
              "      <td id=\"T_a2207_row5_col7\" class=\"data row5 col7\" >0.654445</td>\n",
              "    </tr>\n",
              "    <tr>\n",
              "      <th id=\"T_a2207_level0_row6\" class=\"row_heading level0 row6\" >VR</th>\n",
              "      <td id=\"T_a2207_row6_col0\" class=\"data row6 col0\" >-0.007279</td>\n",
              "      <td id=\"T_a2207_row6_col1\" class=\"data row6 col1\" >0.111860</td>\n",
              "      <td id=\"T_a2207_row6_col2\" class=\"data row6 col2\" >0.051023</td>\n",
              "      <td id=\"T_a2207_row6_col3\" class=\"data row6 col3\" >0.499143</td>\n",
              "      <td id=\"T_a2207_row6_col4\" class=\"data row6 col4\" >0.317929</td>\n",
              "      <td id=\"T_a2207_row6_col5\" class=\"data row6 col5\" >0.299483</td>\n",
              "      <td id=\"T_a2207_row6_col6\" class=\"data row6 col6\" >1.000000</td>\n",
              "      <td id=\"T_a2207_row6_col7\" class=\"data row6 col7\" >0.323182</td>\n",
              "    </tr>\n",
              "    <tr>\n",
              "      <th id=\"T_a2207_level0_row7\" class=\"row_heading level0 row7\" >Prod</th>\n",
              "      <td id=\"T_a2207_row7_col0\" class=\"data row7 col0\" >0.026817</td>\n",
              "      <td id=\"T_a2207_row7_col1\" class=\"data row7 col1\" >0.861910</td>\n",
              "      <td id=\"T_a2207_row7_col2\" class=\"data row7 col2\" >0.727426</td>\n",
              "      <td id=\"T_a2207_row7_col3\" class=\"data row7 col3\" >-0.390835</td>\n",
              "      <td id=\"T_a2207_row7_col4\" class=\"data row7 col4\" >0.237155</td>\n",
              "      <td id=\"T_a2207_row7_col5\" class=\"data row7 col5\" >0.654445</td>\n",
              "      <td id=\"T_a2207_row7_col6\" class=\"data row7 col6\" >0.323182</td>\n",
              "      <td id=\"T_a2207_row7_col7\" class=\"data row7 col7\" >1.000000</td>\n",
              "    </tr>\n",
              "  </tbody>\n",
              "</table>\n"
            ],
            "text/plain": [
              "<pandas.io.formats.style.Styler at 0x15fac0b5a60>"
            ]
          },
          "execution_count": 9,
          "metadata": {},
          "output_type": "execute_result"
        }
      ],
      "source": [
        "corr = data.corr()\n",
        "print('Количество факторов:', corr.shape[1])\n",
        "print('Pанг корреляционой матрицы: ',np.linalg.matrix_rank(corr))\n",
        "print('Определитель корреляционой матрицы: {:.7f}'.format(np.linalg.det(corr)))\n",
        "corr.style.background_gradient()"
      ]
    },
    {
      "attachments": {},
      "cell_type": "markdown",
      "id": "9a56013d",
      "metadata": {
        "id": "9a56013d"
      },
      "source": [
        "**Выводы:**\n",
        "\n",
        "- Полученная кореляционная матрица подтверждает выводы после анализа графиков. Мы видим сильную связь между целевой переменной Prod и признаками Por (пористость скважины) и Perm (проницаемость скважины). Средняя связь видна между целевой переменной Prod и показателем TOC (общий органический углерод). а вот с показателем AI (акустический импеданс) существует обратная, но слабая связь.\n",
        "- Если рассматривать корреляцию между показателями, то мы видим сильную связь между признаками Por (пористость скважины) и Perm (проницаемость скважины), а также Por (пористость скважины) и TOC (общий органический углерод). \n",
        "- Средняя связь между показателями Perm (проницаемость скважины) и TOC (общий органический углерод), а также VR (коэффициент отражения витринита) и AI (акустический импеданс)\n",
        "- Количество факторов совпадает с рангом матрицы, а определитель матрицы не равен 0, а значит матрица невыроженная, поэтому мы можем использовать МНК. "
      ]
    },
    {
      "attachments": {},
      "cell_type": "markdown",
      "id": "43fd91c4",
      "metadata": {
        "id": "43fd91c4"
      },
      "source": [
        "### Задание 5.2. (2 балла)\n",
        "\n",
        "Создайте матрицу наблюдений `X` и вектор правильных ответов `y`. В качестве факторов для матрицы наблюдений возьмите все имеющиеся в данных признаки. \n",
        "\n",
        "Постройте модель линейной регрессии по методу наименьших квадратов. Для этого воспользуйтесь матричной формулой МНК и инструментарием библиотеки numpy. \n",
        "\n",
        "Выведите на экран полученные оценки коэффициентов модели, округлённые до целого.\n",
        "\n",
        "Приведите подробные выводы по полученным результатам, ответив на следующие вопросы:\n",
        "* Есть ли в ваших данных признаки, которые, согласно модели, можно назвать неинформативными, то есть они не оказывают влияния на целевую переменную или оказывают шумовое влияние?\n",
        "* Приведите интерпретацию нескольких (двух или трёх) коэффициентов полученной модели линейной регрессии.\n"
      ]
    },
    {
      "attachments": {},
      "cell_type": "markdown",
      "id": "QtNtTUzI4Cpq",
      "metadata": {
        "id": "QtNtTUzI4Cpq"
      },
      "source": [
        "**Критерии оценивания:**\n",
        "- Задание выполнено верно, учтены все условия (**2 балла**): \n",
        "    * приведён код для нахождения параметров модели линейной регрессии с помощью матричной формулы МНК;\n",
        "    * на основе полученных параметров даны верные ответы на поставленные вопросы;\n",
        "    * приведена корректная интерпретация нескольких коэффициентов полученной модели линейной регрессии.\n",
        "\n",
        "- Задание выполнено верно, но не учтено одно из условий (**1 балл**).\n",
        "- Задание выполнено неверно, не учтено несколько условий (**0 баллов**)."
      ]
    },
    {
      "cell_type": "code",
      "execution_count": 10,
      "id": "5724288c",
      "metadata": {
        "id": "5724288c"
      },
      "outputs": [
        {
          "name": "stdout",
          "output_type": "stream",
          "text": [
            "Нулевой коэффициент W_0: -1232\n",
            "Коэффициент W_1 (признак Well): 0\n",
            "Коэффициент W_2 (признак Por): 230\n",
            "Коэффициент W_3 (признак Perm): 116\n",
            "Коэффициент W_4 (признак AI): -365\n",
            "Коэффициент W_5 (признак Brittle): 24\n",
            "Коэффициент W_6 (признак TOC): -78\n",
            "Коэффициент W_7 (признак VR): 785\n"
          ]
        }
      ],
      "source": [
        "# Создаём матрицу наблюдений X и вектор правильных ответов y\n",
        "X = np.column_stack((np.ones(200),data['Well'],data['Por'],data['Perm'],data['AI'],data['Brittle'],data['TOC'],data['VR']))\n",
        "y = data[['Prod']]\n",
        "# Применяем формулу OLS-оценки для коэффициентов\n",
        "w = np.linalg.inv(X.T@X)@X.T@y\n",
        "for i in range(len(w.values)):\n",
        "    if i == 0:\n",
        "        print ('Нулевой коэффициент W_' + str(i) + ':', int(w.iloc[i]))\n",
        "    else:\n",
        "        print ('Коэффициент W_' + str(i) + ' (признак',data.columns[i-1] + '):', int(w.iloc[i]))"
      ]
    },
    {
      "attachments": {},
      "cell_type": "markdown",
      "id": "bab9ee21",
      "metadata": {
        "id": "bab9ee21"
      },
      "source": [
        "**Выводы**\n",
        "\n",
        "- Среди полученных коэфициентов определён неинформативный коэффициент $w_1$, который соотвествует номеру скважины ($Well$) и не несёт никакой смысловой нагрузки и может не учитываться при построении модели. \n",
        "- Отрицательное значение коэффициента $w_4$ подтверждает обратную зависимость целевого показателя от признака $AI$, что было выявлено ранее\n",
        "- Так как значения показателей имеют разный масштаб, то и полученные коэффициенты существенно отличаются друг от друга, что не позволяет выявить наиболее важные признаки.\n"
      ]
    },
    {
      "attachments": {},
      "cell_type": "markdown",
      "id": "4a05a4ac",
      "metadata": {
        "id": "4a05a4ac"
      },
      "source": [
        "### Задание 5.3. (1 балл)\n",
        "\n",
        "Теперь потренируемся строить предсказание для наблюдений целевой переменной. \n",
        "\n",
        "**а)** Постройте прогноз выработки газа для скважины со следующими параметрами:\n",
        "\n",
        "```python\n",
        "{\n",
        "    'Well': 106.0,\n",
        "    'Por': 15.32,\n",
        "    'Perm': 3.71,\n",
        "    'AI': 3.29,\n",
        "    'Brittle': 55.99,\n",
        "    'TOC': 1.35,\n",
        "    'VR': 2.42\n",
        " }\n",
        "```\n",
        "\n",
        "Рассчитайте абсолютную ошибку построенного вами прогноза для предложенной скважины (в миллионах кубических футов в день), если известно, что на этой скважине производится `4748.315024` миллионов кубических футов газа в день. \n",
        "\n",
        "**б)** Постройте прогноз выработки газа для всех скважин из обучающего набора данных. Выберите метрику, по которой вы будете оценивать качество регрессионных моделей и сравнивать их между собой (можно использовать несколько метрик, но не более двух).\n",
        "\n",
        "Рассчитайте значение выбранной метрики для вашей модели. Приведите интерпретацию полученного результата. "
      ]
    },
    {
      "attachments": {},
      "cell_type": "markdown",
      "id": "qUDcep5Q5GWU",
      "metadata": {
        "id": "qUDcep5Q5GWU"
      },
      "source": [
        "**Критерии оценивания:**\n",
        "- Задание выполнено верно, учтены все условия (**1 балл**): \n",
        "    * приведён код для построения прогноза выработки газа на указанной скважине и рассчитана абсолютная ошибка прогноза для этой скважины;\n",
        "    * выбрана корректная для поставленной задачи метрика (или метрики) оценки качества модели и приведён код для расчёта этой метрики на всём обучающем наборе данных;\n",
        "    * приведена корректная интерпретация полученного результата.\n",
        "\n",
        "- Задание выполнено верно, но не учтено одно из условий, или задание выполнено неверно (**0 баллов**)."
      ]
    },
    {
      "cell_type": "code",
      "execution_count": 11,
      "id": "cae0cfe3",
      "metadata": {},
      "outputs": [],
      "source": [
        "def mean_absolute_error(y_true, pred): #\n",
        "    return np.mean(np.abs(y_true - pred))"
      ]
    },
    {
      "cell_type": "code",
      "execution_count": 12,
      "id": "e4291db0",
      "metadata": {
        "id": "e4291db0"
      },
      "outputs": [
        {
          "name": "stdout",
          "output_type": "stream",
          "text": [
            "Прогноз целевой переменной по новым данным: 4723.06\n",
            "Абсолютная ошибка между предсказанным значением и истинным значением: 25.25\n",
            "\n",
            "Абсолютная ошибка модели на тренировочных данных: 153.62\n",
            "Абсолютная ошибка модели в процентах: 3.73%\n"
          ]
        }
      ],
      "source": [
        "#объявляе словарь с новымыи значениями\n",
        "dict_106 ={'Well': 106.0,\n",
        "            'Por': 15.32,\n",
        "            'Perm': 3.71,\n",
        "            'AI': 3.29,\n",
        "            'Brittle': 55.99,\n",
        "            'TOC': 1.35,\n",
        "            'VR': 2.42}\n",
        "y_106 = 4748.315024\n",
        "\n",
        "#формируем вектор-строку из новых значений. Не забываем первым элементом поставить 1\n",
        "list_106 = np.array([1])\n",
        "for i in dict_106.values():\n",
        "    list_106 = np.append(list_106, i)\n",
        "\n",
        "# делаем прогноз на основе полученных коэфициентов\n",
        "print('Прогноз целевой переменной по новым данным: {:.2f}'.format(float((list_106@w).values)))\n",
        "print('Абсолютная ошибка между предсказанным значением и истинным значением: {:.2f}'.format(abs(y_106-float((list_106@w).values))))\n",
        "print()\n",
        "y_pred = np.ones(200)\n",
        "mae = mape = 0\n",
        "#расчитываем прогноз выборки для всех скважин из обучающегно набора и абсолютную ошибку\n",
        "for i in range(X.shape[0]):\n",
        "    y_pred[i] = X[i]@w\n",
        "    mae += abs(y.values[i]-y_pred[i])\n",
        "    mape += mae/abs(y.values[i])\n",
        "\n",
        "#рассчитываем метрики ошибки MAE и MAPE\n",
        "mae = mae/X.shape[0]\n",
        "mape = mape/X.shape[0]\n",
        "print ('Абсолютная ошибка модели на тренировочных данных: {:.2f}'.format(float(mae)))\n",
        "print ('Абсолютная ошибка модели в процентах: {:.2f}%'.format(float(mape)))\n"
      ]
    },
    {
      "attachments": {},
      "cell_type": "markdown",
      "id": "c9bee4bc",
      "metadata": {
        "id": "c9bee4bc"
      },
      "source": [
        "**Вывод**\n",
        "\n",
        "Полученная модель в среднем ошибается на 153,62 млн. куб. футов, что составляет 3,73% от среднего показателя добычи газа.   "
      ]
    },
    {
      "attachments": {},
      "cell_type": "markdown",
      "id": "0c25c3aa",
      "metadata": {
        "id": "0c25c3aa"
      },
      "source": [
        "### Задание 5.4. (1 балл)\n",
        "\n",
        "Настало время анализа построенной модели. Посмотрите на коэффициенты и сравните их знаки со значениями выборочных корреляций между целевым признаком и факторами, которые вы нашли ранее.\n",
        "\n",
        "Дайте развёрнутые ответы на следующие вопросы:\n",
        "\n",
        "* Есть ли в вашей модели фактор, при котором коэффициент в модели линейной регрессии противоречит соответствующему коэффициенту корреляции? Например, корреляция говорит, что зависимость между фактором и целевой переменной прямая, а модель говорит обратное. Если таких факторов несколько, укажите их все.\n",
        "* Как вы считаете, с чем связано полученное противоречие результатов?"
      ]
    },
    {
      "attachments": {},
      "cell_type": "markdown",
      "id": "ngJ3UdYb6Ll6",
      "metadata": {
        "id": "ngJ3UdYb6Ll6"
      },
      "source": [
        "**Критерии оценивания:**\n",
        "\n",
        "- Задание выполнено верно, даны корректные развёрнутые ответы на все поставленные в задании вопросы (**1 балл**). \n",
        "\n",
        "- Задание выполнено неверно, даны некорректные ответы на один или несколько поставленных в задании вопросов (**0 баллов**)."
      ]
    },
    {
      "attachments": {},
      "cell_type": "markdown",
      "id": "qeowwIp99yBf",
      "metadata": {
        "id": "qeowwIp99yBf"
      },
      "source": [
        "**Выводы**\n",
        "\n",
        "- Отрицательное значение коэффициента $w_6$ означает обратную зависимость целевого показателя от показателя общего органического углерода ($TOC$), что противоречит данным, полученным с помощью корреляционной матрицы.\n",
        "- Небольшое значение коэфициента $w_5$ (коэффициент хрупкости скважины $Brittle$) обусловленно наибольшим разбросом значений этого показателя."
      ]
    },
    {
      "attachments": {},
      "cell_type": "markdown",
      "id": "9cea9195",
      "metadata": {
        "id": "9cea9195"
      },
      "source": [
        "### Задание 5.5. (2 балла)\n",
        "\n",
        "* Исключите из данных сильно коррелированные между собой факторы. Под сильной корреляцией в данной задаче будем понимать значения выше `0.7`.\n",
        "\n",
        "Выбирая, какой из коррелированных факторов оставить, руководствуйтесь коэффициентом корреляции с целевой переменной: оставляйте тот фактор, который больше всего коррелирует с целевой переменной (объёмом добычи газа).\n",
        "\n",
        "* Также исключите из данных факторы, для которых корреляция с целевой переменной меньше `0.05`.\n",
        "\n",
        "Постройте модель линейной регрессии на обновлённых после удаления факторов данных по методу наименьших квадратов. Для этого используйте матричную формулу и библиотеку numpy. Выведите значение полученных коэффициентов, округлённых до целого.\n",
        "\n",
        "Сделайте прогноз для всего обучающего набора данных и рассчитайте выбранную вами ранее метрику (или метрики). \n",
        "\n",
        "Дайте подробные ответы на следующие вопросы:\n",
        "\n",
        "* Приведите интерпретацию нескольких полученных коэффициентов (двух или трёх). Сравните их значения с полученными ранее.\n",
        "* Приведите интерпретацию полученных значений метрик. Сравните их значения с полученными ранее. \n",
        "* Удалось ли вам побороть противоречие коэффициентов линейной регрессии и коэффициентов корреляции?"
      ]
    },
    {
      "attachments": {},
      "cell_type": "markdown",
      "id": "vlUYVjJP6oXN",
      "metadata": {
        "id": "vlUYVjJP6oXN"
      },
      "source": [
        "**Критерии оценивания:**\n",
        "- Задание выполнено верно, учтены все условия (**2 балла**): \n",
        "    * отобраны верные факторы;\n",
        "    * на основе отобранных факторов построена модель линейной регрессии с помощью матричной формулы МНК и найдены параметры модели, соответствующие каждому из факторов;\n",
        "    * построен прогноз для всего обучающего набора данных и рассчитано значение метрики (метрика должна быть выбрана корректно);\n",
        "    * даны ответы на все поставленные в задании вопросы.\n",
        "\n",
        "- Задание выполнено верно, но не учтено одно из условий (**1 балл**).\n",
        "- Задание выполнено верно, не учтено несколько из условий (**0 баллов**)."
      ]
    },
    {
      "cell_type": "code",
      "execution_count": 13,
      "id": "5d5ZJ0lX_UHe",
      "metadata": {
        "id": "5d5ZJ0lX_UHe"
      },
      "outputs": [
        {
          "name": "stdout",
          "output_type": "stream",
          "text": [
            "Нулевой коэффициент W_0: -1889\n",
            "Коэффициент W_1 (признак Por): 290\n",
            "Коэффициент W_2 (признак AI): -140\n",
            "Коэффициент W_3 (признак Brittle): 28\n",
            "Коэффициент W_4 (признак TOC): 89\n",
            "Коэффициент W_5 (признак VR): 406\n",
            "\n",
            "Абсолютная ошибка модели на тренировочных данных: 170.37\n",
            "Абсолютная ошибка модели в процентах: 4.19%\n"
          ]
        }
      ],
      "source": [
        "# создаём матрицу из интересующих нас показателей \n",
        "X = np.column_stack((np.ones(200), data['Por'], data['AI'], data['Brittle'], data['TOC'], data['VR']))\n",
        "# создаём список показателей без целевого и показателей с сильной и слабой корреляцией с ним\n",
        "columns = list(data.columns)\n",
        "columns.remove('Prod')\n",
        "columns.remove('Well')\n",
        "columns.remove('Perm')\n",
        "y = data[['Prod']]\n",
        "# Применим формулу OLS-оценки для коэффициентов\n",
        "w = np.linalg.inv(X.T@X)@X.T@y\n",
        "for i in range(len(w.values)):\n",
        "    if i == 0:\n",
        "        print ('Нулевой коэффициент W_' + str(i) + ':', int(w.iloc[i]))\n",
        "    else:\n",
        "        print ('Коэффициент W_' + str(i) + ' (признак',columns[i-1] + '):', int(w.iloc[i]))\n",
        "        \n",
        "print()\n",
        "y_pred = np.ones(200)\n",
        "mae = mape = 0\n",
        "#расчитываем прогноз выборки для всех скважин из обучающегно набора и абсолютную ошибку\n",
        "for i in range(X.shape[0]):\n",
        "    y_pred[i] = X[i]@w\n",
        "    mae += abs(y.values[i]-y_pred[i])\n",
        "    mape += mae/abs(y.values[i])\n",
        "\n",
        "#рассчитываем метрики ошибки MAE и MAPE\n",
        "mae = mae/X.shape[0]\n",
        "mape = mape/X.shape[0]\n",
        "print ('Абсолютная ошибка модели на тренировочных данных: {:.2f}'.format(float(mae)))\n",
        "print ('Абсолютная ошибка модели в процентах: {:.2f}%'.format(float(mape)))"
      ]
    },
    {
      "attachments": {},
      "cell_type": "markdown",
      "id": "KxbYvMDo_WLe",
      "metadata": {
        "id": "KxbYvMDo_WLe"
      },
      "source": [
        "**Выводы**\n",
        "- Как и выявлено ранее наибольшее влиянеие на целевой признак оказывает пористость скважины ($Por$) - коэффициент $w_1$, а также, что оказалось неожиданностью, коэффициент отражения витринита - коэффициент $w_5$\n",
        "- Значение метрик ухудшились - средняя ошибка стала больше, что говорит о снижении качества модели\n",
        "- Тем не менее, полученные результаты стали соотвествовать данным корреляции, а именно положительное значение стало у коэффициент $w_6$ (показатель содержания общего органического углерода $TOC$)"
      ]
    },
    {
      "attachments": {},
      "cell_type": "markdown",
      "id": "7d50db12",
      "metadata": {
        "id": "7d50db12"
      },
      "source": [
        "### Задание 5.6. (1 балл)\n",
        "\n",
        "Наконец, давайте построим модель линейной регрессии из библиотеки `scikit-learn (sklearn)` и сравним результаты её работы с теми, что нам удалось получить вручную. \n",
        "\n",
        "Постройте модель линейной регрессии на обновлённых после удаления факторов данных по методу наименьших квадратов. Для этого воспользуйтесь классом `LinearRegression` из библиотеки `sklearn`. Выведите значения полученных коэффициентов, округлённые до целого.\n",
        "\n",
        "Сделайте прогноз для всего обучающего набора данных и рассчитайте значение выбранной вами метрики (или метрик).\n",
        "\n",
        "Сравните результаты библиотечной реализации с тем, что вы получили ранее. "
      ]
    },
    {
      "attachments": {},
      "cell_type": "markdown",
      "id": "emu5D3w278JP",
      "metadata": {
        "id": "emu5D3w278JP"
      },
      "source": [
        "**Критерии оценивания:**\n",
        "\n",
        "- Задание выполнено верно, учтены все условия (**1 балл**): \n",
        "    * на основе отобранных факторов построена модель линейной регрессии из библиотеки sklearn и найдены параметры модели, соответствующие каждому из факторов;\n",
        "    * построен прогноз для всего обучающего набора данных и рассчитано значение метрики (метрика должна быть выбрана корректно);\n",
        "    * приведён вывод о соответствии результатов, полученных вручную и с помощью библиотеки.\n",
        "- Задание выполнено неверно, не учтено одно или несколько условий (**0 баллов**)."
      ]
    },
    {
      "cell_type": "code",
      "execution_count": 14,
      "id": "Gpdpfq59AKGu",
      "metadata": {
        "id": "Gpdpfq59AKGu"
      },
      "outputs": [
        {
          "name": "stdout",
          "output_type": "stream",
          "text": [
            "Нулевой коэффициент w_0: -1889\n",
            "Коэффициент w_1 (признак Por): 290\n",
            "Коэффициент w_2 (признак AI): -140\n",
            "Коэффициент w_3 (признак Brittle): 28\n",
            "Коэффициент w_4 (признак TOC): 89\n",
            "Коэффициент w_5 (признак VR): 406\n",
            "\n",
            "Абсолютная ошибка модели на тренировочных данных: 170.37 \n",
            "Абсолютная ошибка модели в процентах: 4.02 %\n"
          ]
        }
      ],
      "source": [
        "model = LinearRegression(fit_intercept=False)\n",
        "model.fit(X, y)\n",
        "\n",
        "for i in range(len(model.coef_[0])):\n",
        "    if i == 0:\n",
        "        print ('Нулевой коэффициент w_' + str(i) + ':', int(w.iloc[i]))\n",
        "    else:\n",
        "        print ('Коэффициент w_' + str(i) + ' (признак',columns[i-1] + '):', int(model.coef_[0][i]))\n",
        "        \n",
        "y_train = model.predict(X)\n",
        "\n",
        "print()\n",
        "print('Абсолютная ошибка модели на тренировочных данных: {:.2f} '.format(metrics.mean_absolute_error(y,y_train)))\n",
        "print('Абсолютная ошибка модели в процентах: {:.2f} %'.format(metrics.mean_absolute_percentage_error(y, y_train) * 100))"
      ]
    },
    {
      "attachments": {},
      "cell_type": "markdown",
      "id": "WT9cdHAbAMG7",
      "metadata": {
        "id": "WT9cdHAbAMG7"
      },
      "source": [
        "**Выводы**\n",
        "\n",
        "Проучившиеся с помощью библиотеки *sklearn* результаты обучения идентичны результатам матричной формулы (билиотека *numpy*)"
      ]
    },
    {
      "attachments": {},
      "cell_type": "markdown",
      "id": "5346338e",
      "metadata": {
        "id": "5346338e"
      },
      "source": [
        "## Практика: полиномиальная регрессия и регуляризация"
      ]
    },
    {
      "attachments": {},
      "cell_type": "markdown",
      "id": "aad9e3a6",
      "metadata": {
        "id": "aad9e3a6"
      },
      "source": [
        "Мы продолжаем работать над задачей от владельца компании «Газ-Таз-Ваз-Нефть» Василия.\n",
        "\n",
        "Ранее мы построили модель линейной регрессии, которая прогнозирует выработку газа на скважине. Для этого мы с помощью матрицы корреляций и рассуждений отобрали некоррелированные, значимые для предсказания признаки. **Далее мы будем использовать именно их (см. задание 5.5).**\n",
        "\n",
        "Мы хотим улучшить результат — уменьшить ошибку прогноза. Для этого мы воспользуемся моделью полиномиальной регрессии третьей степени. Однако теперь мы знаем, что полиномиальным моделям очень легко переобучиться под исходную выборку. Так как данных у нас не так много (всего 200 скважин), то для контроля качества модели мы будем использовать кросс-валидацию. \n",
        "\n",
        "Приступим! Выполните задания 8.1–8.5:\n"
      ]
    },
    {
      "cell_type": "code",
      "execution_count": 15,
      "id": "18506d1b",
      "metadata": {
        "id": "18506d1b"
      },
      "outputs": [],
      "source": [
        "from sklearn.preprocessing import PolynomialFeatures, StandardScaler\n",
        "from sklearn.linear_model import LinearRegression, Lasso, Ridge, ElasticNet\n",
        "from sklearn.model_selection import GridSearchCV\n",
        "from sklearn.model_selection import cross_validate"
      ]
    },
    {
      "attachments": {},
      "cell_type": "markdown",
      "id": "bfbfea8d",
      "metadata": {
        "id": "bfbfea8d"
      },
      "source": [
        "### Задание 8.1. (1 балл)\n",
        "\n",
        "Стандаризируйте признаки с помощью `StandartScaler` из библиотеки `sklearn`. \n",
        "\n",
        "Затем сгенерируйте полиномиальные признаки третьего порядка на факторах, которые вы выбрали для обучения моделей. Для этого воспользуйтесь генератором полиномов `PolynomialFeatures` из библиотеки `sklearn`. Параметр `include_bias` установите в значение `False`.\n",
        "\n",
        "Выведите на экран, сколько факторов у вас получилось после генерации полиномиальных признаков.\n",
        "\n",
        "**Важно:** стандартизацию необходимо произвести до генерации полиномиальных факторов!\n",
        "\n",
        "Обучите модель линейной регрессии из библиотеки `sklearn` (`LinearRegression`) на полученных полиномиальных факторах.\n",
        "\n",
        "Используя кросс-валидацию оцените среднее значение выбранной вами метрики (или метрик) на тренировочных и валидационных фолдах.\n",
        "\n",
        "Проинтерпретируйте полученные результаты."
      ]
    },
    {
      "attachments": {},
      "cell_type": "markdown",
      "id": "Y8oAhQkr8gV-",
      "metadata": {
        "id": "Y8oAhQkr8gV-"
      },
      "source": [
        "**Критерии оценивания:**\n",
        "\n",
        "- Задание выполнено верно, учтены все условия (**1 балл**): \n",
        "    * на основе отобранных факторов сгенерированы полиномиальные признаки третьего порядка;\n",
        "    * построена модель полиномиальной регрессии (линейной регрессии на полиномиальных признаках);\n",
        "    * с помощью кросс-валидации оценено среднее значение выбранной студентом метрики (или метрик) на тренировочных и валидационных фолдах (метрика должна быть выбрана корректно).\n",
        "- Задание выполнено неверно, не учтено одно или несколько из условий (**0 баллов**)."
      ]
    },
    {
      "cell_type": "code",
      "execution_count": 16,
      "id": "-ln3bx8NFNRw",
      "metadata": {
        "id": "-ln3bx8NFNRw"
      },
      "outputs": [
        {
          "name": "stdout",
          "output_type": "stream",
          "text": [
            "83\n",
            "MAPE на тренировочных данных: 3.68 %\n",
            "MAPE на валидационных данных: 6.67 %\n"
          ]
        }
      ],
      "source": [
        "# инициализируем стандартизатор StandardScaler\n",
        "scaler = StandardScaler()\n",
        "# подгоняем параметры стандартизатора (вычисляем среднее и СКО)\n",
        "X = scaler.fit_transform(X)\n",
        "\n",
        "# добавляем полиномиальные признаки\n",
        "poly = PolynomialFeatures(degree=3, include_bias=False)\n",
        "X = poly.fit_transform(X)\n",
        "print (X.shape[1])\n",
        "\n",
        "# создаём модель линейной регрессии\n",
        "lr = LinearRegression()\n",
        " \n",
        "# оцениваем качество модели на кросс-валидации, метрика — MAPE\n",
        "cv_results = cross_validate(lr, X, y, scoring='neg_mean_absolute_percentage_error', cv=5, return_train_score=True)\n",
        "mape_lr_train = -cv_results['train_score'].mean()* 100\n",
        "mape_lr_val = -cv_results['test_score'].mean() * 100\n",
        "print('MAPE на тренировочных данных: {:.2f} %'.format(mape_lr_train))\n",
        "print('MAPE на валидационных данных: {:.2f} %'.format(mape_lr_val))"
      ]
    },
    {
      "attachments": {},
      "cell_type": "markdown",
      "id": "9DkuuLLtFPPy",
      "metadata": {
        "id": "9DkuuLLtFPPy"
      },
      "source": [
        "**Выводы**\n",
        "Метрика на тренировочных данных существенно отличается от значения на валидационных жанных, что говорит о высоком переобучении модели, то есть требууется регуляризация\n"
      ]
    },
    {
      "attachments": {},
      "cell_type": "markdown",
      "id": "63d06013",
      "metadata": {
        "id": "63d06013"
      },
      "source": [
        "### Задание 8.2. (2 балла)\n",
        "\n",
        "Теперь попробуем воспользоваться линейной регрессией с регуляризацией. Для начала возьмём $L_1$-регуляризацию.\n",
        "\n",
        "Обучите модель `Lasso` из библиотеки `sklearn` на полученных полиномиальных факторах, предварительно стандартизировав факторы. \n",
        "\n",
        "Коэффициент регуляризации (`alpha`) подберите самостоятельно с помощью любого известного вам метода подбора гиперпаметров.\n",
        "\n",
        "Используя кросс-валидацию, оцените среднее значение выбранной вами метрики (или метрик) на тренировочных и валидационных фолдах.\n",
        "\n",
        "Проинтерпретируйте полученные результаты."
      ]
    },
    {
      "attachments": {},
      "cell_type": "markdown",
      "id": "z24YUfuA9rUq",
      "metadata": {
        "id": "z24YUfuA9rUq"
      },
      "source": [
        "**Критерии оценивания:**\n",
        "\n",
        "- Задание выполнено верно, учтены все условия (**2 балла**): \n",
        "    * правильно построена модель полиномиальной регрессии (линейной регрессии на полиномиальных признаках) с регуляризацией (Lasso), учтены условия необходимости масштабирования факторов для построения модели;\n",
        "    * приведён код для подбора параметра регуляризации (вручную или с помощью библиотечных инструментов);\n",
        "    * с помощью кросс-валидации оценено среднее значение выбранной студентом метрики (или метрик) на тренировочных и валидационных фолдах (метрика должна быть выбрана корректно).\n",
        "\n",
        "- Задание выполнено верно, но не учтено одно из условий (**1 балл**).\n",
        "- Задание выполнено неверно, не учтено несколько условий (**0 баллов**)."
      ]
    },
    {
      "cell_type": "code",
      "execution_count": 17,
      "id": "IJ5b5G8qFz-r",
      "metadata": {
        "id": "IJ5b5G8qFz-r"
      },
      "outputs": [
        {
          "name": "stderr",
          "output_type": "stream",
          "text": [
            "[I 2023-09-27 22:54:24,711] A new study created in memory with name: Lasso\n",
            "[I 2023-09-27 22:54:27,206] Trial 0 finished with value: -0.027724611458326227 and parameters: {'Alpha': 0.03045096731416612}. Best is trial 0 with value: -0.027724611458326227.\n",
            "[I 2023-09-27 22:54:28,821] Trial 1 finished with value: -0.02438706403004761 and parameters: {'Alpha': 0.5477366041422346}. Best is trial 0 with value: -0.027724611458326227.\n",
            "[I 2023-09-27 22:54:30,212] Trial 2 finished with value: -0.023658951840777077 and parameters: {'Alpha': 0.9373431097381411}. Best is trial 0 with value: -0.027724611458326227.\n",
            "[I 2023-09-27 22:54:30,258] Trial 3 finished with value: -0.024301448590091274 and parameters: {'Alpha': 0.5848784372433216}. Best is trial 0 with value: -0.027724611458326227.\n",
            "[I 2023-09-27 22:54:30,305] Trial 4 finished with value: -0.023942830002275522 and parameters: {'Alpha': 0.7592084184130703}. Best is trial 0 with value: -0.027724611458326227.\n",
            "[I 2023-09-27 22:54:30,353] Trial 5 finished with value: -0.02441290459352418 and parameters: {'Alpha': 0.5351019706062897}. Best is trial 0 with value: -0.027724611458326227.\n",
            "[I 2023-09-27 22:54:30,400] Trial 6 finished with value: -0.024078177057285897 and parameters: {'Alpha': 0.6900015990187571}. Best is trial 0 with value: -0.027724611458326227.\n",
            "[I 2023-09-27 22:54:30,447] Trial 7 finished with value: -0.024210713611928496 and parameters: {'Alpha': 0.6181872621017886}. Best is trial 0 with value: -0.027724611458326227.\n",
            "[I 2023-09-27 22:54:30,509] Trial 8 finished with value: -0.024638275937973603 and parameters: {'Alpha': 0.42443546932183696}. Best is trial 0 with value: -0.027724611458326227.\n",
            "[I 2023-09-27 22:54:30,556] Trial 9 finished with value: -0.024661545875512652 and parameters: {'Alpha': 0.41060844826691556}. Best is trial 0 with value: -0.027724611458326227.\n",
            "[I 2023-09-27 22:54:30,730] Trial 10 finished with value: -0.027087345002071595 and parameters: {'Alpha': 0.05828675795718202}. Best is trial 0 with value: -0.027724611458326227.\n",
            "[I 2023-09-27 22:54:30,919] Trial 11 finished with value: -0.027961771897873116 and parameters: {'Alpha': 0.020904025280448123}. Best is trial 11 with value: -0.027961771897873116.\n",
            "[I 2023-09-27 22:54:31,108] Trial 12 finished with value: -0.027695520790538275 and parameters: {'Alpha': 0.03152054930247746}. Best is trial 11 with value: -0.027961771897873116.\n",
            "[I 2023-09-27 22:54:31,188] Trial 13 finished with value: -0.02562888538525242 and parameters: {'Alpha': 0.18344555334079268}. Best is trial 11 with value: -0.027961771897873116.\n",
            "[I 2023-09-27 22:54:31,281] Trial 14 finished with value: -0.02565166343682331 and parameters: {'Alpha': 0.1802128321071161}. Best is trial 11 with value: -0.027961771897873116.\n",
            "[I 2023-09-27 22:54:31,344] Trial 15 finished with value: -0.025277356424304925 and parameters: {'Alpha': 0.23992047797300733}. Best is trial 11 with value: -0.027961771897873116.\n",
            "[I 2023-09-27 22:54:31,535] Trial 16 finished with value: -0.027963774049639362 and parameters: {'Alpha': 0.020823267080570695}. Best is trial 16 with value: -0.027963774049639362.\n",
            "[I 2023-09-27 22:54:31,611] Trial 17 finished with value: -0.025078445736145323 and parameters: {'Alpha': 0.28607691326593826}. Best is trial 16 with value: -0.027963774049639362.\n",
            "[I 2023-09-27 22:54:31,721] Trial 18 finished with value: -0.026100071536049912 and parameters: {'Alpha': 0.12989827333012816}. Best is trial 16 with value: -0.027963774049639362.\n",
            "[I 2023-09-27 22:54:31,800] Trial 19 finished with value: -0.025077695317927196 and parameters: {'Alpha': 0.2862301612459642}. Best is trial 16 with value: -0.027963774049639362.\n"
          ]
        },
        {
          "name": "stdout",
          "output_type": "stream",
          "text": [
            "Лучшее значение alpha 0.020823267080570695\n",
            "MAPE на тренировочных данных: 1.46 %\n",
            "MAPE на валидационных данных: 2.80 %\n"
          ]
        }
      ],
      "source": [
        "def optuna_al(trial):\n",
        "    alpha = trial.suggest_float('Alpha', 0.01, 1)\n",
        "    model = Lasso(alpha=alpha, max_iter=10000)\n",
        "    \n",
        "    model.fit(X, y_train)\n",
        "    score = cross_val_score(model, X, y, cv=5, scoring='neg_mean_absolute_percentage_error', n_jobs=-1).mean()\n",
        "\n",
        "    return score\n",
        "\n",
        "study = optuna.create_study(study_name=\"Lasso\", direction=\"minimize\")\n",
        "\n",
        "study.optimize(optuna_al, n_trials=20)\n",
        "alpha_best = study.best_params['Alpha']\n",
        "print(\"Лучшее значение alpha {}\".format(alpha_best))\n",
        "\n",
        "# создаём модель линейной регрессии c L1-регуляризацией\n",
        "lasso = Lasso(alpha=alpha_best, max_iter=10000)\n",
        "\n",
        "# оцениваем качество модели на кросс-валидации\n",
        "cv_results = cross_validate(lasso, X, y, scoring='neg_mean_absolute_percentage_error', cv=5, return_train_score=True)\n",
        "mape_ls_train = -cv_results['train_score'].mean()* 100\n",
        "mape_ls_val = -cv_results['test_score'].mean() * 100\n",
        "print('MAPE на тренировочных данных: {:.2f} %'.format(mape_ls_train))\n",
        "print('MAPE на валидационных данных: {:.2f} %'.format(mape_ls_val))"
      ]
    },
    {
      "attachments": {},
      "cell_type": "markdown",
      "id": "Se0OGR8UF2Td",
      "metadata": {
        "id": "Se0OGR8UF2Td"
      },
      "source": [
        "**Выводы**\n",
        "Метрика существенно улучшилась, а также значительно снизился разброс модели"
      ]
    },
    {
      "attachments": {},
      "cell_type": "markdown",
      "id": "2975ae60",
      "metadata": {
        "id": "2975ae60"
      },
      "source": [
        "### Задание 8.3. (2 балла)\n",
        "\n",
        "Проделаем то же самое с $L_2$-регуляризацией.\n",
        "\n",
        "Обучите модель `Ridge` из библиотеки `sklearn` на полученных полиномиальных факторах, предварительно стандартизировав факторы. \n",
        "\n",
        "Коэффициент регуляризации (`alpha`) подберите самостоятельно с помощью любого известного вам метода подбора гиперпаметров.\n",
        "\n",
        "Используя кросс-валидацию оцените среднее значение выбранной вами метрики (или метрик) на тренировочных и валидационных фолдах.\n",
        "\n",
        "Проинтерпретируйте полученные результаты."
      ]
    },
    {
      "cell_type": "code",
      "execution_count": 18,
      "id": "UfPGyNsjGGS8",
      "metadata": {
        "id": "UfPGyNsjGGS8"
      },
      "outputs": [
        {
          "name": "stdout",
          "output_type": "stream",
          "text": [
            "MAPE на тренировочных данных: 1.53 %\n",
            "MAPE на валидационных данных: 2.56 %\n"
          ]
        }
      ],
      "source": [
        "random_search = RandomizedSearchCV(\n",
        "    estimator=Ridge(solver='svd'), \n",
        "    param_distributions={'alpha': list(np.linspace(0.01, 1, 10, dtype=float))}, \n",
        "    cv=5, \n",
        "    n_iter = 10, \n",
        "    n_jobs = -1\n",
        ")  \n",
        "random_search.fit(X, y) \n",
        "alpha_best = random_search.best_params_['alpha']\n",
        "\n",
        "ridge = Ridge(alpha=alpha_best, solver='svd')\n",
        "\n",
        "cv_results = cross_validate(ridge, X, y, scoring='neg_mean_absolute_percentage_error', cv=5, return_train_score=True)\n",
        "mape_rd_train = -cv_results['train_score'].mean()* 100\n",
        "mape_rd_val = -cv_results['test_score'].mean() * 100\n",
        "print('MAPE на тренировочных данных: {:.2f} %'.format(mape_rd_train))\n",
        "print('MAPE на валидационных данных: {:.2f} %'.format(mape_rd_val))"
      ]
    },
    {
      "attachments": {},
      "cell_type": "markdown",
      "id": "dQBd7ny_GIi1",
      "metadata": {
        "id": "dQBd7ny_GIi1"
      },
      "source": [
        "**Вывод**\n",
        "Несмотря на небольшое ухудшения оценки на тренировочных данных по сравлнению с L1-регуляризаццией, ошибка на валидационных данных стала меньшеи сократилось переобучение модели "
      ]
    },
    {
      "attachments": {},
      "cell_type": "markdown",
      "id": "86pXnWE7-5ch",
      "metadata": {
        "id": "86pXnWE7-5ch"
      },
      "source": [
        "**Критерии оценивания:**\n",
        "\n",
        "- Задание выполнено верно, учтены все условия (**2 балла**): \n",
        "    * правильно построена модель полиномиальной регрессии (линейной регрессии на полиномиальных признаках) с регуляризацией (Ridge), учтены условия необходимости масштабирования факторов для построения модели;\n",
        "    * приведён код для подбора параметра регуляризации (вручную или с помощью библиотечных инструментов);\n",
        "    * с помощью кросс-валидации оценено среднее значение выбранной студентом метрики (или метрик) на тренировочных и валидационных фолдах (метрика должна быть выбрана корректно).\n",
        "\n",
        "- Задание выполнено верно, но не учтено одно из условий (**1 балл**).\n",
        "- Задание выполнено неверно, не учтено несколько условий (**0 баллов**)."
      ]
    },
    {
      "attachments": {},
      "cell_type": "markdown",
      "id": "7ad85b78",
      "metadata": {
        "id": "7ad85b78"
      },
      "source": [
        "### Задание 8.4. (2 балла)\n",
        "\n",
        "Наконец, настало время комбинировать $L_1$ и $L_2$ -регуляризации.\n",
        "\n",
        "Обучите модель `ElasticNet` из библиотеки `sklearn` на полученных полиномиальных факторах, предварительно стандартизировав факторы. \n",
        "\n",
        "Коэффициенты регуляризации (`alpha` и `l1-ratio`) подберите самостоятельно с помощью любого известного вам метода подбора гиперпаметров.\n",
        "\n",
        "Используя кросс-валидацию, оцените среднее значение метрики MAPE на тренировочных и валидационных фолдах.\n",
        "\n",
        "Проинтерпретируйте полученные результаты."
      ]
    },
    {
      "attachments": {},
      "cell_type": "markdown",
      "id": "sy8ESceQ-__u",
      "metadata": {
        "id": "sy8ESceQ-__u"
      },
      "source": [
        "**Критерии оценивания:**\n",
        "\n",
        "- Задание выполнено верно, учтены все условия (**2 балла**): \n",
        "    * правильно построена модель полиномиальной регрессии (линейной регрессии на полиномиальных признаках) с регуляризацией (ElasticNet), учтены условия необходимости масштабирования факторов для построения модели;\n",
        "    * приведён код для подбора параметра регуляризации (вручную или с помощью библиотечных инструментов);\n",
        "    * с помощью кросс-валидации оценено среднее значение выбранной студентом метрики (или метрик) на тренировочных и валидационных фолдах (метрика должна быть выбрана корректно).\n",
        "\n",
        "- Задание выполнено верно, но не учтено одно из условий (**1 балл**).\n",
        "- Задание выполнено неверно, не учтено несколько условий (**0 баллов**)."
      ]
    },
    {
      "cell_type": "code",
      "execution_count": 19,
      "id": "-Yi3P20hQnLS",
      "metadata": {
        "id": "-Yi3P20hQnLS"
      },
      "outputs": [
        {
          "name": "stdout",
          "output_type": "stream",
          "text": [
            "MAPE на тренировочных данных: 1.53 %\n",
            "MAPE на валидационных данных: 2.37 %\n"
          ]
        }
      ],
      "source": [
        "params = {\n",
        "    'alpha': list(np.linspace(0.01, 1, 10, dtype=float)),\n",
        "    'l1_ratio': list(np.linspace(0.01, 1, 10, dtype=float))\n",
        "    }\n",
        "random_search = RandomizedSearchCV(\n",
        "    estimator=ElasticNet(), \n",
        "    param_distributions=params, \n",
        "    cv=5, \n",
        "    n_iter = 10, \n",
        "    n_jobs = -1\n",
        ")  \n",
        "random_search.fit(X, y) \n",
        "alpha_best = random_search.best_params_['alpha']\n",
        "ratio_best = random_search.best_params_['l1_ratio']\n",
        "\n",
        "elasticnet = ElasticNet(alpha=alpha_best, l1_ratio=ratio_best, max_iter=10000)\n",
        "# оцениваем качество модели на кросс-валидации\n",
        "cv_results = cross_validate(elasticnet, X, y, scoring='neg_mean_absolute_percentage_error', cv=5, return_train_score=True)\n",
        "mape_en_train = -cv_results['train_score'].mean()* 100\n",
        "mape_en_val = -cv_results['test_score'].mean() * 100\n",
        "print('MAPE на тренировочных данных: {:.2f} %'.format(mape_en_train))\n",
        "print('MAPE на валидационных данных: {:.2f} %'.format(mape_en_val))"
      ]
    },
    {
      "attachments": {},
      "cell_type": "markdown",
      "id": "er2lAiE9QpAb",
      "metadata": {
        "id": "er2lAiE9QpAb"
      },
      "source": [
        "**Вывод**\n",
        "Ошибка на валидационных фолдах меньше, чем у *Ridge*, а разрыв между ней и ошибкой на тесте ещё сократился - это лучшая модель! "
      ]
    },
    {
      "attachments": {},
      "cell_type": "markdown",
      "id": "91c6e1d1",
      "metadata": {
        "id": "91c6e1d1"
      },
      "source": [
        "### Задание 8.5. (1 балл)\n",
        "\n",
        "Завершением вашей работы будет сводная таблица результатов, которую вы представите на презентации заказчику Василию.\n",
        "\n",
        "Составьте таблицу (DataFrame) со следующими столбцами (имена столбцов выберите самостоятельно):\n",
        "* Наименование модели.\n",
        "* Гиперпараметры (коэффициенты регуляризации, если таковые имеются), если нет — оставьте ячейку пустой.\n",
        "* Использовались ли полиномиальные признаки при построении модели (Да/Нет или True/False).\n",
        "* Значение выбранной метрики на тренировочных фолдах при кросс-валидации модели.\n",
        "* Значение выбранной метрики на валидационных фолдах при кросс-валидации модели.\n",
        "\n",
        "Сделайте финальный вывод по проделанной работе. Какая линейная модель из тех, что мы рассмотрели, показала наилучший результат с точки зрения качества на валидационных фолдах, а также с точки зрения переобученности?"
      ]
    },
    {
      "attachments": {},
      "cell_type": "markdown",
      "id": "OsFRaKkF_nLq",
      "metadata": {
        "id": "OsFRaKkF_nLq"
      },
      "source": [
        "**Критерии оценивания:**\n",
        "\n",
        "- Задание выполнено верно, учтены все условия (**1 балл**): \n",
        "    * верно составлена сводная таблица итоговых результатов построенных ранее моделей с указанными в задании столбцами;\n",
        "    * приведены итоговые выводы по проделанной работе, указано, какая из рассмотренных моделей показала наилучший результат.\n",
        "\n",
        "- Задание выполнено неверно, не учтено одно или несколько условий (**0 баллов**)."
      ]
    },
    {
      "cell_type": "code",
      "execution_count": 20,
      "id": "wRiys8lKQuqW",
      "metadata": {
        "id": "wRiys8lKQuqW"
      },
      "outputs": [
        {
          "data": {
            "text/html": [
              "<div>\n",
              "<style scoped>\n",
              "    .dataframe tbody tr th:only-of-type {\n",
              "        vertical-align: middle;\n",
              "    }\n",
              "\n",
              "    .dataframe tbody tr th {\n",
              "        vertical-align: top;\n",
              "    }\n",
              "\n",
              "    .dataframe thead th {\n",
              "        text-align: right;\n",
              "    }\n",
              "</style>\n",
              "<table border=\"1\" class=\"dataframe\">\n",
              "  <thead>\n",
              "    <tr style=\"text-align: right;\">\n",
              "      <th></th>\n",
              "      <th>Model</th>\n",
              "      <th>Giper</th>\n",
              "      <th>Polinom</th>\n",
              "      <th>Metric_train</th>\n",
              "      <th>Metric_valid</th>\n",
              "    </tr>\n",
              "  </thead>\n",
              "  <tbody>\n",
              "    <tr>\n",
              "      <th>0</th>\n",
              "      <td>LR</td>\n",
              "      <td></td>\n",
              "      <td>True</td>\n",
              "      <td>3.682698</td>\n",
              "      <td>6.666568</td>\n",
              "    </tr>\n",
              "    <tr>\n",
              "      <th>1</th>\n",
              "      <td>Lasso</td>\n",
              "      <td>alpha</td>\n",
              "      <td>True</td>\n",
              "      <td>1.455316</td>\n",
              "      <td>2.796377</td>\n",
              "    </tr>\n",
              "    <tr>\n",
              "      <th>2</th>\n",
              "      <td>Ridge</td>\n",
              "      <td>alpha</td>\n",
              "      <td>True</td>\n",
              "      <td>1.533593</td>\n",
              "      <td>2.560493</td>\n",
              "    </tr>\n",
              "    <tr>\n",
              "      <th>3</th>\n",
              "      <td>Elasticnet</td>\n",
              "      <td>alpha, l1_ratio</td>\n",
              "      <td>True</td>\n",
              "      <td>1.528041</td>\n",
              "      <td>2.370734</td>\n",
              "    </tr>\n",
              "  </tbody>\n",
              "</table>\n",
              "</div>"
            ],
            "text/plain": [
              "        Model            Giper Polinom  Metric_train  Metric_valid\n",
              "0          LR                     True      3.682698      6.666568\n",
              "1       Lasso            alpha    True      1.455316      2.796377\n",
              "2       Ridge            alpha    True      1.533593      2.560493\n",
              "3  Elasticnet  alpha, l1_ratio    True      1.528041      2.370734"
            ]
          },
          "execution_count": 20,
          "metadata": {},
          "output_type": "execute_result"
        }
      ],
      "source": [
        "data = {\n",
        "        'Model': ['LR', 'Lasso', 'Ridge', 'Elasticnet'],\n",
        "        'Giper': ['', 'alpha', 'alpha', 'alpha, l1_ratio'],\n",
        "        'Polinom': ['True', 'True', 'True', 'True'],\n",
        "        'Metric_train': [mape_lr_train, mape_ls_train, mape_rd_train, mape_en_train],\n",
        "        'Metric_valid': [mape_lr_val, mape_ls_val, mape_rd_val, mape_en_val]\n",
        "} \n",
        " \n",
        "# Содаём датафрейм \n",
        "df = pd.DataFrame(data) \n",
        "df"
      ]
    },
    {
      "attachments": {},
      "cell_type": "markdown",
      "id": "UP7_LSoEQsrA",
      "metadata": {
        "id": "UP7_LSoEQsrA"
      },
      "source": [
        "**Выводы**\n",
        "\n",
        "Лучшей линейной моделью, несомненно, стала модель полиномиальной регрессии с регуляризацией комплексным методом ($Elastic Net$), параметры `alpha` и `l1-ratio` для которой оптимизированы с помощью метода случайного поиска ($RandomSearchCV$)"
      ]
    }
  ],
  "metadata": {
    "colab": {
      "provenance": []
    },
    "kernelspec": {
      "display_name": "Python 3.10.8 ('base')",
      "language": "python",
      "name": "python3"
    },
    "language_info": {
      "codemirror_mode": {
        "name": "ipython",
        "version": 3
      },
      "file_extension": ".py",
      "mimetype": "text/x-python",
      "name": "python",
      "nbconvert_exporter": "python",
      "pygments_lexer": "ipython3",
      "version": "3.9.12"
    },
    "vscode": {
      "interpreter": {
        "hash": "86c56a74836ad344b00594bf6f38fa6a676a207ceefe20d101fbc465800ccb8d"
      }
    }
  },
  "nbformat": 4,
  "nbformat_minor": 5
}
