{
  "cells": [
    {
      "cell_type": "markdown",
      "id": "42289889-bd57-434e-9637-d3e354756316",
      "metadata": {
        "id": "42289889-bd57-434e-9637-d3e354756316"
      },
      "source": [
        "<center> <img src = https://raw.githubusercontent.com/AndreyRysistov/DatasetsForPandas/main/hh%20label.jpg alt=\"drawing\" style=\"width:400px;\">"
      ]
    },
    {
      "cell_type": "markdown",
      "id": "829cb75b-f14e-4ba8-9195-7ba929a7d656",
      "metadata": {
        "id": "829cb75b-f14e-4ba8-9195-7ba929a7d656",
        "tags": []
      },
      "source": [
        "# <center> Проект: Анализ вакансий из HeadHunter\n",
        "   "
      ]
    },
    {
      "cell_type": "code",
      "execution_count": 1,
      "id": "dccfde33-2452-43fb-a8a5-5c6ebc02a71d",
      "metadata": {
        "id": "dccfde33-2452-43fb-a8a5-5c6ebc02a71d"
      },
      "outputs": [],
      "source": [
        "import pandas as pd\n",
        "import requests\n",
        "from bs4 import BeautifulSoup\n",
        "import sqlalchemy as sa\n"
      ]
    },
    {
      "cell_type": "code",
      "execution_count": 4,
      "id": "a2218a4d",
      "metadata": {},
      "outputs": [],
      "source": [
        "DBNAME = 'project_sql'\n",
        "USER = 'skillfactory'\n",
        "PASSWORD = 'cCkxxLVrDE8EbvjueeMedPKt'\n",
        "HOST = '84.201.134.129'\n",
        "PORT = 5432"
      ]
    },
    {
      "cell_type": "code",
      "execution_count": 5,
      "id": "97e31b86",
      "metadata": {},
      "outputs": [],
      "source": [
        "# предлагаемый в курсе способ подключение к БД выдаёт предупреждение о необходимости подключения с помощью интсрументов\n",
        "# библиотеки SQLAlchemy. Это связано с политекой разработчиков pandas, поэтому курс в этой части вероятно требует\n",
        "# переработки\n",
        "connection = f'postgresql+psycopg2://{USER}:{PASSWORD}@{HOST}:{PORT}/{DBNAME}'"
      ]
    },
    {
      "cell_type": "markdown",
      "id": "0dc6476b-7a00-44f1-ac93-6e3baed33a29",
      "metadata": {
        "id": "0dc6476b-7a00-44f1-ac93-6e3baed33a29"
      },
      "source": [
        "# Юнит 3. Предварительный анализ данных"
      ]
    },
    {
      "cell_type": "markdown",
      "id": "889782b6-8d1c-410e-8920-e57f27917c64",
      "metadata": {
        "id": "889782b6-8d1c-410e-8920-e57f27917c64"
      },
      "source": [
        "1. Напишите запрос, который посчитает количество вакансий в нашей базе (вакансии находятся в таблице vacancies). "
      ]
    },
    {
      "cell_type": "code",
      "execution_count": 51,
      "id": "04d41eb5",
      "metadata": {},
      "outputs": [],
      "source": [
        "query_3_1 = f'''select\n",
        "                       count(*) \"Количество вакансий\"\n",
        "                  from vacancies\n",
        "'''"
      ]
    },
    {
      "cell_type": "code",
      "execution_count": 80,
      "id": "7mAwtsk4hEHY",
      "metadata": {
        "id": "7mAwtsk4hEHY"
      },
      "outputs": [
        {
          "data": {
            "text/html": [
              "<style type=\"text/css\">\n",
              "</style>\n",
              "<table id=\"T_259a4\">\n",
              "  <thead>\n",
              "    <tr>\n",
              "      <th id=\"T_259a4_level0_col0\" class=\"col_heading level0 col0\" >Количество вакансий</th>\n",
              "    </tr>\n",
              "  </thead>\n",
              "  <tbody>\n",
              "    <tr>\n",
              "      <td id=\"T_259a4_row0_col0\" class=\"data row0 col0\" >49197</td>\n",
              "    </tr>\n",
              "  </tbody>\n",
              "</table>\n"
            ],
            "text/plain": [
              "<pandas.io.formats.style.Styler at 0x20172b1eb90>"
            ]
          },
          "execution_count": 80,
          "metadata": {},
          "output_type": "execute_result"
        }
      ],
      "source": [
        "# результат запроса\n",
        "df_3_1 = pd.read_sql_query(query_3_1, connection)\n",
        "df_3_1.style.hide(axis=\"index\") # прячем столбец индексов \n"
      ]
    },
    {
      "cell_type": "markdown",
      "id": "b583485d-1f9e-494e-ada4-80ffff7c53d6",
      "metadata": {
        "id": "b583485d-1f9e-494e-ada4-80ffff7c53d6"
      },
      "source": [
        "2. Напишите запрос, который посчитает количество работодателей (таблица employers). "
      ]
    },
    {
      "cell_type": "code",
      "execution_count": 53,
      "id": "5408c52c-3407-4a63-b25b-1aafa2322d28",
      "metadata": {
        "id": "5408c52c-3407-4a63-b25b-1aafa2322d28"
      },
      "outputs": [],
      "source": [
        "# текст запроса\n",
        "query_3_2 = f'''select\n",
        "                       count(*) \"Количество работодателей\"\n",
        "                  from employers\n",
        "'''"
      ]
    },
    {
      "cell_type": "code",
      "execution_count": 81,
      "id": "jVL4eshKhdqc",
      "metadata": {
        "id": "jVL4eshKhdqc"
      },
      "outputs": [
        {
          "data": {
            "text/html": [
              "<style type=\"text/css\">\n",
              "</style>\n",
              "<table id=\"T_64a84\">\n",
              "  <thead>\n",
              "    <tr>\n",
              "      <th id=\"T_64a84_level0_col0\" class=\"col_heading level0 col0\" >Количество работодателей</th>\n",
              "    </tr>\n",
              "  </thead>\n",
              "  <tbody>\n",
              "    <tr>\n",
              "      <td id=\"T_64a84_row0_col0\" class=\"data row0 col0\" >23501</td>\n",
              "    </tr>\n",
              "  </tbody>\n",
              "</table>\n"
            ],
            "text/plain": [
              "<pandas.io.formats.style.Styler at 0x20172d90f10>"
            ]
          },
          "execution_count": 81,
          "metadata": {},
          "output_type": "execute_result"
        }
      ],
      "source": [
        "# результат запроса\n",
        "df_3_2 = pd.read_sql_query(query_3_2, connection)\n",
        "df_3_2.style.hide(axis=\"index\") # прячем столбец индексов "
      ]
    },
    {
      "cell_type": "markdown",
      "id": "a2bfff1f-c975-4bf6-84be-2185d79dcb76",
      "metadata": {
        "id": "a2bfff1f-c975-4bf6-84be-2185d79dcb76"
      },
      "source": [
        "3. Посчитате с помощью запроса количество регионов (таблица areas)."
      ]
    },
    {
      "cell_type": "code",
      "execution_count": 55,
      "id": "1m8QJwBYhey6",
      "metadata": {
        "id": "1m8QJwBYhey6"
      },
      "outputs": [],
      "source": [
        "# текст запроса\n",
        "query_3_3 = f'''select\n",
        "                       count(*) \"Количество регионов\"\n",
        "                  from areas\n",
        "'''"
      ]
    },
    {
      "cell_type": "code",
      "execution_count": 82,
      "id": "EZsn9tlfhe7f",
      "metadata": {
        "id": "EZsn9tlfhe7f"
      },
      "outputs": [
        {
          "data": {
            "text/html": [
              "<style type=\"text/css\">\n",
              "</style>\n",
              "<table id=\"T_d273c\">\n",
              "  <thead>\n",
              "    <tr>\n",
              "      <th id=\"T_d273c_level0_col0\" class=\"col_heading level0 col0\" >Количество регионов</th>\n",
              "    </tr>\n",
              "  </thead>\n",
              "  <tbody>\n",
              "    <tr>\n",
              "      <td id=\"T_d273c_row0_col0\" class=\"data row0 col0\" >1362</td>\n",
              "    </tr>\n",
              "  </tbody>\n",
              "</table>\n"
            ],
            "text/plain": [
              "<pandas.io.formats.style.Styler at 0x20173320f10>"
            ]
          },
          "execution_count": 82,
          "metadata": {},
          "output_type": "execute_result"
        }
      ],
      "source": [
        "# результат запроса\n",
        "df_3_3 = pd.read_sql_query(query_3_3, connection)\n",
        "df_3_3.style.hide(axis=\"index\") # прячем столбец индексов "
      ]
    },
    {
      "cell_type": "markdown",
      "id": "41bb59f3-53cc-4a67-a5bc-bedf573955e4",
      "metadata": {
        "id": "41bb59f3-53cc-4a67-a5bc-bedf573955e4"
      },
      "source": [
        "4. Посчитате с помощью запроса количество сфер деятельности в базе (таблица industries)."
      ]
    },
    {
      "cell_type": "code",
      "execution_count": 57,
      "id": "d286cf4c-707b-4cd2-9190-7ab3587d04a1",
      "metadata": {
        "id": "d286cf4c-707b-4cd2-9190-7ab3587d04a1"
      },
      "outputs": [],
      "source": [
        "# текст запроса\n",
        "query_3_4 = f'''select\n",
        "                       count(*) \"Количество сфер деятельности\"\n",
        "                  from industries\n",
        "'''"
      ]
    },
    {
      "cell_type": "code",
      "execution_count": 83,
      "id": "JYAaoZ4qhfzW",
      "metadata": {
        "id": "JYAaoZ4qhfzW"
      },
      "outputs": [
        {
          "data": {
            "text/html": [
              "<style type=\"text/css\">\n",
              "</style>\n",
              "<table id=\"T_e4f5e\">\n",
              "  <thead>\n",
              "    <tr>\n",
              "      <th id=\"T_e4f5e_level0_col0\" class=\"col_heading level0 col0\" >Количество сфер деятельности</th>\n",
              "    </tr>\n",
              "  </thead>\n",
              "  <tbody>\n",
              "    <tr>\n",
              "      <td id=\"T_e4f5e_row0_col0\" class=\"data row0 col0\" >294</td>\n",
              "    </tr>\n",
              "  </tbody>\n",
              "</table>\n"
            ],
            "text/plain": [
              "<pandas.io.formats.style.Styler at 0x2017427ff10>"
            ]
          },
          "execution_count": 83,
          "metadata": {},
          "output_type": "execute_result"
        }
      ],
      "source": [
        "# результат запроса\n",
        "df_3_4 = pd.read_sql_query(query_3_4, connection)\n",
        "df_3_4.style.hide(axis=\"index\") # прячем столбец индексов "
      ]
    },
    {
      "cell_type": "markdown",
      "id": "9a8a2181-6914-448b-85f1-38f5f18b8a93",
      "metadata": {
        "id": "9a8a2181-6914-448b-85f1-38f5f18b8a93"
      },
      "source": [
        "***"
      ]
    },
    {
      "attachments": {},
      "cell_type": "markdown",
      "id": "be4e9bd3-a4db-4a20-82fb-6b02fc2957e0",
      "metadata": {
        "id": "be4e9bd3-a4db-4a20-82fb-6b02fc2957e0"
      },
      "source": [
        "### выводы по предварительному анализу данных\n",
        "\n",
        "Выборка содержит около 50 тысяч вакансий в почти 300 сферах деятельности от более 23 тысяч работодателей в 1362 городах "
      ]
    },
    {
      "cell_type": "markdown",
      "id": "8d62a9f3-f64e-4fe7-bdac-c4dffa16155e",
      "metadata": {
        "id": "8d62a9f3-f64e-4fe7-bdac-c4dffa16155e"
      },
      "source": [
        "# Юнит 4. Детальный анализ вакансий"
      ]
    },
    {
      "cell_type": "markdown",
      "id": "93053d3d-b284-481a-9cf7-012d7014c0e0",
      "metadata": {
        "id": "93053d3d-b284-481a-9cf7-012d7014c0e0"
      },
      "source": [
        "1. Напишите запрос, который позволит узнать, сколько (cnt) вакансий в каждом регионе (area).\n",
        "Отсортируйте по количеству вакансий в порядке убывания."
      ]
    },
    {
      "cell_type": "code",
      "execution_count": 85,
      "id": "3f069da6-fdc9-4ae7-b514-fafe2675efd3",
      "metadata": {
        "id": "3f069da6-fdc9-4ae7-b514-fafe2675efd3"
      },
      "outputs": [],
      "source": [
        "# текст запроса\n",
        "query_4_1 = f'''select\n",
        "                       count(v.id) cnt,\n",
        "                       a.name\n",
        "                  from vacancies v\n",
        "                  join areas a\n",
        "                    on a.id = v.area_id\n",
        "              group by a.id\n",
        "              order by 1 desc\n",
        "                 limit 5\n",
        "'''"
      ]
    },
    {
      "cell_type": "code",
      "execution_count": 86,
      "id": "P7QL86hrjhRJ",
      "metadata": {
        "id": "P7QL86hrjhRJ"
      },
      "outputs": [
        {
          "data": {
            "text/html": [
              "<style type=\"text/css\">\n",
              "</style>\n",
              "<table id=\"T_8a3ba\">\n",
              "  <thead>\n",
              "    <tr>\n",
              "      <th id=\"T_8a3ba_level0_col0\" class=\"col_heading level0 col0\" >cnt</th>\n",
              "      <th id=\"T_8a3ba_level0_col1\" class=\"col_heading level0 col1\" >name</th>\n",
              "    </tr>\n",
              "  </thead>\n",
              "  <tbody>\n",
              "    <tr>\n",
              "      <td id=\"T_8a3ba_row0_col0\" class=\"data row0 col0\" >5333</td>\n",
              "      <td id=\"T_8a3ba_row0_col1\" class=\"data row0 col1\" >Москва</td>\n",
              "    </tr>\n",
              "    <tr>\n",
              "      <td id=\"T_8a3ba_row1_col0\" class=\"data row1 col0\" >2851</td>\n",
              "      <td id=\"T_8a3ba_row1_col1\" class=\"data row1 col1\" >Санкт-Петербург</td>\n",
              "    </tr>\n",
              "    <tr>\n",
              "      <td id=\"T_8a3ba_row2_col0\" class=\"data row2 col0\" >2112</td>\n",
              "      <td id=\"T_8a3ba_row2_col1\" class=\"data row2 col1\" >Минск</td>\n",
              "    </tr>\n",
              "    <tr>\n",
              "      <td id=\"T_8a3ba_row3_col0\" class=\"data row3 col0\" >2006</td>\n",
              "      <td id=\"T_8a3ba_row3_col1\" class=\"data row3 col1\" >Новосибирск</td>\n",
              "    </tr>\n",
              "    <tr>\n",
              "      <td id=\"T_8a3ba_row4_col0\" class=\"data row4 col0\" >1892</td>\n",
              "      <td id=\"T_8a3ba_row4_col1\" class=\"data row4 col1\" >Алматы</td>\n",
              "    </tr>\n",
              "  </tbody>\n",
              "</table>\n"
            ],
            "text/plain": [
              "<pandas.io.formats.style.Styler at 0x2017427ffa0>"
            ]
          },
          "execution_count": 86,
          "metadata": {},
          "output_type": "execute_result"
        }
      ],
      "source": [
        "# результат запроса\n",
        "df_4_1 = pd.read_sql_query(query_4_1, connection)\n",
        "df_4_1.style.hide(axis=\"index\") # прячем столбец индексов "
      ]
    },
    {
      "cell_type": "markdown",
      "id": "4266f0b6-1646-492a-88b4-2f6a46502135",
      "metadata": {
        "id": "4266f0b6-1646-492a-88b4-2f6a46502135"
      },
      "source": [
        "2. Напишите запрос, чтобы определить у какого количества вакансий заполнено хотя бы одно из двух полей с зарплатой."
      ]
    },
    {
      "cell_type": "code",
      "execution_count": 36,
      "id": "0c44b350-72eb-4d65-8b54-a1fc449ba9fd",
      "metadata": {
        "id": "0c44b350-72eb-4d65-8b54-a1fc449ba9fd"
      },
      "outputs": [],
      "source": [
        "# текст запроса\n",
        "query_4_2 = f'''select\n",
        "                       count(*) \"Количество вакансий с зарплатой\"\n",
        "                  from (\n",
        "                select\n",
        "                       salary_from,\n",
        "                       salary_to\n",
        "                  from vacancies\n",
        "                 where salary_from is not null\n",
        "                    or salary_to is not null\n",
        "                       ) v\n",
        "'''"
      ]
    },
    {
      "cell_type": "code",
      "execution_count": 87,
      "id": "rhvwaMDkoWTi",
      "metadata": {
        "id": "rhvwaMDkoWTi"
      },
      "outputs": [
        {
          "data": {
            "text/html": [
              "<style type=\"text/css\">\n",
              "</style>\n",
              "<table id=\"T_4fda3\">\n",
              "  <thead>\n",
              "    <tr>\n",
              "      <th id=\"T_4fda3_level0_col0\" class=\"col_heading level0 col0\" >Количество вакансий с зарплатой</th>\n",
              "    </tr>\n",
              "  </thead>\n",
              "  <tbody>\n",
              "    <tr>\n",
              "      <td id=\"T_4fda3_row0_col0\" class=\"data row0 col0\" >24073</td>\n",
              "    </tr>\n",
              "  </tbody>\n",
              "</table>\n"
            ],
            "text/plain": [
              "<pandas.io.formats.style.Styler at 0x20172acdf30>"
            ]
          },
          "execution_count": 87,
          "metadata": {},
          "output_type": "execute_result"
        }
      ],
      "source": [
        "# результат запроса\n",
        "df_4_2 = pd.read_sql_query(query_4_2, connection)\n",
        "df_4_2.style.hide(axis=\"index\") # прячем столбец индексов "
      ]
    },
    {
      "cell_type": "markdown",
      "id": "635c4d5d-f323-4c66-b428-50a088120aa0",
      "metadata": {
        "id": "635c4d5d-f323-4c66-b428-50a088120aa0"
      },
      "source": [
        "3. Найдите средние значения для нижней и верхней границы зарплатной вилки. Округлите значения до целого."
      ]
    },
    {
      "cell_type": "code",
      "execution_count": 59,
      "id": "603cdbe4-0ec3-4106-8eaf-c73fcdd29165",
      "metadata": {
        "id": "603cdbe4-0ec3-4106-8eaf-c73fcdd29165"
      },
      "outputs": [],
      "source": [
        "# текст запроса\n",
        "query_4_3 = f'''select\n",
        "                       round(avg(salary_from)) \"Среденее нижнее\",\n",
        "                       round(avg(salary_to)) \"Среднее верхнее\"\n",
        "                  from vacancies v\n",
        "           \n",
        "'''"
      ]
    },
    {
      "cell_type": "code",
      "execution_count": 88,
      "id": "pswpAb66ovZZ",
      "metadata": {
        "id": "pswpAb66ovZZ"
      },
      "outputs": [
        {
          "data": {
            "text/html": [
              "<style type=\"text/css\">\n",
              "</style>\n",
              "<table id=\"T_f5634\">\n",
              "  <thead>\n",
              "    <tr>\n",
              "      <th id=\"T_f5634_level0_col0\" class=\"col_heading level0 col0\" >Среденее нижнее</th>\n",
              "      <th id=\"T_f5634_level0_col1\" class=\"col_heading level0 col1\" >Среднее верхнее</th>\n",
              "    </tr>\n",
              "  </thead>\n",
              "  <tbody>\n",
              "    <tr>\n",
              "      <td id=\"T_f5634_row0_col0\" class=\"data row0 col0\" >71065.000000</td>\n",
              "      <td id=\"T_f5634_row0_col1\" class=\"data row0 col1\" >110537.000000</td>\n",
              "    </tr>\n",
              "  </tbody>\n",
              "</table>\n"
            ],
            "text/plain": [
              "<pandas.io.formats.style.Styler at 0x20172acdc90>"
            ]
          },
          "execution_count": 88,
          "metadata": {},
          "output_type": "execute_result"
        }
      ],
      "source": [
        "# результат запроса\n",
        "df_4_3 = pd.read_sql_query(query_4_3, connection)\n",
        "df_4_3.style.hide(axis=\"index\") # прячем столбец индексов "
      ]
    },
    {
      "cell_type": "markdown",
      "id": "f3fdaec9-5fd3-4260-9cf5-1d7406b628a5",
      "metadata": {
        "id": "f3fdaec9-5fd3-4260-9cf5-1d7406b628a5"
      },
      "source": [
        "4. Напишите запрос, который выведет количество вакансий для каждого сочетания типа рабочего графика (schedule) и типа трудоустройства (employment), используемого в вакансиях. Результат отсортируйте по убыванию количества.\n"
      ]
    },
    {
      "cell_type": "code",
      "execution_count": 61,
      "id": "1ea710ec-871b-431e-9462-c7d0fd87011b",
      "metadata": {
        "id": "1ea710ec-871b-431e-9462-c7d0fd87011b"
      },
      "outputs": [],
      "source": [
        "# текст запроса\n",
        "query_4_4 = f'''select\n",
        "                       schedule || '-' || employment comb,\n",
        "                       count(id)\n",
        "                  from vacancies v\n",
        "              group by comb\n",
        "              order by 2 desc\n",
        "                offset 1\n",
        "                 limit 1\n",
        "'''           "
      ]
    },
    {
      "cell_type": "code",
      "execution_count": 89,
      "id": "lGUVqavdo4JQ",
      "metadata": {
        "id": "lGUVqavdo4JQ"
      },
      "outputs": [
        {
          "data": {
            "text/html": [
              "<style type=\"text/css\">\n",
              "</style>\n",
              "<table id=\"T_52d4b\">\n",
              "  <thead>\n",
              "    <tr>\n",
              "      <th id=\"T_52d4b_level0_col0\" class=\"col_heading level0 col0\" >comb</th>\n",
              "      <th id=\"T_52d4b_level0_col1\" class=\"col_heading level0 col1\" >count</th>\n",
              "    </tr>\n",
              "  </thead>\n",
              "  <tbody>\n",
              "    <tr>\n",
              "      <td id=\"T_52d4b_row0_col0\" class=\"data row0 col0\" >Удаленная работа-Полная занятость</td>\n",
              "      <td id=\"T_52d4b_row0_col1\" class=\"data row0 col1\" >7802</td>\n",
              "    </tr>\n",
              "  </tbody>\n",
              "</table>\n"
            ],
            "text/plain": [
              "<pandas.io.formats.style.Styler at 0x20172ace020>"
            ]
          },
          "execution_count": 89,
          "metadata": {},
          "output_type": "execute_result"
        }
      ],
      "source": [
        "# результат запроса\n",
        "df_4_4 = pd.read_sql_query(query_4_4, connection)\n",
        "df_4_4.style.hide(axis=\"index\") # прячем столбец индексов "
      ]
    },
    {
      "cell_type": "markdown",
      "id": "0136ffee-0ead-4a6b-b608-61d1c753a438",
      "metadata": {
        "id": "0136ffee-0ead-4a6b-b608-61d1c753a438"
      },
      "source": [
        "5. Напишите запрос, выводящий значения поля Требуемый опыт работы (experience) в порядке возрастания количества вакансий, в которых указан данный вариант опыта. "
      ]
    },
    {
      "cell_type": "code",
      "execution_count": 91,
      "id": "5b3a8e79-f7ab-4008-b767-12aea3a205ea",
      "metadata": {
        "id": "5b3a8e79-f7ab-4008-b767-12aea3a205ea"
      },
      "outputs": [],
      "source": [
        "# текст запроса\n",
        "query_4_5 = f'''select\n",
        "                       experience,\n",
        "                       count(id)\n",
        "                  from vacancies v\n",
        "              group by experience\n",
        "                having experience is not null\n",
        "              order by 2\n",
        "    \n",
        "'''           "
      ]
    },
    {
      "cell_type": "code",
      "execution_count": 92,
      "id": "3Is64Y-hpDpq",
      "metadata": {
        "id": "3Is64Y-hpDpq"
      },
      "outputs": [
        {
          "data": {
            "text/html": [
              "<style type=\"text/css\">\n",
              "</style>\n",
              "<table id=\"T_932fc\">\n",
              "  <thead>\n",
              "    <tr>\n",
              "      <th id=\"T_932fc_level0_col0\" class=\"col_heading level0 col0\" >experience</th>\n",
              "      <th id=\"T_932fc_level0_col1\" class=\"col_heading level0 col1\" >count</th>\n",
              "    </tr>\n",
              "  </thead>\n",
              "  <tbody>\n",
              "    <tr>\n",
              "      <td id=\"T_932fc_row0_col0\" class=\"data row0 col0\" >Более 6 лет</td>\n",
              "      <td id=\"T_932fc_row0_col1\" class=\"data row0 col1\" >1337</td>\n",
              "    </tr>\n",
              "    <tr>\n",
              "      <td id=\"T_932fc_row1_col0\" class=\"data row1 col0\" >Нет опыта</td>\n",
              "      <td id=\"T_932fc_row1_col1\" class=\"data row1 col1\" >7197</td>\n",
              "    </tr>\n",
              "    <tr>\n",
              "      <td id=\"T_932fc_row2_col0\" class=\"data row2 col0\" >От 3 до 6 лет</td>\n",
              "      <td id=\"T_932fc_row2_col1\" class=\"data row2 col1\" >14511</td>\n",
              "    </tr>\n",
              "    <tr>\n",
              "      <td id=\"T_932fc_row3_col0\" class=\"data row3 col0\" >От 1 года до 3 лет</td>\n",
              "      <td id=\"T_932fc_row3_col1\" class=\"data row3 col1\" >26152</td>\n",
              "    </tr>\n",
              "  </tbody>\n",
              "</table>\n"
            ],
            "text/plain": [
              "<pandas.io.formats.style.Styler at 0x20172acde40>"
            ]
          },
          "execution_count": 92,
          "metadata": {},
          "output_type": "execute_result"
        }
      ],
      "source": [
        "# результат запроса\n",
        "df_4_5 = pd.read_sql_query(query_4_5, connection)\n",
        "df_4_5.style.hide(axis=\"index\") # прячем столбец индексов "
      ]
    },
    {
      "cell_type": "markdown",
      "id": "oq2b7n1QpIka",
      "metadata": {
        "id": "oq2b7n1QpIka"
      },
      "source": [
        "***"
      ]
    },
    {
      "cell_type": "code",
      "execution_count": 48,
      "id": "e91f87ed-e25c-4f96-9f92-b642e8c0b4fa",
      "metadata": {
        "id": "e91f87ed-e25c-4f96-9f92-b642e8c0b4fa"
      },
      "outputs": [],
      "source": [
        "# выводы по детальному анализу вакансий"
      ]
    },
    {
      "cell_type": "markdown",
      "id": "7ea20ab6-04a7-40a0-adec-443a0e5a42c3",
      "metadata": {
        "id": "7ea20ab6-04a7-40a0-adec-443a0e5a42c3"
      },
      "source": [
        "# Юнит 5. Анализ работодателей"
      ]
    },
    {
      "cell_type": "markdown",
      "id": "968aed80-74ef-4ffb-b5bf-c65b84e9caea",
      "metadata": {
        "id": "968aed80-74ef-4ffb-b5bf-c65b84e9caea"
      },
      "source": [
        "1. Напишите запрос, который позволит узнать, какие работодатели находятся на первом и пятом месте по количеству вакансий."
      ]
    },
    {
      "cell_type": "code",
      "execution_count": 93,
      "id": "f2d62796-d400-4ec1-a675-88112739a50e",
      "metadata": {
        "id": "f2d62796-d400-4ec1-a675-88112739a50e"
      },
      "outputs": [],
      "source": [
        "# текст запроса\n",
        "query_5_1 = f'''select\n",
        "                       e.name,\n",
        "                       count(v.id)\n",
        "                  from vacancies v\n",
        "                  join employers e\n",
        "                    on e.id = v.employer_id\n",
        "              group by e.name\n",
        "              order by 2 desc\n",
        "                 limit 5\n",
        "    \n",
        "'''       "
      ]
    },
    {
      "cell_type": "code",
      "execution_count": 94,
      "id": "64tOMkAxqkQk",
      "metadata": {
        "id": "64tOMkAxqkQk"
      },
      "outputs": [
        {
          "data": {
            "text/html": [
              "<style type=\"text/css\">\n",
              "</style>\n",
              "<table id=\"T_3f375\">\n",
              "  <thead>\n",
              "    <tr>\n",
              "      <th id=\"T_3f375_level0_col0\" class=\"col_heading level0 col0\" >name</th>\n",
              "      <th id=\"T_3f375_level0_col1\" class=\"col_heading level0 col1\" >count</th>\n",
              "    </tr>\n",
              "  </thead>\n",
              "  <tbody>\n",
              "    <tr>\n",
              "      <td id=\"T_3f375_row0_col0\" class=\"data row0 col0\" >Яндекс</td>\n",
              "      <td id=\"T_3f375_row0_col1\" class=\"data row0 col1\" >1933</td>\n",
              "    </tr>\n",
              "    <tr>\n",
              "      <td id=\"T_3f375_row1_col0\" class=\"data row1 col0\" >Ростелеком</td>\n",
              "      <td id=\"T_3f375_row1_col1\" class=\"data row1 col1\" >491</td>\n",
              "    </tr>\n",
              "    <tr>\n",
              "      <td id=\"T_3f375_row2_col0\" class=\"data row2 col0\" >Тинькофф</td>\n",
              "      <td id=\"T_3f375_row2_col1\" class=\"data row2 col1\" >444</td>\n",
              "    </tr>\n",
              "    <tr>\n",
              "      <td id=\"T_3f375_row3_col0\" class=\"data row3 col0\" >СБЕР</td>\n",
              "      <td id=\"T_3f375_row3_col1\" class=\"data row3 col1\" >428</td>\n",
              "    </tr>\n",
              "    <tr>\n",
              "      <td id=\"T_3f375_row4_col0\" class=\"data row4 col0\" >Газпром нефть</td>\n",
              "      <td id=\"T_3f375_row4_col1\" class=\"data row4 col1\" >331</td>\n",
              "    </tr>\n",
              "  </tbody>\n",
              "</table>\n"
            ],
            "text/plain": [
              "<pandas.io.formats.style.Styler at 0x2017427ffd0>"
            ]
          },
          "execution_count": 94,
          "metadata": {},
          "output_type": "execute_result"
        }
      ],
      "source": [
        "# результат запроса\n",
        "df_5_1 = pd.read_sql_query(query_5_1, connection)\n",
        "df_5_1.style.hide(axis=\"index\") # прячем столбец индексов "
      ]
    },
    {
      "cell_type": "markdown",
      "id": "68377cfc-b378-43dc-ab7d-1195abf2c515",
      "metadata": {
        "id": "68377cfc-b378-43dc-ab7d-1195abf2c515"
      },
      "source": [
        "2. Напишите запрос, который для каждого региона выведет количество работодателей и вакансий в нём.\n",
        "Среди регионов, в которых нет вакансий, найдите тот, в котором наибольшее количество работодателей.\n"
      ]
    },
    {
      "cell_type": "code",
      "execution_count": 95,
      "id": "dd7df27a-e3e8-412e-a21a-5d389b71e891",
      "metadata": {
        "id": "dd7df27a-e3e8-412e-a21a-5d389b71e891"
      },
      "outputs": [],
      "source": [
        "# текст запроса\n",
        "query_5_2 = f'''select\n",
        "                       a.name\n",
        "                  from areas a\n",
        "             left join vacancies v\n",
        "                    on a.id = v.area_id\n",
        "                  join employers e\n",
        "                    on a.id =  e.area\n",
        "              group by a.name\n",
        "                having count(v.id) = 0\n",
        "              order by count(e.id) desc\n",
        "                 limit 1\n",
        "    \n",
        "'''       "
      ]
    },
    {
      "cell_type": "code",
      "execution_count": 96,
      "id": "x1ikWbydrbf6",
      "metadata": {
        "id": "x1ikWbydrbf6"
      },
      "outputs": [
        {
          "data": {
            "text/html": [
              "<style type=\"text/css\">\n",
              "</style>\n",
              "<table id=\"T_8d9d6\">\n",
              "  <thead>\n",
              "    <tr>\n",
              "      <th id=\"T_8d9d6_level0_col0\" class=\"col_heading level0 col0\" >name</th>\n",
              "    </tr>\n",
              "  </thead>\n",
              "  <tbody>\n",
              "    <tr>\n",
              "      <td id=\"T_8d9d6_row0_col0\" class=\"data row0 col0\" >Россия</td>\n",
              "    </tr>\n",
              "  </tbody>\n",
              "</table>\n"
            ],
            "text/plain": [
              "<pandas.io.formats.style.Styler at 0x20172d431f0>"
            ]
          },
          "execution_count": 96,
          "metadata": {},
          "output_type": "execute_result"
        }
      ],
      "source": [
        "# результат запроса\n",
        "df_5_2 = pd.read_sql_query(query_5_2, connection)\n",
        "df_5_2.style.hide(axis=\"index\") # прячем столбец индексов "
      ]
    },
    {
      "cell_type": "markdown",
      "id": "f2fe0acb-ab1a-4e15-9326-2560e22d73c1",
      "metadata": {
        "id": "f2fe0acb-ab1a-4e15-9326-2560e22d73c1"
      },
      "source": [
        "3. Для каждого работодателя посчитайте количество регионов, в которых он публикует свои вакансии. Отсортируйте результат по убыванию количества.\n"
      ]
    },
    {
      "cell_type": "code",
      "execution_count": 75,
      "id": "6271f8ad-bd2e-4196-ae4a-5b39c4c1010e",
      "metadata": {
        "id": "6271f8ad-bd2e-4196-ae4a-5b39c4c1010e"
      },
      "outputs": [],
      "source": [
        "# текст запроса\n",
        "query_5_3 = f'''select\n",
        "                       e.name,\n",
        "                       count(distinct v.area_id) cnt\n",
        "                  from vacancies v\n",
        "                  join employers e\n",
        "                    on e.id = v.employer_id\n",
        "              group by e.id\n",
        "              order by cnt desc\n",
        "                 limit 5\n",
        "                \n",
        "'''       "
      ]
    },
    {
      "cell_type": "code",
      "execution_count": 79,
      "id": "1EIvX3HasH4F",
      "metadata": {
        "id": "1EIvX3HasH4F"
      },
      "outputs": [
        {
          "data": {
            "text/html": [
              "<style type=\"text/css\">\n",
              "</style>\n",
              "<table id=\"T_c5f6e\">\n",
              "  <thead>\n",
              "    <tr>\n",
              "      <th id=\"T_c5f6e_level0_col0\" class=\"col_heading level0 col0\" >name</th>\n",
              "      <th id=\"T_c5f6e_level0_col1\" class=\"col_heading level0 col1\" >cnt</th>\n",
              "    </tr>\n",
              "  </thead>\n",
              "  <tbody>\n",
              "    <tr>\n",
              "      <td id=\"T_c5f6e_row0_col0\" class=\"data row0 col0\" >Яндекс</td>\n",
              "      <td id=\"T_c5f6e_row0_col1\" class=\"data row0 col1\" >181</td>\n",
              "    </tr>\n",
              "    <tr>\n",
              "      <td id=\"T_c5f6e_row1_col0\" class=\"data row1 col0\" >Ростелеком</td>\n",
              "      <td id=\"T_c5f6e_row1_col1\" class=\"data row1 col1\" >152</td>\n",
              "    </tr>\n",
              "    <tr>\n",
              "      <td id=\"T_c5f6e_row2_col0\" class=\"data row2 col0\" >Спецремонт</td>\n",
              "      <td id=\"T_c5f6e_row2_col1\" class=\"data row2 col1\" >116</td>\n",
              "    </tr>\n",
              "    <tr>\n",
              "      <td id=\"T_c5f6e_row3_col0\" class=\"data row3 col0\" >Поляков Денис Иванович</td>\n",
              "      <td id=\"T_c5f6e_row3_col1\" class=\"data row3 col1\" >88</td>\n",
              "    </tr>\n",
              "    <tr>\n",
              "      <td id=\"T_c5f6e_row4_col0\" class=\"data row4 col0\" >ООО ЕФИН </td>\n",
              "      <td id=\"T_c5f6e_row4_col1\" class=\"data row4 col1\" >71</td>\n",
              "    </tr>\n",
              "  </tbody>\n",
              "</table>\n"
            ],
            "text/plain": [
              "<pandas.io.formats.style.Styler at 0x20172b28160>"
            ]
          },
          "execution_count": 79,
          "metadata": {},
          "output_type": "execute_result"
        }
      ],
      "source": [
        "# результат запроса\n",
        "df_5_3 = pd.read_sql_query(query_5_3, connection)\n",
        "df_5_3.style.hide(axis=\"index\")"
      ]
    },
    {
      "cell_type": "markdown",
      "id": "eab2206d-d95b-468b-8e5f-34381abf0ce7",
      "metadata": {
        "id": "eab2206d-d95b-468b-8e5f-34381abf0ce7"
      },
      "source": [
        "4. Напишите запрос для подсчёта количества работодателей, у которых не указана сфера деятельности. "
      ]
    },
    {
      "cell_type": "code",
      "execution_count": 63,
      "id": "80defb23-bfb1-4a18-8be6-bf36aa7165d5",
      "metadata": {
        "id": "80defb23-bfb1-4a18-8be6-bf36aa7165d5"
      },
      "outputs": [],
      "source": [
        "# текст запроса\n",
        "query_5_4 = f'''select\n",
        "                       count(e.id) \"Количество работодателей без сферы\"\n",
        "                  from employers e\n",
        "             left join employers_industries ei\n",
        "                    on e.id = ei.employer_id\n",
        "                 where ei.employer_id is null\n",
        "'''       "
      ]
    },
    {
      "cell_type": "code",
      "execution_count": 97,
      "id": "Dp_yCx6ysQSu",
      "metadata": {
        "id": "Dp_yCx6ysQSu"
      },
      "outputs": [
        {
          "data": {
            "text/html": [
              "<style type=\"text/css\">\n",
              "</style>\n",
              "<table id=\"T_2c0bf\">\n",
              "  <thead>\n",
              "    <tr>\n",
              "      <th id=\"T_2c0bf_level0_col0\" class=\"col_heading level0 col0\" >Количество работодателей без сфер</th>\n",
              "    </tr>\n",
              "  </thead>\n",
              "  <tbody>\n",
              "    <tr>\n",
              "      <td id=\"T_2c0bf_row0_col0\" class=\"data row0 col0\" >8419</td>\n",
              "    </tr>\n",
              "  </tbody>\n",
              "</table>\n"
            ],
            "text/plain": [
              "<pandas.io.formats.style.Styler at 0x20174282050>"
            ]
          },
          "execution_count": 97,
          "metadata": {},
          "output_type": "execute_result"
        }
      ],
      "source": [
        "# результат запроса\n",
        "df_5_4 = pd.read_sql_query(query_5_4, connection)\n",
        "df_5_4.style.hide(axis=\"index\") # прячем столбец индексов "
      ]
    },
    {
      "cell_type": "markdown",
      "id": "0112af31-f6b0-4e3b-82ab-71296e752e5e",
      "metadata": {
        "id": "0112af31-f6b0-4e3b-82ab-71296e752e5e"
      },
      "source": [
        "5. Напишите запрос, чтобы узнать название компании, находящейся на третьем месте в алфавитном списке (по названию) компаний, у которых указано четыре сферы деятельности. "
      ]
    },
    {
      "cell_type": "code",
      "execution_count": 98,
      "id": "973b0cfc-a972-470a-8b4a-68744ef220c4",
      "metadata": {
        "id": "973b0cfc-a972-470a-8b4a-68744ef220c4"
      },
      "outputs": [],
      "source": [
        "# текст запроса\n",
        "query_5_5 = f'''select\n",
        "                       e.name\n",
        "                  from employers e\n",
        "                  join employers_industries ei\n",
        "                    on e.id = ei.employer_id\n",
        "              group by e.name\n",
        "                having count(ei.industry_id) = 4\n",
        "              order by e.name\n",
        "                offset 2\n",
        "                 limit 1\n",
        "'''       "
      ]
    },
    {
      "cell_type": "code",
      "execution_count": 99,
      "id": "xsPtpp8EsaED",
      "metadata": {
        "id": "xsPtpp8EsaED"
      },
      "outputs": [
        {
          "data": {
            "text/html": [
              "<style type=\"text/css\">\n",
              "</style>\n",
              "<table id=\"T_60b4e\">\n",
              "  <thead>\n",
              "    <tr>\n",
              "      <th id=\"T_60b4e_level0_col0\" class=\"col_heading level0 col0\" >name</th>\n",
              "    </tr>\n",
              "  </thead>\n",
              "  <tbody>\n",
              "    <tr>\n",
              "      <td id=\"T_60b4e_row0_col0\" class=\"data row0 col0\" >2ГИС</td>\n",
              "    </tr>\n",
              "  </tbody>\n",
              "</table>\n"
            ],
            "text/plain": [
              "<pandas.io.formats.style.Styler at 0x20174283ca0>"
            ]
          },
          "execution_count": 99,
          "metadata": {},
          "output_type": "execute_result"
        }
      ],
      "source": [
        "# результат запроса\n",
        "df_5_5 = pd.read_sql_query(query_5_5, connection)\n",
        "df_5_5.style.hide(axis=\"index\") # прячем столбец индексов "
      ]
    },
    {
      "cell_type": "markdown",
      "id": "3bfcfdaf-755d-4d2b-8ed8-326201dc07ab",
      "metadata": {
        "id": "3bfcfdaf-755d-4d2b-8ed8-326201dc07ab"
      },
      "source": [
        "6. С помощью запроса выясните, у какого количества работодателей в качестве сферы деятельности указана Разработка программного обеспечения.\n"
      ]
    },
    {
      "cell_type": "code",
      "execution_count": 101,
      "id": "ad3f270f-2991-47eb-929b-e8f88a55b0d1",
      "metadata": {
        "id": "ad3f270f-2991-47eb-929b-e8f88a55b0d1"
      },
      "outputs": [],
      "source": [
        "# текст запроса\n",
        "query_5_6 = f'''select\n",
        "                       count(e.name)\n",
        "                  from employers e\n",
        "                  join employers_industries ei\n",
        "                    on e.id = ei.employer_id\n",
        "                  join industries i\n",
        "                    on i.id = ei.industry_id\n",
        "                 where i.name = 'Разработка программного обеспечения'\n",
        "'''"
      ]
    },
    {
      "cell_type": "code",
      "execution_count": 102,
      "id": "H72qxWM0shPR",
      "metadata": {
        "id": "H72qxWM0shPR"
      },
      "outputs": [
        {
          "data": {
            "text/html": [
              "<style type=\"text/css\">\n",
              "</style>\n",
              "<table id=\"T_49bdd\">\n",
              "  <thead>\n",
              "    <tr>\n",
              "      <th id=\"T_49bdd_level0_col0\" class=\"col_heading level0 col0\" >count</th>\n",
              "    </tr>\n",
              "  </thead>\n",
              "  <tbody>\n",
              "    <tr>\n",
              "      <td id=\"T_49bdd_row0_col0\" class=\"data row0 col0\" >3553</td>\n",
              "    </tr>\n",
              "  </tbody>\n",
              "</table>\n"
            ],
            "text/plain": [
              "<pandas.io.formats.style.Styler at 0x20172aecbb0>"
            ]
          },
          "execution_count": 102,
          "metadata": {},
          "output_type": "execute_result"
        }
      ],
      "source": [
        "# результат запроса\n",
        "df_5_6 = pd.read_sql_query(query_5_6, connection)\n",
        "df_5_6.style.hide(axis=\"index\") # прячем столбец индексов "
      ]
    },
    {
      "attachments": {},
      "cell_type": "markdown",
      "id": "7b02bb86-0546-40fb-94a4-242f050a5c57",
      "metadata": {
        "id": "7b02bb86-0546-40fb-94a4-242f050a5c57"
      },
      "source": [
        "7. Для компании «Яндекс» выведите список регионов-миллионников, в которых представлены вакансии компании, вместе с количеством вакансий в этих регионах. Также добавьте строку Total с общим количеством вакансий компании. Результат отсортируйте по возрастанию количества.\n",
        "\n",
        "Список городов-милионников надо взять [отсюда](https://ru.wikipedia.org/wiki/%%D0%93%%D0%%BE%D1%80%D0%BE%D0%B4%D0%B0-%D0%BC%D0%B8%D0%BB%D0%BB%D0%B8%D0%BE%D0%BD%D0%B5%D1%80%D1%8B_%D0%A0%D0%BE%D1%81%D1%81%D0%B8%D0%B8). \n",
        "\n",
        "Если возникнут трудности с этим задание посмотрите материалы модуля  PYTHON-17. Как получать данные из веб-источников и API. "
      ]
    },
    {
      "cell_type": "code",
      "execution_count": 19,
      "id": "ZdfrL6gIs1Pn",
      "metadata": {
        "id": "ZdfrL6gIs1Pn"
      },
      "outputs": [
        {
          "data": {
            "text/plain": [
              "('Москва',\n",
              " 'Санкт-Петербург',\n",
              " 'Новосибирск',\n",
              " 'Красноярск',\n",
              " 'Екатеринбург',\n",
              " 'Нижний Новгород',\n",
              " 'Самара',\n",
              " 'Казань',\n",
              " 'Пермь',\n",
              " 'Омск',\n",
              " 'Челябинск',\n",
              " 'Ростов-на-Дону',\n",
              " 'Волгоград',\n",
              " 'Уфа',\n",
              " 'Воронеж',\n",
              " 'Краснодар')"
            ]
          },
          "execution_count": 19,
          "metadata": {},
          "output_type": "execute_result"
        }
      ],
      "source": [
        "# код для получения списка городов-милионников\n",
        "url = 'https://ru.wikipedia.org/wiki/%D0%93%D0%BE%D1%80%D0%BE%D0%B4%D0%B0-%D0%BC%D0%B8%D0%BB%D0%BB%D0%B8%D0%BE%D0%BD%D0%B5%D1%80%D1%8B_%D0%A0%D0%BE%D1%81%D1%81%D0%B8%D0%B8#%D0%A1%D0%BF%D0%B8%D1%81%D0%BE%D0%BA_%D0%B3%D0%BE%D1%80%D0%BE%D0%B4%D0%BE%D0%B2-%D0%BC%D0%B8%D0%BB%D0%BB%D0%B8%D0%BE%D0%BD%D0%B5%D1%80%D0%BE%D0%B2'\n",
        "response = requests.get(url)\n",
        "page = BeautifulSoup(response.text, 'html.parser')\n",
        "links = page.find_all('a')\n",
        "cities_bill = [link.text for link in links[96:112]]\n",
        "cities_bill = tuple(cities_bill)\n",
        "cities_bill"
      ]
    },
    {
      "cell_type": "code",
      "execution_count": 16,
      "id": "5a0e32a4-e68a-4365-8a39-2fe24c542c36",
      "metadata": {
        "id": "5a0e32a4-e68a-4365-8a39-2fe24c542c36"
      },
      "outputs": [],
      "source": [
        "# текст запроса\n",
        "query_5_7 = f'''select\n",
        "                       a.name,\n",
        "                       count(v.id) cnt\n",
        "                  from areas a\n",
        "                  join vacancies v\n",
        "                    on a.id = v.area_id\n",
        "                  join employers e\n",
        "                    on e.id = v.employer_id\n",
        "                 where e.name = 'Яндекс'\n",
        "                   and a.name in {cities_bill}\n",
        "                 group by a.name\n",
        "                 union\n",
        "                select\n",
        "                       'total',\n",
        "                       count(v.id)\n",
        "                  from areas a\n",
        "                  join vacancies v\n",
        "                    on a.id = v.area_id\n",
        "                  join employers e\n",
        "                    on e.id = v.employer_id\n",
        "                 where e.name = 'Яндекс'\n",
        "                   and a.name in {cities_bill}\n",
        "              order by cnt    \n",
        "'''"
      ]
    },
    {
      "cell_type": "code",
      "execution_count": 17,
      "id": "ttPhiO1rsvPq",
      "metadata": {
        "id": "ttPhiO1rsvPq"
      },
      "outputs": [
        {
          "data": {
            "text/html": [
              "<style type=\"text/css\">\n",
              "</style>\n",
              "<table id=\"T_6f584\">\n",
              "  <thead>\n",
              "    <tr>\n",
              "      <th id=\"T_6f584_level0_col0\" class=\"col_heading level0 col0\" >name</th>\n",
              "      <th id=\"T_6f584_level0_col1\" class=\"col_heading level0 col1\" >cnt</th>\n",
              "    </tr>\n",
              "  </thead>\n",
              "  <tbody>\n",
              "    <tr>\n",
              "      <td id=\"T_6f584_row0_col0\" class=\"data row0 col0\" >Омск</td>\n",
              "      <td id=\"T_6f584_row0_col1\" class=\"data row0 col1\" >21</td>\n",
              "    </tr>\n",
              "    <tr>\n",
              "      <td id=\"T_6f584_row1_col0\" class=\"data row1 col0\" >Челябинск</td>\n",
              "      <td id=\"T_6f584_row1_col1\" class=\"data row1 col1\" >22</td>\n",
              "    </tr>\n",
              "    <tr>\n",
              "      <td id=\"T_6f584_row2_col0\" class=\"data row2 col0\" >Красноярск</td>\n",
              "      <td id=\"T_6f584_row2_col1\" class=\"data row2 col1\" >23</td>\n",
              "    </tr>\n",
              "    <tr>\n",
              "      <td id=\"T_6f584_row3_col0\" class=\"data row3 col0\" >Волгоград</td>\n",
              "      <td id=\"T_6f584_row3_col1\" class=\"data row3 col1\" >24</td>\n",
              "    </tr>\n",
              "    <tr>\n",
              "      <td id=\"T_6f584_row4_col0\" class=\"data row4 col0\" >Пермь</td>\n",
              "      <td id=\"T_6f584_row4_col1\" class=\"data row4 col1\" >25</td>\n",
              "    </tr>\n",
              "    <tr>\n",
              "      <td id=\"T_6f584_row5_col0\" class=\"data row5 col0\" >Казань</td>\n",
              "      <td id=\"T_6f584_row5_col1\" class=\"data row5 col1\" >25</td>\n",
              "    </tr>\n",
              "    <tr>\n",
              "      <td id=\"T_6f584_row6_col0\" class=\"data row6 col0\" >Ростов-на-Дону</td>\n",
              "      <td id=\"T_6f584_row6_col1\" class=\"data row6 col1\" >25</td>\n",
              "    </tr>\n",
              "    <tr>\n",
              "      <td id=\"T_6f584_row7_col0\" class=\"data row7 col0\" >Уфа</td>\n",
              "      <td id=\"T_6f584_row7_col1\" class=\"data row7 col1\" >26</td>\n",
              "    </tr>\n",
              "    <tr>\n",
              "      <td id=\"T_6f584_row8_col0\" class=\"data row8 col0\" >Самара</td>\n",
              "      <td id=\"T_6f584_row8_col1\" class=\"data row8 col1\" >26</td>\n",
              "    </tr>\n",
              "    <tr>\n",
              "      <td id=\"T_6f584_row9_col0\" class=\"data row9 col0\" >Краснодар</td>\n",
              "      <td id=\"T_6f584_row9_col1\" class=\"data row9 col1\" >30</td>\n",
              "    </tr>\n",
              "    <tr>\n",
              "      <td id=\"T_6f584_row10_col0\" class=\"data row10 col0\" >Воронеж</td>\n",
              "      <td id=\"T_6f584_row10_col1\" class=\"data row10 col1\" >32</td>\n",
              "    </tr>\n",
              "    <tr>\n",
              "      <td id=\"T_6f584_row11_col0\" class=\"data row11 col0\" >Новосибирск</td>\n",
              "      <td id=\"T_6f584_row11_col1\" class=\"data row11 col1\" >35</td>\n",
              "    </tr>\n",
              "    <tr>\n",
              "      <td id=\"T_6f584_row12_col0\" class=\"data row12 col0\" >Нижний Новгород</td>\n",
              "      <td id=\"T_6f584_row12_col1\" class=\"data row12 col1\" >36</td>\n",
              "    </tr>\n",
              "    <tr>\n",
              "      <td id=\"T_6f584_row13_col0\" class=\"data row13 col0\" >Екатеринбург</td>\n",
              "      <td id=\"T_6f584_row13_col1\" class=\"data row13 col1\" >39</td>\n",
              "    </tr>\n",
              "    <tr>\n",
              "      <td id=\"T_6f584_row14_col0\" class=\"data row14 col0\" >Санкт-Петербург</td>\n",
              "      <td id=\"T_6f584_row14_col1\" class=\"data row14 col1\" >42</td>\n",
              "    </tr>\n",
              "    <tr>\n",
              "      <td id=\"T_6f584_row15_col0\" class=\"data row15 col0\" >Москва</td>\n",
              "      <td id=\"T_6f584_row15_col1\" class=\"data row15 col1\" >54</td>\n",
              "    </tr>\n",
              "    <tr>\n",
              "      <td id=\"T_6f584_row16_col0\" class=\"data row16 col0\" >total</td>\n",
              "      <td id=\"T_6f584_row16_col1\" class=\"data row16 col1\" >485</td>\n",
              "    </tr>\n",
              "  </tbody>\n",
              "</table>\n"
            ],
            "text/plain": [
              "<pandas.io.formats.style.Styler at 0x1c98c709e10>"
            ]
          },
          "execution_count": 17,
          "metadata": {},
          "output_type": "execute_result"
        }
      ],
      "source": [
        "# результат запроса\n",
        "df_5_7 = pd.read_sql_query(query_5_7, connection)\n",
        "df_5_7.style.hide(axis=\"index\") # прячем столбец индексов "
      ]
    },
    {
      "cell_type": "markdown",
      "id": "04966e40-3bc3-4dc8-9ba2-e80580ce3abc",
      "metadata": {
        "id": "04966e40-3bc3-4dc8-9ba2-e80580ce3abc"
      },
      "source": [
        "***"
      ]
    },
    {
      "cell_type": "code",
      "execution_count": 66,
      "id": "aGGyER-yt4SR",
      "metadata": {
        "id": "aGGyER-yt4SR"
      },
      "outputs": [],
      "source": [
        "# выводы по анализу работодателей"
      ]
    },
    {
      "cell_type": "markdown",
      "id": "b1ef156a-efcb-49ce-bb23-90763e7f35b2",
      "metadata": {
        "id": "b1ef156a-efcb-49ce-bb23-90763e7f35b2",
        "tags": []
      },
      "source": [
        "# Юнит 6. Предметный анализ"
      ]
    },
    {
      "cell_type": "markdown",
      "id": "b9cd50a0-992d-4988-8463-2b2b1c4629b4",
      "metadata": {
        "id": "b9cd50a0-992d-4988-8463-2b2b1c4629b4"
      },
      "source": [
        "1. Сколько вакансий имеет отношение к данным?\n",
        "\n",
        "Считаем, что вакансия имеет отношение к данным, если в её названии содержатся слова 'data' или 'данн'.\n",
        "\n",
        "*Подсказка: Обратите внимание, что названия вакансий могут быть написаны в любом регистре.* \n"
      ]
    },
    {
      "cell_type": "code",
      "execution_count": 112,
      "id": "54ab0e50-c0f1-47cc-a54b-bc5c8bc363f9",
      "metadata": {
        "id": "54ab0e50-c0f1-47cc-a54b-bc5c8bc363f9"
      },
      "outputs": [],
      "source": [
        "# текст запроса\n",
        "query_6_1 = f'''select\n",
        "                       count(id) \"Количество вакансий\"\n",
        "                  from vacancies v\n",
        "                 where lower(name)\n",
        "            similar to '%(data|данн)%'\n",
        "'''"
      ]
    },
    {
      "cell_type": "code",
      "execution_count": 113,
      "id": "9F1meAqsuUjd",
      "metadata": {
        "id": "9F1meAqsuUjd"
      },
      "outputs": [
        {
          "data": {
            "text/html": [
              "<style type=\"text/css\">\n",
              "</style>\n",
              "<table id=\"T_41afd\">\n",
              "  <thead>\n",
              "    <tr>\n",
              "      <th id=\"T_41afd_level0_col0\" class=\"col_heading level0 col0\" >Количество вакансий</th>\n",
              "    </tr>\n",
              "  </thead>\n",
              "  <tbody>\n",
              "    <tr>\n",
              "      <td id=\"T_41afd_row0_col0\" class=\"data row0 col0\" >1771</td>\n",
              "    </tr>\n",
              "  </tbody>\n",
              "</table>\n"
            ],
            "text/plain": [
              "<pandas.io.formats.style.Styler at 0x201742a6b00>"
            ]
          },
          "execution_count": 113,
          "metadata": {},
          "output_type": "execute_result"
        }
      ],
      "source": [
        "# результат запроса\n",
        "df_6_1 = pd.read_sql_query(sa.text(query_6_1), connection)\n",
        "df_6_1.style.hide(axis=\"index\") # прячем столбец индексов "
      ]
    },
    {
      "cell_type": "markdown",
      "id": "4dea20cb-a36b-474a-a0b9-e08e8e3857a5",
      "metadata": {
        "id": "4dea20cb-a36b-474a-a0b9-e08e8e3857a5"
      },
      "source": [
        "2. Сколько есть подходящих вакансий для начинающего дата-сайентиста? \n",
        "Будем считать вакансиями для дата-сайентистов такие, в названии которых есть хотя бы одно из следующих сочетаний:\n",
        "* 'data scientist'\n",
        "* 'data science'\n",
        "* 'исследователь данных'\n",
        "* 'ML' (здесь не нужно брать вакансии по HTML)\n",
        "* 'machine learning'\n",
        "* 'машинн%обучен%'\n",
        "\n",
        "** В следующих заданиях мы продолжим работать с вакансиями по этому условию.*\n",
        "\n",
        "Считаем вакансиями для специалистов уровня Junior следующие:\n",
        "* в названии есть слово 'junior' *или*\n",
        "* требуемый опыт — Нет опыта *или*\n",
        "* тип трудоустройства — Стажировка.\n",
        " "
      ]
    },
    {
      "cell_type": "code",
      "execution_count": 114,
      "id": "9c61b3c0-bb66-46c9-ae1e-81d3f5752b4a",
      "metadata": {
        "id": "9c61b3c0-bb66-46c9-ae1e-81d3f5752b4a"
      },
      "outputs": [],
      "source": [
        "ds_keyword = \"'_*(data scientist|data science|исследователь данных|ml|machine learning|машинн%обучен%)_*'\"\n",
        "query_6_2 = f'''select\n",
        "                       count(id)\n",
        "                  from vacancies v\n",
        "                 where replace(lower(name), 'html', '')\n",
        "            similar to {ds_keyword}\n",
        "                   and (lower(name) like '%junior%'\n",
        "                    or experience like 'Нет опыта'\n",
        "                    or employment like 'Стажировка')          \n",
        "'''"
      ]
    },
    {
      "cell_type": "code",
      "execution_count": 115,
      "id": "ZNM-LLYuu1dj",
      "metadata": {
        "id": "ZNM-LLYuu1dj"
      },
      "outputs": [
        {
          "data": {
            "text/html": [
              "<style type=\"text/css\">\n",
              "</style>\n",
              "<table id=\"T_ddb40\">\n",
              "  <thead>\n",
              "    <tr>\n",
              "      <th id=\"T_ddb40_level0_col0\" class=\"col_heading level0 col0\" >count</th>\n",
              "    </tr>\n",
              "  </thead>\n",
              "  <tbody>\n",
              "    <tr>\n",
              "      <td id=\"T_ddb40_row0_col0\" class=\"data row0 col0\" >51</td>\n",
              "    </tr>\n",
              "  </tbody>\n",
              "</table>\n"
            ],
            "text/plain": [
              "<pandas.io.formats.style.Styler at 0x201742a7df0>"
            ]
          },
          "execution_count": 115,
          "metadata": {},
          "output_type": "execute_result"
        }
      ],
      "source": [
        "# результат запроса\n",
        "df_6_2 = pd.read_sql_query(sa.text(query_6_2), connection)\n",
        "df_6_2.style.hide(axis=\"index\") # прячем столбец индексов "
      ]
    },
    {
      "attachments": {},
      "cell_type": "markdown",
      "id": "eedceb80-c5ca-480e-b27a-278dfb8b4438",
      "metadata": {
        "id": "eedceb80-c5ca-480e-b27a-278dfb8b4438"
      },
      "source": [
        "3. Сколько есть вакансий для DS, в которых в качестве ключевого навыка указан SQL или postgres?"
      ]
    },
    {
      "cell_type": "code",
      "execution_count": 116,
      "id": "69621713-0cc5-4f1b-a1d7-bb144fa6148c",
      "metadata": {
        "id": "69621713-0cc5-4f1b-a1d7-bb144fa6148c"
      },
      "outputs": [],
      "source": [
        "# текст запроса\n",
        "query_6_3 = f'''select\n",
        "                       count(id)\n",
        "                  from vacancies v\n",
        "                 where (replace(lower(name), 'html', '')\n",
        "            similar to {ds_keyword})\n",
        "                   and (lower(key_skills)\n",
        "            similar to '%(sql|postgres)%')           \n",
        "'''"
      ]
    },
    {
      "cell_type": "code",
      "execution_count": 117,
      "id": "alA8WEAAvGdf",
      "metadata": {
        "id": "alA8WEAAvGdf"
      },
      "outputs": [
        {
          "data": {
            "text/html": [
              "<style type=\"text/css\">\n",
              "</style>\n",
              "<table id=\"T_a790f\">\n",
              "  <thead>\n",
              "    <tr>\n",
              "      <th id=\"T_a790f_level0_col0\" class=\"col_heading level0 col0\" >count</th>\n",
              "    </tr>\n",
              "  </thead>\n",
              "  <tbody>\n",
              "    <tr>\n",
              "      <td id=\"T_a790f_row0_col0\" class=\"data row0 col0\" >229</td>\n",
              "    </tr>\n",
              "  </tbody>\n",
              "</table>\n"
            ],
            "text/plain": [
              "<pandas.io.formats.style.Styler at 0x201742a7fa0>"
            ]
          },
          "execution_count": 117,
          "metadata": {},
          "output_type": "execute_result"
        }
      ],
      "source": [
        "# результат запроса\n",
        "df_6_3 = pd.read_sql_query(sa.text(query_6_3), connection)\n",
        "df_6_3.style.hide(axis=\"index\") # прячем столбец индексов "
      ]
    },
    {
      "attachments": {},
      "cell_type": "markdown",
      "id": "1be1e9c6-37cf-4a5f-bfeb-04cab799dc80",
      "metadata": {
        "id": "1be1e9c6-37cf-4a5f-bfeb-04cab799dc80"
      },
      "source": [
        "4. Проверьте, насколько популярен Python в требованиях работодателей к DS. Для этого вычислите количество вакансий, в которых в качестве ключевого навыка указан Python.\n",
        "\n",
        "** Это можно сделать помощью запроса, аналогичного предыдущему.*"
      ]
    },
    {
      "cell_type": "code",
      "execution_count": 118,
      "id": "0036a355-9ccf-4564-8b01-73d8194297e7",
      "metadata": {
        "id": "0036a355-9ccf-4564-8b01-73d8194297e7"
      },
      "outputs": [],
      "source": [
        "# текст запроса\n",
        "query_6_4 = f'''select\n",
        "                       count(id)\n",
        "                  from vacancies v\n",
        "                 where (replace(lower(name), 'html', '')\n",
        "            similar to {ds_keyword})\n",
        "                   and (lower(key_skills)\n",
        "            similar to '%(python)%')\n",
        "'''"
      ]
    },
    {
      "cell_type": "code",
      "execution_count": 119,
      "id": "1i-5WyucvQ6v",
      "metadata": {
        "id": "1i-5WyucvQ6v"
      },
      "outputs": [
        {
          "data": {
            "text/html": [
              "<style type=\"text/css\">\n",
              "</style>\n",
              "<table id=\"T_0019a\">\n",
              "  <thead>\n",
              "    <tr>\n",
              "      <th id=\"T_0019a_level0_col0\" class=\"col_heading level0 col0\" >count</th>\n",
              "    </tr>\n",
              "  </thead>\n",
              "  <tbody>\n",
              "    <tr>\n",
              "      <td id=\"T_0019a_row0_col0\" class=\"data row0 col0\" >357</td>\n",
              "    </tr>\n",
              "  </tbody>\n",
              "</table>\n"
            ],
            "text/plain": [
              "<pandas.io.formats.style.Styler at 0x201742a6f50>"
            ]
          },
          "execution_count": 119,
          "metadata": {},
          "output_type": "execute_result"
        }
      ],
      "source": [
        "# результат запроса\n",
        "df_6_4 = pd.read_sql_query(sa.text(query_6_4), connection)\n",
        "df_6_4.style.hide(axis=\"index\") # прячем столбец индексов "
      ]
    },
    {
      "cell_type": "markdown",
      "id": "ec3c8db7-fa21-4a41-a994-1af63742a642",
      "metadata": {
        "id": "ec3c8db7-fa21-4a41-a994-1af63742a642"
      },
      "source": [
        "5. Сколько ключевых навыков в среднем указывают в вакансиях для DS?\n",
        "Ответ округлите до двух знаков после точки-разделителя."
      ]
    },
    {
      "cell_type": "code",
      "execution_count": 126,
      "id": "949132bc-d5b6-4611-8218-0b9a504d74f4",
      "metadata": {
        "id": "949132bc-d5b6-4611-8218-0b9a504d74f4"
      },
      "outputs": [],
      "source": [
        "# текст запроса\n",
        "query_6_5 = f'''select\n",
        "                       round(avg(length(key_skills) - length(replace(key_skills, chr(9), ''))+1), 2)\n",
        "                  from vacancies v\n",
        "                 where (replace(lower(name), 'html', '')\n",
        "            similar to {ds_keyword})\n",
        "'''"
      ]
    },
    {
      "cell_type": "code",
      "execution_count": 129,
      "id": "a3V24Tvmviqk",
      "metadata": {
        "id": "a3V24Tvmviqk"
      },
      "outputs": [
        {
          "data": {
            "text/html": [
              "<style type=\"text/css\">\n",
              "</style>\n",
              "<table id=\"T_c9088\">\n",
              "  <thead>\n",
              "    <tr>\n",
              "      <th id=\"T_c9088_level0_col0\" class=\"col_heading level0 col0\" >round</th>\n",
              "    </tr>\n",
              "  </thead>\n",
              "  <tbody>\n",
              "    <tr>\n",
              "      <td id=\"T_c9088_row0_col0\" class=\"data row0 col0\" >6.550000</td>\n",
              "    </tr>\n",
              "  </tbody>\n",
              "</table>\n"
            ],
            "text/plain": [
              "<pandas.io.formats.style.Styler at 0x201742a5660>"
            ]
          },
          "execution_count": 129,
          "metadata": {},
          "output_type": "execute_result"
        }
      ],
      "source": [
        "# результат запроса\n",
        "df_6_5 = pd.read_sql_query(sa.text(query_6_5), connection)\n",
        "df_6_5.style.hide(axis=\"index\") # прячем столбец индексов "
      ]
    },
    {
      "cell_type": "markdown",
      "id": "1041c17a-ca8f-4543-a0ca-32778914fb00",
      "metadata": {
        "id": "1041c17a-ca8f-4543-a0ca-32778914fb00"
      },
      "source": [
        "6. Напишите запрос, позволяющий вычислить, какую зарплату для DS в **среднем** указывают для каждого типа требуемого опыта (уникальное значение из поля *experience*). \n",
        "\n",
        "При решении задачи примите во внимание следующее:\n",
        "1. Рассматриваем только вакансии, у которых заполнено хотя бы одно из двух полей с зарплатой.\n",
        "2. Если заполнены оба поля с зарплатой, то считаем зарплату по каждой вакансии как сумму двух полей, делённую на 2. Если заполнено только одно из полей, то его и считаем зарплатой по вакансии.\n",
        "3. Если в расчётах участвует null, в результате он тоже даст null (посмотрите, что возвращает запрос select 1 + null). Чтобы избежать этой ситуацию, мы воспользуемся функцией [coalesce](https://postgrespro.ru/docs/postgresql/9.5/functions-conditional#functions-coalesce-nvl-ifnull), которая заменит null на значение, которое мы передадим. Например, посмотрите, что возвращает запрос `select 1 + coalesce(null, 0)`\n",
        "\n",
        "Выясните, на какую зарплату в среднем может рассчитывать дата-сайентист с опытом работы от 3 до 6 лет. Результат округлите до целого числа. "
      ]
    },
    {
      "cell_type": "code",
      "execution_count": 142,
      "id": "6a743d39-5204-48d3-8271-b9f88e68d40e",
      "metadata": {
        "id": "6a743d39-5204-48d3-8271-b9f88e68d40e"
      },
      "outputs": [],
      "source": [
        "# текст запроса\n",
        "query_6_6 = f'''select\n",
        "                       round(avg(coalesce((salary_from+salary_to)/2, salary_from, salary_to)), 0) \"Средняя зарплата\"\n",
        "                  from vacancies v\n",
        "                 where (replace(lower(name), 'html', '')\n",
        "            similar to {ds_keyword})\n",
        "                   and (salary_from is not null or salary_to is not null)\n",
        "              group by experience\n",
        "                having experience = 'От 3 до 6 лет'\n",
        "'''"
      ]
    },
    {
      "cell_type": "code",
      "execution_count": 143,
      "id": "aRIJ0mZEwU1_",
      "metadata": {
        "id": "aRIJ0mZEwU1_"
      },
      "outputs": [
        {
          "data": {
            "text/html": [
              "<style type=\"text/css\">\n",
              "</style>\n",
              "<table id=\"T_9a074\">\n",
              "  <thead>\n",
              "    <tr>\n",
              "      <th id=\"T_9a074_level0_col0\" class=\"col_heading level0 col0\" >Средняя зарплата</th>\n",
              "    </tr>\n",
              "  </thead>\n",
              "  <tbody>\n",
              "    <tr>\n",
              "      <td id=\"T_9a074_row0_col0\" class=\"data row0 col0\" >256454.000000</td>\n",
              "    </tr>\n",
              "  </tbody>\n",
              "</table>\n"
            ],
            "text/plain": [
              "<pandas.io.formats.style.Styler at 0x201747198a0>"
            ]
          },
          "execution_count": 143,
          "metadata": {},
          "output_type": "execute_result"
        }
      ],
      "source": [
        "# результат запроса\n",
        "df_6_6 = pd.read_sql_query(sa.text(query_6_6), connection)\n",
        "df_6_6.style.hide(axis=\"index\") # прячем столбец индексов "
      ]
    },
    {
      "cell_type": "markdown",
      "id": "6a7892b4-4113-4746-adce-18aa2844f18e",
      "metadata": {
        "id": "6a7892b4-4113-4746-adce-18aa2844f18e"
      },
      "source": [
        "***"
      ]
    },
    {
      "attachments": {},
      "cell_type": "markdown",
      "id": "UjLWUptVwY1o",
      "metadata": {
        "id": "UjLWUptVwY1o"
      },
      "source": [
        "**Выводы:**\n",
        "\n",
        "1. Анализ ваканчий выявил весьма небольшое количество (480) предложений для Data Science, а для таких, у кого нет опыта работы вобще 51. Таким образом можно сделать вывод, что рынок перенасыщен \"джунами\", что является сигналом для обрахзовательных организаций для ввода программ повышения квалификации и, прежде всего, направленных на приобретение практического опыта, в том числе создание \"песочниц\" для реализации pet-проектов.\n",
        "2. Небольшой спроса на неопытных датасайентистов подтверждается и анализом предлагаемой заработной платы - зарплата тех, кто отработатл по специальности более трёх лет, в 3 раза выше начинающего сотрудника.\n",
        "3. Меньщше половины (201) вакансий Data Science предполагают знание специалистами SQL или postgres, что обясняется развитием универсальных инструментов прогамирования, например, Python, знание которго требуется в 351 вакансии. В среднем работодатели вобще хотят видеть у своих сотрудников больше 6 'hard-skills\", что опять же является сигналов для школ и ВУЗов для расширения стэка выпускников, в тмо числе и в рамках дополнительной подготовки специалистов Data Science.\n",
        "4. В ходе анализа выявлено также небольшое отличе между выборкой вакансий, которые действительно тносятся к Data Science и от выборки, используемой для подготовки ответов на платформе (из-за упрощённого фильтра в неё попали другие специальности). Это обстоятельство может привести к невозможности найти правильные ответы на задания, а также некоторому искажению выводов настоящего анализа, что продемонстрировано в результах запросов в данной разделе."
      ]
    },
    {
      "cell_type": "markdown",
      "id": "c0ED6fh7wiBT",
      "metadata": {
        "id": "c0ED6fh7wiBT"
      },
      "source": [
        "# Общий вывод по проекту"
      ]
    },
    {
      "cell_type": "code",
      "execution_count": null,
      "id": "h9B3BL-wwj18",
      "metadata": {
        "id": "h9B3BL-wwj18"
      },
      "outputs": [],
      "source": [
        "# подведем итог исследования, обобщите выводы\n",
        "# здесь можно (это будет плюсом) провести дополнительные исследования данных, сделать прогнозы, продумать варианты продолжения исследования"
      ]
    }
  ],
  "metadata": {
    "colab": {
      "collapsed_sections": [
        "8d62a9f3-f64e-4fe7-bdac-c4dffa16155e"
      ],
      "provenance": []
    },
    "kernelspec": {
      "display_name": "Python 3",
      "language": "python",
      "name": "python3"
    },
    "language_info": {
      "codemirror_mode": {
        "name": "ipython",
        "version": 3
      },
      "file_extension": ".py",
      "mimetype": "text/x-python",
      "name": "python",
      "nbconvert_exporter": "python",
      "pygments_lexer": "ipython3",
      "version": "3.10.6"
    },
    "vscode": {
      "interpreter": {
        "hash": "369f2c481f4da34e4445cda3fffd2e751bd1c4d706f27375911949ba6bb62e1c"
      }
    }
  },
  "nbformat": 4,
  "nbformat_minor": 5
}
