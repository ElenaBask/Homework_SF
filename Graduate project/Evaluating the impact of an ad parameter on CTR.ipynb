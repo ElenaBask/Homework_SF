{
 "cells": [
  {
   "cell_type": "markdown",
   "metadata": {},
   "source": [
    "## **Описание задачи**\n",
    "\n",
    "Необходимо провести исследование и написать код, который будет оценивать степень влияния признаков на целевую метрику. В нашем случае, целевая метрика - CTR (кликабельность объявления - чем выше, тем лучше). \n",
    "\n",
    "Грубо говоря, вам нужно придумать (или использовать какой-то готовый) алгоритм(-ы), которые покажут - насколько при изменении значении каждого признака меняется значение целевой метрики. \n",
    "\n",
    "По итогу, на основании ваших расчетов, мы должны автоматически строить примерно такой график:\n",
    "\n",
    "![](\\images\\Example_graph.png)\n",
    "\n",
    "Здесь мы видим, что при изменении объектов CTR меняется довольно сильно, при изменении главного цвета - тоже довольно сильно, также и при изменении длины текста. Чуть меньше CTR зависит от вспомогательных цветов. Остальные признаки слабо влияют на изменение CTR. \n",
    "\n",
    "На данном графике % - некая условная величина, которую мы для себя вывели, она показывает степень влияния того или иного признака на целевую метрику. Сумма всех процентов не обязана равняться 100%."
   ]
  },
  {
   "cell_type": "markdown",
   "metadata": {},
   "source": [
    "**Таким образом, задача сводится к построению модели регрессионного анализа, предсказывающей изменение количества кликов при изменении того или иного параметра рекламного объявления, с последующей визуализации этой зависимости (динамический дашборд, показывающий важность каждого из признаков для целевой переменной)**"
   ]
  },
  {
   "cell_type": "markdown",
   "metadata": {},
   "source": [
    "## Описание признаков\n",
    "\n",
    "- **признаки**\n",
    "\n",
    "adtext_text - текст в теле объявления\n",
    "\n",
    "adtext_language - язык исходного текста в теле объявления\n",
    "\n",
    "adtext_eng - перевод текста на англ\n",
    "\n",
    "adtext_length - длина текста\n",
    "\n",
    "adtext_nouns - существительные в тексте\n",
    "\n",
    "adtext_verbs - глаголы в тексте\n",
    "\n",
    "adtext_adjs - прилагательные\n",
    "\n",
    "adtext_contains_cta - содержит ли текст призыв к действию (call to action)\n",
    "\n",
    "adtext_contains_question - содержит ли текст вопрос \n",
    "\n",
    "… - далее идет тоже самое для description (описание объялвения) и headline (заголовок объявления)\n",
    "\n",
    "cta_type - тип кнопки на объявлении\n",
    "\n",
    "image_text_present - есть ли на картинке текст\n",
    "\n",
    "image_text - текст на картинке\n",
    "\n",
    "image_eng_text - англ перевод текста\n",
    "\n",
    "image_text_area - объем текста\n",
    "\n",
    "image_text_length - длина текста\n",
    "\n",
    "image_language - язык текста\n",
    "\n",
    "image_text_contains_question - содержит вопрос?\n",
    "\n",
    "image_text_contains_cta - содерит CTA? \n",
    "\n",
    "image_nouns - сущ (массив)\n",
    "\n",
    "image_verbs - глаголы (массив)\n",
    "\n",
    "image_adjs - прилаг (массив)\n",
    "\n",
    "image_phrases - отдельные фразы (массив)\n",
    "\n",
    "image_color_main - главный цвет\n",
    "\n",
    "image_color_rest - дополнительные цвета  (массив)\n",
    "\n",
    "image_proportions - пропорции картинки\n",
    "\n",
    "image_objects - объекты  (массив)\n",
    "\n",
    "image_tags - дополнительные объекты  (массив)\n",
    "\n",
    "image_people_amount - кол-во людей на картинке\n",
    "\n",
    "image_clip - не берите этот признак в расчет\n",
    "\n",
    "image_clip_keywords - не берите этот признак в расчет\n",
    "\n",
    "- **целевая переменная**\n",
    "\n",
    "ctr - значение метрики CTR"
   ]
  },
  {
   "cell_type": "markdown",
   "metadata": {},
   "source": [
    "## ПРИМЕР ТАГГИРОВАНИЯ\n",
    "\n",
    "![](images\\tagging_example.jpg)"
   ]
  },
  {
   "cell_type": "code",
   "execution_count": 1693,
   "metadata": {},
   "outputs": [],
   "source": [
    "# Формируем среду`\n",
    "import pandas as pd\n",
    "import numpy as np\n",
    "\n",
    "import plotly.express as px\n",
    "import matplotlib.pyplot as plt\n",
    "\n",
    "import category_encoders as ce\n",
    "\n",
    "from scipy.stats import normaltest\n",
    "\n",
    "from sklearn.feature_selection import SelectKBest, f_regression\n",
    "from sklearn.model_selection import train_test_split, RandomizedSearchCV\n",
    "from sklearn.preprocessing import MinMaxScaler\n",
    "from sklearn.linear_model import LinearRegression\n",
    "from sklearn.metrics import mean_squared_error\n",
    "from sklearn.decomposition import PCA, TruncatedSVD\n",
    "from sklearn.tree import DecisionTreeRegressor\n",
    "from sklearn.ensemble import RandomForestRegressor, GradientBoostingRegressor\n",
    "\n",
    "import hyperopt\n",
    "from hyperopt import hp, fmin, tpe, Trials\n",
    "\n",
    "import warnings \n",
    "warnings.filterwarnings(\"ignore\")"
   ]
  },
  {
   "cell_type": "code",
   "execution_count": 1542,
   "metadata": {},
   "outputs": [],
   "source": [
    "# фиксируем RANDOM_SEED для воспроизводимоcти эксперимента\n",
    "RANDOM_STATE = 42"
   ]
  },
  {
   "cell_type": "markdown",
   "metadata": {},
   "source": [
    "## Получение и обзор данных"
   ]
  },
  {
   "cell_type": "code",
   "execution_count": 1543,
   "metadata": {},
   "outputs": [
    {
     "data": {
      "text/html": [
       "<div>\n",
       "<style scoped>\n",
       "    .dataframe tbody tr th:only-of-type {\n",
       "        vertical-align: middle;\n",
       "    }\n",
       "\n",
       "    .dataframe tbody tr th {\n",
       "        vertical-align: top;\n",
       "    }\n",
       "\n",
       "    .dataframe thead th {\n",
       "        text-align: right;\n",
       "    }\n",
       "</style>\n",
       "<table border=\"1\" class=\"dataframe\">\n",
       "  <thead>\n",
       "    <tr style=\"text-align: right;\">\n",
       "      <th></th>\n",
       "      <th>adtext_text</th>\n",
       "      <th>adtext_language</th>\n",
       "      <th>adtext_eng</th>\n",
       "      <th>adtext_length</th>\n",
       "      <th>adtext_nouns</th>\n",
       "      <th>adtext_verbs</th>\n",
       "      <th>adtext_adjs</th>\n",
       "      <th>adtext_contains_cta</th>\n",
       "      <th>adtext_contains_question</th>\n",
       "      <th>headline_text</th>\n",
       "      <th>...</th>\n",
       "      <th>image_phrases</th>\n",
       "      <th>image_color_main</th>\n",
       "      <th>image_color_rest</th>\n",
       "      <th>image_proportions</th>\n",
       "      <th>image_objects</th>\n",
       "      <th>image_tags</th>\n",
       "      <th>image_people_amount</th>\n",
       "      <th>image_clip</th>\n",
       "      <th>image_clip_keywords</th>\n",
       "      <th>ctr</th>\n",
       "    </tr>\n",
       "  </thead>\n",
       "  <tbody>\n",
       "    <tr>\n",
       "      <th>0</th>\n",
       "      <td>«This app contains everything that I wanted to...</td>\n",
       "      <td>en</td>\n",
       "      <td>This app contains everything that I wanted to ...</td>\n",
       "      <td>200</td>\n",
       "      <td>['kind', 'moon', 'spirituality', 'lot', 'calen...</td>\n",
       "      <td>['enjoy', 'introducing', 'wanted', 'contains',...</td>\n",
       "      <td>['favorite', 'different']</td>\n",
       "      <td>False</td>\n",
       "      <td>False</td>\n",
       "      <td>Magic in your pocket ✨👉</td>\n",
       "      <td>...</td>\n",
       "      <td>['hot apple cider', 'collect acorns', 'and nut...</td>\n",
       "      <td>#ccffff</td>\n",
       "      <td>['#6666cc']</td>\n",
       "      <td>2048x2048</td>\n",
       "      <td>['tableware']</td>\n",
       "      <td>['poster', 'illustration', 'font', 'product', ...</td>\n",
       "      <td>1</td>\n",
       "      <td>a mulato man with a notebook sitting at the ta...</td>\n",
       "      <td>['word1', 'word2', 'word3']</td>\n",
       "      <td>0.007162</td>\n",
       "    </tr>\n",
       "    <tr>\n",
       "      <th>1</th>\n",
       "      <td>✨ Follow Moon phases, receive positive affirma...</td>\n",
       "      <td>en</td>\n",
       "      <td>Follow Moon phases receive positive affirmati...</td>\n",
       "      <td>100</td>\n",
       "      <td>['moon', 'runes', 'affirmations', 'phases', 'a...</td>\n",
       "      <td>['follow', 'learn', 'receive']</td>\n",
       "      <td>['positive', 'moonly']</td>\n",
       "      <td>False</td>\n",
       "      <td>False</td>\n",
       "      <td>Try Moon Calendar 👉</td>\n",
       "      <td>...</td>\n",
       "      <td>['regret', 'anxiety', 'you', 'action', 'change...</td>\n",
       "      <td>#666666</td>\n",
       "      <td>['#333333', '#663333', '#999999', '#333300']</td>\n",
       "      <td>2048x2048</td>\n",
       "      <td>[]</td>\n",
       "      <td>['electric blue', 'landscape', 'font', 'slope'...</td>\n",
       "      <td>1</td>\n",
       "      <td>a mulato man with a notebook sitting at the ta...</td>\n",
       "      <td>['word1', 'word2', 'word3']</td>\n",
       "      <td>0.005659</td>\n",
       "    </tr>\n",
       "    <tr>\n",
       "      <th>2</th>\n",
       "      <td>✨ Follow Moon phases, receive positive affirma...</td>\n",
       "      <td>en</td>\n",
       "      <td>Follow Moon phases receive positive affirmati...</td>\n",
       "      <td>100</td>\n",
       "      <td>['moon', 'runes', 'affirmations', 'phases', 'a...</td>\n",
       "      <td>['follow', 'learn', 'receive']</td>\n",
       "      <td>['positive', 'moonly']</td>\n",
       "      <td>False</td>\n",
       "      <td>False</td>\n",
       "      <td>Try Moon Calendar 👉</td>\n",
       "      <td>...</td>\n",
       "      <td>['regret', 'anxiety', 'you', 'action', 'change...</td>\n",
       "      <td>#666666</td>\n",
       "      <td>['#333333', '#663333', '#999999', '#333300']</td>\n",
       "      <td>2048x2048</td>\n",
       "      <td>[]</td>\n",
       "      <td>['electric blue', 'landscape', 'font', 'slope'...</td>\n",
       "      <td>1</td>\n",
       "      <td>a mulato man with a notebook sitting at the ta...</td>\n",
       "      <td>['word1', 'word2', 'word3']</td>\n",
       "      <td>0.005659</td>\n",
       "    </tr>\n",
       "    <tr>\n",
       "      <th>3</th>\n",
       "      <td>«This app contains everything that I wanted to...</td>\n",
       "      <td>en</td>\n",
       "      <td>This app contains everything that I wanted to ...</td>\n",
       "      <td>200</td>\n",
       "      <td>['kind', 'moon', 'spirituality', 'lot', 'calen...</td>\n",
       "      <td>['enjoy', 'introducing', 'wanted', 'contains',...</td>\n",
       "      <td>['favorite', 'different']</td>\n",
       "      <td>False</td>\n",
       "      <td>False</td>\n",
       "      <td>Magic in your pocket ✨👉</td>\n",
       "      <td>...</td>\n",
       "      <td>['guide for little witches', 'n', 'moon calend...</td>\n",
       "      <td>#996633</td>\n",
       "      <td>['#663333', '#666666', '#996666', '#333333']</td>\n",
       "      <td>1280x1280</td>\n",
       "      <td>['packaged goods']</td>\n",
       "      <td>['carnivore', 'electric blue', 'small to mediu...</td>\n",
       "      <td>1</td>\n",
       "      <td>a mulato man with a notebook sitting at the ta...</td>\n",
       "      <td>['word1', 'word2', 'word3']</td>\n",
       "      <td>0.007388</td>\n",
       "    </tr>\n",
       "    <tr>\n",
       "      <th>4</th>\n",
       "      <td>«This app contains everything that I wanted to...</td>\n",
       "      <td>en</td>\n",
       "      <td>This app contains everything that I wanted to ...</td>\n",
       "      <td>200</td>\n",
       "      <td>['kind', 'moon', 'spirituality', 'lot', 'calen...</td>\n",
       "      <td>['enjoy', 'introducing', 'wanted', 'contains',...</td>\n",
       "      <td>['favorite', 'different']</td>\n",
       "      <td>False</td>\n",
       "      <td>False</td>\n",
       "      <td>Magic in your pocket ✨👉</td>\n",
       "      <td>...</td>\n",
       "      <td>['guide for little witches', 'n', 'moon calend...</td>\n",
       "      <td>#996633</td>\n",
       "      <td>['#663333', '#666666', '#996666', '#333333']</td>\n",
       "      <td>1280x1280</td>\n",
       "      <td>['packaged goods']</td>\n",
       "      <td>['carnivore', 'electric blue', 'small to mediu...</td>\n",
       "      <td>1</td>\n",
       "      <td>a mulato man with a notebook sitting at the ta...</td>\n",
       "      <td>['word1', 'word2', 'word3']</td>\n",
       "      <td>0.006329</td>\n",
       "    </tr>\n",
       "  </tbody>\n",
       "</table>\n",
       "<p>5 rows × 49 columns</p>\n",
       "</div>"
      ],
      "text/plain": [
       "                                         adtext_text adtext_language  \\\n",
       "0  «This app contains everything that I wanted to...              en   \n",
       "1  ✨ Follow Moon phases, receive positive affirma...              en   \n",
       "2  ✨ Follow Moon phases, receive positive affirma...              en   \n",
       "3  «This app contains everything that I wanted to...              en   \n",
       "4  «This app contains everything that I wanted to...              en   \n",
       "\n",
       "                                          adtext_eng  adtext_length  \\\n",
       "0  This app contains everything that I wanted to ...            200   \n",
       "1   Follow Moon phases receive positive affirmati...            100   \n",
       "2   Follow Moon phases receive positive affirmati...            100   \n",
       "3  This app contains everything that I wanted to ...            200   \n",
       "4  This app contains everything that I wanted to ...            200   \n",
       "\n",
       "                                        adtext_nouns  \\\n",
       "0  ['kind', 'moon', 'spirituality', 'lot', 'calen...   \n",
       "1  ['moon', 'runes', 'affirmations', 'phases', 'a...   \n",
       "2  ['moon', 'runes', 'affirmations', 'phases', 'a...   \n",
       "3  ['kind', 'moon', 'spirituality', 'lot', 'calen...   \n",
       "4  ['kind', 'moon', 'spirituality', 'lot', 'calen...   \n",
       "\n",
       "                                        adtext_verbs  \\\n",
       "0  ['enjoy', 'introducing', 'wanted', 'contains',...   \n",
       "1                     ['follow', 'learn', 'receive']   \n",
       "2                     ['follow', 'learn', 'receive']   \n",
       "3  ['enjoy', 'introducing', 'wanted', 'contains',...   \n",
       "4  ['enjoy', 'introducing', 'wanted', 'contains',...   \n",
       "\n",
       "                 adtext_adjs  adtext_contains_cta  adtext_contains_question  \\\n",
       "0  ['favorite', 'different']                False                     False   \n",
       "1     ['positive', 'moonly']                False                     False   \n",
       "2     ['positive', 'moonly']                False                     False   \n",
       "3  ['favorite', 'different']                False                     False   \n",
       "4  ['favorite', 'different']                False                     False   \n",
       "\n",
       "             headline_text  ...  \\\n",
       "0  Magic in your pocket ✨👉  ...   \n",
       "1      Try Moon Calendar 👉  ...   \n",
       "2      Try Moon Calendar 👉  ...   \n",
       "3  Magic in your pocket ✨👉  ...   \n",
       "4  Magic in your pocket ✨👉  ...   \n",
       "\n",
       "                                       image_phrases image_color_main  \\\n",
       "0  ['hot apple cider', 'collect acorns', 'and nut...          #ccffff   \n",
       "1  ['regret', 'anxiety', 'you', 'action', 'change...          #666666   \n",
       "2  ['regret', 'anxiety', 'you', 'action', 'change...          #666666   \n",
       "3  ['guide for little witches', 'n', 'moon calend...          #996633   \n",
       "4  ['guide for little witches', 'n', 'moon calend...          #996633   \n",
       "\n",
       "                               image_color_rest image_proportions  \\\n",
       "0                                   ['#6666cc']         2048x2048   \n",
       "1  ['#333333', '#663333', '#999999', '#333300']         2048x2048   \n",
       "2  ['#333333', '#663333', '#999999', '#333300']         2048x2048   \n",
       "3  ['#663333', '#666666', '#996666', '#333333']         1280x1280   \n",
       "4  ['#663333', '#666666', '#996666', '#333333']         1280x1280   \n",
       "\n",
       "        image_objects                                         image_tags  \\\n",
       "0       ['tableware']  ['poster', 'illustration', 'font', 'product', ...   \n",
       "1                  []  ['electric blue', 'landscape', 'font', 'slope'...   \n",
       "2                  []  ['electric blue', 'landscape', 'font', 'slope'...   \n",
       "3  ['packaged goods']  ['carnivore', 'electric blue', 'small to mediu...   \n",
       "4  ['packaged goods']  ['carnivore', 'electric blue', 'small to mediu...   \n",
       "\n",
       "   image_people_amount                                         image_clip  \\\n",
       "0                    1  a mulato man with a notebook sitting at the ta...   \n",
       "1                    1  a mulato man with a notebook sitting at the ta...   \n",
       "2                    1  a mulato man with a notebook sitting at the ta...   \n",
       "3                    1  a mulato man with a notebook sitting at the ta...   \n",
       "4                    1  a mulato man with a notebook sitting at the ta...   \n",
       "\n",
       "           image_clip_keywords       ctr  \n",
       "0  ['word1', 'word2', 'word3']  0.007162  \n",
       "1  ['word1', 'word2', 'word3']  0.005659  \n",
       "2  ['word1', 'word2', 'word3']  0.005659  \n",
       "3  ['word1', 'word2', 'word3']  0.007388  \n",
       "4  ['word1', 'word2', 'word3']  0.006329  \n",
       "\n",
       "[5 rows x 49 columns]"
      ]
     },
     "execution_count": 1543,
     "metadata": {},
     "output_type": "execute_result"
    }
   ],
   "source": [
    "df = pd.read_excel('data/tagging.xlsx')\n",
    "df.head()"
   ]
  },
  {
   "cell_type": "code",
   "execution_count": 1544,
   "metadata": {},
   "outputs": [
    {
     "data": {
      "text/plain": [
       "image_text_present              0\n",
       "image_text                      0\n",
       "image_eng_text                  0\n",
       "image_text_area                 0\n",
       "image_text_length               0\n",
       "image_language                  0\n",
       "image_text_contains_question    0\n",
       "image_text_contains_cta         0\n",
       "image_nouns                     0\n",
       "image_verbs                     0\n",
       "image_adjs                      0\n",
       "image_phrases                   0\n",
       "image_color_main                0\n",
       "image_color_rest                0\n",
       "image_proportions               0\n",
       "image_objects                   0\n",
       "image_tags                      0\n",
       "image_people_amount             0\n",
       "image_clip                      0\n",
       "image_clip_keywords             0\n",
       "ctr                             0\n",
       "dtype: int64"
      ]
     },
     "execution_count": 1544,
     "metadata": {},
     "output_type": "execute_result"
    }
   ],
   "source": [
    "df[df.columns[28:]].isna().sum()"
   ]
  },
  {
   "cell_type": "markdown",
   "metadata": {},
   "source": [
    "Правильно подобранные слова текста объявления (заголовков, тела, описания), конечно, должны сильно мотивировать клиента на клик по нему, но в данном проект ограничимся влиянием графических решений рекламы, кроме того в признаках текста достаточно много пропусков, поэтому оставим в данных только те столбцы, которые отвечают за картинку объявления"
   ]
  },
  {
   "cell_type": "code",
   "execution_count": 1545,
   "metadata": {},
   "outputs": [
    {
     "name": "stdout",
     "output_type": "stream",
     "text": [
      "<class 'pandas.core.frame.DataFrame'>\n",
      "RangeIndex: 399 entries, 0 to 398\n",
      "Data columns (total 21 columns):\n",
      " #   Column                        Non-Null Count  Dtype  \n",
      "---  ------                        --------------  -----  \n",
      " 0   image_text_present            399 non-null    bool   \n",
      " 1   image_text                    399 non-null    object \n",
      " 2   image_eng_text                399 non-null    object \n",
      " 3   image_text_area               399 non-null    int64  \n",
      " 4   image_text_length             399 non-null    int64  \n",
      " 5   image_language                399 non-null    object \n",
      " 6   image_text_contains_question  399 non-null    bool   \n",
      " 7   image_text_contains_cta       399 non-null    bool   \n",
      " 8   image_nouns                   399 non-null    object \n",
      " 9   image_verbs                   399 non-null    object \n",
      " 10  image_adjs                    399 non-null    object \n",
      " 11  image_phrases                 399 non-null    object \n",
      " 12  image_color_main              399 non-null    object \n",
      " 13  image_color_rest              399 non-null    object \n",
      " 14  image_proportions             399 non-null    object \n",
      " 15  image_objects                 399 non-null    object \n",
      " 16  image_tags                    399 non-null    object \n",
      " 17  image_people_amount           399 non-null    int64  \n",
      " 18  image_clip                    399 non-null    object \n",
      " 19  image_clip_keywords           399 non-null    object \n",
      " 20  ctr                           399 non-null    float64\n",
      "dtypes: bool(3), float64(1), int64(3), object(14)\n",
      "memory usage: 57.4+ KB\n"
     ]
    }
   ],
   "source": [
    "# Избавляемся от ненужных признаков и выводим информацию о датасете\n",
    "df = df[df.columns[28:]]\n",
    "df.info()"
   ]
  },
  {
   "cell_type": "markdown",
   "metadata": {},
   "source": [
    "В датасете 20 признаков, 14 из которых категориальные, 3 - числовые и 3 - булевые, 1 целевая переменнам (ctr), а также 399 наблюдений"
   ]
  },
  {
   "cell_type": "markdown",
   "metadata": {},
   "source": [
    "## Анализ и обработка данных"
   ]
  },
  {
   "cell_type": "code",
   "execution_count": 1546,
   "metadata": {},
   "outputs": [
    {
     "data": {
      "text/plain": [
       "0"
      ]
     },
     "execution_count": 1546,
     "metadata": {},
     "output_type": "execute_result"
    }
   ],
   "source": [
    "# Проверка на пропуски\n",
    "df.isnull().sum().sum()"
   ]
  },
  {
   "cell_type": "markdown",
   "metadata": {},
   "source": [
    "**Вывод**\n",
    "Пропуски в данных отсуствуют"
   ]
  },
  {
   "cell_type": "markdown",
   "metadata": {},
   "source": [
    "### Анализ признаков"
   ]
  },
  {
   "cell_type": "code",
   "execution_count": 1547,
   "metadata": {},
   "outputs": [
    {
     "data": {
      "text/html": [
       "<div>\n",
       "<style scoped>\n",
       "    .dataframe tbody tr th:only-of-type {\n",
       "        vertical-align: middle;\n",
       "    }\n",
       "\n",
       "    .dataframe tbody tr th {\n",
       "        vertical-align: top;\n",
       "    }\n",
       "\n",
       "    .dataframe thead th {\n",
       "        text-align: right;\n",
       "    }\n",
       "</style>\n",
       "<table border=\"1\" class=\"dataframe\">\n",
       "  <thead>\n",
       "    <tr style=\"text-align: right;\">\n",
       "      <th></th>\n",
       "      <th>mean</th>\n",
       "      <th>std</th>\n",
       "      <th>min</th>\n",
       "      <th>25%</th>\n",
       "      <th>50%</th>\n",
       "      <th>75%</th>\n",
       "      <th>max</th>\n",
       "    </tr>\n",
       "  </thead>\n",
       "  <tbody>\n",
       "    <tr>\n",
       "      <th>image_text_area</th>\n",
       "      <td>11.829574</td>\n",
       "      <td>4.529194</td>\n",
       "      <td>0.0</td>\n",
       "      <td>10.0</td>\n",
       "      <td>10.0</td>\n",
       "      <td>10.0</td>\n",
       "      <td>30.0</td>\n",
       "    </tr>\n",
       "    <tr>\n",
       "      <th>image_text_length</th>\n",
       "      <td>172.994987</td>\n",
       "      <td>125.197291</td>\n",
       "      <td>25.0</td>\n",
       "      <td>100.0</td>\n",
       "      <td>150.0</td>\n",
       "      <td>200.0</td>\n",
       "      <td>800.0</td>\n",
       "    </tr>\n",
       "    <tr>\n",
       "      <th>image_people_amount</th>\n",
       "      <td>1.000000</td>\n",
       "      <td>0.000000</td>\n",
       "      <td>1.0</td>\n",
       "      <td>1.0</td>\n",
       "      <td>1.0</td>\n",
       "      <td>1.0</td>\n",
       "      <td>1.0</td>\n",
       "    </tr>\n",
       "  </tbody>\n",
       "</table>\n",
       "</div>"
      ],
      "text/plain": [
       "                           mean         std   min    25%    50%    75%    max\n",
       "image_text_area       11.829574    4.529194   0.0   10.0   10.0   10.0   30.0\n",
       "image_text_length    172.994987  125.197291  25.0  100.0  150.0  200.0  800.0\n",
       "image_people_amount    1.000000    0.000000   1.0    1.0    1.0    1.0    1.0"
      ]
     },
     "execution_count": 1547,
     "metadata": {},
     "output_type": "execute_result"
    }
   ],
   "source": [
    "# Числовые признаки (без целевой переменныой - последний столбец)\n",
    "df.iloc[:, :-1].describe()[1:].T"
   ]
  },
  {
   "cell_type": "code",
   "execution_count": 1548,
   "metadata": {},
   "outputs": [
    {
     "data": {
      "text/html": [
       "<div>\n",
       "<style scoped>\n",
       "    .dataframe tbody tr th:only-of-type {\n",
       "        vertical-align: middle;\n",
       "    }\n",
       "\n",
       "    .dataframe tbody tr th {\n",
       "        vertical-align: top;\n",
       "    }\n",
       "\n",
       "    .dataframe thead th {\n",
       "        text-align: right;\n",
       "    }\n",
       "</style>\n",
       "<table border=\"1\" class=\"dataframe\">\n",
       "  <thead>\n",
       "    <tr style=\"text-align: right;\">\n",
       "      <th></th>\n",
       "      <th>unique</th>\n",
       "      <th>top</th>\n",
       "      <th>freq</th>\n",
       "    </tr>\n",
       "  </thead>\n",
       "  <tbody>\n",
       "    <tr>\n",
       "      <th>image_text_present</th>\n",
       "      <td>1</td>\n",
       "      <td>True</td>\n",
       "      <td>399</td>\n",
       "    </tr>\n",
       "    <tr>\n",
       "      <th>image_text_contains_question</th>\n",
       "      <td>1</td>\n",
       "      <td>False</td>\n",
       "      <td>399</td>\n",
       "    </tr>\n",
       "    <tr>\n",
       "      <th>image_text_contains_cta</th>\n",
       "      <td>2</td>\n",
       "      <td>False</td>\n",
       "      <td>364</td>\n",
       "    </tr>\n",
       "  </tbody>\n",
       "</table>\n",
       "</div>"
      ],
      "text/plain": [
       "                             unique    top freq\n",
       "image_text_present                1   True  399\n",
       "image_text_contains_question      1  False  399\n",
       "image_text_contains_cta           2  False  364"
      ]
     },
     "execution_count": 1548,
     "metadata": {},
     "output_type": "execute_result"
    }
   ],
   "source": [
    "# Булевы признаки\n",
    "df.describe(include='bool')[1:].T"
   ]
  },
  {
   "cell_type": "code",
   "execution_count": 1549,
   "metadata": {},
   "outputs": [
    {
     "data": {
      "text/html": [
       "<div>\n",
       "<style scoped>\n",
       "    .dataframe tbody tr th:only-of-type {\n",
       "        vertical-align: middle;\n",
       "    }\n",
       "\n",
       "    .dataframe tbody tr th {\n",
       "        vertical-align: top;\n",
       "    }\n",
       "\n",
       "    .dataframe thead th {\n",
       "        text-align: right;\n",
       "    }\n",
       "</style>\n",
       "<table border=\"1\" class=\"dataframe\">\n",
       "  <thead>\n",
       "    <tr style=\"text-align: right;\">\n",
       "      <th></th>\n",
       "      <th>unique</th>\n",
       "      <th>top</th>\n",
       "      <th>freq</th>\n",
       "    </tr>\n",
       "  </thead>\n",
       "  <tbody>\n",
       "    <tr>\n",
       "      <th>image_text</th>\n",
       "      <td>73</td>\n",
       "      <td>Guide for little witches\\nn\\nMoon Calendar\\nRu...</td>\n",
       "      <td>69</td>\n",
       "    </tr>\n",
       "    <tr>\n",
       "      <th>image_eng_text</th>\n",
       "      <td>73</td>\n",
       "      <td>Guide for little witches\\nn\\nMoon Calendar\\nRu...</td>\n",
       "      <td>69</td>\n",
       "    </tr>\n",
       "    <tr>\n",
       "      <th>image_language</th>\n",
       "      <td>2</td>\n",
       "      <td>en</td>\n",
       "      <td>394</td>\n",
       "    </tr>\n",
       "    <tr>\n",
       "      <th>image_nouns</th>\n",
       "      <td>60</td>\n",
       "      <td>['holidays', 'moon', 'sounds', 'calendar', 'wi...</td>\n",
       "      <td>86</td>\n",
       "    </tr>\n",
       "    <tr>\n",
       "      <th>image_verbs</th>\n",
       "      <td>54</td>\n",
       "      <td>[]</td>\n",
       "      <td>119</td>\n",
       "    </tr>\n",
       "    <tr>\n",
       "      <th>image_adjs</th>\n",
       "      <td>43</td>\n",
       "      <td>['runic', 'little', 'magical', 'ancient']</td>\n",
       "      <td>114</td>\n",
       "    </tr>\n",
       "    <tr>\n",
       "      <th>image_phrases</th>\n",
       "      <td>73</td>\n",
       "      <td>['guide for little witches', 'n', 'moon calend...</td>\n",
       "      <td>69</td>\n",
       "    </tr>\n",
       "    <tr>\n",
       "      <th>image_color_main</th>\n",
       "      <td>26</td>\n",
       "      <td>#333333</td>\n",
       "      <td>168</td>\n",
       "    </tr>\n",
       "    <tr>\n",
       "      <th>image_color_rest</th>\n",
       "      <td>70</td>\n",
       "      <td>['#663333', '#666666', '#996666', '#333333']</td>\n",
       "      <td>83</td>\n",
       "    </tr>\n",
       "    <tr>\n",
       "      <th>image_proportions</th>\n",
       "      <td>10</td>\n",
       "      <td>2048x2048</td>\n",
       "      <td>257</td>\n",
       "    </tr>\n",
       "    <tr>\n",
       "      <th>image_objects</th>\n",
       "      <td>15</td>\n",
       "      <td>[]</td>\n",
       "      <td>121</td>\n",
       "    </tr>\n",
       "    <tr>\n",
       "      <th>image_tags</th>\n",
       "      <td>80</td>\n",
       "      <td>['carnivore', 'electric blue', 'small to mediu...</td>\n",
       "      <td>69</td>\n",
       "    </tr>\n",
       "    <tr>\n",
       "      <th>image_clip</th>\n",
       "      <td>1</td>\n",
       "      <td>a mulato man with a notebook sitting at the ta...</td>\n",
       "      <td>399</td>\n",
       "    </tr>\n",
       "    <tr>\n",
       "      <th>image_clip_keywords</th>\n",
       "      <td>1</td>\n",
       "      <td>['word1', 'word2', 'word3']</td>\n",
       "      <td>399</td>\n",
       "    </tr>\n",
       "  </tbody>\n",
       "</table>\n",
       "</div>"
      ],
      "text/plain": [
       "                    unique                                                top  \\\n",
       "image_text              73  Guide for little witches\\nn\\nMoon Calendar\\nRu...   \n",
       "image_eng_text          73  Guide for little witches\\nn\\nMoon Calendar\\nRu...   \n",
       "image_language           2                                                 en   \n",
       "image_nouns             60  ['holidays', 'moon', 'sounds', 'calendar', 'wi...   \n",
       "image_verbs             54                                                 []   \n",
       "image_adjs              43          ['runic', 'little', 'magical', 'ancient']   \n",
       "image_phrases           73  ['guide for little witches', 'n', 'moon calend...   \n",
       "image_color_main        26                                            #333333   \n",
       "image_color_rest        70       ['#663333', '#666666', '#996666', '#333333']   \n",
       "image_proportions       10                                          2048x2048   \n",
       "image_objects           15                                                 []   \n",
       "image_tags              80  ['carnivore', 'electric blue', 'small to mediu...   \n",
       "image_clip               1  a mulato man with a notebook sitting at the ta...   \n",
       "image_clip_keywords      1                        ['word1', 'word2', 'word3']   \n",
       "\n",
       "                    freq  \n",
       "image_text            69  \n",
       "image_eng_text        69  \n",
       "image_language       394  \n",
       "image_nouns           86  \n",
       "image_verbs          119  \n",
       "image_adjs           114  \n",
       "image_phrases         69  \n",
       "image_color_main     168  \n",
       "image_color_rest      83  \n",
       "image_proportions    257  \n",
       "image_objects        121  \n",
       "image_tags            69  \n",
       "image_clip           399  \n",
       "image_clip_keywords  399  "
      ]
     },
     "execution_count": 1549,
     "metadata": {},
     "output_type": "execute_result"
    }
   ],
   "source": [
    "# Категориальные признаки\n",
    "df.describe(include='object')[1:].T"
   ]
  },
  {
   "cell_type": "code",
   "execution_count": 1550,
   "metadata": {},
   "outputs": [
    {
     "data": {
      "text/plain": [
       "image_language  image_text_contains_cta\n",
       "en              False                      0.907268\n",
       "                True                       0.080201\n",
       "fr              True                       0.007519\n",
       "                False                      0.005013\n",
       "Name: proportion, dtype: float64"
      ]
     },
     "execution_count": 1550,
     "metadata": {},
     "output_type": "execute_result"
    }
   ],
   "source": [
    "df[['image_language', 'image_text_contains_cta']].value_counts(normalize=True)"
   ]
  },
  {
   "cell_type": "code",
   "execution_count": 1551,
   "metadata": {},
   "outputs": [
    {
     "name": "stdout",
     "output_type": "stream",
     "text": [
      "image_text_present              60\n",
      "image_text                      60\n",
      "image_eng_text                  60\n",
      "image_text_area                 60\n",
      "image_text_length               60\n",
      "image_language                  60\n",
      "image_text_contains_question    60\n",
      "image_text_contains_cta         60\n",
      "image_nouns                     60\n",
      "image_verbs                     60\n",
      "image_adjs                      60\n",
      "image_phrases                   60\n",
      "image_color_main                60\n",
      "image_color_rest                60\n",
      "image_proportions               60\n",
      "image_objects                   60\n",
      "image_tags                      60\n",
      "image_people_amount             60\n",
      "image_clip                      60\n",
      "image_clip_keywords             60\n",
      "ctr                             60\n",
      "dtype: int64\n"
     ]
    }
   ],
   "source": [
    "df_dup = df[df.duplicated()]\n",
    "print(df_dup.count())"
   ]
  },
  {
   "cell_type": "markdown",
   "metadata": {},
   "source": [
    "**Выводы**\n",
    "\n",
    "1. Признаки `image_people_amount`, `image_clip`, `image_clip_keywords`, `image_text_present`, `image_text_contains_question` имеют только по одному значению, поэтому никак не влияют на целевую переменную и могут быть удалены\n",
    "2. Признаки `image_language`, `image_text_contains_cta` содержит по два значения, но одно из них сильно превалирует (более 90% наблюдений), поэтому необходимо проверить их влияние на целевую переменную и если оно незначительно, удалить их\n",
    "4. 60 наблюдений - это дубликаты, которые также подлежат удалению\n",
    "5. Значение признаков `image_nouns`, `image_verbs`, `image_adjs`, `image_phrases`, `image_color_rest`, `image_objects`, `image_tags` представляют собой завёрнутые в строку списки (масссивы) значений, в том числе и пустые, которые требуют преобразования\n",
    "6. В признаке `image_text_area` всего четыре уникальных знаыения, одно из которых (максимальное) встречается однажды, а следовательно с таким наблюдением тоже можно растаться, признав его выбросом, а сам признак может быть закодироован \n",
    "\n"
   ]
  },
  {
   "cell_type": "markdown",
   "metadata": {},
   "source": [
    "### Анализ целевой переменной"
   ]
  },
  {
   "cell_type": "code",
   "execution_count": 1552,
   "metadata": {},
   "outputs": [
    {
     "data": {
      "application/vnd.plotly.v1+json": {
       "config": {
        "plotlyServerURL": "https://plot.ly"
       },
       "data": [
        {
         "alignmentgroup": "True",
         "bingroup": "x",
         "hovertemplate": "ctr=%{x}<br>count=%{y}<extra></extra>",
         "legendgroup": "",
         "marker": {
          "color": "#636efa",
          "pattern": {
           "shape": ""
          }
         },
         "name": "",
         "offsetgroup": "",
         "orientation": "v",
         "showlegend": false,
         "type": "histogram",
         "x": [
          0.007162037577548482,
          0.005658790242410339,
          0.005658790242410339,
          0.007388466396389235,
          0.006328589926580409,
          0.007150629566298772,
          0.01021873619089704,
          0.01342737386614816,
          0.00995408758675757,
          0.00995408758675757,
          0.004890869836830743,
          0.007139008620689656,
          0.007029020808685365,
          0.003739993876033419,
          0.009179844545698205,
          0.009179844545698205,
          0.007158689270951896,
          0.007379924173306571,
          0.01829939460649422,
          0.008126817741153659,
          0.0196169579769431,
          0.01609773308635442,
          0.0100111234705228,
          0.0197835644234021,
          0.006116495718452997,
          0.006229406919275124,
          0.009364273988956872,
          0.005530129672006103,
          0.005530129672006103,
          0.005530129672006103,
          0.01347414420975965,
          0.006494655623982445,
          0.005797358390213634,
          0.006615822842966094,
          0.006615822842966094,
          0.009791477787851315,
          0.006190248142038703,
          0.006188118811881188,
          0.006188118811881188,
          0.008011223330307436,
          0.007474813129671758,
          0.007872982548222019,
          0.007294060478441774,
          0.007600417871580191,
          0.003651062720041726,
          0.005170304298062122,
          0.006901569314435986,
          0.01177625122669284,
          0.01010849364608971,
          0.006738367946908064,
          0.0154483533459729,
          0.005660676114321906,
          0.006479147659620529,
          0.004897595725734639,
          0.04858404780462458,
          0.00941492938802959,
          0.02331002331002331,
          0.004586060287584197,
          0.004586060287584197,
          0.004586060287584197,
          0.009789627161008124,
          0.01560499121474731,
          0.005094361468102351,
          0.02135963071758288,
          0.005784399649430325,
          0.005784399649430325,
          0.007771164021164021,
          0.00659223817118554,
          0.005394463136439152,
          0.007305264238421926,
          0.0113390829008846,
          0.006892173755327832,
          0.006892173755327832,
          0.006892173755327832,
          0.01880582980724024,
          0.005220167558056886,
          0.008247422680412371,
          0.009630818619582664,
          0.00499895855030202,
          0.004875044901729358,
          0.002863278453829635,
          0.002863278453829635,
          0.002578382838283828,
          0.008472753148322826,
          0.008472753148322826,
          0.00884011583600061,
          0.007177947984653066,
          0.006938067544128151,
          0.004550227511375569,
          0.004550227511375569,
          0.007833911662647767,
          0.006419007232275117,
          0.006419007232275117,
          0.005081874647092038,
          0.005081874647092038,
          0.005081874647092038,
          0.002162374680558286,
          0.01934589406327764,
          0.006612116703859823,
          0.006612116703859823,
          0.00834798679394244,
          0.00834798679394244,
          0.00834798679394244,
          0.01037433508441537,
          0.003297065611605671,
          0.01279863481228669,
          0.0164225477141589,
          0.005016445303673203,
          0.005016445303673203,
          0.004190180036986188,
          0.005693530970845195,
          0.004014528770789524,
          0.01174033149171271,
          0.006663705019991115,
          0.009988901220865706,
          0.008946144211844694,
          0.01065203357004519,
          0.006736135333100802,
          0.007495010403838804,
          0.009365757476174828,
          0.01795918367346939,
          0.007484629778134189,
          0.006823343115734178,
          0.008250311332503113,
          0.009543002785845535,
          0.009543002785845535,
          0.005381818181818182,
          0.007621931065483824,
          0.005728314238952537,
          0.01026208626166401,
          0.01502101821578702,
          0.005725020127023884,
          0.005725020127023884,
          0.00820379718612615,
          0.004942339373970346,
          0.004942339373970346,
          0.02064967734879142,
          0.005747468953238026,
          0.007738191197807513,
          0.007738191197807513,
          0.01958181733006449,
          0.003138485680659082,
          0.01143764892772041,
          0.004560562727061916,
          0.006311892935109312,
          0.006436539386581762,
          0.01502744533429317,
          0.007247526547820076,
          0.007247526547820076,
          0.008042282142390283,
          0.008302170794233166,
          0.007622956827677197,
          0.01321961620469083,
          0.007160327638323828,
          0.007173601147776184,
          0.01501547987616099,
          0.00898176471817884,
          0.007691006685122709,
          0.007172131147540984,
          0.00749063670411985,
          0.004852333313364884,
          0.005203948878855131,
          0.01470588235294118,
          0.0080646911187137,
          0.008579855214943248,
          0.008186815328837083,
          0.0273811744822818,
          0.01197533791795115,
          0.01020956475013434,
          0.009500777336327518,
          0.009500777336327518,
          0.007602197726251771,
          0.00704264404147951,
          0.004125674389082831,
          0.004125674389082831,
          0.004125674389082831,
          0.008696518404144045,
          0.01338357588357588,
          0.00868187950959113,
          0.00485124068670398,
          0.01213458356315499,
          0.0116193286610107,
          0.00973141300116777,
          0.0083347694621567,
          0.006371716520596512,
          0.009573542210617928,
          0.007926023778071334,
          0.007926023778071334,
          0.006260434056761269,
          0.007210031347962382,
          0.01186255794927734,
          0.007934415226406501,
          0.005637479350031793,
          0.004781420765027323,
          0.008440340499206464,
          0.01309303758471965,
          0.00568495854717726,
          0.00568495854717726,
          0.00568495854717726,
          0.01962533452274755,
          0.006970046082949309,
          0.02264097876529321,
          0.003536267964241259,
          0.008651199370821865,
          0.006836447134954598,
          0.008231021960919937,
          0.006525059003193114,
          0.004375683700578215,
          0.004375683700578215,
          0.004375683700578215,
          0.00787277819054695,
          0.00267379679144385,
          0.008200197935812243,
          0.008338360275196433,
          0.01613836777773995,
          0.01613836777773995,
          0.007026386981654921,
          0.002595619076969896,
          0.0094749309119621,
          0.002420838578483587,
          0.03962214641826292,
          0.00694524070828351,
          0.00694524070828351,
          0.008665585247161274,
          0.008665585247161274,
          0.007793860346747256,
          0.007571477003051192,
          0.006298498437972387,
          0.009574468085106383,
          0.01175648195221149,
          0.007566112545924121,
          0.007899913930898807,
          0.004792037844811698,
          0.008826402456042423,
          0.01873571972581874,
          0.01665266213429073,
          0.004916183107672469,
          0.005152596115735236,
          0.006393767913573896,
          0.005419856249634781,
          0.0104028063384541,
          0.0104028063384541,
          0.0104028063384541,
          0.01028898062877104,
          0.009812409812409812,
          0.005886225088484178,
          0.008829856888972032,
          0.007401924500370096,
          0.01743425831759407,
          0.007231133315803313,
          0.009214659685863874,
          0.006202804746494067,
          0.01164938201449069,
          0.004542532676237412,
          0.004542532676237412,
          0.004948839697719521,
          0.004948839697719521,
          0.003083847307884647,
          0.003083847307884647,
          0.003083847307884647,
          0.01824,
          0.005819100575941749,
          0.004402201100550275,
          0.004402201100550275,
          0.004915816640039326,
          0.007187780772686433,
          0.00900794818957904,
          0.00900794818957904,
          0.00900794818957904,
          0.03206941709235952,
          0.00676402767102229,
          0.006404708326120824,
          0.007851534618129907,
          0.03140884606630756,
          0.03140884606630756,
          0.008095740936290039,
          0.009911738330108085,
          0.005063087679819979,
          0.005463938009139678,
          0.005463938009139678,
          0.00920158550396376,
          0.00479570305006714,
          0.006076441635778088,
          0.002366412213740458,
          0.002366412213740458,
          0.002366412213740458,
          0.004638340127521689,
          0.004638340127521689,
          0.004552719523417446,
          0.01569130563505378,
          0.007160291272951924,
          0.005437658989636864,
          0.006565719471183787,
          0.006866866866866867,
          0.0107621736062103,
          0.007790028763183125,
          0.003736222678871661,
          0.003736222678871661,
          0.007412398921832884,
          0.008989233824605414,
          0.008982996470965673,
          0.00473260766682442,
          0.009194619444917418,
          0.006538729854681754,
          0.01018329938900204,
          0.004795557799091368,
          0.007363113168564088,
          0.004360797694975197,
          0.007793994039886911,
          0.00655391624822585,
          0.00655391624822585,
          0.00655391624822585,
          0.009484788421374696,
          0.00790857563790387,
          0.007820831852115179,
          0.006877192982456141,
          0.007590209846978123,
          0.009155071587013511,
          0.00921601334445371,
          0.01209433581939125,
          0.02055601623532493,
          0.017232890201871,
          0.01126058988552755,
          0.01126058988552755,
          0.002846143346059037,
          0.005784293394164659,
          0.004229763615109359,
          0.01326865458695962,
          0.004484304932735426,
          0.003936953678849198,
          0.006646842749693896,
          0.01936066820200328,
          0.006020602060206021,
          0.006623536660505237,
          0.008180971235588681,
          0.008180971235588681,
          0.008180971235588681,
          0.004565735711671069,
          0.005515498401843455,
          0.007681018392968239,
          0.01106059353558734,
          0.006402439024390244,
          0.009521142537104453,
          0.009184372858122002,
          0.02232026991954321,
          0.007530548451264564,
          0.008472768278930846,
          0.008661884965050938,
          0.01423982869379015,
          0.01423982869379015,
          0.02120642872051764,
          0.01066055594301086,
          0.01822774339355086,
          0.003861003861003861,
          0.003861003861003861,
          0.01107499699048995,
          0.01015388613539752,
          0.006936416184971098,
          0.01606829788855858,
          0.006025267249757046,
          0.009205702647657842,
          0.004452567930884244,
          0.01207935741778982,
          0.01227573182247403,
          0.00521816365049406,
          0.00705606994114205,
          0.05011072994919449,
          0.005868885042604991,
          0.005868885042604991,
          0.01474078700811992,
          0.002858691902015871,
          0.01659509751297191,
          0.005089695452649145,
          0.01998734310726717,
          0.004436094149574657,
          0.008918521084076543,
          0.01820804038218857,
          0.01604763827210335,
          0.003745828509160254,
          0.006149116064565719,
          0.02261247960214469,
          0.02261247960214469,
          0.002655952056660311,
          0.002655952056660311,
          0.002655952056660311,
          0.00832639467110741,
          0.0201671511627907,
          0.00835302408489823,
          0.008479067302596715,
          0.002215197673272207,
          0.008530685001273236,
          0.00789091315524757,
          0.006861957701032816,
          0.009086846417399076,
          0.009086846417399076,
          0.009086846417399076,
          0.008775802734953823,
          0.01230875417002186,
          0.009104829698299052
         ],
         "xaxis": "x",
         "yaxis": "y"
        },
        {
         "alignmentgroup": "True",
         "hovertemplate": "ctr=%{x}<extra></extra>",
         "legendgroup": "",
         "marker": {
          "color": "#636efa"
         },
         "name": "",
         "notched": true,
         "offsetgroup": "",
         "showlegend": false,
         "type": "box",
         "x": [
          0.007162037577548482,
          0.005658790242410339,
          0.005658790242410339,
          0.007388466396389235,
          0.006328589926580409,
          0.007150629566298772,
          0.01021873619089704,
          0.01342737386614816,
          0.00995408758675757,
          0.00995408758675757,
          0.004890869836830743,
          0.007139008620689656,
          0.007029020808685365,
          0.003739993876033419,
          0.009179844545698205,
          0.009179844545698205,
          0.007158689270951896,
          0.007379924173306571,
          0.01829939460649422,
          0.008126817741153659,
          0.0196169579769431,
          0.01609773308635442,
          0.0100111234705228,
          0.0197835644234021,
          0.006116495718452997,
          0.006229406919275124,
          0.009364273988956872,
          0.005530129672006103,
          0.005530129672006103,
          0.005530129672006103,
          0.01347414420975965,
          0.006494655623982445,
          0.005797358390213634,
          0.006615822842966094,
          0.006615822842966094,
          0.009791477787851315,
          0.006190248142038703,
          0.006188118811881188,
          0.006188118811881188,
          0.008011223330307436,
          0.007474813129671758,
          0.007872982548222019,
          0.007294060478441774,
          0.007600417871580191,
          0.003651062720041726,
          0.005170304298062122,
          0.006901569314435986,
          0.01177625122669284,
          0.01010849364608971,
          0.006738367946908064,
          0.0154483533459729,
          0.005660676114321906,
          0.006479147659620529,
          0.004897595725734639,
          0.04858404780462458,
          0.00941492938802959,
          0.02331002331002331,
          0.004586060287584197,
          0.004586060287584197,
          0.004586060287584197,
          0.009789627161008124,
          0.01560499121474731,
          0.005094361468102351,
          0.02135963071758288,
          0.005784399649430325,
          0.005784399649430325,
          0.007771164021164021,
          0.00659223817118554,
          0.005394463136439152,
          0.007305264238421926,
          0.0113390829008846,
          0.006892173755327832,
          0.006892173755327832,
          0.006892173755327832,
          0.01880582980724024,
          0.005220167558056886,
          0.008247422680412371,
          0.009630818619582664,
          0.00499895855030202,
          0.004875044901729358,
          0.002863278453829635,
          0.002863278453829635,
          0.002578382838283828,
          0.008472753148322826,
          0.008472753148322826,
          0.00884011583600061,
          0.007177947984653066,
          0.006938067544128151,
          0.004550227511375569,
          0.004550227511375569,
          0.007833911662647767,
          0.006419007232275117,
          0.006419007232275117,
          0.005081874647092038,
          0.005081874647092038,
          0.005081874647092038,
          0.002162374680558286,
          0.01934589406327764,
          0.006612116703859823,
          0.006612116703859823,
          0.00834798679394244,
          0.00834798679394244,
          0.00834798679394244,
          0.01037433508441537,
          0.003297065611605671,
          0.01279863481228669,
          0.0164225477141589,
          0.005016445303673203,
          0.005016445303673203,
          0.004190180036986188,
          0.005693530970845195,
          0.004014528770789524,
          0.01174033149171271,
          0.006663705019991115,
          0.009988901220865706,
          0.008946144211844694,
          0.01065203357004519,
          0.006736135333100802,
          0.007495010403838804,
          0.009365757476174828,
          0.01795918367346939,
          0.007484629778134189,
          0.006823343115734178,
          0.008250311332503113,
          0.009543002785845535,
          0.009543002785845535,
          0.005381818181818182,
          0.007621931065483824,
          0.005728314238952537,
          0.01026208626166401,
          0.01502101821578702,
          0.005725020127023884,
          0.005725020127023884,
          0.00820379718612615,
          0.004942339373970346,
          0.004942339373970346,
          0.02064967734879142,
          0.005747468953238026,
          0.007738191197807513,
          0.007738191197807513,
          0.01958181733006449,
          0.003138485680659082,
          0.01143764892772041,
          0.004560562727061916,
          0.006311892935109312,
          0.006436539386581762,
          0.01502744533429317,
          0.007247526547820076,
          0.007247526547820076,
          0.008042282142390283,
          0.008302170794233166,
          0.007622956827677197,
          0.01321961620469083,
          0.007160327638323828,
          0.007173601147776184,
          0.01501547987616099,
          0.00898176471817884,
          0.007691006685122709,
          0.007172131147540984,
          0.00749063670411985,
          0.004852333313364884,
          0.005203948878855131,
          0.01470588235294118,
          0.0080646911187137,
          0.008579855214943248,
          0.008186815328837083,
          0.0273811744822818,
          0.01197533791795115,
          0.01020956475013434,
          0.009500777336327518,
          0.009500777336327518,
          0.007602197726251771,
          0.00704264404147951,
          0.004125674389082831,
          0.004125674389082831,
          0.004125674389082831,
          0.008696518404144045,
          0.01338357588357588,
          0.00868187950959113,
          0.00485124068670398,
          0.01213458356315499,
          0.0116193286610107,
          0.00973141300116777,
          0.0083347694621567,
          0.006371716520596512,
          0.009573542210617928,
          0.007926023778071334,
          0.007926023778071334,
          0.006260434056761269,
          0.007210031347962382,
          0.01186255794927734,
          0.007934415226406501,
          0.005637479350031793,
          0.004781420765027323,
          0.008440340499206464,
          0.01309303758471965,
          0.00568495854717726,
          0.00568495854717726,
          0.00568495854717726,
          0.01962533452274755,
          0.006970046082949309,
          0.02264097876529321,
          0.003536267964241259,
          0.008651199370821865,
          0.006836447134954598,
          0.008231021960919937,
          0.006525059003193114,
          0.004375683700578215,
          0.004375683700578215,
          0.004375683700578215,
          0.00787277819054695,
          0.00267379679144385,
          0.008200197935812243,
          0.008338360275196433,
          0.01613836777773995,
          0.01613836777773995,
          0.007026386981654921,
          0.002595619076969896,
          0.0094749309119621,
          0.002420838578483587,
          0.03962214641826292,
          0.00694524070828351,
          0.00694524070828351,
          0.008665585247161274,
          0.008665585247161274,
          0.007793860346747256,
          0.007571477003051192,
          0.006298498437972387,
          0.009574468085106383,
          0.01175648195221149,
          0.007566112545924121,
          0.007899913930898807,
          0.004792037844811698,
          0.008826402456042423,
          0.01873571972581874,
          0.01665266213429073,
          0.004916183107672469,
          0.005152596115735236,
          0.006393767913573896,
          0.005419856249634781,
          0.0104028063384541,
          0.0104028063384541,
          0.0104028063384541,
          0.01028898062877104,
          0.009812409812409812,
          0.005886225088484178,
          0.008829856888972032,
          0.007401924500370096,
          0.01743425831759407,
          0.007231133315803313,
          0.009214659685863874,
          0.006202804746494067,
          0.01164938201449069,
          0.004542532676237412,
          0.004542532676237412,
          0.004948839697719521,
          0.004948839697719521,
          0.003083847307884647,
          0.003083847307884647,
          0.003083847307884647,
          0.01824,
          0.005819100575941749,
          0.004402201100550275,
          0.004402201100550275,
          0.004915816640039326,
          0.007187780772686433,
          0.00900794818957904,
          0.00900794818957904,
          0.00900794818957904,
          0.03206941709235952,
          0.00676402767102229,
          0.006404708326120824,
          0.007851534618129907,
          0.03140884606630756,
          0.03140884606630756,
          0.008095740936290039,
          0.009911738330108085,
          0.005063087679819979,
          0.005463938009139678,
          0.005463938009139678,
          0.00920158550396376,
          0.00479570305006714,
          0.006076441635778088,
          0.002366412213740458,
          0.002366412213740458,
          0.002366412213740458,
          0.004638340127521689,
          0.004638340127521689,
          0.004552719523417446,
          0.01569130563505378,
          0.007160291272951924,
          0.005437658989636864,
          0.006565719471183787,
          0.006866866866866867,
          0.0107621736062103,
          0.007790028763183125,
          0.003736222678871661,
          0.003736222678871661,
          0.007412398921832884,
          0.008989233824605414,
          0.008982996470965673,
          0.00473260766682442,
          0.009194619444917418,
          0.006538729854681754,
          0.01018329938900204,
          0.004795557799091368,
          0.007363113168564088,
          0.004360797694975197,
          0.007793994039886911,
          0.00655391624822585,
          0.00655391624822585,
          0.00655391624822585,
          0.009484788421374696,
          0.00790857563790387,
          0.007820831852115179,
          0.006877192982456141,
          0.007590209846978123,
          0.009155071587013511,
          0.00921601334445371,
          0.01209433581939125,
          0.02055601623532493,
          0.017232890201871,
          0.01126058988552755,
          0.01126058988552755,
          0.002846143346059037,
          0.005784293394164659,
          0.004229763615109359,
          0.01326865458695962,
          0.004484304932735426,
          0.003936953678849198,
          0.006646842749693896,
          0.01936066820200328,
          0.006020602060206021,
          0.006623536660505237,
          0.008180971235588681,
          0.008180971235588681,
          0.008180971235588681,
          0.004565735711671069,
          0.005515498401843455,
          0.007681018392968239,
          0.01106059353558734,
          0.006402439024390244,
          0.009521142537104453,
          0.009184372858122002,
          0.02232026991954321,
          0.007530548451264564,
          0.008472768278930846,
          0.008661884965050938,
          0.01423982869379015,
          0.01423982869379015,
          0.02120642872051764,
          0.01066055594301086,
          0.01822774339355086,
          0.003861003861003861,
          0.003861003861003861,
          0.01107499699048995,
          0.01015388613539752,
          0.006936416184971098,
          0.01606829788855858,
          0.006025267249757046,
          0.009205702647657842,
          0.004452567930884244,
          0.01207935741778982,
          0.01227573182247403,
          0.00521816365049406,
          0.00705606994114205,
          0.05011072994919449,
          0.005868885042604991,
          0.005868885042604991,
          0.01474078700811992,
          0.002858691902015871,
          0.01659509751297191,
          0.005089695452649145,
          0.01998734310726717,
          0.004436094149574657,
          0.008918521084076543,
          0.01820804038218857,
          0.01604763827210335,
          0.003745828509160254,
          0.006149116064565719,
          0.02261247960214469,
          0.02261247960214469,
          0.002655952056660311,
          0.002655952056660311,
          0.002655952056660311,
          0.00832639467110741,
          0.0201671511627907,
          0.00835302408489823,
          0.008479067302596715,
          0.002215197673272207,
          0.008530685001273236,
          0.00789091315524757,
          0.006861957701032816,
          0.009086846417399076,
          0.009086846417399076,
          0.009086846417399076,
          0.008775802734953823,
          0.01230875417002186,
          0.009104829698299052
         ],
         "xaxis": "x2",
         "yaxis": "y2"
        }
       ],
       "layout": {
        "barmode": "relative",
        "legend": {
         "tracegroupgap": 0
        },
        "template": {
         "data": {
          "bar": [
           {
            "error_x": {
             "color": "#2a3f5f"
            },
            "error_y": {
             "color": "#2a3f5f"
            },
            "marker": {
             "line": {
              "color": "#E5ECF6",
              "width": 0.5
             },
             "pattern": {
              "fillmode": "overlay",
              "size": 10,
              "solidity": 0.2
             }
            },
            "type": "bar"
           }
          ],
          "barpolar": [
           {
            "marker": {
             "line": {
              "color": "#E5ECF6",
              "width": 0.5
             },
             "pattern": {
              "fillmode": "overlay",
              "size": 10,
              "solidity": 0.2
             }
            },
            "type": "barpolar"
           }
          ],
          "carpet": [
           {
            "aaxis": {
             "endlinecolor": "#2a3f5f",
             "gridcolor": "white",
             "linecolor": "white",
             "minorgridcolor": "white",
             "startlinecolor": "#2a3f5f"
            },
            "baxis": {
             "endlinecolor": "#2a3f5f",
             "gridcolor": "white",
             "linecolor": "white",
             "minorgridcolor": "white",
             "startlinecolor": "#2a3f5f"
            },
            "type": "carpet"
           }
          ],
          "choropleth": [
           {
            "colorbar": {
             "outlinewidth": 0,
             "ticks": ""
            },
            "type": "choropleth"
           }
          ],
          "contour": [
           {
            "colorbar": {
             "outlinewidth": 0,
             "ticks": ""
            },
            "colorscale": [
             [
              0,
              "#0d0887"
             ],
             [
              0.1111111111111111,
              "#46039f"
             ],
             [
              0.2222222222222222,
              "#7201a8"
             ],
             [
              0.3333333333333333,
              "#9c179e"
             ],
             [
              0.4444444444444444,
              "#bd3786"
             ],
             [
              0.5555555555555556,
              "#d8576b"
             ],
             [
              0.6666666666666666,
              "#ed7953"
             ],
             [
              0.7777777777777778,
              "#fb9f3a"
             ],
             [
              0.8888888888888888,
              "#fdca26"
             ],
             [
              1,
              "#f0f921"
             ]
            ],
            "type": "contour"
           }
          ],
          "contourcarpet": [
           {
            "colorbar": {
             "outlinewidth": 0,
             "ticks": ""
            },
            "type": "contourcarpet"
           }
          ],
          "heatmap": [
           {
            "colorbar": {
             "outlinewidth": 0,
             "ticks": ""
            },
            "colorscale": [
             [
              0,
              "#0d0887"
             ],
             [
              0.1111111111111111,
              "#46039f"
             ],
             [
              0.2222222222222222,
              "#7201a8"
             ],
             [
              0.3333333333333333,
              "#9c179e"
             ],
             [
              0.4444444444444444,
              "#bd3786"
             ],
             [
              0.5555555555555556,
              "#d8576b"
             ],
             [
              0.6666666666666666,
              "#ed7953"
             ],
             [
              0.7777777777777778,
              "#fb9f3a"
             ],
             [
              0.8888888888888888,
              "#fdca26"
             ],
             [
              1,
              "#f0f921"
             ]
            ],
            "type": "heatmap"
           }
          ],
          "heatmapgl": [
           {
            "colorbar": {
             "outlinewidth": 0,
             "ticks": ""
            },
            "colorscale": [
             [
              0,
              "#0d0887"
             ],
             [
              0.1111111111111111,
              "#46039f"
             ],
             [
              0.2222222222222222,
              "#7201a8"
             ],
             [
              0.3333333333333333,
              "#9c179e"
             ],
             [
              0.4444444444444444,
              "#bd3786"
             ],
             [
              0.5555555555555556,
              "#d8576b"
             ],
             [
              0.6666666666666666,
              "#ed7953"
             ],
             [
              0.7777777777777778,
              "#fb9f3a"
             ],
             [
              0.8888888888888888,
              "#fdca26"
             ],
             [
              1,
              "#f0f921"
             ]
            ],
            "type": "heatmapgl"
           }
          ],
          "histogram": [
           {
            "marker": {
             "pattern": {
              "fillmode": "overlay",
              "size": 10,
              "solidity": 0.2
             }
            },
            "type": "histogram"
           }
          ],
          "histogram2d": [
           {
            "colorbar": {
             "outlinewidth": 0,
             "ticks": ""
            },
            "colorscale": [
             [
              0,
              "#0d0887"
             ],
             [
              0.1111111111111111,
              "#46039f"
             ],
             [
              0.2222222222222222,
              "#7201a8"
             ],
             [
              0.3333333333333333,
              "#9c179e"
             ],
             [
              0.4444444444444444,
              "#bd3786"
             ],
             [
              0.5555555555555556,
              "#d8576b"
             ],
             [
              0.6666666666666666,
              "#ed7953"
             ],
             [
              0.7777777777777778,
              "#fb9f3a"
             ],
             [
              0.8888888888888888,
              "#fdca26"
             ],
             [
              1,
              "#f0f921"
             ]
            ],
            "type": "histogram2d"
           }
          ],
          "histogram2dcontour": [
           {
            "colorbar": {
             "outlinewidth": 0,
             "ticks": ""
            },
            "colorscale": [
             [
              0,
              "#0d0887"
             ],
             [
              0.1111111111111111,
              "#46039f"
             ],
             [
              0.2222222222222222,
              "#7201a8"
             ],
             [
              0.3333333333333333,
              "#9c179e"
             ],
             [
              0.4444444444444444,
              "#bd3786"
             ],
             [
              0.5555555555555556,
              "#d8576b"
             ],
             [
              0.6666666666666666,
              "#ed7953"
             ],
             [
              0.7777777777777778,
              "#fb9f3a"
             ],
             [
              0.8888888888888888,
              "#fdca26"
             ],
             [
              1,
              "#f0f921"
             ]
            ],
            "type": "histogram2dcontour"
           }
          ],
          "mesh3d": [
           {
            "colorbar": {
             "outlinewidth": 0,
             "ticks": ""
            },
            "type": "mesh3d"
           }
          ],
          "parcoords": [
           {
            "line": {
             "colorbar": {
              "outlinewidth": 0,
              "ticks": ""
             }
            },
            "type": "parcoords"
           }
          ],
          "pie": [
           {
            "automargin": true,
            "type": "pie"
           }
          ],
          "scatter": [
           {
            "fillpattern": {
             "fillmode": "overlay",
             "size": 10,
             "solidity": 0.2
            },
            "type": "scatter"
           }
          ],
          "scatter3d": [
           {
            "line": {
             "colorbar": {
              "outlinewidth": 0,
              "ticks": ""
             }
            },
            "marker": {
             "colorbar": {
              "outlinewidth": 0,
              "ticks": ""
             }
            },
            "type": "scatter3d"
           }
          ],
          "scattercarpet": [
           {
            "marker": {
             "colorbar": {
              "outlinewidth": 0,
              "ticks": ""
             }
            },
            "type": "scattercarpet"
           }
          ],
          "scattergeo": [
           {
            "marker": {
             "colorbar": {
              "outlinewidth": 0,
              "ticks": ""
             }
            },
            "type": "scattergeo"
           }
          ],
          "scattergl": [
           {
            "marker": {
             "colorbar": {
              "outlinewidth": 0,
              "ticks": ""
             }
            },
            "type": "scattergl"
           }
          ],
          "scattermapbox": [
           {
            "marker": {
             "colorbar": {
              "outlinewidth": 0,
              "ticks": ""
             }
            },
            "type": "scattermapbox"
           }
          ],
          "scatterpolar": [
           {
            "marker": {
             "colorbar": {
              "outlinewidth": 0,
              "ticks": ""
             }
            },
            "type": "scatterpolar"
           }
          ],
          "scatterpolargl": [
           {
            "marker": {
             "colorbar": {
              "outlinewidth": 0,
              "ticks": ""
             }
            },
            "type": "scatterpolargl"
           }
          ],
          "scatterternary": [
           {
            "marker": {
             "colorbar": {
              "outlinewidth": 0,
              "ticks": ""
             }
            },
            "type": "scatterternary"
           }
          ],
          "surface": [
           {
            "colorbar": {
             "outlinewidth": 0,
             "ticks": ""
            },
            "colorscale": [
             [
              0,
              "#0d0887"
             ],
             [
              0.1111111111111111,
              "#46039f"
             ],
             [
              0.2222222222222222,
              "#7201a8"
             ],
             [
              0.3333333333333333,
              "#9c179e"
             ],
             [
              0.4444444444444444,
              "#bd3786"
             ],
             [
              0.5555555555555556,
              "#d8576b"
             ],
             [
              0.6666666666666666,
              "#ed7953"
             ],
             [
              0.7777777777777778,
              "#fb9f3a"
             ],
             [
              0.8888888888888888,
              "#fdca26"
             ],
             [
              1,
              "#f0f921"
             ]
            ],
            "type": "surface"
           }
          ],
          "table": [
           {
            "cells": {
             "fill": {
              "color": "#EBF0F8"
             },
             "line": {
              "color": "white"
             }
            },
            "header": {
             "fill": {
              "color": "#C8D4E3"
             },
             "line": {
              "color": "white"
             }
            },
            "type": "table"
           }
          ]
         },
         "layout": {
          "annotationdefaults": {
           "arrowcolor": "#2a3f5f",
           "arrowhead": 0,
           "arrowwidth": 1
          },
          "autotypenumbers": "strict",
          "coloraxis": {
           "colorbar": {
            "outlinewidth": 0,
            "ticks": ""
           }
          },
          "colorscale": {
           "diverging": [
            [
             0,
             "#8e0152"
            ],
            [
             0.1,
             "#c51b7d"
            ],
            [
             0.2,
             "#de77ae"
            ],
            [
             0.3,
             "#f1b6da"
            ],
            [
             0.4,
             "#fde0ef"
            ],
            [
             0.5,
             "#f7f7f7"
            ],
            [
             0.6,
             "#e6f5d0"
            ],
            [
             0.7,
             "#b8e186"
            ],
            [
             0.8,
             "#7fbc41"
            ],
            [
             0.9,
             "#4d9221"
            ],
            [
             1,
             "#276419"
            ]
           ],
           "sequential": [
            [
             0,
             "#0d0887"
            ],
            [
             0.1111111111111111,
             "#46039f"
            ],
            [
             0.2222222222222222,
             "#7201a8"
            ],
            [
             0.3333333333333333,
             "#9c179e"
            ],
            [
             0.4444444444444444,
             "#bd3786"
            ],
            [
             0.5555555555555556,
             "#d8576b"
            ],
            [
             0.6666666666666666,
             "#ed7953"
            ],
            [
             0.7777777777777778,
             "#fb9f3a"
            ],
            [
             0.8888888888888888,
             "#fdca26"
            ],
            [
             1,
             "#f0f921"
            ]
           ],
           "sequentialminus": [
            [
             0,
             "#0d0887"
            ],
            [
             0.1111111111111111,
             "#46039f"
            ],
            [
             0.2222222222222222,
             "#7201a8"
            ],
            [
             0.3333333333333333,
             "#9c179e"
            ],
            [
             0.4444444444444444,
             "#bd3786"
            ],
            [
             0.5555555555555556,
             "#d8576b"
            ],
            [
             0.6666666666666666,
             "#ed7953"
            ],
            [
             0.7777777777777778,
             "#fb9f3a"
            ],
            [
             0.8888888888888888,
             "#fdca26"
            ],
            [
             1,
             "#f0f921"
            ]
           ]
          },
          "colorway": [
           "#636efa",
           "#EF553B",
           "#00cc96",
           "#ab63fa",
           "#FFA15A",
           "#19d3f3",
           "#FF6692",
           "#B6E880",
           "#FF97FF",
           "#FECB52"
          ],
          "font": {
           "color": "#2a3f5f"
          },
          "geo": {
           "bgcolor": "white",
           "lakecolor": "white",
           "landcolor": "#E5ECF6",
           "showlakes": true,
           "showland": true,
           "subunitcolor": "white"
          },
          "hoverlabel": {
           "align": "left"
          },
          "hovermode": "closest",
          "mapbox": {
           "style": "light"
          },
          "paper_bgcolor": "white",
          "plot_bgcolor": "#E5ECF6",
          "polar": {
           "angularaxis": {
            "gridcolor": "white",
            "linecolor": "white",
            "ticks": ""
           },
           "bgcolor": "#E5ECF6",
           "radialaxis": {
            "gridcolor": "white",
            "linecolor": "white",
            "ticks": ""
           }
          },
          "scene": {
           "xaxis": {
            "backgroundcolor": "#E5ECF6",
            "gridcolor": "white",
            "gridwidth": 2,
            "linecolor": "white",
            "showbackground": true,
            "ticks": "",
            "zerolinecolor": "white"
           },
           "yaxis": {
            "backgroundcolor": "#E5ECF6",
            "gridcolor": "white",
            "gridwidth": 2,
            "linecolor": "white",
            "showbackground": true,
            "ticks": "",
            "zerolinecolor": "white"
           },
           "zaxis": {
            "backgroundcolor": "#E5ECF6",
            "gridcolor": "white",
            "gridwidth": 2,
            "linecolor": "white",
            "showbackground": true,
            "ticks": "",
            "zerolinecolor": "white"
           }
          },
          "shapedefaults": {
           "line": {
            "color": "#2a3f5f"
           }
          },
          "ternary": {
           "aaxis": {
            "gridcolor": "white",
            "linecolor": "white",
            "ticks": ""
           },
           "baxis": {
            "gridcolor": "white",
            "linecolor": "white",
            "ticks": ""
           },
           "bgcolor": "#E5ECF6",
           "caxis": {
            "gridcolor": "white",
            "linecolor": "white",
            "ticks": ""
           }
          },
          "title": {
           "x": 0.05
          },
          "xaxis": {
           "automargin": true,
           "gridcolor": "white",
           "linecolor": "white",
           "ticks": "",
           "title": {
            "standoff": 15
           },
           "zerolinecolor": "white",
           "zerolinewidth": 2
          },
          "yaxis": {
           "automargin": true,
           "gridcolor": "white",
           "linecolor": "white",
           "ticks": "",
           "title": {
            "standoff": 15
           },
           "zerolinecolor": "white",
           "zerolinewidth": 2
          }
         }
        },
        "title": {
         "text": "Распределение кликабельности (CTR)"
        },
        "xaxis": {
         "anchor": "y",
         "domain": [
          0,
          1
         ],
         "title": {
          "text": "ctr"
         }
        },
        "xaxis2": {
         "anchor": "y2",
         "domain": [
          0,
          1
         ],
         "matches": "x",
         "showgrid": true,
         "showticklabels": false
        },
        "yaxis": {
         "anchor": "x",
         "domain": [
          0,
          0.8316
         ],
         "title": {
          "text": "count"
         }
        },
        "yaxis2": {
         "anchor": "x2",
         "domain": [
          0.8416,
          1
         ],
         "matches": "y2",
         "showgrid": false,
         "showline": false,
         "showticklabels": false,
         "ticks": ""
        }
       }
      }
     },
     "metadata": {},
     "output_type": "display_data"
    }
   ],
   "source": [
    "#Построим распределение таргета\n",
    "fig = px.histogram(df,\n",
    "                   x='ctr',\n",
    "                   marginal=\"box\",\n",
    "                   title='Распределение кликабельности (CTR)'\n",
    "                   )\n",
    "fig.show();"
   ]
  },
  {
   "cell_type": "markdown",
   "metadata": {},
   "source": [
    "**Выводы**\n",
    "1. Распределение таргета довольно близкое к нормальному, но требует дополнительной проверки\n",
    "2. И гистограмма, и ящик показывают достаточно существенные выбросы"
   ]
  },
  {
   "cell_type": "markdown",
   "metadata": {},
   "source": [
    "Разберёмся с языком (признак `image_language`)"
   ]
  },
  {
   "cell_type": "code",
   "execution_count": 1553,
   "metadata": {},
   "outputs": [
    {
     "data": {
      "text/plain": [
       "image_language\n",
       "en    394\n",
       "fr      5\n",
       "Name: count, dtype: int64"
      ]
     },
     "execution_count": 1553,
     "metadata": {},
     "output_type": "execute_result"
    }
   ],
   "source": [
    "df.image_language.value_counts()"
   ]
  },
  {
   "cell_type": "code",
   "execution_count": 1554,
   "metadata": {},
   "outputs": [
    {
     "data": {
      "text/html": [
       "<div>\n",
       "<style scoped>\n",
       "    .dataframe tbody tr th:only-of-type {\n",
       "        vertical-align: middle;\n",
       "    }\n",
       "\n",
       "    .dataframe tbody tr th {\n",
       "        vertical-align: top;\n",
       "    }\n",
       "\n",
       "    .dataframe thead th {\n",
       "        text-align: right;\n",
       "    }\n",
       "</style>\n",
       "<table border=\"1\" class=\"dataframe\">\n",
       "  <thead>\n",
       "    <tr style=\"text-align: right;\">\n",
       "      <th></th>\n",
       "      <th>image_nouns</th>\n",
       "      <th>image_verbs</th>\n",
       "      <th>image_adjs</th>\n",
       "      <th>image_text</th>\n",
       "      <th>image_eng_text</th>\n",
       "      <th>image_text_area</th>\n",
       "      <th>image_phrases</th>\n",
       "      <th>image_tags</th>\n",
       "    </tr>\n",
       "  </thead>\n",
       "  <tbody>\n",
       "    <tr>\n",
       "      <th>5</th>\n",
       "      <td>[]</td>\n",
       "      <td>['become']</td>\n",
       "      <td>['happy']</td>\n",
       "      <td>Become\\nyour happiest</td>\n",
       "      <td>Become\\nyour happy</td>\n",
       "      <td>10</td>\n",
       "      <td>['become', 'your happiest']</td>\n",
       "      <td>['cg artwork', 'magenta', 'purple', 'font', 'c...</td>\n",
       "    </tr>\n",
       "    <tr>\n",
       "      <th>154</th>\n",
       "      <td>[]</td>\n",
       "      <td>['become']</td>\n",
       "      <td>['happiest']</td>\n",
       "      <td>Become your\\nhappiest</td>\n",
       "      <td>Become your\\nhappiest</td>\n",
       "      <td>10</td>\n",
       "      <td>['become your', 'happiest']</td>\n",
       "      <td>['happy', 'magenta', 'font', 'fictional charac...</td>\n",
       "    </tr>\n",
       "    <tr>\n",
       "      <th>188</th>\n",
       "      <td>[]</td>\n",
       "      <td>['become']</td>\n",
       "      <td>['happy']</td>\n",
       "      <td>Become\\nyour happiest</td>\n",
       "      <td>Become\\nyour happy</td>\n",
       "      <td>10</td>\n",
       "      <td>['become', 'your happiest']</td>\n",
       "      <td>['illustration', 'happy', 'purple', 'font', 'm...</td>\n",
       "    </tr>\n",
       "    <tr>\n",
       "      <th>255</th>\n",
       "      <td>['excuses']</td>\n",
       "      <td>['ruin', 'let']</td>\n",
       "      <td>[]</td>\n",
       "      <td>If you let excuses to ruin</td>\n",
       "      <td>If you let excuses to ruin</td>\n",
       "      <td>0</td>\n",
       "      <td>['if you let excuses to ruin']</td>\n",
       "      <td>['eye', 'art', 'cartoon', 'doll', 'eyebrow', '...</td>\n",
       "    </tr>\n",
       "    <tr>\n",
       "      <th>256</th>\n",
       "      <td>['excuses']</td>\n",
       "      <td>['ruin', 'let']</td>\n",
       "      <td>[]</td>\n",
       "      <td>If you let excuses to ruin</td>\n",
       "      <td>If you let excuses to ruin</td>\n",
       "      <td>0</td>\n",
       "      <td>['if you let excuses to ruin']</td>\n",
       "      <td>['eye', 'art', 'cartoon', 'doll', 'eyebrow', '...</td>\n",
       "    </tr>\n",
       "  </tbody>\n",
       "</table>\n",
       "</div>"
      ],
      "text/plain": [
       "     image_nouns      image_verbs    image_adjs                  image_text  \\\n",
       "5             []       ['become']     ['happy']       Become\\nyour happiest   \n",
       "154           []       ['become']  ['happiest']       Become your\\nhappiest   \n",
       "188           []       ['become']     ['happy']       Become\\nyour happiest   \n",
       "255  ['excuses']  ['ruin', 'let']            []  If you let excuses to ruin   \n",
       "256  ['excuses']  ['ruin', 'let']            []  If you let excuses to ruin   \n",
       "\n",
       "                 image_eng_text  image_text_area  \\\n",
       "5            Become\\nyour happy               10   \n",
       "154       Become your\\nhappiest               10   \n",
       "188          Become\\nyour happy               10   \n",
       "255  If you let excuses to ruin                0   \n",
       "256  If you let excuses to ruin                0   \n",
       "\n",
       "                      image_phrases  \\\n",
       "5       ['become', 'your happiest']   \n",
       "154     ['become your', 'happiest']   \n",
       "188     ['become', 'your happiest']   \n",
       "255  ['if you let excuses to ruin']   \n",
       "256  ['if you let excuses to ruin']   \n",
       "\n",
       "                                            image_tags  \n",
       "5    ['cg artwork', 'magenta', 'purple', 'font', 'c...  \n",
       "154  ['happy', 'magenta', 'font', 'fictional charac...  \n",
       "188  ['illustration', 'happy', 'purple', 'font', 'm...  \n",
       "255  ['eye', 'art', 'cartoon', 'doll', 'eyebrow', '...  \n",
       "256  ['eye', 'art', 'cartoon', 'doll', 'eyebrow', '...  "
      ]
     },
     "execution_count": 1554,
     "metadata": {},
     "output_type": "execute_result"
    }
   ],
   "source": [
    "df[df.image_language == 'fr'][['image_nouns',\n",
    "                                'image_verbs',\n",
    "                                'image_adjs',\n",
    "                                'image_text',\n",
    "                                'image_eng_text',\n",
    "                                'image_text_area',\n",
    "                                'image_phrases',\n",
    "                                'image_tags'\n",
    "                                ]\n",
    "]"
   ]
  },
  {
   "cell_type": "markdown",
   "metadata": {},
   "source": [
    "Признак француского языка (`fr`) не оказывает влияния на другие признаки (значание в этих наблюдениях представлены на английском языке), поэтому признак языка (`image_language`) также не оказывает никакого влияния на таргет и может быть удалён"
   ]
  },
  {
   "cell_type": "markdown",
   "metadata": {},
   "source": [
    "#### Избавляемся от неинформативных признаков"
   ]
  },
  {
   "cell_type": "code",
   "execution_count": 1555,
   "metadata": {},
   "outputs": [],
   "source": [
    "drop_col = ['image_people_amount',\n",
    "            'image_clip',\n",
    "            'image_clip_keywords',\n",
    "            'image_text_present',\n",
    "            'image_text_contains_question',\n",
    "            'image_language']\n",
    "df_drop = df.drop(df[drop_col], axis=1)\n"
   ]
  },
  {
   "cell_type": "markdown",
   "metadata": {},
   "source": [
    "#### Удаляем дубликаты"
   ]
  },
  {
   "cell_type": "code",
   "execution_count": 1556,
   "metadata": {},
   "outputs": [],
   "source": [
    "df_drop = df_drop.drop_duplicates()\n",
    "df_drop.reset_index(inplace=True, drop=True)"
   ]
  },
  {
   "cell_type": "code",
   "execution_count": 1557,
   "metadata": {},
   "outputs": [
    {
     "name": "stdout",
     "output_type": "stream",
     "text": [
      "<class 'pandas.core.frame.DataFrame'>\n",
      "RangeIndex: 339 entries, 0 to 338\n",
      "Data columns (total 15 columns):\n",
      " #   Column                   Non-Null Count  Dtype  \n",
      "---  ------                   --------------  -----  \n",
      " 0   image_text               339 non-null    object \n",
      " 1   image_eng_text           339 non-null    object \n",
      " 2   image_text_area          339 non-null    int64  \n",
      " 3   image_text_length        339 non-null    int64  \n",
      " 4   image_text_contains_cta  339 non-null    bool   \n",
      " 5   image_nouns              339 non-null    object \n",
      " 6   image_verbs              339 non-null    object \n",
      " 7   image_adjs               339 non-null    object \n",
      " 8   image_phrases            339 non-null    object \n",
      " 9   image_color_main         339 non-null    object \n",
      " 10  image_color_rest         339 non-null    object \n",
      " 11  image_proportions        339 non-null    object \n",
      " 12  image_objects            339 non-null    object \n",
      " 13  image_tags               339 non-null    object \n",
      " 14  ctr                      339 non-null    float64\n",
      "dtypes: bool(1), float64(1), int64(2), object(11)\n",
      "memory usage: 37.5+ KB\n"
     ]
    }
   ],
   "source": [
    "df_drop.info()"
   ]
  },
  {
   "cell_type": "code",
   "execution_count": 1558,
   "metadata": {},
   "outputs": [],
   "source": [
    "# Преобразуме строки в списки\n",
    "def get_list(ser):\n",
    "    return eval(ser)\n",
    "\n",
    "col_str =  ['image_nouns',\n",
    "            'image_verbs',\n",
    "            'image_adjs',\n",
    "            'image_phrases',\n",
    "            'image_color_rest',\n",
    "            'image_objects',\n",
    "            'image_tags'\n",
    " ]\n",
    "\n",
    "for col in col_str:\n",
    "    df_drop[col] = df_drop[col].apply(get_list)\n"
   ]
  },
  {
   "cell_type": "markdown",
   "metadata": {},
   "source": [
    "## EDA"
   ]
  },
  {
   "cell_type": "markdown",
   "metadata": {},
   "source": [
    "### **Пизнак наличия призыва к действию (Call to action) - `image_text_contains_cta`**"
   ]
  },
  {
   "cell_type": "code",
   "execution_count": 1559,
   "metadata": {},
   "outputs": [
    {
     "name": "stdout",
     "output_type": "stream",
     "text": [
      "image_text_contains_cta\n",
      "False    91.74\n",
      "True      8.26\n",
      "Name: proportion, dtype: float64\n"
     ]
    }
   ],
   "source": [
    "print((df_drop.image_text_contains_cta.value_counts(normalize=True)*100).round(2))\n",
    "df_drop.image_text_contains_cta = df_drop.image_text_contains_cta.astype(int)"
   ]
  },
  {
   "cell_type": "markdown",
   "metadata": {},
   "source": [
    "Объявлений, в которых есть призыв к действию (CTA) всего чуть более 8%, но окончательное решение о его влиянии на таргет получим позднее, а пока переведём булевые значения в числовые."
   ]
  },
  {
   "cell_type": "markdown",
   "metadata": {},
   "source": [
    "### **Признак главного цвета объявления - `image_color_main.nunique`**"
   ]
  },
  {
   "cell_type": "code",
   "execution_count": 1560,
   "metadata": {},
   "outputs": [
    {
     "name": "stdout",
     "output_type": "stream",
     "text": [
      "Количество уникальных значений 26 \n",
      "Теперь стало 19 признаков\n"
     ]
    }
   ],
   "source": [
    "# Кодируем признак бинарным кодидированием, так как он содержит 26 уникальных номинальных значений\n",
    "print('Количество уникальных значений {} '.format(df_drop.image_color_main.nunique()))\n",
    "bin_encoder = ce.BinaryEncoder()\n",
    "type_bin = bin_encoder.fit_transform(df_drop.image_color_main)\n",
    "df_drop = pd.concat([df_drop, type_bin], axis=1).drop('image_color_main', axis=1)\n",
    "print(f'Теперь стало {df_drop.shape[1]} признаков')"
   ]
  },
  {
   "cell_type": "markdown",
   "metadata": {},
   "source": [
    "### **Пропорции картинки - `image_proportions`**"
   ]
  },
  {
   "cell_type": "code",
   "execution_count": 1561,
   "metadata": {},
   "outputs": [
    {
     "name": "stdout",
     "output_type": "stream",
     "text": [
      "Количество уникальных значений 10 \n",
      "Теперь стало 28 признаков\n"
     ]
    }
   ],
   "source": [
    "# Включим признак пропорции картинки в список столбцов, к которым примениv \"горячее\" кодирование\n",
    "print('Количество уникальных значений {} '.format(df_drop.image_proportions.nunique()))\n",
    "hot_encoder = ce.OneHotEncoder()\n",
    "type_hot = hot_encoder.fit_transform(df_drop.image_proportions)\n",
    "df_drop = pd.concat([df_drop, type_hot], axis=1).drop('image_proportions', axis=1)\n",
    "print(f'Теперь стало {df_drop.shape[1]} признаков')"
   ]
  },
  {
   "cell_type": "markdown",
   "metadata": {},
   "source": [
    "### **Текст на картинке и его английский перевод - `image_text` и `image_eng_text`**"
   ]
  },
  {
   "cell_type": "code",
   "execution_count": 1562,
   "metadata": {},
   "outputs": [
    {
     "data": {
      "text/html": [
       "<div>\n",
       "<style scoped>\n",
       "    .dataframe tbody tr th:only-of-type {\n",
       "        vertical-align: middle;\n",
       "    }\n",
       "\n",
       "    .dataframe tbody tr th {\n",
       "        vertical-align: top;\n",
       "    }\n",
       "\n",
       "    .dataframe thead th {\n",
       "        text-align: right;\n",
       "    }\n",
       "</style>\n",
       "<table border=\"1\" class=\"dataframe\">\n",
       "  <thead>\n",
       "    <tr style=\"text-align: right;\">\n",
       "      <th></th>\n",
       "      <th>image_text</th>\n",
       "      <th>image_eng_text</th>\n",
       "      <th>comp</th>\n",
       "    </tr>\n",
       "  </thead>\n",
       "  <tbody>\n",
       "    <tr>\n",
       "      <th>4</th>\n",
       "      <td>Becomeyourhappiest</td>\n",
       "      <td>Becomeyourhappy</td>\n",
       "      <td>False</td>\n",
       "    </tr>\n",
       "    <tr>\n",
       "      <th>38</th>\n",
       "      <td>PracticeRunesTarotLettheUniversehelpyouPractic...</td>\n",
       "      <td>PracticeRunesTarotLettheUniversehelpyouPractic...</td>\n",
       "      <td>False</td>\n",
       "    </tr>\n",
       "    <tr>\n",
       "      <th>52</th>\n",
       "      <td>NatalChartBasedonEasternastrologyImTªmno</td>\n",
       "      <td>NatalChartBasedonEasternastrologyImTmno</td>\n",
       "      <td>False</td>\n",
       "    </tr>\n",
       "    <tr>\n",
       "      <th>80</th>\n",
       "      <td>NatalChartBasedonEasternastrologyImTªmno</td>\n",
       "      <td>NatalChartBasedonEasternastrologyImTmno</td>\n",
       "      <td>False</td>\n",
       "    </tr>\n",
       "    <tr>\n",
       "      <th>161</th>\n",
       "      <td>Becomeyourhappiest</td>\n",
       "      <td>Becomeyourhappy</td>\n",
       "      <td>False</td>\n",
       "    </tr>\n",
       "    <tr>\n",
       "      <th>162</th>\n",
       "      <td>MagicinyourpocketFFehuWealthX고JeraFavorableout...</td>\n",
       "      <td>MagicinyourpocketFFehuWealthXJeraFavorableoutc...</td>\n",
       "      <td>False</td>\n",
       "    </tr>\n",
       "    <tr>\n",
       "      <th>185</th>\n",
       "      <td>PracticeRunesTarotLettheUniversehelpyouPractic...</td>\n",
       "      <td>PracticeRunesTarotLettheUniversehelpyouPractic...</td>\n",
       "      <td>False</td>\n",
       "    </tr>\n",
       "    <tr>\n",
       "      <th>194</th>\n",
       "      <td>BeyourhappiestTeiwazVictoryFFehuWealthXGeboGif...</td>\n",
       "      <td>BeyourhappiestTeiwazVictoryFFehuWealthXGeboGif...</td>\n",
       "      <td>False</td>\n",
       "    </tr>\n",
       "    <tr>\n",
       "      <th>215</th>\n",
       "      <td>PracticeRunesTarotLettheUniversehelpyouPractic...</td>\n",
       "      <td>PracticeRunesTarotLettheUniversehelpyouPractic...</td>\n",
       "      <td>False</td>\n",
       "    </tr>\n",
       "    <tr>\n",
       "      <th>322</th>\n",
       "      <td>PracticeRunesTarotLettheUniversehelpyouPractic...</td>\n",
       "      <td>PracticeRunesTarotLettheUniversehelpyouPractic...</td>\n",
       "      <td>False</td>\n",
       "    </tr>\n",
       "    <tr>\n",
       "      <th>331</th>\n",
       "      <td>PracticeRunesTarotLettheUniversehelpyouPractic...</td>\n",
       "      <td>PracticeRunesTarotLettheUniversehelpyouPractic...</td>\n",
       "      <td>False</td>\n",
       "    </tr>\n",
       "  </tbody>\n",
       "</table>\n",
       "</div>"
      ],
      "text/plain": [
       "                                            image_text  \\\n",
       "4                                   Becomeyourhappiest   \n",
       "38   PracticeRunesTarotLettheUniversehelpyouPractic...   \n",
       "52            NatalChartBasedonEasternastrologyImTªmno   \n",
       "80            NatalChartBasedonEasternastrologyImTªmno   \n",
       "161                                 Becomeyourhappiest   \n",
       "162  MagicinyourpocketFFehuWealthX고JeraFavorableout...   \n",
       "185  PracticeRunesTarotLettheUniversehelpyouPractic...   \n",
       "194  BeyourhappiestTeiwazVictoryFFehuWealthXGeboGif...   \n",
       "215  PracticeRunesTarotLettheUniversehelpyouPractic...   \n",
       "322  PracticeRunesTarotLettheUniversehelpyouPractic...   \n",
       "331  PracticeRunesTarotLettheUniversehelpyouPractic...   \n",
       "\n",
       "                                        image_eng_text   comp  \n",
       "4                                      Becomeyourhappy  False  \n",
       "38   PracticeRunesTarotLettheUniversehelpyouPractic...  False  \n",
       "52             NatalChartBasedonEasternastrologyImTmno  False  \n",
       "80             NatalChartBasedonEasternastrologyImTmno  False  \n",
       "161                                    Becomeyourhappy  False  \n",
       "162  MagicinyourpocketFFehuWealthXJeraFavorableoutc...  False  \n",
       "185  PracticeRunesTarotLettheUniversehelpyouPractic...  False  \n",
       "194  BeyourhappiestTeiwazVictoryFFehuWealthXGeboGif...  False  \n",
       "215  PracticeRunesTarotLettheUniversehelpyouPractic...  False  \n",
       "322  PracticeRunesTarotLettheUniversehelpyouPractic...  False  \n",
       "331  PracticeRunesTarotLettheUniversehelpyouPractic...  False  "
      ]
     },
     "execution_count": 1562,
     "metadata": {},
     "output_type": "execute_result"
    }
   ],
   "source": [
    "# Проверим на совпадение значений в столбцах\n",
    "df_text = df_drop[['image_text', 'image_eng_text']]\n",
    "\n",
    "# Функция преобразования значения в строку, состоящую только из букв (регулярное выражение не отрабатывает)\n",
    "def get_alpha(str):\n",
    "    res_str = ''\n",
    "    for sym in str.replace('/n', ''):\n",
    "        if sym.isalpha():\n",
    "            res_str += sym\n",
    "    return res_str\n",
    "\n",
    "df_text.image_text = df_text.image_text.apply(get_alpha)\n",
    "df_text.image_eng_text = df_text.image_eng_text.apply(get_alpha)\n",
    "\n",
    "df_text['comp'] = df_text.image_text == df_text.image_eng_text\n",
    "df_diff = df_text[df_text.comp == 0]\n",
    "df_diff"
   ]
  },
  {
   "cell_type": "code",
   "execution_count": 1563,
   "metadata": {},
   "outputs": [
    {
     "data": {
      "text/plain": [
       "69"
      ]
     },
     "execution_count": 1563,
     "metadata": {},
     "output_type": "execute_result"
    }
   ],
   "source": [
    "df_text.image_text.nunique()"
   ]
  },
  {
   "cell_type": "markdown",
   "metadata": {},
   "source": [
    "#### Значения в этих признаках отличаются незначительно, следовательно один из них можно удалить, а к оставшемуся применим бинарное кодирование, так как он содержит около 70 уникальных номинальных значений "
   ]
  },
  {
   "cell_type": "code",
   "execution_count": 1564,
   "metadata": {},
   "outputs": [
    {
     "name": "stdout",
     "output_type": "stream",
     "text": [
      "Теперь стало 33 признака(ов)\n"
     ]
    }
   ],
   "source": [
    "df_drop.drop('image_eng_text', axis=1, inplace=True)\n",
    "\n",
    "type_bin = bin_encoder.fit_transform(df_drop.image_text)\n",
    "df_drop = pd.concat([df_drop, type_bin], axis=1).drop('image_text', axis=1)\n",
    "print(f'Теперь стало {df_drop.shape[1]} признака(ов)')"
   ]
  },
  {
   "cell_type": "markdown",
   "metadata": {},
   "source": [
    "### **Объем текста - `image_text_area`**"
   ]
  },
  {
   "cell_type": "code",
   "execution_count": 1565,
   "metadata": {},
   "outputs": [
    {
     "data": {
      "text/plain": [
       "image_text_area\n",
       "10    258\n",
       "20     73\n",
       "0       7\n",
       "30      1\n",
       "Name: count, dtype: int64"
      ]
     },
     "execution_count": 1565,
     "metadata": {},
     "output_type": "execute_result"
    }
   ],
   "source": [
    "df_drop.image_text_area.value_counts()"
   ]
  },
  {
   "cell_type": "code",
   "execution_count": 1566,
   "metadata": {},
   "outputs": [
    {
     "data": {
      "application/vnd.plotly.v1+json": {
       "config": {
        "plotlyServerURL": "https://plot.ly"
       },
       "data": [
        {
         "alignmentgroup": "True",
         "hovertemplate": "Объём текста=%{x}<br>y=%{y}<br>color=%{marker.color}<extra></extra>",
         "legendgroup": "",
         "marker": {
          "color": [
           7,
           258,
           73,
           1
          ],
          "coloraxis": "coloraxis",
          "pattern": {
           "shape": ""
          }
         },
         "name": "",
         "offsetgroup": "",
         "orientation": "v",
         "showlegend": false,
         "textposition": "auto",
         "type": "bar",
         "x": [
          0,
          10,
          20,
          30
         ],
         "xaxis": "x",
         "y": [
          7,
          258,
          73,
          1
         ],
         "yaxis": "y"
        }
       ],
       "layout": {
        "barmode": "relative",
        "coloraxis": {
         "colorbar": {
          "title": {
           "text": "color"
          }
         },
         "colorscale": [
          [
           0,
           "#0d0887"
          ],
          [
           0.1111111111111111,
           "#46039f"
          ],
          [
           0.2222222222222222,
           "#7201a8"
          ],
          [
           0.3333333333333333,
           "#9c179e"
          ],
          [
           0.4444444444444444,
           "#bd3786"
          ],
          [
           0.5555555555555556,
           "#d8576b"
          ],
          [
           0.6666666666666666,
           "#ed7953"
          ],
          [
           0.7777777777777778,
           "#fb9f3a"
          ],
          [
           0.8888888888888888,
           "#fdca26"
          ],
          [
           1,
           "#f0f921"
          ]
         ]
        },
        "legend": {
         "tracegroupgap": 0
        },
        "margin": {
         "t": 60
        },
        "template": {
         "data": {
          "bar": [
           {
            "error_x": {
             "color": "#2a3f5f"
            },
            "error_y": {
             "color": "#2a3f5f"
            },
            "marker": {
             "line": {
              "color": "#E5ECF6",
              "width": 0.5
             },
             "pattern": {
              "fillmode": "overlay",
              "size": 10,
              "solidity": 0.2
             }
            },
            "type": "bar"
           }
          ],
          "barpolar": [
           {
            "marker": {
             "line": {
              "color": "#E5ECF6",
              "width": 0.5
             },
             "pattern": {
              "fillmode": "overlay",
              "size": 10,
              "solidity": 0.2
             }
            },
            "type": "barpolar"
           }
          ],
          "carpet": [
           {
            "aaxis": {
             "endlinecolor": "#2a3f5f",
             "gridcolor": "white",
             "linecolor": "white",
             "minorgridcolor": "white",
             "startlinecolor": "#2a3f5f"
            },
            "baxis": {
             "endlinecolor": "#2a3f5f",
             "gridcolor": "white",
             "linecolor": "white",
             "minorgridcolor": "white",
             "startlinecolor": "#2a3f5f"
            },
            "type": "carpet"
           }
          ],
          "choropleth": [
           {
            "colorbar": {
             "outlinewidth": 0,
             "ticks": ""
            },
            "type": "choropleth"
           }
          ],
          "contour": [
           {
            "colorbar": {
             "outlinewidth": 0,
             "ticks": ""
            },
            "colorscale": [
             [
              0,
              "#0d0887"
             ],
             [
              0.1111111111111111,
              "#46039f"
             ],
             [
              0.2222222222222222,
              "#7201a8"
             ],
             [
              0.3333333333333333,
              "#9c179e"
             ],
             [
              0.4444444444444444,
              "#bd3786"
             ],
             [
              0.5555555555555556,
              "#d8576b"
             ],
             [
              0.6666666666666666,
              "#ed7953"
             ],
             [
              0.7777777777777778,
              "#fb9f3a"
             ],
             [
              0.8888888888888888,
              "#fdca26"
             ],
             [
              1,
              "#f0f921"
             ]
            ],
            "type": "contour"
           }
          ],
          "contourcarpet": [
           {
            "colorbar": {
             "outlinewidth": 0,
             "ticks": ""
            },
            "type": "contourcarpet"
           }
          ],
          "heatmap": [
           {
            "colorbar": {
             "outlinewidth": 0,
             "ticks": ""
            },
            "colorscale": [
             [
              0,
              "#0d0887"
             ],
             [
              0.1111111111111111,
              "#46039f"
             ],
             [
              0.2222222222222222,
              "#7201a8"
             ],
             [
              0.3333333333333333,
              "#9c179e"
             ],
             [
              0.4444444444444444,
              "#bd3786"
             ],
             [
              0.5555555555555556,
              "#d8576b"
             ],
             [
              0.6666666666666666,
              "#ed7953"
             ],
             [
              0.7777777777777778,
              "#fb9f3a"
             ],
             [
              0.8888888888888888,
              "#fdca26"
             ],
             [
              1,
              "#f0f921"
             ]
            ],
            "type": "heatmap"
           }
          ],
          "heatmapgl": [
           {
            "colorbar": {
             "outlinewidth": 0,
             "ticks": ""
            },
            "colorscale": [
             [
              0,
              "#0d0887"
             ],
             [
              0.1111111111111111,
              "#46039f"
             ],
             [
              0.2222222222222222,
              "#7201a8"
             ],
             [
              0.3333333333333333,
              "#9c179e"
             ],
             [
              0.4444444444444444,
              "#bd3786"
             ],
             [
              0.5555555555555556,
              "#d8576b"
             ],
             [
              0.6666666666666666,
              "#ed7953"
             ],
             [
              0.7777777777777778,
              "#fb9f3a"
             ],
             [
              0.8888888888888888,
              "#fdca26"
             ],
             [
              1,
              "#f0f921"
             ]
            ],
            "type": "heatmapgl"
           }
          ],
          "histogram": [
           {
            "marker": {
             "pattern": {
              "fillmode": "overlay",
              "size": 10,
              "solidity": 0.2
             }
            },
            "type": "histogram"
           }
          ],
          "histogram2d": [
           {
            "colorbar": {
             "outlinewidth": 0,
             "ticks": ""
            },
            "colorscale": [
             [
              0,
              "#0d0887"
             ],
             [
              0.1111111111111111,
              "#46039f"
             ],
             [
              0.2222222222222222,
              "#7201a8"
             ],
             [
              0.3333333333333333,
              "#9c179e"
             ],
             [
              0.4444444444444444,
              "#bd3786"
             ],
             [
              0.5555555555555556,
              "#d8576b"
             ],
             [
              0.6666666666666666,
              "#ed7953"
             ],
             [
              0.7777777777777778,
              "#fb9f3a"
             ],
             [
              0.8888888888888888,
              "#fdca26"
             ],
             [
              1,
              "#f0f921"
             ]
            ],
            "type": "histogram2d"
           }
          ],
          "histogram2dcontour": [
           {
            "colorbar": {
             "outlinewidth": 0,
             "ticks": ""
            },
            "colorscale": [
             [
              0,
              "#0d0887"
             ],
             [
              0.1111111111111111,
              "#46039f"
             ],
             [
              0.2222222222222222,
              "#7201a8"
             ],
             [
              0.3333333333333333,
              "#9c179e"
             ],
             [
              0.4444444444444444,
              "#bd3786"
             ],
             [
              0.5555555555555556,
              "#d8576b"
             ],
             [
              0.6666666666666666,
              "#ed7953"
             ],
             [
              0.7777777777777778,
              "#fb9f3a"
             ],
             [
              0.8888888888888888,
              "#fdca26"
             ],
             [
              1,
              "#f0f921"
             ]
            ],
            "type": "histogram2dcontour"
           }
          ],
          "mesh3d": [
           {
            "colorbar": {
             "outlinewidth": 0,
             "ticks": ""
            },
            "type": "mesh3d"
           }
          ],
          "parcoords": [
           {
            "line": {
             "colorbar": {
              "outlinewidth": 0,
              "ticks": ""
             }
            },
            "type": "parcoords"
           }
          ],
          "pie": [
           {
            "automargin": true,
            "type": "pie"
           }
          ],
          "scatter": [
           {
            "fillpattern": {
             "fillmode": "overlay",
             "size": 10,
             "solidity": 0.2
            },
            "type": "scatter"
           }
          ],
          "scatter3d": [
           {
            "line": {
             "colorbar": {
              "outlinewidth": 0,
              "ticks": ""
             }
            },
            "marker": {
             "colorbar": {
              "outlinewidth": 0,
              "ticks": ""
             }
            },
            "type": "scatter3d"
           }
          ],
          "scattercarpet": [
           {
            "marker": {
             "colorbar": {
              "outlinewidth": 0,
              "ticks": ""
             }
            },
            "type": "scattercarpet"
           }
          ],
          "scattergeo": [
           {
            "marker": {
             "colorbar": {
              "outlinewidth": 0,
              "ticks": ""
             }
            },
            "type": "scattergeo"
           }
          ],
          "scattergl": [
           {
            "marker": {
             "colorbar": {
              "outlinewidth": 0,
              "ticks": ""
             }
            },
            "type": "scattergl"
           }
          ],
          "scattermapbox": [
           {
            "marker": {
             "colorbar": {
              "outlinewidth": 0,
              "ticks": ""
             }
            },
            "type": "scattermapbox"
           }
          ],
          "scatterpolar": [
           {
            "marker": {
             "colorbar": {
              "outlinewidth": 0,
              "ticks": ""
             }
            },
            "type": "scatterpolar"
           }
          ],
          "scatterpolargl": [
           {
            "marker": {
             "colorbar": {
              "outlinewidth": 0,
              "ticks": ""
             }
            },
            "type": "scatterpolargl"
           }
          ],
          "scatterternary": [
           {
            "marker": {
             "colorbar": {
              "outlinewidth": 0,
              "ticks": ""
             }
            },
            "type": "scatterternary"
           }
          ],
          "surface": [
           {
            "colorbar": {
             "outlinewidth": 0,
             "ticks": ""
            },
            "colorscale": [
             [
              0,
              "#0d0887"
             ],
             [
              0.1111111111111111,
              "#46039f"
             ],
             [
              0.2222222222222222,
              "#7201a8"
             ],
             [
              0.3333333333333333,
              "#9c179e"
             ],
             [
              0.4444444444444444,
              "#bd3786"
             ],
             [
              0.5555555555555556,
              "#d8576b"
             ],
             [
              0.6666666666666666,
              "#ed7953"
             ],
             [
              0.7777777777777778,
              "#fb9f3a"
             ],
             [
              0.8888888888888888,
              "#fdca26"
             ],
             [
              1,
              "#f0f921"
             ]
            ],
            "type": "surface"
           }
          ],
          "table": [
           {
            "cells": {
             "fill": {
              "color": "#EBF0F8"
             },
             "line": {
              "color": "white"
             }
            },
            "header": {
             "fill": {
              "color": "#C8D4E3"
             },
             "line": {
              "color": "white"
             }
            },
            "type": "table"
           }
          ]
         },
         "layout": {
          "annotationdefaults": {
           "arrowcolor": "#2a3f5f",
           "arrowhead": 0,
           "arrowwidth": 1
          },
          "autotypenumbers": "strict",
          "coloraxis": {
           "colorbar": {
            "outlinewidth": 0,
            "ticks": ""
           }
          },
          "colorscale": {
           "diverging": [
            [
             0,
             "#8e0152"
            ],
            [
             0.1,
             "#c51b7d"
            ],
            [
             0.2,
             "#de77ae"
            ],
            [
             0.3,
             "#f1b6da"
            ],
            [
             0.4,
             "#fde0ef"
            ],
            [
             0.5,
             "#f7f7f7"
            ],
            [
             0.6,
             "#e6f5d0"
            ],
            [
             0.7,
             "#b8e186"
            ],
            [
             0.8,
             "#7fbc41"
            ],
            [
             0.9,
             "#4d9221"
            ],
            [
             1,
             "#276419"
            ]
           ],
           "sequential": [
            [
             0,
             "#0d0887"
            ],
            [
             0.1111111111111111,
             "#46039f"
            ],
            [
             0.2222222222222222,
             "#7201a8"
            ],
            [
             0.3333333333333333,
             "#9c179e"
            ],
            [
             0.4444444444444444,
             "#bd3786"
            ],
            [
             0.5555555555555556,
             "#d8576b"
            ],
            [
             0.6666666666666666,
             "#ed7953"
            ],
            [
             0.7777777777777778,
             "#fb9f3a"
            ],
            [
             0.8888888888888888,
             "#fdca26"
            ],
            [
             1,
             "#f0f921"
            ]
           ],
           "sequentialminus": [
            [
             0,
             "#0d0887"
            ],
            [
             0.1111111111111111,
             "#46039f"
            ],
            [
             0.2222222222222222,
             "#7201a8"
            ],
            [
             0.3333333333333333,
             "#9c179e"
            ],
            [
             0.4444444444444444,
             "#bd3786"
            ],
            [
             0.5555555555555556,
             "#d8576b"
            ],
            [
             0.6666666666666666,
             "#ed7953"
            ],
            [
             0.7777777777777778,
             "#fb9f3a"
            ],
            [
             0.8888888888888888,
             "#fdca26"
            ],
            [
             1,
             "#f0f921"
            ]
           ]
          },
          "colorway": [
           "#636efa",
           "#EF553B",
           "#00cc96",
           "#ab63fa",
           "#FFA15A",
           "#19d3f3",
           "#FF6692",
           "#B6E880",
           "#FF97FF",
           "#FECB52"
          ],
          "font": {
           "color": "#2a3f5f"
          },
          "geo": {
           "bgcolor": "white",
           "lakecolor": "white",
           "landcolor": "#E5ECF6",
           "showlakes": true,
           "showland": true,
           "subunitcolor": "white"
          },
          "hoverlabel": {
           "align": "left"
          },
          "hovermode": "closest",
          "mapbox": {
           "style": "light"
          },
          "paper_bgcolor": "white",
          "plot_bgcolor": "#E5ECF6",
          "polar": {
           "angularaxis": {
            "gridcolor": "white",
            "linecolor": "white",
            "ticks": ""
           },
           "bgcolor": "#E5ECF6",
           "radialaxis": {
            "gridcolor": "white",
            "linecolor": "white",
            "ticks": ""
           }
          },
          "scene": {
           "xaxis": {
            "backgroundcolor": "#E5ECF6",
            "gridcolor": "white",
            "gridwidth": 2,
            "linecolor": "white",
            "showbackground": true,
            "ticks": "",
            "zerolinecolor": "white"
           },
           "yaxis": {
            "backgroundcolor": "#E5ECF6",
            "gridcolor": "white",
            "gridwidth": 2,
            "linecolor": "white",
            "showbackground": true,
            "ticks": "",
            "zerolinecolor": "white"
           },
           "zaxis": {
            "backgroundcolor": "#E5ECF6",
            "gridcolor": "white",
            "gridwidth": 2,
            "linecolor": "white",
            "showbackground": true,
            "ticks": "",
            "zerolinecolor": "white"
           }
          },
          "shapedefaults": {
           "line": {
            "color": "#2a3f5f"
           }
          },
          "ternary": {
           "aaxis": {
            "gridcolor": "white",
            "linecolor": "white",
            "ticks": ""
           },
           "baxis": {
            "gridcolor": "white",
            "linecolor": "white",
            "ticks": ""
           },
           "bgcolor": "#E5ECF6",
           "caxis": {
            "gridcolor": "white",
            "linecolor": "white",
            "ticks": ""
           }
          },
          "title": {
           "x": 0.05
          },
          "xaxis": {
           "automargin": true,
           "gridcolor": "white",
           "linecolor": "white",
           "ticks": "",
           "title": {
            "standoff": 15
           },
           "zerolinecolor": "white",
           "zerolinewidth": 2
          },
          "yaxis": {
           "automargin": true,
           "gridcolor": "white",
           "linecolor": "white",
           "ticks": "",
           "title": {
            "standoff": 15
           },
           "zerolinecolor": "white",
           "zerolinewidth": 2
          }
         }
        },
        "xaxis": {
         "anchor": "y",
         "domain": [
          0,
          1
         ],
         "title": {
          "text": "Объём текста"
         }
        },
        "yaxis": {
         "anchor": "x",
         "domain": [
          0,
          1
         ],
         "title": {
          "text": "y"
         }
        }
       }
      }
     },
     "metadata": {},
     "output_type": "display_data"
    }
   ],
   "source": [
    "# Визуализируем распределение частоты значений признака\n",
    "counts, bins = np.histogram(df_drop.image_text_area, bins=range(0, 50, 10))\n",
    "bins = bins[:-1]\n",
    "\n",
    "fig = px.bar(x=bins, y=counts, \n",
    "            labels={'x': 'Объём текста'},\n",
    "            color=counts\n",
    "            )\n",
    "\n",
    "fig.show();"
   ]
  },
  {
   "cell_type": "markdown",
   "metadata": {},
   "source": [
    "Текст объёмом 30, представлен только в одном наблюдении, в связи с чем мы не сможем найти какую-то заквисимость целевой переменной от этого значения, а оставшиеся значения необходимо нормализовать, что сделаем позднее"
   ]
  },
  {
   "cell_type": "code",
   "execution_count": 1567,
   "metadata": {},
   "outputs": [
    {
     "name": "stdout",
     "output_type": "stream",
     "text": [
      "Теперь стало 338 наблюдений\n"
     ]
    }
   ],
   "source": [
    "drop_index = df_drop[df_drop.image_text_area == 30].index\n",
    "df_drop.drop(index=drop_index, inplace=True)\n",
    "df_drop.reset_index(drop=True, inplace=True)\n",
    "\n",
    "print(f'Теперь стало {df_drop.shape[0]} наблюдений')"
   ]
  },
  {
   "cell_type": "markdown",
   "metadata": {},
   "source": [
    "### **Дополнительные цвета - `image_color_rest`**"
   ]
  },
  {
   "cell_type": "code",
   "execution_count": 1568,
   "metadata": {},
   "outputs": [
    {
     "data": {
      "application/vnd.plotly.v1+json": {
       "config": {
        "plotlyServerURL": "https://plot.ly"
       },
       "data": [
        {
         "alignmentgroup": "True",
         "hovertemplate": "Количество цветов в объявлении=%{x}<br>Частота использования=%{marker.color}<extra></extra>",
         "legendgroup": "",
         "marker": {
          "color": [
           4,
           6,
           1,
           3,
           0,
           2,
           3,
           6,
           5,
           4,
           6,
           3,
           6,
           4,
           3,
           6,
           5,
           2,
           2,
           4,
           4,
           1,
           9,
           1,
           2,
           3,
           4,
           4,
           6,
           3,
           8,
           4,
           4,
           2,
           6,
           7,
           5,
           2,
           3,
           4,
           6,
           6,
           3,
           7,
           4,
           5,
           5,
           9,
           11,
           10,
           3,
           5,
           4,
           6,
           3,
           6,
           5,
           6,
           1,
           5,
           3,
           10,
           1,
           4,
           8,
           9,
           11,
           1,
           5
          ],
          "coloraxis": "coloraxis",
          "pattern": {
           "shape": ""
          }
         },
         "name": "",
         "offsetgroup": "",
         "orientation": "v",
         "showlegend": false,
         "textposition": "auto",
         "texttemplate": "%{y:.3s}",
         "type": "bar",
         "x": [
          0,
          1,
          2,
          3,
          4,
          5,
          6,
          7,
          8,
          9,
          10,
          11,
          12,
          13,
          14,
          15,
          16,
          17,
          18,
          19,
          20,
          21,
          22,
          23,
          24,
          25,
          26,
          27,
          28,
          29,
          30,
          31,
          32,
          33,
          34,
          35,
          36,
          37,
          38,
          39,
          40,
          41,
          42,
          43,
          44,
          45,
          46,
          47,
          48,
          49,
          50,
          51,
          52,
          53,
          54,
          55,
          56,
          57,
          58,
          59,
          60,
          61,
          62,
          63,
          64,
          65,
          66,
          67,
          68
         ],
         "xaxis": "x",
         "y": [
          4,
          6,
          1,
          3,
          0,
          2,
          3,
          6,
          5,
          4,
          6,
          3,
          6,
          4,
          3,
          6,
          5,
          2,
          2,
          4,
          4,
          1,
          9,
          1,
          2,
          3,
          4,
          4,
          6,
          3,
          8,
          4,
          4,
          2,
          6,
          7,
          5,
          2,
          3,
          4,
          6,
          6,
          3,
          7,
          4,
          5,
          5,
          9,
          11,
          10,
          3,
          5,
          4,
          6,
          3,
          6,
          5,
          6,
          1,
          5,
          3,
          10,
          1,
          4,
          8,
          9,
          11,
          1,
          5
         ],
         "yaxis": "y"
        }
       ],
       "layout": {
        "barmode": "relative",
        "coloraxis": {
         "colorbar": {
          "title": {
           "text": "Частота использования"
          }
         },
         "colorscale": [
          [
           0,
           "#0d0887"
          ],
          [
           0.1111111111111111,
           "#46039f"
          ],
          [
           0.2222222222222222,
           "#7201a8"
          ],
          [
           0.3333333333333333,
           "#9c179e"
          ],
          [
           0.4444444444444444,
           "#bd3786"
          ],
          [
           0.5555555555555556,
           "#d8576b"
          ],
          [
           0.6666666666666666,
           "#ed7953"
          ],
          [
           0.7777777777777778,
           "#fb9f3a"
          ],
          [
           0.8888888888888888,
           "#fdca26"
          ],
          [
           1,
           "#f0f921"
          ]
         ]
        },
        "height": 600,
        "legend": {
         "tracegroupgap": 0
        },
        "showlegend": false,
        "template": {
         "data": {
          "bar": [
           {
            "error_x": {
             "color": "#2a3f5f"
            },
            "error_y": {
             "color": "#2a3f5f"
            },
            "marker": {
             "line": {
              "color": "#E5ECF6",
              "width": 0.5
             },
             "pattern": {
              "fillmode": "overlay",
              "size": 10,
              "solidity": 0.2
             }
            },
            "type": "bar"
           }
          ],
          "barpolar": [
           {
            "marker": {
             "line": {
              "color": "#E5ECF6",
              "width": 0.5
             },
             "pattern": {
              "fillmode": "overlay",
              "size": 10,
              "solidity": 0.2
             }
            },
            "type": "barpolar"
           }
          ],
          "carpet": [
           {
            "aaxis": {
             "endlinecolor": "#2a3f5f",
             "gridcolor": "white",
             "linecolor": "white",
             "minorgridcolor": "white",
             "startlinecolor": "#2a3f5f"
            },
            "baxis": {
             "endlinecolor": "#2a3f5f",
             "gridcolor": "white",
             "linecolor": "white",
             "minorgridcolor": "white",
             "startlinecolor": "#2a3f5f"
            },
            "type": "carpet"
           }
          ],
          "choropleth": [
           {
            "colorbar": {
             "outlinewidth": 0,
             "ticks": ""
            },
            "type": "choropleth"
           }
          ],
          "contour": [
           {
            "colorbar": {
             "outlinewidth": 0,
             "ticks": ""
            },
            "colorscale": [
             [
              0,
              "#0d0887"
             ],
             [
              0.1111111111111111,
              "#46039f"
             ],
             [
              0.2222222222222222,
              "#7201a8"
             ],
             [
              0.3333333333333333,
              "#9c179e"
             ],
             [
              0.4444444444444444,
              "#bd3786"
             ],
             [
              0.5555555555555556,
              "#d8576b"
             ],
             [
              0.6666666666666666,
              "#ed7953"
             ],
             [
              0.7777777777777778,
              "#fb9f3a"
             ],
             [
              0.8888888888888888,
              "#fdca26"
             ],
             [
              1,
              "#f0f921"
             ]
            ],
            "type": "contour"
           }
          ],
          "contourcarpet": [
           {
            "colorbar": {
             "outlinewidth": 0,
             "ticks": ""
            },
            "type": "contourcarpet"
           }
          ],
          "heatmap": [
           {
            "colorbar": {
             "outlinewidth": 0,
             "ticks": ""
            },
            "colorscale": [
             [
              0,
              "#0d0887"
             ],
             [
              0.1111111111111111,
              "#46039f"
             ],
             [
              0.2222222222222222,
              "#7201a8"
             ],
             [
              0.3333333333333333,
              "#9c179e"
             ],
             [
              0.4444444444444444,
              "#bd3786"
             ],
             [
              0.5555555555555556,
              "#d8576b"
             ],
             [
              0.6666666666666666,
              "#ed7953"
             ],
             [
              0.7777777777777778,
              "#fb9f3a"
             ],
             [
              0.8888888888888888,
              "#fdca26"
             ],
             [
              1,
              "#f0f921"
             ]
            ],
            "type": "heatmap"
           }
          ],
          "heatmapgl": [
           {
            "colorbar": {
             "outlinewidth": 0,
             "ticks": ""
            },
            "colorscale": [
             [
              0,
              "#0d0887"
             ],
             [
              0.1111111111111111,
              "#46039f"
             ],
             [
              0.2222222222222222,
              "#7201a8"
             ],
             [
              0.3333333333333333,
              "#9c179e"
             ],
             [
              0.4444444444444444,
              "#bd3786"
             ],
             [
              0.5555555555555556,
              "#d8576b"
             ],
             [
              0.6666666666666666,
              "#ed7953"
             ],
             [
              0.7777777777777778,
              "#fb9f3a"
             ],
             [
              0.8888888888888888,
              "#fdca26"
             ],
             [
              1,
              "#f0f921"
             ]
            ],
            "type": "heatmapgl"
           }
          ],
          "histogram": [
           {
            "marker": {
             "pattern": {
              "fillmode": "overlay",
              "size": 10,
              "solidity": 0.2
             }
            },
            "type": "histogram"
           }
          ],
          "histogram2d": [
           {
            "colorbar": {
             "outlinewidth": 0,
             "ticks": ""
            },
            "colorscale": [
             [
              0,
              "#0d0887"
             ],
             [
              0.1111111111111111,
              "#46039f"
             ],
             [
              0.2222222222222222,
              "#7201a8"
             ],
             [
              0.3333333333333333,
              "#9c179e"
             ],
             [
              0.4444444444444444,
              "#bd3786"
             ],
             [
              0.5555555555555556,
              "#d8576b"
             ],
             [
              0.6666666666666666,
              "#ed7953"
             ],
             [
              0.7777777777777778,
              "#fb9f3a"
             ],
             [
              0.8888888888888888,
              "#fdca26"
             ],
             [
              1,
              "#f0f921"
             ]
            ],
            "type": "histogram2d"
           }
          ],
          "histogram2dcontour": [
           {
            "colorbar": {
             "outlinewidth": 0,
             "ticks": ""
            },
            "colorscale": [
             [
              0,
              "#0d0887"
             ],
             [
              0.1111111111111111,
              "#46039f"
             ],
             [
              0.2222222222222222,
              "#7201a8"
             ],
             [
              0.3333333333333333,
              "#9c179e"
             ],
             [
              0.4444444444444444,
              "#bd3786"
             ],
             [
              0.5555555555555556,
              "#d8576b"
             ],
             [
              0.6666666666666666,
              "#ed7953"
             ],
             [
              0.7777777777777778,
              "#fb9f3a"
             ],
             [
              0.8888888888888888,
              "#fdca26"
             ],
             [
              1,
              "#f0f921"
             ]
            ],
            "type": "histogram2dcontour"
           }
          ],
          "mesh3d": [
           {
            "colorbar": {
             "outlinewidth": 0,
             "ticks": ""
            },
            "type": "mesh3d"
           }
          ],
          "parcoords": [
           {
            "line": {
             "colorbar": {
              "outlinewidth": 0,
              "ticks": ""
             }
            },
            "type": "parcoords"
           }
          ],
          "pie": [
           {
            "automargin": true,
            "type": "pie"
           }
          ],
          "scatter": [
           {
            "fillpattern": {
             "fillmode": "overlay",
             "size": 10,
             "solidity": 0.2
            },
            "type": "scatter"
           }
          ],
          "scatter3d": [
           {
            "line": {
             "colorbar": {
              "outlinewidth": 0,
              "ticks": ""
             }
            },
            "marker": {
             "colorbar": {
              "outlinewidth": 0,
              "ticks": ""
             }
            },
            "type": "scatter3d"
           }
          ],
          "scattercarpet": [
           {
            "marker": {
             "colorbar": {
              "outlinewidth": 0,
              "ticks": ""
             }
            },
            "type": "scattercarpet"
           }
          ],
          "scattergeo": [
           {
            "marker": {
             "colorbar": {
              "outlinewidth": 0,
              "ticks": ""
             }
            },
            "type": "scattergeo"
           }
          ],
          "scattergl": [
           {
            "marker": {
             "colorbar": {
              "outlinewidth": 0,
              "ticks": ""
             }
            },
            "type": "scattergl"
           }
          ],
          "scattermapbox": [
           {
            "marker": {
             "colorbar": {
              "outlinewidth": 0,
              "ticks": ""
             }
            },
            "type": "scattermapbox"
           }
          ],
          "scatterpolar": [
           {
            "marker": {
             "colorbar": {
              "outlinewidth": 0,
              "ticks": ""
             }
            },
            "type": "scatterpolar"
           }
          ],
          "scatterpolargl": [
           {
            "marker": {
             "colorbar": {
              "outlinewidth": 0,
              "ticks": ""
             }
            },
            "type": "scatterpolargl"
           }
          ],
          "scatterternary": [
           {
            "marker": {
             "colorbar": {
              "outlinewidth": 0,
              "ticks": ""
             }
            },
            "type": "scatterternary"
           }
          ],
          "surface": [
           {
            "colorbar": {
             "outlinewidth": 0,
             "ticks": ""
            },
            "colorscale": [
             [
              0,
              "#0d0887"
             ],
             [
              0.1111111111111111,
              "#46039f"
             ],
             [
              0.2222222222222222,
              "#7201a8"
             ],
             [
              0.3333333333333333,
              "#9c179e"
             ],
             [
              0.4444444444444444,
              "#bd3786"
             ],
             [
              0.5555555555555556,
              "#d8576b"
             ],
             [
              0.6666666666666666,
              "#ed7953"
             ],
             [
              0.7777777777777778,
              "#fb9f3a"
             ],
             [
              0.8888888888888888,
              "#fdca26"
             ],
             [
              1,
              "#f0f921"
             ]
            ],
            "type": "surface"
           }
          ],
          "table": [
           {
            "cells": {
             "fill": {
              "color": "#EBF0F8"
             },
             "line": {
              "color": "white"
             }
            },
            "header": {
             "fill": {
              "color": "#C8D4E3"
             },
             "line": {
              "color": "white"
             }
            },
            "type": "table"
           }
          ]
         },
         "layout": {
          "annotationdefaults": {
           "arrowcolor": "#2a3f5f",
           "arrowhead": 0,
           "arrowwidth": 1
          },
          "autotypenumbers": "strict",
          "coloraxis": {
           "colorbar": {
            "outlinewidth": 0,
            "ticks": ""
           }
          },
          "colorscale": {
           "diverging": [
            [
             0,
             "#8e0152"
            ],
            [
             0.1,
             "#c51b7d"
            ],
            [
             0.2,
             "#de77ae"
            ],
            [
             0.3,
             "#f1b6da"
            ],
            [
             0.4,
             "#fde0ef"
            ],
            [
             0.5,
             "#f7f7f7"
            ],
            [
             0.6,
             "#e6f5d0"
            ],
            [
             0.7,
             "#b8e186"
            ],
            [
             0.8,
             "#7fbc41"
            ],
            [
             0.9,
             "#4d9221"
            ],
            [
             1,
             "#276419"
            ]
           ],
           "sequential": [
            [
             0,
             "#0d0887"
            ],
            [
             0.1111111111111111,
             "#46039f"
            ],
            [
             0.2222222222222222,
             "#7201a8"
            ],
            [
             0.3333333333333333,
             "#9c179e"
            ],
            [
             0.4444444444444444,
             "#bd3786"
            ],
            [
             0.5555555555555556,
             "#d8576b"
            ],
            [
             0.6666666666666666,
             "#ed7953"
            ],
            [
             0.7777777777777778,
             "#fb9f3a"
            ],
            [
             0.8888888888888888,
             "#fdca26"
            ],
            [
             1,
             "#f0f921"
            ]
           ],
           "sequentialminus": [
            [
             0,
             "#0d0887"
            ],
            [
             0.1111111111111111,
             "#46039f"
            ],
            [
             0.2222222222222222,
             "#7201a8"
            ],
            [
             0.3333333333333333,
             "#9c179e"
            ],
            [
             0.4444444444444444,
             "#bd3786"
            ],
            [
             0.5555555555555556,
             "#d8576b"
            ],
            [
             0.6666666666666666,
             "#ed7953"
            ],
            [
             0.7777777777777778,
             "#fb9f3a"
            ],
            [
             0.8888888888888888,
             "#fdca26"
            ],
            [
             1,
             "#f0f921"
            ]
           ]
          },
          "colorway": [
           "#636efa",
           "#EF553B",
           "#00cc96",
           "#ab63fa",
           "#FFA15A",
           "#19d3f3",
           "#FF6692",
           "#B6E880",
           "#FF97FF",
           "#FECB52"
          ],
          "font": {
           "color": "#2a3f5f"
          },
          "geo": {
           "bgcolor": "white",
           "lakecolor": "white",
           "landcolor": "#E5ECF6",
           "showlakes": true,
           "showland": true,
           "subunitcolor": "white"
          },
          "hoverlabel": {
           "align": "left"
          },
          "hovermode": "closest",
          "mapbox": {
           "style": "light"
          },
          "paper_bgcolor": "white",
          "plot_bgcolor": "#E5ECF6",
          "polar": {
           "angularaxis": {
            "gridcolor": "white",
            "linecolor": "white",
            "ticks": ""
           },
           "bgcolor": "#E5ECF6",
           "radialaxis": {
            "gridcolor": "white",
            "linecolor": "white",
            "ticks": ""
           }
          },
          "scene": {
           "xaxis": {
            "backgroundcolor": "#E5ECF6",
            "gridcolor": "white",
            "gridwidth": 2,
            "linecolor": "white",
            "showbackground": true,
            "ticks": "",
            "zerolinecolor": "white"
           },
           "yaxis": {
            "backgroundcolor": "#E5ECF6",
            "gridcolor": "white",
            "gridwidth": 2,
            "linecolor": "white",
            "showbackground": true,
            "ticks": "",
            "zerolinecolor": "white"
           },
           "zaxis": {
            "backgroundcolor": "#E5ECF6",
            "gridcolor": "white",
            "gridwidth": 2,
            "linecolor": "white",
            "showbackground": true,
            "ticks": "",
            "zerolinecolor": "white"
           }
          },
          "shapedefaults": {
           "line": {
            "color": "#2a3f5f"
           }
          },
          "ternary": {
           "aaxis": {
            "gridcolor": "white",
            "linecolor": "white",
            "ticks": ""
           },
           "baxis": {
            "gridcolor": "white",
            "linecolor": "white",
            "ticks": ""
           },
           "bgcolor": "#E5ECF6",
           "caxis": {
            "gridcolor": "white",
            "linecolor": "white",
            "ticks": ""
           }
          },
          "title": {
           "x": 0.05
          },
          "xaxis": {
           "automargin": true,
           "gridcolor": "white",
           "linecolor": "white",
           "ticks": "",
           "title": {
            "standoff": 15
           },
           "zerolinecolor": "white",
           "zerolinewidth": 2
          },
          "yaxis": {
           "automargin": true,
           "gridcolor": "white",
           "linecolor": "white",
           "ticks": "",
           "title": {
            "standoff": 15
           },
           "zerolinecolor": "white",
           "zerolinewidth": 2
          }
         }
        },
        "title": {
         "text": "Частота использовани наборов дополнительных цветов"
        },
        "xaxis": {
         "anchor": "y",
         "domain": [
          0,
          1
         ],
         "title": {
          "text": "Количество цветов в объявлении"
         }
        },
        "yaxis": {
         "anchor": "x",
         "domain": [
          0,
          1
         ],
         "title": {
          "text": "Частота использования"
         }
        }
       }
      }
     },
     "metadata": {},
     "output_type": "display_data"
    }
   ],
   "source": [
    "df_plot = df_drop.image_color_rest.value_counts().reset_index().image_color_rest.apply(lambda x: len(x))\n",
    "fig = px.bar(df_plot,\n",
    "        labels={'index': 'Количество цветов в объявлении',\n",
    "                'value': 'Частота использования'\n",
    "                },\n",
    "        text_auto='.3s',\n",
    "        title='Частота использовани наборов дополнительных цветов',\n",
    "        height=600,\n",
    "        color='value'\n",
    ")\n",
    "fig.update_layout(showlegend=False)\n",
    "fig.show();"
   ]
  },
  {
   "cell_type": "markdown",
   "metadata": {},
   "source": [
    "Признак содержит списки дополнительных цветов в шестнадцатеричном цифровом коде. При этом наборы расцветки могут быть различными как по сочетанию, так и по количеству (варируется от 0 до 11) цветов. В силу того, что на таком небольшом датасете невозможно уловить какую-либо тенденцию применения того или иного набора, предполагаем, что применение какждого цвета может послиять на таргет, а значит требуется бинарное их кодирование. "
   ]
  },
  {
   "cell_type": "code",
   "execution_count": 1569,
   "metadata": {},
   "outputs": [
    {
     "name": "stdout",
     "output_type": "stream",
     "text": [
      "Теперь стало 84 признака(ов)\n"
     ]
    }
   ],
   "source": [
    "# Создадим функцию, чтобы получить список уникальных значений в столбце, состоящим из списков и провести бинарное кодирование\n",
    "def binary_cod(data):\n",
    "    all_values = []\n",
    "    \n",
    "    for val in data:\n",
    "        all_values.extend(','.join(val).split(','))\n",
    "\n",
    "    uniq_values = set(all_values)\n",
    "        \n",
    "    lot_codes = data.apply(lambda x: [1 if i in x else 0 for i in uniq_values])\n",
    "\n",
    "    codes_list = []\n",
    "    for lot in lot_codes:\n",
    "        codes_list.append(lot)\n",
    "\n",
    "    return pd.DataFrame(np.array(codes_list), columns=list(uniq_values))\n",
    "\n",
    "df_drop = pd.concat([df_drop, binary_cod(df_drop.image_color_rest)], axis=1).drop('image_color_rest', axis=1)\n",
    "print(f'Теперь стало {df_drop.shape[1]} признака(ов)')"
   ]
  },
  {
   "cell_type": "markdown",
   "metadata": {},
   "source": [
    "### **Объекты и дополнительные объекты - `image_objects` и `image_tags`**"
   ]
  },
  {
   "cell_type": "markdown",
   "metadata": {},
   "source": [
    "Структура данных признаков такая же как и у `image_color_rest` - номинальные категориальные признаки в списках (различные сочетанияряда уникальных значений), поэжтому воспользуемся той же функцией, закодируем их и присоеденим к основному датасету, удалив \"родительский\" признак "
   ]
  },
  {
   "cell_type": "code",
   "execution_count": 1570,
   "metadata": {},
   "outputs": [
    {
     "name": "stdout",
     "output_type": "stream",
     "text": [
      "Теперь стало 238 признака(ов)\n"
     ]
    }
   ],
   "source": [
    "df_drop = pd.concat([df_drop, binary_cod(df_drop.image_objects)], axis=1).drop('image_objects', axis=1)\n",
    "df_drop = pd.concat([df_drop, binary_cod(df_drop.image_tags)], axis=1).drop('image_tags', axis=1)\n",
    "print(f'Теперь стало {df_drop.shape[1]} признака(ов)')"
   ]
  },
  {
   "cell_type": "markdown",
   "metadata": {},
   "source": [
    "### **Фразы и составляющие их существительные, глаголы и прилагательные - `image_phrases`, `image_nouns`, `image_verbs`, `image_adjs`**"
   ]
  },
  {
   "cell_type": "markdown",
   "metadata": {},
   "source": [
    "Данные признаки повторяют признак `image_text`, закодированный ранее, а в разобранном виде они могут пригодиться лишь для технологии **NLP**, для которой, к сожалению, данный датасет содержит слишком мало наблюдений, поэтому указанные признаки подлежат удалению."
   ]
  },
  {
   "cell_type": "code",
   "execution_count": 1571,
   "metadata": {},
   "outputs": [
    {
     "name": "stdout",
     "output_type": "stream",
     "text": [
      "Теперь стало 234 признака(ов)\n"
     ]
    }
   ],
   "source": [
    "df_drop.drop(['image_phrases', 'image_nouns', 'image_verbs', 'image_adjs'], axis=1, inplace=True)\n",
    "print(f'Теперь стало {df_drop.shape[1]} признака(ов)')"
   ]
  },
  {
   "cell_type": "markdown",
   "metadata": {},
   "source": [
    "## **Таргет - `ctr`**"
   ]
  },
  {
   "cell_type": "markdown",
   "metadata": {},
   "source": [
    "Для уточнения распределния целевой переменной проведём тест Д'Агостино при уровне значимости $\\alpha=0.05$"
   ]
  },
  {
   "cell_type": "code",
   "execution_count": 1572,
   "metadata": {},
   "outputs": [
    {
     "name": "stdout",
     "output_type": "stream",
     "text": [
      "p-value = 0.0000000000\n",
      "Данные не распределены нормально (мы отвергаем H0)\n"
     ]
    }
   ],
   "source": [
    "H0 = 'Данные распределены нормально'\n",
    "Ha = 'Данные не распределены нормально (мы отвергаем H0)'\n",
    "alpha = 0.05\n",
    "\n",
    "_, p = normaltest(df_drop.ctr)\n",
    "#Выводим результат p-value\n",
    "print('p-value = %.10f' % p)\n",
    "\n",
    "if p > alpha/2:\n",
    "\tprint(H0)\n",
    "else:\n",
    "\tprint(Ha)"
   ]
  },
  {
   "cell_type": "markdown",
   "metadata": {},
   "source": [
    "## **Отбор признаков**"
   ]
  },
  {
   "cell_type": "code",
   "execution_count": 1661,
   "metadata": {},
   "outputs": [],
   "source": [
    "X = df_drop.drop('ctr', axis=1)\n",
    "y = df_drop['ctr']\n",
    "\n",
    "X_train, X_valid, y_train, y_valid = train_test_split(\n",
    "    X, y, \n",
    "    test_size=0.25, \n",
    "    random_state=RANDOM_STATE\n",
    ")"
   ]
  },
  {
   "cell_type": "code",
   "execution_count": 1662,
   "metadata": {},
   "outputs": [],
   "source": [
    "# Проводим отбор\n",
    "selector = SelectKBest(score_func=f_regression, k=60)\n",
    "selector.fit(X_train, y_train)\n",
    "best_col = selector.get_feature_names_out()"
   ]
  },
  {
   "cell_type": "code",
   "execution_count": 1663,
   "metadata": {},
   "outputs": [],
   "source": [
    "X_train_best = X_train[best_col]\n",
    "X_valid_best = X_valid[best_col]"
   ]
  },
  {
   "cell_type": "code",
   "execution_count": 1664,
   "metadata": {},
   "outputs": [],
   "source": [
    "best_col = list(best_col)\n",
    "best_col.append('ctr')"
   ]
  },
  {
   "cell_type": "code",
   "execution_count": 1665,
   "metadata": {},
   "outputs": [
    {
     "data": {
      "application/vnd.plotly.v1+json": {
       "config": {
        "plotlyServerURL": "https://plot.ly"
       },
       "data": [
        {
         "coloraxis": "coloraxis",
         "hovertemplate": "x: %{x}<br>y: %{y}<br>color: %{z}<extra></extra>",
         "name": "0",
         "texttemplate": "%{z}",
         "type": "heatmap",
         "x": [
          "image_text_length",
          "image_color_main_2",
          "image_color_main_3",
          "image_proportions_2",
          "image_proportions_5",
          "image_proportions_6",
          "image_proportions_7",
          "image_proportions_10",
          "image_text_2",
          "image_text_3",
          "image_text_6",
          "#996699",
          "#6699cc",
          "#333333",
          "#ffffff",
          "#996666",
          "#999999",
          "#993333",
          "person",
          "necklace",
          "felidae",
          "sky",
          "display device",
          "moon",
          "carnivore",
          "full moon",
          "gadget",
          "thunder",
          "circle",
          "nature",
          "atmosphere",
          "hair",
          "small to medium-sized cats",
          "astronomical object",
          "happy",
          "thunderstorm",
          "light",
          "sleeve",
          "hairstyle",
          "history",
          "adaptation",
          "science",
          "fictional character",
          "cat",
          "gas",
          "screenshot",
          "multimedia",
          "number",
          "space",
          "illustration",
          "water",
          "midnight",
          "world",
          "doll",
          "lighting",
          "lighting",
          "darkness",
          "eyelash",
          "lightning",
          "magenta",
          "poster",
          "ctr"
         ],
         "xaxis": "x",
         "y": [
          "image_text_length",
          "image_color_main_2",
          "image_color_main_3",
          "image_proportions_2",
          "image_proportions_5",
          "image_proportions_6",
          "image_proportions_7",
          "image_proportions_10",
          "image_text_2",
          "image_text_3",
          "image_text_6",
          "#996699",
          "#6699cc",
          "#333333",
          "#ffffff",
          "#996666",
          "#999999",
          "#993333",
          "person",
          "necklace",
          "felidae",
          "sky",
          "display device",
          "moon",
          "carnivore",
          "full moon",
          "gadget",
          "thunder",
          "circle",
          "nature",
          "atmosphere",
          "hair",
          "small to medium-sized cats",
          "astronomical object",
          "happy",
          "thunderstorm",
          "light",
          "sleeve",
          "hairstyle",
          "history",
          "adaptation",
          "science",
          "fictional character",
          "cat",
          "gas",
          "screenshot",
          "multimedia",
          "number",
          "space",
          "illustration",
          "water",
          "midnight",
          "world",
          "doll",
          "lighting",
          "lighting",
          "darkness",
          "eyelash",
          "lightning",
          "magenta",
          "poster",
          "ctr"
         ],
         "yaxis": "y",
         "z": [
          [
           1,
           0.39,
           -0.38,
           -0.33,
           -0.1,
           0.29,
           0.16,
           0.02,
           -0.01,
           -0.06,
           0.07,
           -0.02,
           0.11,
           -0.38,
           0.43,
           -0.32,
           -0.04,
           -0.11,
           -0.01,
           -0.02,
           -0.31,
           0.02,
           0.14,
           0.08,
           -0.31,
           0.01,
           0.13,
           0.01,
           0.37,
           0.01,
           0.01,
           0.06,
           -0.31,
           0.45,
           -0.37,
           0.01,
           0.54,
           0.04,
           0.06,
           0.07,
           -0.36,
           0.34,
           -0.03,
           -0.31,
           0.09,
           0.51,
           0.13,
           0.13,
           0.12,
           -0.14,
           0.16,
           0.01,
           0.28,
           0.05,
           -0.06,
           0.01,
           0.15,
           -0.04,
           0.01,
           0.07,
           -0.39,
           0.44
          ],
          [
           0.39,
           1,
           -0.57,
           -0.42,
           -0.06,
           0.17,
           0.12,
           -0.03,
           0.22,
           -0.01,
           -0.22,
           -0.03,
           0.28,
           -0.51,
           0.07,
           -0.56,
           0.38,
           -0.11,
           0.54,
           0.42,
           -0.56,
           0,
           0.25,
           0,
           -0.56,
           -0.08,
           0.28,
           0.05,
           0.38,
           0.05,
           -0.02,
           0.34,
           -0.56,
           0.11,
           -0.22,
           0.05,
           0.13,
           0.36,
           0.34,
           0.05,
           -0.61,
           0.38,
           0.44,
           -0.56,
           0.3,
           0.29,
           0.28,
           0.2,
           0.12,
           -0.07,
           0.12,
           -0.08,
           0.12,
           0.35,
           0,
           0.05,
           0.06,
           0.44,
           0.05,
           0.25,
           -0.68,
           0.21
          ],
          [
           -0.38,
           -0.57,
           1,
           0.56,
           0.1,
           -0.14,
           -0.1,
           0.06,
           -0.21,
           0.03,
           0.19,
           -0.13,
           -0.22,
           0.72,
           -0.2,
           0.69,
           -0.34,
           0.19,
           -0.4,
           -0.33,
           0.71,
           -0.01,
           -0.2,
           0.03,
           0.71,
           0.1,
           -0.22,
           -0.04,
           -0.13,
           -0.04,
           0.06,
           -0.27,
           0.71,
           0.01,
           0.34,
           -0.04,
           -0.15,
           -0.28,
           -0.27,
           -0.04,
           0.65,
           -0.1,
           -0.35,
           0.71,
           -0.23,
           -0.25,
           -0.22,
           -0.16,
           -0.01,
           -0.33,
           -0.1,
           0.1,
           -0.02,
           -0.28,
           0.02,
           -0.04,
           -0.03,
           -0.34,
           -0.04,
           -0.27,
           0.46,
           -0.17
          ],
          [
           -0.33,
           -0.42,
           0.56,
           1,
           -0.08,
           -0.1,
           -0.07,
           -0.05,
           -0.2,
           -0.31,
           0.28,
           -0.15,
           -0.16,
           0.64,
           -0.2,
           0.75,
           -0.09,
           -0.11,
           -0.16,
           -0.05,
           0.81,
           -0.11,
           -0.14,
           -0.06,
           0.81,
           -0.04,
           -0.16,
           -0.03,
           -0.42,
           -0.03,
           -0.08,
           -0.19,
           0.81,
           -0.21,
           0.55,
           -0.03,
           -0.14,
           -0.21,
           -0.19,
           -0.03,
           0.75,
           -0.39,
           -0.08,
           0.81,
           -0.19,
           -0.23,
           -0.16,
           -0.15,
           -0.16,
           -0.07,
           -0.07,
           -0.04,
           -0.19,
           -0.19,
           -0.04,
           -0.03,
           -0.08,
           -0.07,
           -0.03,
           -0.26,
           0.48,
           -0.15
          ],
          [
           -0.1,
           -0.06,
           0.1,
           -0.08,
           1,
           -0.03,
           -0.02,
           -0.01,
           0.09,
           0.21,
           -0.1,
           -0.04,
           -0.04,
           0.12,
           -0.05,
           -0.09,
           -0.02,
           0.19,
           0.01,
           -0.06,
           -0.08,
           0.18,
           -0.04,
           -0.02,
           -0.08,
           -0.01,
           -0.04,
           -0.01,
           0.15,
           -0.01,
           -0.02,
           -0.05,
           -0.08,
           0.13,
           -0.15,
           -0.01,
           0.22,
           -0.05,
           -0.05,
           -0.01,
           -0.09,
           0.16,
           -0.07,
           -0.08,
           0.16,
           -0.06,
           -0.04,
           -0.04,
           0.12,
           -0.01,
           -0.02,
           -0.01,
           0.08,
           0.02,
           -0.01,
           -0.01,
           -0.02,
           -0.01,
           -0.01,
           -0.07,
           -0.09,
           -0.11
          ],
          [
           0.29,
           0.17,
           -0.14,
           -0.1,
           -0.03,
           1,
           -0.02,
           -0.02,
           0.27,
           -0.1,
           0.13,
           -0.05,
           -0.05,
           -0.12,
           -0.06,
           -0.11,
           -0.09,
           -0.03,
           -0.1,
           -0.08,
           -0.1,
           -0.04,
           -0.04,
           -0.02,
           -0.1,
           -0.01,
           -0.05,
           -0.01,
           0.23,
           -0.01,
           -0.03,
           -0.06,
           -0.1,
           0.46,
           -0.18,
           -0.01,
           -0.04,
           -0.07,
           -0.06,
           -0.01,
           -0.11,
           0.24,
           -0.08,
           -0.1,
           -0.06,
           -0.07,
           -0.05,
           -0.05,
           0.62,
           -0.08,
           -0.02,
           -0.01,
           0.5,
           -0.06,
           -0.01,
           -0.01,
           -0.03,
           -0.08,
           -0.01,
           -0.08,
           -0.16,
           0.19
          ],
          [
           0.16,
           0.12,
           -0.1,
           -0.07,
           -0.02,
           -0.02,
           1,
           -0.01,
           0.19,
           0.22,
           -0.16,
           -0.03,
           -0.03,
           -0.09,
           0.34,
           -0.07,
           -0.06,
           -0.02,
           -0.07,
           -0.05,
           -0.07,
           0.59,
           -0.03,
           -0.01,
           -0.07,
           -0.01,
           -0.03,
           -0.01,
           0.16,
           -0.01,
           -0.02,
           -0.04,
           -0.07,
           0.32,
           -0.12,
           -0.01,
           -0.03,
           -0.05,
           -0.04,
           0.44,
           -0.07,
           0.17,
           -0.06,
           -0.07,
           -0.04,
           -0.05,
           -0.03,
           -0.03,
           -0.03,
           -0.06,
           1,
           -0.01,
           0.35,
           -0.04,
           -0.01,
           -0.01,
           0.84,
           -0.06,
           -0.01,
           -0.06,
           -0.11,
           0.63
          ],
          [
           0.02,
           -0.03,
           0.06,
           -0.05,
           -0.01,
           -0.02,
           -0.01,
           1,
           0.08,
           0.09,
           -0.06,
           -0.02,
           -0.03,
           0,
           -0.03,
           -0.06,
           -0.05,
           -0.02,
           -0.05,
           -0.04,
           -0.05,
           0.14,
           -0.02,
           0.57,
           -0.05,
           0.82,
           -0.03,
           0.58,
           -0.07,
           0.58,
           0.65,
           -0.03,
           -0.05,
           0.15,
           -0.1,
           0.58,
           0.11,
           -0.04,
           -0.03,
           -0.01,
           -0.06,
           0.07,
           -0.04,
           -0.05,
           -0.03,
           -0.04,
           -0.03,
           -0.03,
           0.21,
           -0.04,
           -0.01,
           0.82,
           0.17,
           -0.03,
           -0.01,
           0.58,
           -0.01,
           -0.04,
           0.58,
           -0.04,
           -0.02,
           0.22
          ],
          [
           -0.01,
           0.22,
           -0.21,
           -0.2,
           0.09,
           0.27,
           0.19,
           0.08,
           1,
           0.21,
           -0.36,
           0.25,
           -0.18,
           -0.24,
           0.14,
           -0.33,
           -0.08,
           0.14,
           0.3,
           -0.09,
           -0.36,
           0.16,
           -0.16,
           0.11,
           -0.36,
           0.12,
           -0.06,
           -0.03,
           0.36,
           -0.03,
           0.14,
           -0.22,
           -0.36,
           0.36,
           -0.28,
           -0.03,
           -0.08,
           -0.22,
           -0.22,
           0.09,
           -0.26,
           0.43,
           -0.11,
           -0.36,
           0.1,
           -0.13,
           -0.06,
           -0.12,
           0.29,
           -0.07,
           0.19,
           0.12,
           0.28,
           -0.2,
           0.04,
           -0.03,
           0.23,
           -0.08,
           -0.03,
           -0.22,
           -0.32,
           0.08
          ],
          [
           -0.06,
           -0.01,
           0.03,
           -0.31,
           0.21,
           -0.1,
           0.22,
           0.09,
           0.21,
           1,
           -0.24,
           -0.09,
           -0.03,
           0.01,
           0.13,
           -0.09,
           -0.1,
           0.18,
           -0.1,
           -0.12,
           -0.09,
           0.2,
           -0.14,
           0.19,
           -0.09,
           0.14,
           -0.16,
           -0.03,
           0.16,
           -0.03,
           0.06,
           -0.19,
           -0.09,
           0.22,
           -0.07,
           -0.03,
           0.14,
           -0.09,
           -0.19,
           0.1,
           -0.14,
           0.1,
           -0.05,
           -0.09,
           0.13,
           -0.07,
           -0.16,
           -0.12,
           0.13,
           -0.02,
           0.22,
           0.14,
           0.18,
           -0.17,
           0.14,
           -0.03,
           0.21,
           -0.11,
           -0.03,
           -0.03,
           -0.06,
           0.09
          ],
          [
           0.07,
           -0.22,
           0.19,
           0.28,
           -0.1,
           0.13,
           -0.16,
           -0.06,
           -0.36,
           -0.24,
           1,
           -0.07,
           -0.37,
           0.21,
           -0.19,
           0.26,
           0.05,
           -0.04,
           -0.14,
           0.12,
           0.24,
           -0.21,
           -0.33,
           -0.09,
           0.24,
           -0.1,
           -0.25,
           0.04,
           -0.38,
           0.04,
           -0.06,
           0.26,
           0.24,
           0.05,
           0.25,
           0.04,
           0.1,
           0.29,
           0.26,
           -0.07,
           0.16,
           -0.37,
           0.09,
           0.24,
           -0.42,
           -0.14,
           -0.25,
           -0.3,
           0.05,
           0.06,
           -0.16,
           -0.1,
           -0.01,
           0.25,
           0.06,
           0.04,
           -0.1,
           0.09,
           0.04,
           0.17,
           0.29,
           -0.2
          ],
          [
           -0.02,
           -0.03,
           -0.13,
           -0.15,
           -0.04,
           -0.05,
           -0.03,
           -0.02,
           0.25,
           -0.09,
           -0.07,
           1,
           -0.07,
           -0.03,
           0.29,
           -0.08,
           0.02,
           -0.05,
           -0.01,
           -0.12,
           -0.12,
           0.01,
           -0.07,
           0.08,
           -0.12,
           -0.02,
           0.15,
           -0.01,
           -0.07,
           -0.01,
           -0.04,
           -0.09,
           -0.12,
           -0.1,
           0.04,
           -0.01,
           0.03,
           -0.1,
           -0.09,
           -0.01,
           0.08,
           -0.06,
           -0.12,
           -0.12,
           -0.09,
           0.13,
           0.15,
           -0.07,
           -0.07,
           -0.12,
           -0.03,
           -0.02,
           -0.05,
           -0.09,
           -0.02,
           -0.01,
           -0.04,
           -0.12,
           -0.01,
           -0.09,
           0.05,
           -0.13
          ],
          [
           0.11,
           0.28,
           -0.22,
           -0.16,
           -0.04,
           -0.05,
           -0.03,
           -0.03,
           -0.18,
           -0.03,
           -0.37,
           -0.07,
           1,
           -0.2,
           0.08,
           -0.17,
           -0.14,
           -0.06,
           -0.16,
           -0.12,
           -0.16,
           -0.06,
           0.89,
           -0.03,
           -0.16,
           -0.02,
           0.78,
           -0.02,
           0.26,
           -0.02,
           -0.04,
           -0.1,
           -0.16,
           -0.11,
           -0.17,
           -0.02,
           -0.07,
           -0.11,
           -0.1,
           -0.02,
           -0.17,
           0.28,
           0.01,
           -0.16,
           0.65,
           0.53,
           0.78,
           0.82,
           -0.08,
           0.02,
           -0.03,
           -0.02,
           -0.1,
           -0.1,
           -0.02,
           -0.02,
           -0.04,
           -0.13,
           -0.02,
           -0.13,
           -0.14,
           0.31
          ],
          [
           -0.38,
           -0.51,
           0.72,
           0.64,
           0.12,
           -0.12,
           -0.09,
           0,
           -0.24,
           0.01,
           0.21,
           -0.03,
           -0.2,
           1,
           -0.21,
           0.8,
           -0.25,
           0.06,
           -0.26,
           -0.26,
           0.8,
           0.08,
           -0.18,
           -0.02,
           0.8,
           -0.05,
           -0.08,
           0.08,
           -0.36,
           0.08,
           0.03,
           -0.24,
           0.8,
           -0.1,
           0.36,
           0.08,
           -0.08,
           -0.24,
           -0.24,
           -0.04,
           0.74,
           -0.3,
           -0.3,
           0.8,
           -0.2,
           -0.2,
           -0.08,
           -0.19,
           -0.03,
           -0.25,
           -0.09,
           -0.05,
           -0.08,
           -0.25,
           -0.05,
           0.08,
           -0.1,
           -0.25,
           0.08,
           -0.25,
           0.45,
           -0.21
          ],
          [
           0.43,
           0.07,
           -0.2,
           -0.2,
           -0.05,
           -0.06,
           0.34,
           -0.03,
           0.14,
           0.13,
           -0.19,
           0.29,
           0.08,
           -0.21,
           1,
           -0.15,
           -0.08,
           -0.07,
           -0.18,
           -0.13,
           -0.18,
           0.21,
           -0.09,
           0.05,
           -0.18,
           -0.03,
           -0.1,
           -0.02,
           0.04,
           -0.02,
           0.01,
           -0.12,
           -0.18,
           0.23,
           0,
           -0.02,
           0.26,
           -0.11,
           -0.12,
           0.15,
           -0.03,
           0.04,
           0.03,
           -0.18,
           -0.12,
           0.15,
           -0.1,
           -0.06,
           -0.1,
           0.04,
           0.34,
           -0.03,
           0.09,
           -0.12,
           -0.03,
           -0.02,
           0.28,
           -0.11,
           -0.02,
           -0.12,
           -0.02,
           0.26
          ],
          [
           -0.32,
           -0.56,
           0.69,
           0.75,
           -0.09,
           -0.11,
           -0.07,
           -0.06,
           -0.33,
           -0.09,
           0.26,
           -0.08,
           -0.17,
           0.8,
           -0.15,
           1,
           -0.25,
           -0.12,
           -0.35,
           -0.27,
           0.92,
           -0.06,
           -0.15,
           -0.07,
           0.92,
           -0.05,
           -0.17,
           -0.03,
           -0.41,
           -0.03,
           -0.04,
           -0.21,
           0.92,
           -0.19,
           0.51,
           -0.03,
           -0.1,
           -0.21,
           -0.21,
           -0.03,
           0.86,
           -0.35,
           -0.25,
           0.92,
           -0.21,
           -0.23,
           -0.17,
           -0.16,
           -0.12,
           -0.24,
           -0.07,
           -0.05,
           -0.13,
           -0.21,
           -0.05,
           -0.03,
           -0.09,
           -0.28,
           -0.03,
           -0.25,
           0.59,
           -0.15
          ],
          [
           -0.04,
           0.38,
           -0.34,
           -0.09,
           -0.02,
           -0.09,
           -0.06,
           -0.05,
           -0.08,
           -0.1,
           0.05,
           0.02,
           -0.14,
           -0.25,
           -0.08,
           -0.25,
           1,
           -0.1,
           0.59,
           0.88,
           -0.26,
           0.05,
           -0.12,
           0.02,
           -0.26,
           -0.04,
           -0.14,
           -0.03,
           -0.29,
           -0.03,
           -0.07,
           0.71,
           -0.26,
           -0.19,
           0.33,
           -0.03,
           -0.06,
           0.75,
           0.7,
           -0.03,
           -0.3,
           -0.27,
           0.81,
           -0.26,
           -0.17,
           -0.16,
           -0.14,
           -0.13,
           -0.08,
           0.1,
           -0.06,
           -0.04,
           -0.15,
           0.72,
           -0.04,
           -0.03,
           -0.07,
           0.89,
           -0.03,
           0.55,
           -0.42,
           -0.19
          ],
          [
           -0.11,
           -0.11,
           0.19,
           -0.11,
           0.19,
           -0.03,
           -0.02,
           -0.02,
           0.14,
           0.18,
           -0.04,
           -0.05,
           -0.06,
           0.06,
           -0.07,
           -0.12,
           -0.1,
           1,
           -0.08,
           -0.05,
           -0.11,
           -0.04,
           -0.05,
           0.12,
           -0.11,
           -0.02,
           -0.06,
           -0.01,
           0.23,
           -0.01,
           -0.03,
           -0.07,
           -0.11,
           0.2,
           -0.17,
           -0.01,
           0.08,
           -0.08,
           -0.07,
           -0.01,
           -0.12,
           0.25,
           -0.09,
           -0.11,
           -0.02,
           -0.08,
           -0.06,
           -0.05,
           0.3,
           -0.05,
           -0.02,
           -0.02,
           0.18,
           -0.07,
           0.39,
           -0.01,
           -0.03,
           -0.05,
           -0.01,
           0.07,
           -0.15,
           -0.14
          ],
          [
           -0.01,
           0.54,
           -0.4,
           -0.16,
           0.01,
           -0.1,
           -0.07,
           -0.05,
           0.3,
           -0.1,
           -0.14,
           -0.01,
           -0.16,
           -0.26,
           -0.18,
           -0.35,
           0.59,
           -0.08,
           1,
           0.67,
           -0.33,
           -0.12,
           -0.14,
           0,
           -0.33,
           -0.04,
           -0.03,
           -0.03,
           -0.03,
           -0.03,
           -0.08,
           0.6,
           -0.33,
           -0.2,
           0.1,
           -0.03,
           -0.15,
           0.53,
           0.59,
           -0.03,
           -0.35,
           -0.02,
           0.58,
           -0.33,
           0.05,
           -0.14,
           -0.03,
           -0.16,
           -0.11,
           -0.03,
           -0.07,
           -0.04,
           -0.18,
           0.61,
           -0.04,
           -0.03,
           -0.08,
           0.66,
           -0.03,
           0.41,
           -0.47,
           -0.21
          ],
          [
           -0.02,
           0.42,
           -0.33,
           -0.05,
           -0.06,
           -0.08,
           -0.05,
           -0.04,
           -0.09,
           -0.12,
           0.12,
           -0.12,
           -0.12,
           -0.26,
           -0.13,
           -0.27,
           0.88,
           -0.05,
           0.67,
           1,
           -0.25,
           -0.09,
           -0.11,
           0.03,
           -0.25,
           -0.03,
           -0.12,
           -0.02,
           -0.33,
           -0.02,
           -0.06,
           0.78,
           -0.25,
           -0.14,
           0.42,
           -0.02,
           -0.11,
           0.83,
           0.77,
           -0.02,
           -0.27,
           -0.31,
           0.9,
           -0.25,
           -0.15,
           -0.18,
           -0.12,
           -0.12,
           -0.06,
           0.14,
           -0.05,
           -0.03,
           -0.15,
           0.77,
           -0.03,
           -0.02,
           -0.06,
           0.97,
           -0.02,
           0.59,
           -0.36,
           -0.17
          ],
          [
           -0.31,
           -0.56,
           0.71,
           0.81,
           -0.08,
           -0.1,
           -0.07,
           -0.05,
           -0.36,
           -0.09,
           0.24,
           -0.12,
           -0.16,
           0.8,
           -0.18,
           0.92,
           -0.26,
           -0.11,
           -0.33,
           -0.25,
           1,
           -0.12,
           -0.14,
           0,
           1,
           -0.04,
           -0.16,
           -0.03,
           -0.43,
           -0.03,
           -0.08,
           -0.2,
           1,
           -0.22,
           0.55,
           -0.03,
           -0.15,
           -0.21,
           -0.19,
           -0.03,
           0.92,
           -0.41,
           -0.27,
           1,
           -0.19,
           -0.22,
           -0.16,
           -0.15,
           -0.16,
           -0.26,
           -0.07,
           -0.04,
           -0.2,
           -0.2,
           -0.04,
           -0.03,
           -0.08,
           -0.26,
           -0.03,
           -0.27,
           0.62,
           -0.14
          ],
          [
           0.02,
           0,
           -0.01,
           -0.11,
           0.18,
           -0.04,
           0.59,
           0.14,
           0.16,
           0.2,
           -0.21,
           0.01,
           -0.06,
           0.08,
           0.21,
           -0.06,
           0.05,
           -0.04,
           -0.12,
           -0.09,
           -0.12,
           1,
           -0.05,
           -0.02,
           -0.12,
           -0.02,
           -0.06,
           0.26,
           0.18,
           0.26,
           0.28,
           -0.07,
           -0.12,
           0.28,
           -0.18,
           0.26,
           0.07,
           -0.08,
           -0.07,
           0.26,
           -0.13,
           0.2,
           -0.1,
           -0.12,
           0.03,
           -0.09,
           -0.06,
           -0.06,
           -0.06,
           -0.09,
           0.59,
           -0.02,
           0.26,
           -0.07,
           -0.02,
           0.26,
           0.49,
           -0.09,
           0.26,
           -0.1,
           -0.19,
           0.38
          ],
          [
           0.14,
           0.25,
           -0.2,
           -0.14,
           -0.04,
           -0.04,
           -0.03,
           -0.02,
           -0.16,
           -0.14,
           -0.33,
           -0.07,
           0.89,
           -0.18,
           -0.09,
           -0.15,
           -0.12,
           -0.05,
           -0.14,
           -0.11,
           -0.14,
           -0.05,
           1,
           -0.03,
           -0.14,
           -0.02,
           0.89,
           -0.01,
           0.33,
           -0.01,
           -0.04,
           -0.09,
           -0.14,
           -0.1,
           -0.25,
           -0.01,
           -0.06,
           -0.09,
           -0.09,
           -0.01,
           -0.15,
           0.35,
           -0.12,
           -0.14,
           0.74,
           0.61,
           0.89,
           0.93,
           -0.07,
           -0.11,
           -0.03,
           -0.02,
           -0.09,
           -0.09,
           -0.02,
           -0.01,
           -0.04,
           -0.11,
           -0.01,
           -0.12,
           -0.22,
           0.37
          ],
          [
           0.08,
           0,
           0.03,
           -0.06,
           -0.02,
           -0.02,
           -0.01,
           0.57,
           0.11,
           0.19,
           -0.09,
           0.08,
           -0.03,
           -0.02,
           0.05,
           -0.07,
           0.02,
           0.12,
           0,
           0.03,
           0,
           -0.02,
           -0.03,
           1,
           0,
           0.7,
           -0.03,
           -0.01,
           -0.08,
           -0.01,
           0.37,
           -0.04,
           0,
           0.2,
           -0.06,
           -0.01,
           -0.03,
           -0.04,
           -0.04,
           -0.01,
           -0.07,
           0.04,
           -0.05,
           0,
           -0.04,
           0.03,
           -0.03,
           -0.03,
           0.18,
           0.02,
           -0.01,
           0.7,
           0.14,
           -0.04,
           -0.01,
           -0.01,
           -0.02,
           0.02,
           -0.01,
           -0.05,
           0.01,
           0.11
          ],
          [
           -0.31,
           -0.56,
           0.71,
           0.81,
           -0.08,
           -0.1,
           -0.07,
           -0.05,
           -0.36,
           -0.09,
           0.24,
           -0.12,
           -0.16,
           0.8,
           -0.18,
           0.92,
           -0.26,
           -0.11,
           -0.33,
           -0.25,
           1,
           -0.12,
           -0.14,
           0,
           1,
           -0.04,
           -0.16,
           -0.03,
           -0.43,
           -0.03,
           -0.08,
           -0.2,
           1,
           -0.22,
           0.55,
           -0.03,
           -0.15,
           -0.21,
           -0.19,
           -0.03,
           0.92,
           -0.41,
           -0.27,
           1,
           -0.19,
           -0.22,
           -0.16,
           -0.15,
           -0.16,
           -0.26,
           -0.07,
           -0.04,
           -0.2,
           -0.2,
           -0.04,
           -0.03,
           -0.08,
           -0.26,
           -0.03,
           -0.27,
           0.62,
           -0.14
          ],
          [
           0.01,
           -0.08,
           0.1,
           -0.04,
           -0.01,
           -0.01,
           -0.01,
           0.82,
           0.12,
           0.14,
           -0.1,
           -0.02,
           -0.02,
           -0.05,
           -0.03,
           -0.05,
           -0.04,
           -0.02,
           -0.04,
           -0.03,
           -0.04,
           -0.02,
           -0.02,
           0.7,
           -0.04,
           1,
           -0.02,
           0,
           -0.06,
           0,
           0.53,
           -0.03,
           -0.04,
           0.2,
           -0.08,
           0,
           -0.02,
           -0.03,
           -0.03,
           0,
           -0.05,
           0.11,
           -0.04,
           -0.04,
           -0.03,
           -0.03,
           -0.02,
           -0.02,
           0.27,
           -0.04,
           -0.01,
           1,
           0.22,
           -0.03,
           -0.01,
           0,
           -0.01,
           -0.04,
           0,
           -0.04,
           0.01,
           0.18
          ],
          [
           0.13,
           0.28,
           -0.22,
           -0.16,
           -0.04,
           -0.05,
           -0.03,
           -0.03,
           -0.06,
           -0.16,
           -0.25,
           0.15,
           0.78,
           -0.08,
           -0.1,
           -0.17,
           -0.14,
           -0.06,
           -0.03,
           -0.12,
           -0.16,
           -0.06,
           0.89,
           -0.03,
           -0.16,
           -0.02,
           1,
           -0.02,
           0.26,
           -0.02,
           -0.04,
           -0.1,
           -0.16,
           -0.11,
           -0.29,
           -0.02,
           -0.07,
           -0.11,
           -0.1,
           -0.02,
           -0.17,
           0.28,
           -0.13,
           -0.16,
           0.65,
           0.69,
           1,
           0.82,
           -0.08,
           -0.13,
           -0.03,
           -0.02,
           -0.1,
           -0.1,
           -0.02,
           -0.02,
           -0.04,
           -0.13,
           -0.02,
           -0.13,
           -0.25,
           0.28
          ],
          [
           0.01,
           0.05,
           -0.04,
           -0.03,
           -0.01,
           -0.01,
           -0.01,
           0.58,
           -0.03,
           -0.03,
           0.04,
           -0.01,
           -0.02,
           0.08,
           -0.02,
           -0.03,
           -0.03,
           -0.01,
           -0.03,
           -0.02,
           -0.03,
           0.26,
           -0.01,
           -0.01,
           -0.03,
           0,
           -0.02,
           1,
           -0.04,
           1,
           0.37,
           -0.02,
           -0.03,
           -0.02,
           -0.06,
           1,
           0.21,
           -0.02,
           -0.02,
           0,
           -0.03,
           -0.04,
           -0.03,
           -0.03,
           -0.02,
           -0.02,
           -0.02,
           -0.01,
           -0.02,
           -0.02,
           -0.01,
           0,
           -0.02,
           -0.02,
           0,
           1,
           -0.01,
           -0.02,
           1,
           -0.03,
           -0.05,
           0.12
          ],
          [
           0.37,
           0.38,
           -0.13,
           -0.42,
           0.15,
           0.23,
           0.16,
           -0.07,
           0.36,
           0.16,
           -0.38,
           -0.07,
           0.26,
           -0.36,
           0.04,
           -0.41,
           -0.29,
           0.23,
           -0.03,
           -0.33,
           -0.43,
           0.18,
           0.33,
           -0.08,
           -0.43,
           -0.06,
           0.26,
           -0.04,
           1,
           -0.04,
           -0.11,
           -0.26,
           -0.43,
           0.4,
           -0.64,
           -0.04,
           0.29,
           -0.28,
           -0.26,
           0.07,
           -0.46,
           0.82,
           -0.35,
           -0.43,
           0.45,
           0.44,
           0.26,
           0.34,
           0.26,
           -0.31,
           0.16,
           -0.06,
           0.29,
           -0.26,
           0.1,
           -0.04,
           0.19,
           -0.33,
           -0.04,
           -0.11,
           -0.53,
           0.34
          ],
          [
           0.01,
           0.05,
           -0.04,
           -0.03,
           -0.01,
           -0.01,
           -0.01,
           0.58,
           -0.03,
           -0.03,
           0.04,
           -0.01,
           -0.02,
           0.08,
           -0.02,
           -0.03,
           -0.03,
           -0.01,
           -0.03,
           -0.02,
           -0.03,
           0.26,
           -0.01,
           -0.01,
           -0.03,
           0,
           -0.02,
           1,
           -0.04,
           1,
           0.37,
           -0.02,
           -0.03,
           -0.02,
           -0.06,
           1,
           0.21,
           -0.02,
           -0.02,
           0,
           -0.03,
           -0.04,
           -0.03,
           -0.03,
           -0.02,
           -0.02,
           -0.02,
           -0.01,
           -0.02,
           -0.02,
           -0.01,
           0,
           -0.02,
           -0.02,
           0,
           1,
           -0.01,
           -0.02,
           1,
           -0.03,
           -0.05,
           0.12
          ],
          [
           0.01,
           -0.02,
           0.06,
           -0.08,
           -0.02,
           -0.03,
           -0.02,
           0.65,
           0.14,
           0.06,
           -0.06,
           -0.04,
           -0.04,
           0.03,
           0.01,
           -0.04,
           -0.07,
           -0.03,
           -0.08,
           -0.06,
           -0.08,
           0.28,
           -0.04,
           0.37,
           -0.08,
           0.53,
           -0.04,
           0.37,
           -0.11,
           0.37,
           1,
           -0.05,
           -0.08,
           0.19,
           -0.11,
           0.37,
           0.13,
           -0.05,
           -0.05,
           -0.01,
           -0.09,
           0.12,
           -0.07,
           -0.08,
           -0.05,
           -0.06,
           -0.04,
           -0.04,
           0.12,
           -0.07,
           -0.02,
           0.53,
           0.35,
           -0.05,
           -0.01,
           0.37,
           -0.02,
           -0.07,
           0.37,
           -0.07,
           -0.09,
           0.15
          ],
          [
           0.06,
           0.34,
           -0.27,
           -0.19,
           -0.05,
           -0.06,
           -0.04,
           -0.03,
           -0.22,
           -0.19,
           0.26,
           -0.09,
           -0.1,
           -0.24,
           -0.12,
           -0.21,
           0.71,
           -0.07,
           0.6,
           0.78,
           -0.2,
           -0.07,
           -0.09,
           -0.04,
           -0.2,
           -0.03,
           -0.1,
           -0.02,
           -0.26,
           -0.02,
           -0.05,
           1,
           -0.2,
           -0.13,
           0.34,
           -0.02,
           -0.09,
           0.92,
           0.98,
           -0.02,
           -0.21,
           -0.25,
           0.74,
           -0.2,
           -0.12,
           -0.14,
           -0.1,
           -0.09,
           -0.1,
           -0.16,
           -0.04,
           -0.03,
           -0.12,
           0.98,
           -0.03,
           -0.02,
           -0.05,
           0.76,
           -0.02,
           0.74,
           -0.31,
           -0.13
          ],
          [
           -0.31,
           -0.56,
           0.71,
           0.81,
           -0.08,
           -0.1,
           -0.07,
           -0.05,
           -0.36,
           -0.09,
           0.24,
           -0.12,
           -0.16,
           0.8,
           -0.18,
           0.92,
           -0.26,
           -0.11,
           -0.33,
           -0.25,
           1,
           -0.12,
           -0.14,
           0,
           1,
           -0.04,
           -0.16,
           -0.03,
           -0.43,
           -0.03,
           -0.08,
           -0.2,
           1,
           -0.22,
           0.55,
           -0.03,
           -0.15,
           -0.21,
           -0.19,
           -0.03,
           0.92,
           -0.41,
           -0.27,
           1,
           -0.19,
           -0.22,
           -0.16,
           -0.15,
           -0.16,
           -0.26,
           -0.07,
           -0.04,
           -0.2,
           -0.2,
           -0.04,
           -0.03,
           -0.08,
           -0.26,
           -0.03,
           -0.27,
           0.62,
           -0.14
          ],
          [
           0.45,
           0.11,
           0.01,
           -0.21,
           0.13,
           0.46,
           0.32,
           0.15,
           0.36,
           0.22,
           0.05,
           -0.1,
           -0.11,
           -0.1,
           0.23,
           -0.19,
           -0.19,
           0.2,
           -0.2,
           -0.14,
           -0.22,
           0.28,
           -0.1,
           0.2,
           -0.22,
           0.2,
           -0.11,
           -0.02,
           0.4,
           -0.02,
           0.19,
           -0.13,
           -0.22,
           1,
           -0.28,
           -0.02,
           0.27,
           -0.14,
           -0.13,
           0.14,
           -0.23,
           0.52,
           -0.18,
           -0.22,
           -0.07,
           0.04,
           -0.11,
           -0.1,
           0.57,
           -0.15,
           0.32,
           0.2,
           0.52,
           -0.13,
           -0.03,
           -0.02,
           0.32,
           -0.15,
           -0.02,
           -0.18,
           -0.22,
           0.39
          ],
          [
           -0.37,
           -0.22,
           0.34,
           0.55,
           -0.15,
           -0.18,
           -0.12,
           -0.1,
           -0.28,
           -0.07,
           0.25,
           0.04,
           -0.17,
           0.36,
           0,
           0.51,
           0.33,
           -0.17,
           0.1,
           0.42,
           0.55,
           -0.18,
           -0.25,
           -0.06,
           0.55,
           -0.08,
           -0.29,
           -0.06,
           -0.64,
           -0.06,
           -0.11,
           0.34,
           0.55,
           -0.28,
           1,
           -0.06,
           -0.26,
           0.35,
           0.34,
           -0.06,
           0.6,
           -0.58,
           0.45,
           0.55,
           -0.34,
           -0.42,
           -0.29,
           -0.27,
           -0.26,
           -0.05,
           -0.12,
           -0.08,
           -0.34,
           0.33,
           -0.08,
           -0.06,
           -0.15,
           0.42,
           -0.06,
           0.19,
           0.44,
           -0.31
          ],
          [
           0.01,
           0.05,
           -0.04,
           -0.03,
           -0.01,
           -0.01,
           -0.01,
           0.58,
           -0.03,
           -0.03,
           0.04,
           -0.01,
           -0.02,
           0.08,
           -0.02,
           -0.03,
           -0.03,
           -0.01,
           -0.03,
           -0.02,
           -0.03,
           0.26,
           -0.01,
           -0.01,
           -0.03,
           0,
           -0.02,
           1,
           -0.04,
           1,
           0.37,
           -0.02,
           -0.03,
           -0.02,
           -0.06,
           1,
           0.21,
           -0.02,
           -0.02,
           0,
           -0.03,
           -0.04,
           -0.03,
           -0.03,
           -0.02,
           -0.02,
           -0.02,
           -0.01,
           -0.02,
           -0.02,
           -0.01,
           0,
           -0.02,
           -0.02,
           0,
           1,
           -0.01,
           -0.02,
           1,
           -0.03,
           -0.05,
           0.12
          ],
          [
           0.54,
           0.13,
           -0.15,
           -0.14,
           0.22,
           -0.04,
           -0.03,
           0.11,
           -0.08,
           0.14,
           0.1,
           0.03,
           -0.07,
           -0.08,
           0.26,
           -0.1,
           -0.06,
           0.08,
           -0.15,
           -0.11,
           -0.15,
           0.07,
           -0.06,
           -0.03,
           -0.15,
           -0.02,
           -0.07,
           0.21,
           0.29,
           0.21,
           0.13,
           -0.09,
           -0.15,
           0.27,
           -0.26,
           0.21,
           1,
           -0.1,
           -0.09,
           -0.01,
           -0.16,
           0.13,
           -0.12,
           -0.15,
           -0.05,
           0.42,
           -0.07,
           -0.07,
           0.02,
           -0.12,
           -0.03,
           -0.02,
           0.18,
           -0.09,
           -0.02,
           0.21,
           -0.04,
           -0.12,
           0.21,
           0.04,
           -0.21,
           0.13
          ],
          [
           0.04,
           0.36,
           -0.28,
           -0.21,
           -0.05,
           -0.07,
           -0.05,
           -0.04,
           -0.22,
           -0.09,
           0.29,
           -0.1,
           -0.11,
           -0.24,
           -0.11,
           -0.21,
           0.75,
           -0.08,
           0.53,
           0.83,
           -0.21,
           -0.08,
           -0.09,
           -0.04,
           -0.21,
           -0.03,
           -0.11,
           -0.02,
           -0.28,
           -0.02,
           -0.05,
           0.92,
           -0.21,
           -0.14,
           0.35,
           -0.02,
           -0.1,
           1,
           0.9,
           -0.02,
           -0.23,
           -0.27,
           0.78,
           -0.21,
           -0.13,
           -0.16,
           -0.11,
           -0.1,
           -0.11,
           -0.05,
           -0.05,
           -0.03,
           -0.1,
           0.9,
           -0.03,
           -0.02,
           -0.05,
           0.8,
           -0.02,
           0.69,
           -0.34,
           -0.14
          ],
          [
           0.06,
           0.34,
           -0.27,
           -0.19,
           -0.05,
           -0.06,
           -0.04,
           -0.03,
           -0.22,
           -0.19,
           0.26,
           -0.09,
           -0.1,
           -0.24,
           -0.12,
           -0.21,
           0.7,
           -0.07,
           0.59,
           0.77,
           -0.19,
           -0.07,
           -0.09,
           -0.04,
           -0.19,
           -0.03,
           -0.1,
           -0.02,
           -0.26,
           -0.02,
           -0.05,
           0.98,
           -0.19,
           -0.13,
           0.34,
           -0.02,
           -0.09,
           0.9,
           1,
           -0.02,
           -0.21,
           -0.24,
           0.72,
           -0.19,
           -0.12,
           -0.14,
           -0.1,
           -0.09,
           -0.1,
           -0.15,
           -0.04,
           -0.03,
           -0.12,
           0.97,
           -0.03,
           -0.02,
           -0.05,
           0.75,
           -0.02,
           0.72,
           -0.3,
           -0.12
          ],
          [
           0.07,
           0.05,
           -0.04,
           -0.03,
           -0.01,
           -0.01,
           0.44,
           -0.01,
           0.09,
           0.1,
           -0.07,
           -0.01,
           -0.02,
           -0.04,
           0.15,
           -0.03,
           -0.03,
           -0.01,
           -0.03,
           -0.02,
           -0.03,
           0.26,
           -0.01,
           -0.01,
           -0.03,
           0,
           -0.02,
           0,
           0.07,
           0,
           -0.01,
           -0.02,
           -0.03,
           0.14,
           -0.06,
           0,
           -0.01,
           -0.02,
           -0.02,
           1,
           -0.03,
           0.08,
           -0.03,
           -0.03,
           -0.02,
           -0.02,
           -0.02,
           -0.01,
           -0.02,
           -0.02,
           0.44,
           0,
           0.16,
           -0.02,
           0,
           0,
           0.37,
           -0.02,
           0,
           -0.03,
           -0.05,
           0.17
          ],
          [
           -0.36,
           -0.61,
           0.65,
           0.75,
           -0.09,
           -0.11,
           -0.07,
           -0.06,
           -0.26,
           -0.14,
           0.16,
           0.08,
           -0.17,
           0.74,
           -0.03,
           0.86,
           -0.3,
           -0.12,
           -0.35,
           -0.27,
           0.92,
           -0.13,
           -0.15,
           -0.07,
           0.92,
           -0.05,
           -0.17,
           -0.03,
           -0.46,
           -0.03,
           -0.09,
           -0.21,
           0.92,
           -0.23,
           0.6,
           -0.03,
           -0.16,
           -0.23,
           -0.21,
           -0.03,
           1,
           -0.43,
           -0.28,
           0.92,
           -0.21,
           -0.25,
           -0.17,
           -0.16,
           -0.17,
           -0.28,
           -0.07,
           -0.05,
           -0.21,
           -0.21,
           -0.05,
           -0.03,
           -0.09,
           -0.28,
           -0.03,
           -0.28,
           0.68,
           -0.16
          ],
          [
           0.34,
           0.38,
           -0.1,
           -0.39,
           0.16,
           0.24,
           0.17,
           0.07,
           0.43,
           0.1,
           -0.37,
           -0.06,
           0.28,
           -0.3,
           0.04,
           -0.35,
           -0.27,
           0.25,
           -0.02,
           -0.31,
           -0.41,
           0.2,
           0.35,
           0.04,
           -0.41,
           0.11,
           0.28,
           -0.04,
           0.82,
           -0.04,
           0.12,
           -0.25,
           -0.41,
           0.52,
           -0.58,
           -0.04,
           0.13,
           -0.27,
           -0.24,
           0.08,
           -0.43,
           1,
           -0.3,
           -0.41,
           0.48,
           0.22,
           0.28,
           0.33,
           0.35,
           -0.27,
           0.17,
           0.11,
           0.35,
           -0.25,
           0.11,
           -0.04,
           0.2,
           -0.32,
           -0.04,
           -0.25,
           -0.49,
           0.36
          ],
          [
           -0.03,
           0.44,
           -0.35,
           -0.08,
           -0.07,
           -0.08,
           -0.06,
           -0.04,
           -0.11,
           -0.05,
           0.09,
           -0.12,
           0.01,
           -0.3,
           0.03,
           -0.25,
           0.81,
           -0.09,
           0.58,
           0.9,
           -0.27,
           -0.1,
           -0.12,
           -0.05,
           -0.27,
           -0.04,
           -0.13,
           -0.03,
           -0.35,
           -0.03,
           -0.07,
           0.74,
           -0.27,
           -0.18,
           0.45,
           -0.03,
           -0.12,
           0.78,
           0.72,
           -0.03,
           -0.28,
           -0.3,
           1,
           -0.27,
           -0.16,
           -0.19,
           -0.13,
           -0.13,
           -0.1,
           0.26,
           -0.06,
           -0.04,
           -0.16,
           0.72,
           -0.04,
           -0.03,
           -0.07,
           0.87,
           -0.03,
           0.52,
           -0.3,
           -0.19
          ],
          [
           -0.31,
           -0.56,
           0.71,
           0.81,
           -0.08,
           -0.1,
           -0.07,
           -0.05,
           -0.36,
           -0.09,
           0.24,
           -0.12,
           -0.16,
           0.8,
           -0.18,
           0.92,
           -0.26,
           -0.11,
           -0.33,
           -0.25,
           1,
           -0.12,
           -0.14,
           0,
           1,
           -0.04,
           -0.16,
           -0.03,
           -0.43,
           -0.03,
           -0.08,
           -0.2,
           1,
           -0.22,
           0.55,
           -0.03,
           -0.15,
           -0.21,
           -0.19,
           -0.03,
           0.92,
           -0.41,
           -0.27,
           1,
           -0.19,
           -0.22,
           -0.16,
           -0.15,
           -0.16,
           -0.26,
           -0.07,
           -0.04,
           -0.2,
           -0.2,
           -0.04,
           -0.03,
           -0.08,
           -0.26,
           -0.03,
           -0.27,
           0.62,
           -0.14
          ],
          [
           0.09,
           0.3,
           -0.23,
           -0.19,
           0.16,
           -0.06,
           -0.04,
           -0.03,
           0.1,
           0.13,
           -0.42,
           -0.09,
           0.65,
           -0.2,
           -0.12,
           -0.21,
           -0.17,
           -0.02,
           0.05,
           -0.15,
           -0.19,
           0.03,
           0.74,
           -0.04,
           -0.19,
           -0.03,
           0.65,
           -0.02,
           0.45,
           -0.02,
           -0.05,
           -0.12,
           -0.19,
           -0.07,
           -0.34,
           -0.02,
           -0.05,
           -0.13,
           -0.12,
           -0.02,
           -0.21,
           0.48,
           -0.16,
           -0.19,
           1,
           0.41,
           0.65,
           0.68,
           -0.02,
           -0.15,
           -0.04,
           -0.03,
           -0.12,
           -0.12,
           0.1,
           -0.02,
           -0.05,
           -0.15,
           -0.02,
           -0.16,
           -0.28,
           0.26
          ],
          [
           0.51,
           0.29,
           -0.25,
           -0.23,
           -0.06,
           -0.07,
           -0.05,
           -0.04,
           -0.13,
           -0.07,
           -0.14,
           0.13,
           0.53,
           -0.2,
           0.15,
           -0.23,
           -0.16,
           -0.08,
           -0.14,
           -0.18,
           -0.22,
           -0.09,
           0.61,
           0.03,
           -0.22,
           -0.03,
           0.69,
           -0.02,
           0.44,
           -0.02,
           -0.06,
           -0.14,
           -0.22,
           0.04,
           -0.42,
           -0.02,
           0.42,
           -0.16,
           -0.14,
           -0.02,
           -0.25,
           0.22,
           -0.19,
           -0.22,
           0.41,
           1,
           0.69,
           0.59,
           -0.12,
           -0.19,
           -0.05,
           -0.03,
           -0.01,
           -0.14,
           -0.03,
           -0.02,
           0,
           -0.19,
           -0.02,
           0.03,
           -0.37,
           0.28
          ],
          [
           0.13,
           0.28,
           -0.22,
           -0.16,
           -0.04,
           -0.05,
           -0.03,
           -0.03,
           -0.06,
           -0.16,
           -0.25,
           0.15,
           0.78,
           -0.08,
           -0.1,
           -0.17,
           -0.14,
           -0.06,
           -0.03,
           -0.12,
           -0.16,
           -0.06,
           0.89,
           -0.03,
           -0.16,
           -0.02,
           1,
           -0.02,
           0.26,
           -0.02,
           -0.04,
           -0.1,
           -0.16,
           -0.11,
           -0.29,
           -0.02,
           -0.07,
           -0.11,
           -0.1,
           -0.02,
           -0.17,
           0.28,
           -0.13,
           -0.16,
           0.65,
           0.69,
           1,
           0.82,
           -0.08,
           -0.13,
           -0.03,
           -0.02,
           -0.1,
           -0.1,
           -0.02,
           -0.02,
           -0.04,
           -0.13,
           -0.02,
           -0.13,
           -0.25,
           0.28
          ],
          [
           0.13,
           0.2,
           -0.16,
           -0.15,
           -0.04,
           -0.05,
           -0.03,
           -0.03,
           -0.12,
           -0.12,
           -0.3,
           -0.07,
           0.82,
           -0.19,
           -0.06,
           -0.16,
           -0.13,
           -0.05,
           -0.16,
           -0.12,
           -0.15,
           -0.06,
           0.93,
           -0.03,
           -0.15,
           -0.02,
           0.82,
           -0.01,
           0.34,
           -0.01,
           -0.04,
           -0.09,
           -0.15,
           -0.1,
           -0.27,
           -0.01,
           -0.07,
           -0.1,
           -0.09,
           -0.01,
           -0.16,
           0.33,
           -0.13,
           -0.15,
           0.68,
           0.59,
           0.82,
           1,
           -0.08,
           -0.12,
           -0.03,
           -0.02,
           -0.09,
           -0.09,
           -0.02,
           -0.01,
           0.04,
           -0.12,
           -0.01,
           -0.13,
           -0.24,
           0.33
          ],
          [
           0.12,
           0.12,
           -0.01,
           -0.16,
           0.12,
           0.62,
           -0.03,
           0.21,
           0.29,
           0.13,
           0.05,
           -0.07,
           -0.08,
           -0.03,
           -0.1,
           -0.12,
           -0.08,
           0.3,
           -0.11,
           -0.06,
           -0.16,
           -0.06,
           -0.07,
           0.18,
           -0.16,
           0.27,
           -0.08,
           -0.02,
           0.26,
           -0.02,
           0.12,
           -0.1,
           -0.16,
           0.57,
           -0.26,
           -0.02,
           0.02,
           -0.11,
           -0.1,
           -0.02,
           -0.17,
           0.35,
           -0.1,
           -0.16,
           -0.02,
           -0.12,
           -0.08,
           -0.08,
           1,
           -0.13,
           -0.03,
           0.27,
           0.48,
           -0.1,
           0.13,
           -0.02,
           0.04,
           -0.07,
           -0.02,
           -0.07,
           -0.18,
           0.11
          ],
          [
           -0.14,
           -0.07,
           -0.33,
           -0.07,
           -0.01,
           -0.08,
           -0.06,
           -0.04,
           -0.07,
           -0.02,
           0.06,
           -0.12,
           0.02,
           -0.25,
           0.04,
           -0.24,
           0.1,
           -0.05,
           -0.03,
           0.14,
           -0.26,
           -0.09,
           -0.11,
           0.02,
           -0.26,
           -0.04,
           -0.13,
           -0.02,
           -0.31,
           -0.02,
           -0.07,
           -0.16,
           -0.26,
           -0.15,
           -0.05,
           -0.02,
           -0.12,
           -0.05,
           -0.15,
           -0.02,
           -0.28,
           -0.27,
           0.26,
           -0.26,
           -0.15,
           -0.19,
           -0.13,
           -0.12,
           -0.13,
           1,
           -0.06,
           -0.04,
           -0.13,
           -0.16,
           -0.04,
           -0.02,
           -0.07,
           0.15,
           -0.02,
           -0.19,
           0.23,
           -0.14
          ],
          [
           0.16,
           0.12,
           -0.1,
           -0.07,
           -0.02,
           -0.02,
           1,
           -0.01,
           0.19,
           0.22,
           -0.16,
           -0.03,
           -0.03,
           -0.09,
           0.34,
           -0.07,
           -0.06,
           -0.02,
           -0.07,
           -0.05,
           -0.07,
           0.59,
           -0.03,
           -0.01,
           -0.07,
           -0.01,
           -0.03,
           -0.01,
           0.16,
           -0.01,
           -0.02,
           -0.04,
           -0.07,
           0.32,
           -0.12,
           -0.01,
           -0.03,
           -0.05,
           -0.04,
           0.44,
           -0.07,
           0.17,
           -0.06,
           -0.07,
           -0.04,
           -0.05,
           -0.03,
           -0.03,
           -0.03,
           -0.06,
           1,
           -0.01,
           0.35,
           -0.04,
           -0.01,
           -0.01,
           0.84,
           -0.06,
           -0.01,
           -0.06,
           -0.11,
           0.63
          ],
          [
           0.01,
           -0.08,
           0.1,
           -0.04,
           -0.01,
           -0.01,
           -0.01,
           0.82,
           0.12,
           0.14,
           -0.1,
           -0.02,
           -0.02,
           -0.05,
           -0.03,
           -0.05,
           -0.04,
           -0.02,
           -0.04,
           -0.03,
           -0.04,
           -0.02,
           -0.02,
           0.7,
           -0.04,
           1,
           -0.02,
           0,
           -0.06,
           0,
           0.53,
           -0.03,
           -0.04,
           0.2,
           -0.08,
           0,
           -0.02,
           -0.03,
           -0.03,
           0,
           -0.05,
           0.11,
           -0.04,
           -0.04,
           -0.03,
           -0.03,
           -0.02,
           -0.02,
           0.27,
           -0.04,
           -0.01,
           1,
           0.22,
           -0.03,
           -0.01,
           0,
           -0.01,
           -0.04,
           0,
           -0.04,
           0.01,
           0.18
          ],
          [
           0.28,
           0.12,
           -0.02,
           -0.19,
           0.08,
           0.5,
           0.35,
           0.17,
           0.28,
           0.18,
           -0.01,
           -0.05,
           -0.1,
           -0.08,
           0.09,
           -0.13,
           -0.15,
           0.18,
           -0.18,
           -0.15,
           -0.2,
           0.26,
           -0.09,
           0.14,
           -0.2,
           0.22,
           -0.1,
           -0.02,
           0.29,
           -0.02,
           0.35,
           -0.12,
           -0.2,
           0.52,
           -0.34,
           -0.02,
           0.18,
           -0.1,
           -0.12,
           0.16,
           -0.21,
           0.35,
           -0.16,
           -0.2,
           -0.12,
           -0.01,
           -0.1,
           -0.09,
           0.48,
           -0.13,
           0.35,
           0.22,
           1,
           -0.12,
           -0.03,
           -0.02,
           0.28,
           -0.16,
           -0.02,
           0.08,
           -0.29,
           0.38
          ],
          [
           0.05,
           0.35,
           -0.28,
           -0.19,
           0.02,
           -0.06,
           -0.04,
           -0.03,
           -0.2,
           -0.17,
           0.25,
           -0.09,
           -0.1,
           -0.25,
           -0.12,
           -0.21,
           0.72,
           -0.07,
           0.61,
           0.77,
           -0.2,
           -0.07,
           -0.09,
           -0.04,
           -0.2,
           -0.03,
           -0.1,
           -0.02,
           -0.26,
           -0.02,
           -0.05,
           0.98,
           -0.2,
           -0.13,
           0.33,
           -0.02,
           -0.09,
           0.9,
           0.97,
           -0.02,
           -0.21,
           -0.25,
           0.72,
           -0.2,
           -0.12,
           -0.14,
           -0.1,
           -0.09,
           -0.1,
           -0.16,
           -0.04,
           -0.03,
           -0.12,
           1,
           -0.03,
           -0.02,
           -0.05,
           0.77,
           -0.02,
           0.72,
           -0.31,
           -0.14
          ],
          [
           -0.06,
           0,
           0.02,
           -0.04,
           -0.01,
           -0.01,
           -0.01,
           -0.01,
           0.04,
           0.14,
           0.06,
           -0.02,
           -0.02,
           -0.05,
           -0.03,
           -0.05,
           -0.04,
           0.39,
           -0.04,
           -0.03,
           -0.04,
           -0.02,
           -0.02,
           -0.01,
           -0.04,
           -0.01,
           -0.02,
           0,
           0.1,
           0,
           -0.01,
           -0.03,
           -0.04,
           -0.03,
           -0.08,
           0,
           -0.02,
           -0.03,
           -0.03,
           0,
           -0.05,
           0.11,
           -0.04,
           -0.04,
           0.1,
           -0.03,
           -0.02,
           -0.02,
           0.13,
           -0.04,
           -0.01,
           -0.01,
           -0.03,
           -0.03,
           1,
           0,
           -0.01,
           -0.04,
           0,
           -0.04,
           -0.07,
           -0.08
          ],
          [
           0.01,
           0.05,
           -0.04,
           -0.03,
           -0.01,
           -0.01,
           -0.01,
           0.58,
           -0.03,
           -0.03,
           0.04,
           -0.01,
           -0.02,
           0.08,
           -0.02,
           -0.03,
           -0.03,
           -0.01,
           -0.03,
           -0.02,
           -0.03,
           0.26,
           -0.01,
           -0.01,
           -0.03,
           0,
           -0.02,
           1,
           -0.04,
           1,
           0.37,
           -0.02,
           -0.03,
           -0.02,
           -0.06,
           1,
           0.21,
           -0.02,
           -0.02,
           0,
           -0.03,
           -0.04,
           -0.03,
           -0.03,
           -0.02,
           -0.02,
           -0.02,
           -0.01,
           -0.02,
           -0.02,
           -0.01,
           0,
           -0.02,
           -0.02,
           0,
           1,
           -0.01,
           -0.02,
           1,
           -0.03,
           -0.05,
           0.12
          ],
          [
           0.15,
           0.06,
           -0.03,
           -0.08,
           -0.02,
           -0.03,
           0.84,
           -0.01,
           0.23,
           0.21,
           -0.1,
           -0.04,
           -0.04,
           -0.1,
           0.28,
           -0.09,
           -0.07,
           -0.03,
           -0.08,
           -0.06,
           -0.08,
           0.49,
           -0.04,
           -0.02,
           -0.08,
           -0.01,
           -0.04,
           -0.01,
           0.19,
           -0.01,
           -0.02,
           -0.05,
           -0.08,
           0.32,
           -0.15,
           -0.01,
           -0.04,
           -0.05,
           -0.05,
           0.37,
           -0.09,
           0.2,
           -0.07,
           -0.08,
           -0.05,
           0,
           -0.04,
           0.04,
           0.04,
           -0.07,
           0.84,
           -0.01,
           0.28,
           -0.05,
           -0.01,
           -0.01,
           1,
           -0.07,
           -0.01,
           -0.07,
           -0.13,
           0.52
          ],
          [
           -0.04,
           0.44,
           -0.34,
           -0.07,
           -0.01,
           -0.08,
           -0.06,
           -0.04,
           -0.08,
           -0.11,
           0.09,
           -0.12,
           -0.13,
           -0.25,
           -0.11,
           -0.28,
           0.89,
           -0.05,
           0.66,
           0.97,
           -0.26,
           -0.09,
           -0.11,
           0.02,
           -0.26,
           -0.04,
           -0.13,
           -0.02,
           -0.33,
           -0.02,
           -0.07,
           0.76,
           -0.26,
           -0.15,
           0.42,
           -0.02,
           -0.12,
           0.8,
           0.75,
           -0.02,
           -0.28,
           -0.32,
           0.87,
           -0.26,
           -0.15,
           -0.19,
           -0.13,
           -0.12,
           -0.07,
           0.15,
           -0.06,
           -0.04,
           -0.16,
           0.77,
           -0.04,
           -0.02,
           -0.07,
           1,
           -0.02,
           0.6,
           -0.36,
           -0.18
          ],
          [
           0.01,
           0.05,
           -0.04,
           -0.03,
           -0.01,
           -0.01,
           -0.01,
           0.58,
           -0.03,
           -0.03,
           0.04,
           -0.01,
           -0.02,
           0.08,
           -0.02,
           -0.03,
           -0.03,
           -0.01,
           -0.03,
           -0.02,
           -0.03,
           0.26,
           -0.01,
           -0.01,
           -0.03,
           0,
           -0.02,
           1,
           -0.04,
           1,
           0.37,
           -0.02,
           -0.03,
           -0.02,
           -0.06,
           1,
           0.21,
           -0.02,
           -0.02,
           0,
           -0.03,
           -0.04,
           -0.03,
           -0.03,
           -0.02,
           -0.02,
           -0.02,
           -0.01,
           -0.02,
           -0.02,
           -0.01,
           0,
           -0.02,
           -0.02,
           0,
           1,
           -0.01,
           -0.02,
           1,
           -0.03,
           -0.05,
           0.12
          ],
          [
           0.07,
           0.25,
           -0.27,
           -0.26,
           -0.07,
           -0.08,
           -0.06,
           -0.04,
           -0.22,
           -0.03,
           0.17,
           -0.09,
           -0.13,
           -0.25,
           -0.12,
           -0.25,
           0.55,
           0.07,
           0.41,
           0.59,
           -0.27,
           -0.1,
           -0.12,
           -0.05,
           -0.27,
           -0.04,
           -0.13,
           -0.03,
           -0.11,
           -0.03,
           -0.07,
           0.74,
           -0.27,
           -0.18,
           0.19,
           -0.03,
           0.04,
           0.69,
           0.72,
           -0.03,
           -0.28,
           -0.25,
           0.52,
           -0.27,
           -0.16,
           0.03,
           -0.13,
           -0.13,
           -0.07,
           -0.19,
           -0.06,
           -0.04,
           0.08,
           0.72,
           -0.04,
           -0.03,
           -0.07,
           0.6,
           -0.03,
           1,
           -0.33,
           -0.14
          ],
          [
           -0.39,
           -0.68,
           0.46,
           0.48,
           -0.09,
           -0.16,
           -0.11,
           -0.02,
           -0.32,
           -0.06,
           0.29,
           0.05,
           -0.14,
           0.45,
           -0.02,
           0.59,
           -0.42,
           -0.15,
           -0.47,
           -0.36,
           0.62,
           -0.19,
           -0.22,
           0.01,
           0.62,
           0.01,
           -0.25,
           -0.05,
           -0.53,
           -0.05,
           -0.09,
           -0.31,
           0.62,
           -0.22,
           0.44,
           -0.05,
           -0.21,
           -0.34,
           -0.3,
           -0.05,
           0.68,
           -0.49,
           -0.3,
           0.62,
           -0.28,
           -0.37,
           -0.25,
           -0.24,
           -0.18,
           0.23,
           -0.11,
           0.01,
           -0.29,
           -0.31,
           -0.07,
           -0.05,
           -0.13,
           -0.36,
           -0.05,
           -0.33,
           1,
           -0.21
          ],
          [
           0.44,
           0.21,
           -0.17,
           -0.15,
           -0.11,
           0.19,
           0.63,
           0.22,
           0.08,
           0.09,
           -0.2,
           -0.13,
           0.31,
           -0.21,
           0.26,
           -0.15,
           -0.19,
           -0.14,
           -0.21,
           -0.17,
           -0.14,
           0.38,
           0.37,
           0.11,
           -0.14,
           0.18,
           0.28,
           0.12,
           0.34,
           0.12,
           0.15,
           -0.13,
           -0.14,
           0.39,
           -0.31,
           0.12,
           0.13,
           -0.14,
           -0.12,
           0.17,
           -0.16,
           0.36,
           -0.19,
           -0.14,
           0.26,
           0.28,
           0.28,
           0.33,
           0.11,
           -0.14,
           0.63,
           0.18,
           0.38,
           -0.14,
           -0.08,
           0.12,
           0.52,
           -0.18,
           0.12,
           -0.14,
           -0.21,
           1
          ]
         ]
        }
       ],
       "layout": {
        "coloraxis": {
         "colorscale": [
          [
           0,
           "#0d0887"
          ],
          [
           0.1111111111111111,
           "#46039f"
          ],
          [
           0.2222222222222222,
           "#7201a8"
          ],
          [
           0.3333333333333333,
           "#9c179e"
          ],
          [
           0.4444444444444444,
           "#bd3786"
          ],
          [
           0.5555555555555556,
           "#d8576b"
          ],
          [
           0.6666666666666666,
           "#ed7953"
          ],
          [
           0.7777777777777778,
           "#fb9f3a"
          ],
          [
           0.8888888888888888,
           "#fdca26"
          ],
          [
           1,
           "#f0f921"
          ]
         ]
        },
        "height": 1100,
        "margin": {
         "t": 60
        },
        "showlegend": false,
        "template": {
         "data": {
          "bar": [
           {
            "error_x": {
             "color": "#2a3f5f"
            },
            "error_y": {
             "color": "#2a3f5f"
            },
            "marker": {
             "line": {
              "color": "#E5ECF6",
              "width": 0.5
             },
             "pattern": {
              "fillmode": "overlay",
              "size": 10,
              "solidity": 0.2
             }
            },
            "type": "bar"
           }
          ],
          "barpolar": [
           {
            "marker": {
             "line": {
              "color": "#E5ECF6",
              "width": 0.5
             },
             "pattern": {
              "fillmode": "overlay",
              "size": 10,
              "solidity": 0.2
             }
            },
            "type": "barpolar"
           }
          ],
          "carpet": [
           {
            "aaxis": {
             "endlinecolor": "#2a3f5f",
             "gridcolor": "white",
             "linecolor": "white",
             "minorgridcolor": "white",
             "startlinecolor": "#2a3f5f"
            },
            "baxis": {
             "endlinecolor": "#2a3f5f",
             "gridcolor": "white",
             "linecolor": "white",
             "minorgridcolor": "white",
             "startlinecolor": "#2a3f5f"
            },
            "type": "carpet"
           }
          ],
          "choropleth": [
           {
            "colorbar": {
             "outlinewidth": 0,
             "ticks": ""
            },
            "type": "choropleth"
           }
          ],
          "contour": [
           {
            "colorbar": {
             "outlinewidth": 0,
             "ticks": ""
            },
            "colorscale": [
             [
              0,
              "#0d0887"
             ],
             [
              0.1111111111111111,
              "#46039f"
             ],
             [
              0.2222222222222222,
              "#7201a8"
             ],
             [
              0.3333333333333333,
              "#9c179e"
             ],
             [
              0.4444444444444444,
              "#bd3786"
             ],
             [
              0.5555555555555556,
              "#d8576b"
             ],
             [
              0.6666666666666666,
              "#ed7953"
             ],
             [
              0.7777777777777778,
              "#fb9f3a"
             ],
             [
              0.8888888888888888,
              "#fdca26"
             ],
             [
              1,
              "#f0f921"
             ]
            ],
            "type": "contour"
           }
          ],
          "contourcarpet": [
           {
            "colorbar": {
             "outlinewidth": 0,
             "ticks": ""
            },
            "type": "contourcarpet"
           }
          ],
          "heatmap": [
           {
            "colorbar": {
             "outlinewidth": 0,
             "ticks": ""
            },
            "colorscale": [
             [
              0,
              "#0d0887"
             ],
             [
              0.1111111111111111,
              "#46039f"
             ],
             [
              0.2222222222222222,
              "#7201a8"
             ],
             [
              0.3333333333333333,
              "#9c179e"
             ],
             [
              0.4444444444444444,
              "#bd3786"
             ],
             [
              0.5555555555555556,
              "#d8576b"
             ],
             [
              0.6666666666666666,
              "#ed7953"
             ],
             [
              0.7777777777777778,
              "#fb9f3a"
             ],
             [
              0.8888888888888888,
              "#fdca26"
             ],
             [
              1,
              "#f0f921"
             ]
            ],
            "type": "heatmap"
           }
          ],
          "heatmapgl": [
           {
            "colorbar": {
             "outlinewidth": 0,
             "ticks": ""
            },
            "colorscale": [
             [
              0,
              "#0d0887"
             ],
             [
              0.1111111111111111,
              "#46039f"
             ],
             [
              0.2222222222222222,
              "#7201a8"
             ],
             [
              0.3333333333333333,
              "#9c179e"
             ],
             [
              0.4444444444444444,
              "#bd3786"
             ],
             [
              0.5555555555555556,
              "#d8576b"
             ],
             [
              0.6666666666666666,
              "#ed7953"
             ],
             [
              0.7777777777777778,
              "#fb9f3a"
             ],
             [
              0.8888888888888888,
              "#fdca26"
             ],
             [
              1,
              "#f0f921"
             ]
            ],
            "type": "heatmapgl"
           }
          ],
          "histogram": [
           {
            "marker": {
             "pattern": {
              "fillmode": "overlay",
              "size": 10,
              "solidity": 0.2
             }
            },
            "type": "histogram"
           }
          ],
          "histogram2d": [
           {
            "colorbar": {
             "outlinewidth": 0,
             "ticks": ""
            },
            "colorscale": [
             [
              0,
              "#0d0887"
             ],
             [
              0.1111111111111111,
              "#46039f"
             ],
             [
              0.2222222222222222,
              "#7201a8"
             ],
             [
              0.3333333333333333,
              "#9c179e"
             ],
             [
              0.4444444444444444,
              "#bd3786"
             ],
             [
              0.5555555555555556,
              "#d8576b"
             ],
             [
              0.6666666666666666,
              "#ed7953"
             ],
             [
              0.7777777777777778,
              "#fb9f3a"
             ],
             [
              0.8888888888888888,
              "#fdca26"
             ],
             [
              1,
              "#f0f921"
             ]
            ],
            "type": "histogram2d"
           }
          ],
          "histogram2dcontour": [
           {
            "colorbar": {
             "outlinewidth": 0,
             "ticks": ""
            },
            "colorscale": [
             [
              0,
              "#0d0887"
             ],
             [
              0.1111111111111111,
              "#46039f"
             ],
             [
              0.2222222222222222,
              "#7201a8"
             ],
             [
              0.3333333333333333,
              "#9c179e"
             ],
             [
              0.4444444444444444,
              "#bd3786"
             ],
             [
              0.5555555555555556,
              "#d8576b"
             ],
             [
              0.6666666666666666,
              "#ed7953"
             ],
             [
              0.7777777777777778,
              "#fb9f3a"
             ],
             [
              0.8888888888888888,
              "#fdca26"
             ],
             [
              1,
              "#f0f921"
             ]
            ],
            "type": "histogram2dcontour"
           }
          ],
          "mesh3d": [
           {
            "colorbar": {
             "outlinewidth": 0,
             "ticks": ""
            },
            "type": "mesh3d"
           }
          ],
          "parcoords": [
           {
            "line": {
             "colorbar": {
              "outlinewidth": 0,
              "ticks": ""
             }
            },
            "type": "parcoords"
           }
          ],
          "pie": [
           {
            "automargin": true,
            "type": "pie"
           }
          ],
          "scatter": [
           {
            "fillpattern": {
             "fillmode": "overlay",
             "size": 10,
             "solidity": 0.2
            },
            "type": "scatter"
           }
          ],
          "scatter3d": [
           {
            "line": {
             "colorbar": {
              "outlinewidth": 0,
              "ticks": ""
             }
            },
            "marker": {
             "colorbar": {
              "outlinewidth": 0,
              "ticks": ""
             }
            },
            "type": "scatter3d"
           }
          ],
          "scattercarpet": [
           {
            "marker": {
             "colorbar": {
              "outlinewidth": 0,
              "ticks": ""
             }
            },
            "type": "scattercarpet"
           }
          ],
          "scattergeo": [
           {
            "marker": {
             "colorbar": {
              "outlinewidth": 0,
              "ticks": ""
             }
            },
            "type": "scattergeo"
           }
          ],
          "scattergl": [
           {
            "marker": {
             "colorbar": {
              "outlinewidth": 0,
              "ticks": ""
             }
            },
            "type": "scattergl"
           }
          ],
          "scattermapbox": [
           {
            "marker": {
             "colorbar": {
              "outlinewidth": 0,
              "ticks": ""
             }
            },
            "type": "scattermapbox"
           }
          ],
          "scatterpolar": [
           {
            "marker": {
             "colorbar": {
              "outlinewidth": 0,
              "ticks": ""
             }
            },
            "type": "scatterpolar"
           }
          ],
          "scatterpolargl": [
           {
            "marker": {
             "colorbar": {
              "outlinewidth": 0,
              "ticks": ""
             }
            },
            "type": "scatterpolargl"
           }
          ],
          "scatterternary": [
           {
            "marker": {
             "colorbar": {
              "outlinewidth": 0,
              "ticks": ""
             }
            },
            "type": "scatterternary"
           }
          ],
          "surface": [
           {
            "colorbar": {
             "outlinewidth": 0,
             "ticks": ""
            },
            "colorscale": [
             [
              0,
              "#0d0887"
             ],
             [
              0.1111111111111111,
              "#46039f"
             ],
             [
              0.2222222222222222,
              "#7201a8"
             ],
             [
              0.3333333333333333,
              "#9c179e"
             ],
             [
              0.4444444444444444,
              "#bd3786"
             ],
             [
              0.5555555555555556,
              "#d8576b"
             ],
             [
              0.6666666666666666,
              "#ed7953"
             ],
             [
              0.7777777777777778,
              "#fb9f3a"
             ],
             [
              0.8888888888888888,
              "#fdca26"
             ],
             [
              1,
              "#f0f921"
             ]
            ],
            "type": "surface"
           }
          ],
          "table": [
           {
            "cells": {
             "fill": {
              "color": "#EBF0F8"
             },
             "line": {
              "color": "white"
             }
            },
            "header": {
             "fill": {
              "color": "#C8D4E3"
             },
             "line": {
              "color": "white"
             }
            },
            "type": "table"
           }
          ]
         },
         "layout": {
          "annotationdefaults": {
           "arrowcolor": "#2a3f5f",
           "arrowhead": 0,
           "arrowwidth": 1
          },
          "autotypenumbers": "strict",
          "coloraxis": {
           "colorbar": {
            "outlinewidth": 0,
            "ticks": ""
           }
          },
          "colorscale": {
           "diverging": [
            [
             0,
             "#8e0152"
            ],
            [
             0.1,
             "#c51b7d"
            ],
            [
             0.2,
             "#de77ae"
            ],
            [
             0.3,
             "#f1b6da"
            ],
            [
             0.4,
             "#fde0ef"
            ],
            [
             0.5,
             "#f7f7f7"
            ],
            [
             0.6,
             "#e6f5d0"
            ],
            [
             0.7,
             "#b8e186"
            ],
            [
             0.8,
             "#7fbc41"
            ],
            [
             0.9,
             "#4d9221"
            ],
            [
             1,
             "#276419"
            ]
           ],
           "sequential": [
            [
             0,
             "#0d0887"
            ],
            [
             0.1111111111111111,
             "#46039f"
            ],
            [
             0.2222222222222222,
             "#7201a8"
            ],
            [
             0.3333333333333333,
             "#9c179e"
            ],
            [
             0.4444444444444444,
             "#bd3786"
            ],
            [
             0.5555555555555556,
             "#d8576b"
            ],
            [
             0.6666666666666666,
             "#ed7953"
            ],
            [
             0.7777777777777778,
             "#fb9f3a"
            ],
            [
             0.8888888888888888,
             "#fdca26"
            ],
            [
             1,
             "#f0f921"
            ]
           ],
           "sequentialminus": [
            [
             0,
             "#0d0887"
            ],
            [
             0.1111111111111111,
             "#46039f"
            ],
            [
             0.2222222222222222,
             "#7201a8"
            ],
            [
             0.3333333333333333,
             "#9c179e"
            ],
            [
             0.4444444444444444,
             "#bd3786"
            ],
            [
             0.5555555555555556,
             "#d8576b"
            ],
            [
             0.6666666666666666,
             "#ed7953"
            ],
            [
             0.7777777777777778,
             "#fb9f3a"
            ],
            [
             0.8888888888888888,
             "#fdca26"
            ],
            [
             1,
             "#f0f921"
            ]
           ]
          },
          "colorway": [
           "#636efa",
           "#EF553B",
           "#00cc96",
           "#ab63fa",
           "#FFA15A",
           "#19d3f3",
           "#FF6692",
           "#B6E880",
           "#FF97FF",
           "#FECB52"
          ],
          "font": {
           "color": "#2a3f5f"
          },
          "geo": {
           "bgcolor": "white",
           "lakecolor": "white",
           "landcolor": "#E5ECF6",
           "showlakes": true,
           "showland": true,
           "subunitcolor": "white"
          },
          "hoverlabel": {
           "align": "left"
          },
          "hovermode": "closest",
          "mapbox": {
           "style": "light"
          },
          "paper_bgcolor": "white",
          "plot_bgcolor": "#E5ECF6",
          "polar": {
           "angularaxis": {
            "gridcolor": "white",
            "linecolor": "white",
            "ticks": ""
           },
           "bgcolor": "#E5ECF6",
           "radialaxis": {
            "gridcolor": "white",
            "linecolor": "white",
            "ticks": ""
           }
          },
          "scene": {
           "xaxis": {
            "backgroundcolor": "#E5ECF6",
            "gridcolor": "white",
            "gridwidth": 2,
            "linecolor": "white",
            "showbackground": true,
            "ticks": "",
            "zerolinecolor": "white"
           },
           "yaxis": {
            "backgroundcolor": "#E5ECF6",
            "gridcolor": "white",
            "gridwidth": 2,
            "linecolor": "white",
            "showbackground": true,
            "ticks": "",
            "zerolinecolor": "white"
           },
           "zaxis": {
            "backgroundcolor": "#E5ECF6",
            "gridcolor": "white",
            "gridwidth": 2,
            "linecolor": "white",
            "showbackground": true,
            "ticks": "",
            "zerolinecolor": "white"
           }
          },
          "shapedefaults": {
           "line": {
            "color": "#2a3f5f"
           }
          },
          "ternary": {
           "aaxis": {
            "gridcolor": "white",
            "linecolor": "white",
            "ticks": ""
           },
           "baxis": {
            "gridcolor": "white",
            "linecolor": "white",
            "ticks": ""
           },
           "bgcolor": "#E5ECF6",
           "caxis": {
            "gridcolor": "white",
            "linecolor": "white",
            "ticks": ""
           }
          },
          "title": {
           "x": 0.05
          },
          "xaxis": {
           "automargin": true,
           "gridcolor": "white",
           "linecolor": "white",
           "ticks": "",
           "title": {
            "standoff": 15
           },
           "zerolinecolor": "white",
           "zerolinewidth": 2
          },
          "yaxis": {
           "automargin": true,
           "gridcolor": "white",
           "linecolor": "white",
           "ticks": "",
           "title": {
            "standoff": 15
           },
           "zerolinecolor": "white",
           "zerolinewidth": 2
          }
         }
        },
        "xaxis": {
         "anchor": "y",
         "constrain": "domain",
         "domain": [
          0,
          1
         ],
         "scaleanchor": "y"
        },
        "yaxis": {
         "anchor": "x",
         "autorange": "reversed",
         "constrain": "domain",
         "domain": [
          0,
          1
         ]
        }
       }
      }
     },
     "metadata": {},
     "output_type": "display_data"
    }
   ],
   "source": [
    "# Визуализация корреляции предиктов и таргета\n",
    "cor_df = df_drop[best_col].corr().round(2)\n",
    "fig = px.imshow(cor_df,\n",
    "                height=1100,\n",
    "                text_auto=True\n",
    ")\n",
    "fig.update_layout(showlegend=False)\n",
    "fig.show();"
   ]
  },
  {
   "cell_type": "markdown",
   "metadata": {},
   "source": [
    "**Вывод**\n",
    "\n",
    "1. На тепловой карте корреляционной матрицы видно, что некоторые признаки фактически дублируют друг друга (коэффициент равен 1), однако этот результат очень сложно интерпретировать и, видимо, нужно признать, что он получился из-за малого объёма данных. Хотя полная зависимость `multimedia` и `gadget` или `full moon` и `midnight` интуитивно, пожалуй, объяснить можем\n",
    "2. В тоже время корреляция лучших 25 предикторов с таргетом в основном достаточно слабая, хотя и есть три признака, у которых абсолютное значение коэффициента связи с целевой переменной превысило 0,5"
   ]
  },
  {
   "cell_type": "markdown",
   "metadata": {},
   "source": [
    "## **Масштабирование**"
   ]
  },
  {
   "cell_type": "code",
   "execution_count": 1666,
   "metadata": {},
   "outputs": [],
   "source": [
    "scaler = MinMaxScaler()\n",
    "scaler.fit(X_train_best)\n",
    "X_train_scaled = pd.DataFrame(scaler.transform(X_train_best),columns=X_train_best.columns)\n",
    "X_valid_scaled = pd.DataFrame(scaler.transform(X_valid_best),columns=X_valid_best.columns)"
   ]
  },
  {
   "cell_type": "markdown",
   "metadata": {},
   "source": [
    "# **Решение задачи регрессии**"
   ]
  },
  {
   "cell_type": "markdown",
   "metadata": {},
   "source": [
    "### Линейная регрессия"
   ]
  },
  {
   "cell_type": "code",
   "execution_count": 1667,
   "metadata": {},
   "outputs": [
    {
     "name": "stdout",
     "output_type": "stream",
     "text": [
      "Ошибка на тренировочных данных 0.00292\n",
      "Ошибка на валидационных данных 0.00335\n"
     ]
    }
   ],
   "source": [
    "# Обучим бейслайн\n",
    "\n",
    "lr = LinearRegression()\n",
    "lr.fit(X_train_scaled, y_train)\n",
    "\n",
    "y_train_pred = lr.predict(X_train_scaled)\n",
    "y_valid_pred = lr.predict(X_valid_scaled)\n",
    "\n",
    "rmse_tr_lr = round(np.sqrt(mean_squared_error(y_train, y_train_pred)), 5)\n",
    "rmse_vl_lr = round(np.sqrt(mean_squared_error(y_valid, y_valid_pred)), 5)\n",
    "print(f'Ошибка на тренировочных данных {rmse_tr_lr}')\n",
    "print(f'Ошибка на валидационных данных {rmse_vl_lr}')"
   ]
  },
  {
   "cell_type": "markdown",
   "metadata": {},
   "source": [
    "Разница между метриками достаточно большая, попробуем другую модель"
   ]
  },
  {
   "cell_type": "markdown",
   "metadata": {},
   "source": [
    "### Дерево решений"
   ]
  },
  {
   "cell_type": "code",
   "execution_count": 1670,
   "metadata": {},
   "outputs": [
    {
     "name": "stdout",
     "output_type": "stream",
     "text": [
      "Ошибка на тренировочных данных 0.00251\n",
      "Ошибка на валидационных данных 0.00381\n"
     ]
    }
   ],
   "source": [
    "dt = DecisionTreeRegressor(random_state = RANDOM_STATE)\n",
    "dt.fit(X_train_scaled, y_train)\n",
    "\n",
    "y_train_pred_dt = dt.predict(X_train_scaled)\n",
    "y_valid_pred_dt = dt.predict(X_valid_scaled)\n",
    "\n",
    "rmse_tr_dt = round(np.sqrt(mean_squared_error(y_train, y_train_pred_dt)), 5)\n",
    "rmse_vl_dt = round(np.sqrt(mean_squared_error(y_valid, y_valid_pred_dt)), 5)\n",
    "\n",
    "print(f'Ошибка на тренировочных данных {rmse_tr_dt}')\n",
    "print(f'Ошибка на валидационных данных {rmse_vl_dt}')"
   ]
  },
  {
   "cell_type": "markdown",
   "metadata": {},
   "source": [
    "Получили переобучение, что и должно было случиться с неограниченной глубиной дерева, стоит подобрать этот параметр"
   ]
  },
  {
   "cell_type": "code",
   "execution_count": 1674,
   "metadata": {},
   "outputs": [],
   "source": [
    "max_depths = np.arange(3, 15)\n",
    "rmse_train_md, rmse_valid_md = [],[]\n",
    "\n",
    "for i in max_depths:\n",
    "    dt_pr = DecisionTreeRegressor(random_state=RANDOM_STATE, max_depth=i)\n",
    "    dt_pr.fit(X_train_scaled, y_train)\n",
    "    y_train_pred_pr = dt_pr.predict(X_train_scaled)\n",
    "    y_valid_pred_pr = dt_pr.predict(X_valid_scaled)\n",
    "    rmse_train_md.append(np.sqrt(mean_squared_error(y_train, y_train_pred_pr)))\n",
    "    rmse_valid_md.append(np.sqrt(mean_squared_error(y_valid, y_valid_pred_pr)))"
   ]
  },
  {
   "cell_type": "code",
   "execution_count": 1675,
   "metadata": {},
   "outputs": [
    {
     "data": {
      "image/png": "[encoded data removed]",
      "text/plain": [
       "<Figure size 1000x400 with 1 Axes>"
      ]
     },
     "metadata": {},
     "output_type": "display_data"
    }
   ],
   "source": [
    "#Визуализируем метрики\n",
    "fig, ax = plt.subplots(figsize=(10, 4))\n",
    "ax.plot(max_depths, rmse_train_md, label='Ошибка на тренировочных данных')\n",
    "ax.plot(max_depths, rmse_valid_md, label='Ошибка на валидационных данных')\n",
    "ax.set_title('Зависимость RMSLE от глубины деревьев')\n",
    "ax.set_xlabel('Глубина деревьев')\n",
    "ax.set_ylabel('RMSLE')\n",
    "ax.legend()\n",
    "ax.set_xticks(max_depths);"
   ]
  },
  {
   "cell_type": "markdown",
   "metadata": {},
   "source": [
    "**Вывод**\n",
    "\n",
    "Оптимальная глубина решающего дерева - 5"
   ]
  },
  {
   "cell_type": "code",
   "execution_count": 1680,
   "metadata": {},
   "outputs": [
    {
     "name": "stdout",
     "output_type": "stream",
     "text": [
      "Ошибка на тренировочных данных 0.00294\n",
      "Ошибка на валидационных данных 0.00341\n"
     ]
    }
   ],
   "source": [
    "dt_opt = DecisionTreeRegressor(random_state = RANDOM_STATE, max_depth=5)\n",
    "dt_opt.fit(X_train_scaled, y_train)\n",
    "\n",
    "y_train_pred_opt = dt_opt.predict(X_train_scaled)\n",
    "y_valid_pred_opt = dt_opt.predict(X_valid_scaled)\n",
    "\n",
    "rmse_tr_opt = round(np.sqrt(mean_squared_error(y_train, y_train_pred_opt)), 5)\n",
    "rmse_vl_opt = round(np.sqrt(mean_squared_error(y_valid, y_valid_pred_opt)), 5)\n",
    "\n",
    "print(f'Ошибка на тренировочных данных {rmse_tr_opt}')\n",
    "print(f'Ошибка на валидационных данных {rmse_vl_opt}')"
   ]
  },
  {
   "cell_type": "markdown",
   "metadata": {},
   "source": [
    "Всё равно не удалось улучшить качество модели по сравнению с линейной регрессией, стоит попробовать ансамблирование"
   ]
  },
  {
   "cell_type": "markdown",
   "metadata": {},
   "source": [
    "### Случайный лес"
   ]
  },
  {
   "cell_type": "code",
   "execution_count": 1683,
   "metadata": {},
   "outputs": [
    {
     "name": "stdout",
     "output_type": "stream",
     "text": [
      "Ошибка на тренировочных данных 0.0032\n",
      "Ошибка на валидационных данных 0.00312\n"
     ]
    }
   ],
   "source": [
    "rf = RandomForestRegressor(criterion='squared_error',\n",
    "                n_estimators=200,\n",
    "                max_depth=5,\n",
    "                min_samples_split=20,\n",
    "                random_state=RANDOM_STATE\n",
    ")\n",
    "\n",
    "rf.fit(X_train_scaled, y_train)\n",
    "\n",
    "y_train_pred_rf = rf.predict(X_train_scaled)\n",
    "y_valid_pred_rf = rf.predict(X_valid_scaled)\n",
    "\n",
    "rmse_tr_rf = round(np.sqrt(mean_squared_error(y_train, y_train_pred_rf)), 5)\n",
    "rmse_vl_rf = round(np.sqrt(mean_squared_error(y_valid, y_valid_pred_rf)), 5)\n",
    "print(f'Ошибка на тренировочных данных {rmse_tr_rf}')\n",
    "print(f'Ошибка на валидационных данных {rmse_vl_rf}')"
   ]
  },
  {
   "cell_type": "markdown",
   "metadata": {},
   "source": [
    "Загадка природы - ошибка на валидационной выборке меньше \"тренирвочной\" ошибки, нужно пробовать бустинг"
   ]
  },
  {
   "cell_type": "markdown",
   "metadata": {},
   "source": [
    "## Градиентный бустинг над деревьями решений"
   ]
  },
  {
   "cell_type": "code",
   "execution_count": 1715,
   "metadata": {},
   "outputs": [
    {
     "name": "stdout",
     "output_type": "stream",
     "text": [
      "      Iter       Train Loss   Remaining Time \n",
      "         1           0.0000            0.11s\n",
      "         2           0.0000            0.10s\n",
      "         3           0.0000            0.11s\n",
      "         4           0.0000            0.08s\n",
      "         5           0.0000            0.08s\n",
      "         6           0.0000            0.09s\n",
      "         7           0.0000            0.09s\n",
      "         8           0.0000            0.09s\n",
      "         9           0.0000            0.08s\n",
      "        10           0.0000            0.08s\n",
      "        20           0.0000            0.06s\n",
      "        30           0.0000            0.06s\n",
      "        40           0.0000            0.05s\n",
      "        50           0.0000            0.04s\n",
      "        60           0.0000            0.03s\n",
      "        70           0.0000            0.02s\n",
      "        80           0.0000            0.02s\n",
      "        90           0.0000            0.01s\n",
      "       100           0.0000            0.00s\n",
      "Ошибка на тренировочных данных 0.00251\n",
      "Ошибка на валидационных данных 0.00357\n"
     ]
    }
   ],
   "source": [
    "gb = GradientBoostingRegressor(learning_rate=0.5,\n",
    "                n_estimators=100,\n",
    "                max_depth=5, \n",
    "                min_samples_split=30,\n",
    "                random_state=42,\n",
    "                verbose=True\n",
    ").fit(X_train_scaled, y_train)\n",
    "\n",
    "y_train_pred_gb = gb.predict(X_train_scaled)\n",
    "y_valid_pred_gb = gb.predict(X_valid_scaled)\n",
    "\n",
    "rmse_tr_gb = round(np.sqrt(mean_squared_error(y_train, y_train_pred_gb)), 5)\n",
    "rmse_vl_gb = round(np.sqrt(mean_squared_error(y_valid, y_valid_pred_gb)), 5)\n",
    "print(f'Ошибка на тренировочных данных {rmse_tr_gb}')\n",
    "print(f'Ошибка на валидационных данных {rmse_vl_gb}')"
   ]
  },
  {
   "cell_type": "markdown",
   "metadata": {},
   "source": [
    "Всё же лучший результат на валидационной выборке показал $Random Forest$, попробуем добавить ему качества, подобрав гиперпараметры"
   ]
  },
  {
   "cell_type": "code",
   "execution_count": 1711,
   "metadata": {},
   "outputs": [
    {
     "name": "stdout",
     "output_type": "stream",
     "text": [
      "Ошибка на тренировочных данных 0.00318\n",
      "Ошибка на валидационных данных 0.00299\n",
      "Наилучшие значения гиперпараметров: {'n_estimators': 130, 'min_samples_leaf': 2, 'max_depth': 5}\n"
     ]
    }
   ],
   "source": [
    "params = {'n_estimators': list(range(20, 200, 10)),\n",
    "              'min_samples_leaf': list(range(1, 10, 1)),\n",
    "              'max_depth': list(np.linspace(5, 45, 5, dtype=int))\n",
    "              }\n",
    "            \n",
    "rf_search = RandomizedSearchCV(\n",
    "                                estimator=RandomForestRegressor(random_state=RANDOM_STATE), \n",
    "                                param_distributions=params, \n",
    "                                cv=7,\n",
    "                                n_iter = 10, \n",
    "                                n_jobs = -1\n",
    ").fit(X_train_scaled, y_train) \n",
    "best_par = rf_search.best_params_\n",
    "\n",
    "\n",
    "y_train_pred_rfs = rf_search.predict(X_train_scaled)\n",
    "y_valid_pred_rfs = rf_search.predict(X_valid_scaled)\n",
    "\n",
    "rmse_tr_rfs = round(np.sqrt(mean_squared_error(y_train, y_train_pred_rfs)), 5)\n",
    "rmse_vl_rfs = round(np.sqrt(mean_squared_error(y_valid, y_valid_pred_rfs)), 5)\n",
    "print(f'Ошибка на тренировочных данных {rmse_tr_rfs}')\n",
    "print(f'Ошибка на валидационных данных {rmse_vl_rfs}')\n",
    "print(\"Наилучшие значения гиперпараметров: {}\".format(best_par))"
   ]
  },
  {
   "cell_type": "markdown",
   "metadata": {},
   "source": [
    "Метрику удалось улучшить существенно, хотя и остаётся загадкой превосходство валидационного качества над тренировочным"
   ]
  },
  {
   "cell_type": "markdown",
   "metadata": {},
   "source": [
    "## Оценка значимости признаков"
   ]
  },
  {
   "cell_type": "code",
   "execution_count": null,
   "metadata": {},
   "outputs": [],
   "source": [
    "\n",
    "rf_best = RandomForestRegressor(\n",
    "    **best_par,\n",
    "    random_state=RANDOM_STATE\n",
    ").fit(X_train_scaled, y_train)\n",
    "\n",
    "y_pred_rfb = rf_best.predict(X_valid_scaled)\n",
    "rmse_vl_rfb = round(np.sqrt(mean_squared_error(y_valid, y_pred_rfb), 5))\n",
    "print(f'Ошибка на валидационных данных {rmse_vl_rfb}')"
   ]
  },
  {
   "cell_type": "code",
   "execution_count": 1721,
   "metadata": {},
   "outputs": [
    {
     "data": {
      "application/vnd.plotly.v1+json": {
       "config": {
        "plotlyServerURL": "https://plot.ly"
       },
       "data": [
        {
         "alignmentgroup": "True",
         "hovertemplate": "features=%{x}<br>importances=%{y}<extra></extra>",
         "legendgroup": "",
         "marker": {
          "color": "#636efa",
          "pattern": {
           "shape": ""
          }
         },
         "name": "",
         "offsetgroup": "",
         "orientation": "v",
         "showlegend": false,
         "textposition": "auto",
         "type": "bar",
         "x": [
          "image_text_length",
          "image_proportions_7",
          "water",
          "image_proportions_10",
          "darkness",
          "circle",
          "screenshot",
          "magenta",
          "sky",
          "image_text_3",
          "world",
          "science",
          "atmosphere",
          "#993333"
         ],
         "xaxis": "x",
         "y": [
          0.2920499336703641,
          0.2224286767686033,
          0.2017459095807165,
          0.08523775485727453,
          0.06374541328151365,
          0.019610426343002536,
          0.013106263433783986,
          0.011118675590799315,
          0.00926051874595679,
          0.007934075073371093,
          0.007309694813257553,
          0.00640915113196507,
          0.005512237945932849,
          0.005065375797136499
         ],
         "yaxis": "y"
        }
       ],
       "layout": {
        "barmode": "relative",
        "legend": {
         "tracegroupgap": 0
        },
        "margin": {
         "t": 60
        },
        "template": {
         "data": {
          "bar": [
           {
            "error_x": {
             "color": "#2a3f5f"
            },
            "error_y": {
             "color": "#2a3f5f"
            },
            "marker": {
             "line": {
              "color": "#E5ECF6",
              "width": 0.5
             },
             "pattern": {
              "fillmode": "overlay",
              "size": 10,
              "solidity": 0.2
             }
            },
            "type": "bar"
           }
          ],
          "barpolar": [
           {
            "marker": {
             "line": {
              "color": "#E5ECF6",
              "width": 0.5
             },
             "pattern": {
              "fillmode": "overlay",
              "size": 10,
              "solidity": 0.2
             }
            },
            "type": "barpolar"
           }
          ],
          "carpet": [
           {
            "aaxis": {
             "endlinecolor": "#2a3f5f",
             "gridcolor": "white",
             "linecolor": "white",
             "minorgridcolor": "white",
             "startlinecolor": "#2a3f5f"
            },
            "baxis": {
             "endlinecolor": "#2a3f5f",
             "gridcolor": "white",
             "linecolor": "white",
             "minorgridcolor": "white",
             "startlinecolor": "#2a3f5f"
            },
            "type": "carpet"
           }
          ],
          "choropleth": [
           {
            "colorbar": {
             "outlinewidth": 0,
             "ticks": ""
            },
            "type": "choropleth"
           }
          ],
          "contour": [
           {
            "colorbar": {
             "outlinewidth": 0,
             "ticks": ""
            },
            "colorscale": [
             [
              0,
              "#0d0887"
             ],
             [
              0.1111111111111111,
              "#46039f"
             ],
             [
              0.2222222222222222,
              "#7201a8"
             ],
             [
              0.3333333333333333,
              "#9c179e"
             ],
             [
              0.4444444444444444,
              "#bd3786"
             ],
             [
              0.5555555555555556,
              "#d8576b"
             ],
             [
              0.6666666666666666,
              "#ed7953"
             ],
             [
              0.7777777777777778,
              "#fb9f3a"
             ],
             [
              0.8888888888888888,
              "#fdca26"
             ],
             [
              1,
              "#f0f921"
             ]
            ],
            "type": "contour"
           }
          ],
          "contourcarpet": [
           {
            "colorbar": {
             "outlinewidth": 0,
             "ticks": ""
            },
            "type": "contourcarpet"
           }
          ],
          "heatmap": [
           {
            "colorbar": {
             "outlinewidth": 0,
             "ticks": ""
            },
            "colorscale": [
             [
              0,
              "#0d0887"
             ],
             [
              0.1111111111111111,
              "#46039f"
             ],
             [
              0.2222222222222222,
              "#7201a8"
             ],
             [
              0.3333333333333333,
              "#9c179e"
             ],
             [
              0.4444444444444444,
              "#bd3786"
             ],
             [
              0.5555555555555556,
              "#d8576b"
             ],
             [
              0.6666666666666666,
              "#ed7953"
             ],
             [
              0.7777777777777778,
              "#fb9f3a"
             ],
             [
              0.8888888888888888,
              "#fdca26"
             ],
             [
              1,
              "#f0f921"
             ]
            ],
            "type": "heatmap"
           }
          ],
          "heatmapgl": [
           {
            "colorbar": {
             "outlinewidth": 0,
             "ticks": ""
            },
            "colorscale": [
             [
              0,
              "#0d0887"
             ],
             [
              0.1111111111111111,
              "#46039f"
             ],
             [
              0.2222222222222222,
              "#7201a8"
             ],
             [
              0.3333333333333333,
              "#9c179e"
             ],
             [
              0.4444444444444444,
              "#bd3786"
             ],
             [
              0.5555555555555556,
              "#d8576b"
             ],
             [
              0.6666666666666666,
              "#ed7953"
             ],
             [
              0.7777777777777778,
              "#fb9f3a"
             ],
             [
              0.8888888888888888,
              "#fdca26"
             ],
             [
              1,
              "#f0f921"
             ]
            ],
            "type": "heatmapgl"
           }
          ],
          "histogram": [
           {
            "marker": {
             "pattern": {
              "fillmode": "overlay",
              "size": 10,
              "solidity": 0.2
             }
            },
            "type": "histogram"
           }
          ],
          "histogram2d": [
           {
            "colorbar": {
             "outlinewidth": 0,
             "ticks": ""
            },
            "colorscale": [
             [
              0,
              "#0d0887"
             ],
             [
              0.1111111111111111,
              "#46039f"
             ],
             [
              0.2222222222222222,
              "#7201a8"
             ],
             [
              0.3333333333333333,
              "#9c179e"
             ],
             [
              0.4444444444444444,
              "#bd3786"
             ],
             [
              0.5555555555555556,
              "#d8576b"
             ],
             [
              0.6666666666666666,
              "#ed7953"
             ],
             [
              0.7777777777777778,
              "#fb9f3a"
             ],
             [
              0.8888888888888888,
              "#fdca26"
             ],
             [
              1,
              "#f0f921"
             ]
            ],
            "type": "histogram2d"
           }
          ],
          "histogram2dcontour": [
           {
            "colorbar": {
             "outlinewidth": 0,
             "ticks": ""
            },
            "colorscale": [
             [
              0,
              "#0d0887"
             ],
             [
              0.1111111111111111,
              "#46039f"
             ],
             [
              0.2222222222222222,
              "#7201a8"
             ],
             [
              0.3333333333333333,
              "#9c179e"
             ],
             [
              0.4444444444444444,
              "#bd3786"
             ],
             [
              0.5555555555555556,
              "#d8576b"
             ],
             [
              0.6666666666666666,
              "#ed7953"
             ],
             [
              0.7777777777777778,
              "#fb9f3a"
             ],
             [
              0.8888888888888888,
              "#fdca26"
             ],
             [
              1,
              "#f0f921"
             ]
            ],
            "type": "histogram2dcontour"
           }
          ],
          "mesh3d": [
           {
            "colorbar": {
             "outlinewidth": 0,
             "ticks": ""
            },
            "type": "mesh3d"
           }
          ],
          "parcoords": [
           {
            "line": {
             "colorbar": {
              "outlinewidth": 0,
              "ticks": ""
             }
            },
            "type": "parcoords"
           }
          ],
          "pie": [
           {
            "automargin": true,
            "type": "pie"
           }
          ],
          "scatter": [
           {
            "fillpattern": {
             "fillmode": "overlay",
             "size": 10,
             "solidity": 0.2
            },
            "type": "scatter"
           }
          ],
          "scatter3d": [
           {
            "line": {
             "colorbar": {
              "outlinewidth": 0,
              "ticks": ""
             }
            },
            "marker": {
             "colorbar": {
              "outlinewidth": 0,
              "ticks": ""
             }
            },
            "type": "scatter3d"
           }
          ],
          "scattercarpet": [
           {
            "marker": {
             "colorbar": {
              "outlinewidth": 0,
              "ticks": ""
             }
            },
            "type": "scattercarpet"
           }
          ],
          "scattergeo": [
           {
            "marker": {
             "colorbar": {
              "outlinewidth": 0,
              "ticks": ""
             }
            },
            "type": "scattergeo"
           }
          ],
          "scattergl": [
           {
            "marker": {
             "colorbar": {
              "outlinewidth": 0,
              "ticks": ""
             }
            },
            "type": "scattergl"
           }
          ],
          "scattermapbox": [
           {
            "marker": {
             "colorbar": {
              "outlinewidth": 0,
              "ticks": ""
             }
            },
            "type": "scattermapbox"
           }
          ],
          "scatterpolar": [
           {
            "marker": {
             "colorbar": {
              "outlinewidth": 0,
              "ticks": ""
             }
            },
            "type": "scatterpolar"
           }
          ],
          "scatterpolargl": [
           {
            "marker": {
             "colorbar": {
              "outlinewidth": 0,
              "ticks": ""
             }
            },
            "type": "scatterpolargl"
           }
          ],
          "scatterternary": [
           {
            "marker": {
             "colorbar": {
              "outlinewidth": 0,
              "ticks": ""
             }
            },
            "type": "scatterternary"
           }
          ],
          "surface": [
           {
            "colorbar": {
             "outlinewidth": 0,
             "ticks": ""
            },
            "colorscale": [
             [
              0,
              "#0d0887"
             ],
             [
              0.1111111111111111,
              "#46039f"
             ],
             [
              0.2222222222222222,
              "#7201a8"
             ],
             [
              0.3333333333333333,
              "#9c179e"
             ],
             [
              0.4444444444444444,
              "#bd3786"
             ],
             [
              0.5555555555555556,
              "#d8576b"
             ],
             [
              0.6666666666666666,
              "#ed7953"
             ],
             [
              0.7777777777777778,
              "#fb9f3a"
             ],
             [
              0.8888888888888888,
              "#fdca26"
             ],
             [
              1,
              "#f0f921"
             ]
            ],
            "type": "surface"
           }
          ],
          "table": [
           {
            "cells": {
             "fill": {
              "color": "#EBF0F8"
             },
             "line": {
              "color": "white"
             }
            },
            "header": {
             "fill": {
              "color": "#C8D4E3"
             },
             "line": {
              "color": "white"
             }
            },
            "type": "table"
           }
          ]
         },
         "layout": {
          "annotationdefaults": {
           "arrowcolor": "#2a3f5f",
           "arrowhead": 0,
           "arrowwidth": 1
          },
          "autotypenumbers": "strict",
          "coloraxis": {
           "colorbar": {
            "outlinewidth": 0,
            "ticks": ""
           }
          },
          "colorscale": {
           "diverging": [
            [
             0,
             "#8e0152"
            ],
            [
             0.1,
             "#c51b7d"
            ],
            [
             0.2,
             "#de77ae"
            ],
            [
             0.3,
             "#f1b6da"
            ],
            [
             0.4,
             "#fde0ef"
            ],
            [
             0.5,
             "#f7f7f7"
            ],
            [
             0.6,
             "#e6f5d0"
            ],
            [
             0.7,
             "#b8e186"
            ],
            [
             0.8,
             "#7fbc41"
            ],
            [
             0.9,
             "#4d9221"
            ],
            [
             1,
             "#276419"
            ]
           ],
           "sequential": [
            [
             0,
             "#0d0887"
            ],
            [
             0.1111111111111111,
             "#46039f"
            ],
            [
             0.2222222222222222,
             "#7201a8"
            ],
            [
             0.3333333333333333,
             "#9c179e"
            ],
            [
             0.4444444444444444,
             "#bd3786"
            ],
            [
             0.5555555555555556,
             "#d8576b"
            ],
            [
             0.6666666666666666,
             "#ed7953"
            ],
            [
             0.7777777777777778,
             "#fb9f3a"
            ],
            [
             0.8888888888888888,
             "#fdca26"
            ],
            [
             1,
             "#f0f921"
            ]
           ],
           "sequentialminus": [
            [
             0,
             "#0d0887"
            ],
            [
             0.1111111111111111,
             "#46039f"
            ],
            [
             0.2222222222222222,
             "#7201a8"
            ],
            [
             0.3333333333333333,
             "#9c179e"
            ],
            [
             0.4444444444444444,
             "#bd3786"
            ],
            [
             0.5555555555555556,
             "#d8576b"
            ],
            [
             0.6666666666666666,
             "#ed7953"
            ],
            [
             0.7777777777777778,
             "#fb9f3a"
            ],
            [
             0.8888888888888888,
             "#fdca26"
            ],
            [
             1,
             "#f0f921"
            ]
           ]
          },
          "colorway": [
           "#636efa",
           "#EF553B",
           "#00cc96",
           "#ab63fa",
           "#FFA15A",
           "#19d3f3",
           "#FF6692",
           "#B6E880",
           "#FF97FF",
           "#FECB52"
          ],
          "font": {
           "color": "#2a3f5f"
          },
          "geo": {
           "bgcolor": "white",
           "lakecolor": "white",
           "landcolor": "#E5ECF6",
           "showlakes": true,
           "showland": true,
           "subunitcolor": "white"
          },
          "hoverlabel": {
           "align": "left"
          },
          "hovermode": "closest",
          "mapbox": {
           "style": "light"
          },
          "paper_bgcolor": "white",
          "plot_bgcolor": "#E5ECF6",
          "polar": {
           "angularaxis": {
            "gridcolor": "white",
            "linecolor": "white",
            "ticks": ""
           },
           "bgcolor": "#E5ECF6",
           "radialaxis": {
            "gridcolor": "white",
            "linecolor": "white",
            "ticks": ""
           }
          },
          "scene": {
           "xaxis": {
            "backgroundcolor": "#E5ECF6",
            "gridcolor": "white",
            "gridwidth": 2,
            "linecolor": "white",
            "showbackground": true,
            "ticks": "",
            "zerolinecolor": "white"
           },
           "yaxis": {
            "backgroundcolor": "#E5ECF6",
            "gridcolor": "white",
            "gridwidth": 2,
            "linecolor": "white",
            "showbackground": true,
            "ticks": "",
            "zerolinecolor": "white"
           },
           "zaxis": {
            "backgroundcolor": "#E5ECF6",
            "gridcolor": "white",
            "gridwidth": 2,
            "linecolor": "white",
            "showbackground": true,
            "ticks": "",
            "zerolinecolor": "white"
           }
          },
          "shapedefaults": {
           "line": {
            "color": "#2a3f5f"
           }
          },
          "ternary": {
           "aaxis": {
            "gridcolor": "white",
            "linecolor": "white",
            "ticks": ""
           },
           "baxis": {
            "gridcolor": "white",
            "linecolor": "white",
            "ticks": ""
           },
           "bgcolor": "#E5ECF6",
           "caxis": {
            "gridcolor": "white",
            "linecolor": "white",
            "ticks": ""
           }
          },
          "title": {
           "x": 0.05
          },
          "xaxis": {
           "automargin": true,
           "gridcolor": "white",
           "linecolor": "white",
           "ticks": "",
           "title": {
            "standoff": 15
           },
           "zerolinecolor": "white",
           "zerolinewidth": 2
          },
          "yaxis": {
           "automargin": true,
           "gridcolor": "white",
           "linecolor": "white",
           "ticks": "",
           "title": {
            "standoff": 15
           },
           "zerolinecolor": "white",
           "zerolinewidth": 2
          }
         }
        },
        "xaxis": {
         "anchor": "y",
         "domain": [
          0,
          1
         ],
         "title": {
          "text": "features"
         }
        },
        "yaxis": {
         "anchor": "x",
         "domain": [
          0,
          1
         ],
         "title": {
          "text": "importances"
         }
        }
       }
      }
     },
     "metadata": {},
     "output_type": "display_data"
    }
   ],
   "source": [
    "features = X_train_scaled.columns\n",
    "feature_importances = rf_best.feature_importances_\n",
    "imp = pd.DataFrame({'features': features, 'importances': feature_importances})\n",
    "imp = imp.sort_values(by='importances', ascending=False).iloc[:14]\n",
    "\n",
    "\n",
    "fig = px.bar(imp,\n",
    "            x='features',\n",
    "            y='importances'\n",
    ")\n",
    "fig.show();"
   ]
  },
  {
   "cell_type": "markdown",
   "metadata": {},
   "source": [
    "**Вывод**\n",
    "\n",
    "В рамках проекта удалось предобработать данные. обучить и оптимизировать модель,получить наиболее важные для целевой переменной признаки, таким образом на базе данного проекта может быть реализован сервис, определяющий какое влияние в процентном отношении оказывает тот или иной элемент рекламного объявления на рост кликабельности"
   ]
  }
 ],
 "metadata": {
  "kernelspec": {
   "display_name": "Python 3",
   "language": "python",
   "name": "python3"
  },
  "language_info": {
   "codemirror_mode": {
    "name": "ipython",
    "version": 3
   },
   "file_extension": ".py",
   "mimetype": "text/x-python",
   "name": "python",
   "nbconvert_exporter": "python",
   "pygments_lexer": "ipython3",
   "version": "3.9.12"
  }
 },
 "nbformat": 4,
 "nbformat_minor": 2
}
