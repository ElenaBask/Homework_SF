{
 "cells": [
  {
   "cell_type": "markdown",
   "metadata": {},
   "source": [
    "## **Описание задачи**\n",
    "\n",
    "Вам нужно провести исследование и написать код, который будет оценивать степень влияния признаков на целевую метрику. В нашем случае, целевая метрика - CTR (кликабельность объявления - чем выше, тем лучше). \n",
    "\n",
    "Грубо говоря, вам нужно придумать (или использовать какой-то готовый) алгоритм(-ы), которые покажут - насколько при изменении значении каждого признака меняется значение целевой метрики. \n",
    "\n",
    "По итогу, на основании ваших расчетов, мы должны автоматически строить примерно такой график:\n",
    "\n",
    "![](\\images\\Example_graph.png)\n",
    "\n",
    "Здесь мы видим, что при изменении объектов CTR меняется довольно сильно, при изменении главного цвета - тоже довольно сильно, также и при изменении длины текста. Чуть меньше CTR зависит от вспомогательных цветов. Остальные признаки слабо влияют на изменение CTR. \n",
    "\n",
    "На данном графике % - некая условная величина, которую мы для себя вывели, она показывает степень влияния того или иного признака на целевую метрику. Сумма всех процентов не обязана равняться 100%."
   ]
  },
  {
   "cell_type": "markdown",
   "metadata": {},
   "source": [
    "**Таким образом, задача сводится к построению модели регрессионного анализа, предсказывающей изменение количества кликов при изменении того или иного параметра рекламного объявления, с последующей визуализации этой зависимости (динамический дашборд, показывающий важность каждого из признаков для целевой переменной)**"
   ]
  },
  {
   "cell_type": "markdown",
   "metadata": {},
   "source": [
    "## Описание признаков\n",
    "\n",
    "adtext_text - текст в теле объявления\n",
    "\n",
    "adtext_language - язык исходного текста в теле объявления\n",
    "\n",
    "adtext_eng - перевод текста на англ\n",
    "\n",
    "adtext_length - длина текста\n",
    "\n",
    "adtext_nouns - существительные в тексте\n",
    "\n",
    "adtext_verbs - глаголы в тексте\n",
    "\n",
    "adtext_adjs - прилагательные\n",
    "\n",
    "adtext_contains_cta - содержит ли текст призыв к действию (call to action)\n",
    "\n",
    "adtext_contains_question - содержит ли текст вопрос \n",
    "\n",
    "… - далее идет тоже самое для description (описание объялвения) и headline (заголовок объявления)\n",
    "\n",
    "cta_type - тип кнопки на объявлении\n",
    "\n",
    "image_text_present - есть ли на картинке текст\n",
    "\n",
    "image_text - текст на картинке\n",
    "\n",
    "image_eng_text - англ перевод текста\n",
    "\n",
    "image_text_area - объем текста\n",
    "\n",
    "image_text_length - длина текста\n",
    "\n",
    "image_language - язык текста\n",
    "\n",
    "image_text_contains_question - содержит вопрос?\n",
    "\n",
    "image_text_contains_cta - содерит CTA? \n",
    "\n",
    "image_nouns - сущ (массив)\n",
    "\n",
    "image_verbs - глаголы (массив)\n",
    "\n",
    "image_adjs - прилаг (массив)\n",
    "\n",
    "image_phrases - отдельные фразы (массив)\n",
    "\n",
    "image_color_main - главный цвет\n",
    "\n",
    "image_color_rest - дополнительные цвета  (массив)\n",
    "\n",
    "image_proportions - пропорции картинки\n",
    "\n",
    "image_objects - объекты  (массив)\n",
    "\n",
    "image_tags - дополнительные объекты  (массив)\n",
    "\n",
    "image_people_amount - кол-во людей на картинке\n",
    "\n",
    "image_clip - не берите этот признак в расчет\n",
    "\n",
    "image_clip_keywords - не берите этот признак в расчет\n",
    "\n",
    "ctr - значение метрики CTR"
   ]
  },
  {
   "cell_type": "code",
   "execution_count": 63,
   "metadata": {},
   "outputs": [],
   "source": [
    "# Формируем среду`\n",
    "import pandas as pd\n",
    "import numpy as np\n",
    "\n",
    "import plotly.express as px\n",
    "import matplotlib.pyplot as plt\n"
   ]
  },
  {
   "cell_type": "code",
   "execution_count": null,
   "metadata": {},
   "outputs": [],
   "source": [
    "# фиксируем RANDOM_SEED для воспроизводимоcти эксперимента\n",
    "RANDOM_SEED = 42"
   ]
  },
  {
   "cell_type": "markdown",
   "metadata": {},
   "source": [
    "## Получение и обзор данных"
   ]
  },
  {
   "cell_type": "code",
   "execution_count": 5,
   "metadata": {},
   "outputs": [
    {
     "data": {
      "text/html": [
       "<div>\n",
       "<style scoped>\n",
       "    .dataframe tbody tr th:only-of-type {\n",
       "        vertical-align: middle;\n",
       "    }\n",
       "\n",
       "    .dataframe tbody tr th {\n",
       "        vertical-align: top;\n",
       "    }\n",
       "\n",
       "    .dataframe thead th {\n",
       "        text-align: right;\n",
       "    }\n",
       "</style>\n",
       "<table border=\"1\" class=\"dataframe\">\n",
       "  <thead>\n",
       "    <tr style=\"text-align: right;\">\n",
       "      <th></th>\n",
       "      <th>adtext_text</th>\n",
       "      <th>adtext_language</th>\n",
       "      <th>adtext_eng</th>\n",
       "      <th>adtext_length</th>\n",
       "      <th>adtext_nouns</th>\n",
       "      <th>adtext_verbs</th>\n",
       "      <th>adtext_adjs</th>\n",
       "      <th>adtext_contains_cta</th>\n",
       "      <th>adtext_contains_question</th>\n",
       "      <th>headline_text</th>\n",
       "      <th>...</th>\n",
       "      <th>image_phrases</th>\n",
       "      <th>image_color_main</th>\n",
       "      <th>image_color_rest</th>\n",
       "      <th>image_proportions</th>\n",
       "      <th>image_objects</th>\n",
       "      <th>image_tags</th>\n",
       "      <th>image_people_amount</th>\n",
       "      <th>image_clip</th>\n",
       "      <th>image_clip_keywords</th>\n",
       "      <th>ctr</th>\n",
       "    </tr>\n",
       "  </thead>\n",
       "  <tbody>\n",
       "    <tr>\n",
       "      <th>0</th>\n",
       "      <td>«This app contains everything that I wanted to...</td>\n",
       "      <td>en</td>\n",
       "      <td>This app contains everything that I wanted to ...</td>\n",
       "      <td>200</td>\n",
       "      <td>['kind', 'moon', 'spirituality', 'lot', 'calen...</td>\n",
       "      <td>['enjoy', 'introducing', 'wanted', 'contains',...</td>\n",
       "      <td>['favorite', 'different']</td>\n",
       "      <td>False</td>\n",
       "      <td>False</td>\n",
       "      <td>Magic in your pocket ✨👉</td>\n",
       "      <td>...</td>\n",
       "      <td>['hot apple cider', 'collect acorns', 'and nut...</td>\n",
       "      <td>#ccffff</td>\n",
       "      <td>['#6666cc']</td>\n",
       "      <td>2048x2048</td>\n",
       "      <td>['tableware']</td>\n",
       "      <td>['poster', 'illustration', 'font', 'product', ...</td>\n",
       "      <td>1</td>\n",
       "      <td>a mulato man with a notebook sitting at the ta...</td>\n",
       "      <td>['word1', 'word2', 'word3']</td>\n",
       "      <td>0.007162</td>\n",
       "    </tr>\n",
       "    <tr>\n",
       "      <th>1</th>\n",
       "      <td>✨ Follow Moon phases, receive positive affirma...</td>\n",
       "      <td>en</td>\n",
       "      <td>Follow Moon phases receive positive affirmati...</td>\n",
       "      <td>100</td>\n",
       "      <td>['moon', 'runes', 'affirmations', 'phases', 'a...</td>\n",
       "      <td>['follow', 'learn', 'receive']</td>\n",
       "      <td>['positive', 'moonly']</td>\n",
       "      <td>False</td>\n",
       "      <td>False</td>\n",
       "      <td>Try Moon Calendar 👉</td>\n",
       "      <td>...</td>\n",
       "      <td>['regret', 'anxiety', 'you', 'action', 'change...</td>\n",
       "      <td>#666666</td>\n",
       "      <td>['#333333', '#663333', '#999999', '#333300']</td>\n",
       "      <td>2048x2048</td>\n",
       "      <td>[]</td>\n",
       "      <td>['electric blue', 'landscape', 'font', 'slope'...</td>\n",
       "      <td>1</td>\n",
       "      <td>a mulato man with a notebook sitting at the ta...</td>\n",
       "      <td>['word1', 'word2', 'word3']</td>\n",
       "      <td>0.005659</td>\n",
       "    </tr>\n",
       "    <tr>\n",
       "      <th>2</th>\n",
       "      <td>✨ Follow Moon phases, receive positive affirma...</td>\n",
       "      <td>en</td>\n",
       "      <td>Follow Moon phases receive positive affirmati...</td>\n",
       "      <td>100</td>\n",
       "      <td>['moon', 'runes', 'affirmations', 'phases', 'a...</td>\n",
       "      <td>['follow', 'learn', 'receive']</td>\n",
       "      <td>['positive', 'moonly']</td>\n",
       "      <td>False</td>\n",
       "      <td>False</td>\n",
       "      <td>Try Moon Calendar 👉</td>\n",
       "      <td>...</td>\n",
       "      <td>['regret', 'anxiety', 'you', 'action', 'change...</td>\n",
       "      <td>#666666</td>\n",
       "      <td>['#333333', '#663333', '#999999', '#333300']</td>\n",
       "      <td>2048x2048</td>\n",
       "      <td>[]</td>\n",
       "      <td>['electric blue', 'landscape', 'font', 'slope'...</td>\n",
       "      <td>1</td>\n",
       "      <td>a mulato man with a notebook sitting at the ta...</td>\n",
       "      <td>['word1', 'word2', 'word3']</td>\n",
       "      <td>0.005659</td>\n",
       "    </tr>\n",
       "    <tr>\n",
       "      <th>3</th>\n",
       "      <td>«This app contains everything that I wanted to...</td>\n",
       "      <td>en</td>\n",
       "      <td>This app contains everything that I wanted to ...</td>\n",
       "      <td>200</td>\n",
       "      <td>['kind', 'moon', 'spirituality', 'lot', 'calen...</td>\n",
       "      <td>['enjoy', 'introducing', 'wanted', 'contains',...</td>\n",
       "      <td>['favorite', 'different']</td>\n",
       "      <td>False</td>\n",
       "      <td>False</td>\n",
       "      <td>Magic in your pocket ✨👉</td>\n",
       "      <td>...</td>\n",
       "      <td>['guide for little witches', 'n', 'moon calend...</td>\n",
       "      <td>#996633</td>\n",
       "      <td>['#663333', '#666666', '#996666', '#333333']</td>\n",
       "      <td>1280x1280</td>\n",
       "      <td>['packaged goods']</td>\n",
       "      <td>['carnivore', 'electric blue', 'small to mediu...</td>\n",
       "      <td>1</td>\n",
       "      <td>a mulato man with a notebook sitting at the ta...</td>\n",
       "      <td>['word1', 'word2', 'word3']</td>\n",
       "      <td>0.007388</td>\n",
       "    </tr>\n",
       "    <tr>\n",
       "      <th>4</th>\n",
       "      <td>«This app contains everything that I wanted to...</td>\n",
       "      <td>en</td>\n",
       "      <td>This app contains everything that I wanted to ...</td>\n",
       "      <td>200</td>\n",
       "      <td>['kind', 'moon', 'spirituality', 'lot', 'calen...</td>\n",
       "      <td>['enjoy', 'introducing', 'wanted', 'contains',...</td>\n",
       "      <td>['favorite', 'different']</td>\n",
       "      <td>False</td>\n",
       "      <td>False</td>\n",
       "      <td>Magic in your pocket ✨👉</td>\n",
       "      <td>...</td>\n",
       "      <td>['guide for little witches', 'n', 'moon calend...</td>\n",
       "      <td>#996633</td>\n",
       "      <td>['#663333', '#666666', '#996666', '#333333']</td>\n",
       "      <td>1280x1280</td>\n",
       "      <td>['packaged goods']</td>\n",
       "      <td>['carnivore', 'electric blue', 'small to mediu...</td>\n",
       "      <td>1</td>\n",
       "      <td>a mulato man with a notebook sitting at the ta...</td>\n",
       "      <td>['word1', 'word2', 'word3']</td>\n",
       "      <td>0.006329</td>\n",
       "    </tr>\n",
       "  </tbody>\n",
       "</table>\n",
       "<p>5 rows × 49 columns</p>\n",
       "</div>"
      ],
      "text/plain": [
       "                                         adtext_text adtext_language  \\\n",
       "0  «This app contains everything that I wanted to...              en   \n",
       "1  ✨ Follow Moon phases, receive positive affirma...              en   \n",
       "2  ✨ Follow Moon phases, receive positive affirma...              en   \n",
       "3  «This app contains everything that I wanted to...              en   \n",
       "4  «This app contains everything that I wanted to...              en   \n",
       "\n",
       "                                          adtext_eng  adtext_length  \\\n",
       "0  This app contains everything that I wanted to ...            200   \n",
       "1   Follow Moon phases receive positive affirmati...            100   \n",
       "2   Follow Moon phases receive positive affirmati...            100   \n",
       "3  This app contains everything that I wanted to ...            200   \n",
       "4  This app contains everything that I wanted to ...            200   \n",
       "\n",
       "                                        adtext_nouns  \\\n",
       "0  ['kind', 'moon', 'spirituality', 'lot', 'calen...   \n",
       "1  ['moon', 'runes', 'affirmations', 'phases', 'a...   \n",
       "2  ['moon', 'runes', 'affirmations', 'phases', 'a...   \n",
       "3  ['kind', 'moon', 'spirituality', 'lot', 'calen...   \n",
       "4  ['kind', 'moon', 'spirituality', 'lot', 'calen...   \n",
       "\n",
       "                                        adtext_verbs  \\\n",
       "0  ['enjoy', 'introducing', 'wanted', 'contains',...   \n",
       "1                     ['follow', 'learn', 'receive']   \n",
       "2                     ['follow', 'learn', 'receive']   \n",
       "3  ['enjoy', 'introducing', 'wanted', 'contains',...   \n",
       "4  ['enjoy', 'introducing', 'wanted', 'contains',...   \n",
       "\n",
       "                 adtext_adjs  adtext_contains_cta  adtext_contains_question  \\\n",
       "0  ['favorite', 'different']                False                     False   \n",
       "1     ['positive', 'moonly']                False                     False   \n",
       "2     ['positive', 'moonly']                False                     False   \n",
       "3  ['favorite', 'different']                False                     False   \n",
       "4  ['favorite', 'different']                False                     False   \n",
       "\n",
       "             headline_text  ...  \\\n",
       "0  Magic in your pocket ✨👉  ...   \n",
       "1      Try Moon Calendar 👉  ...   \n",
       "2      Try Moon Calendar 👉  ...   \n",
       "3  Magic in your pocket ✨👉  ...   \n",
       "4  Magic in your pocket ✨👉  ...   \n",
       "\n",
       "                                       image_phrases image_color_main  \\\n",
       "0  ['hot apple cider', 'collect acorns', 'and nut...          #ccffff   \n",
       "1  ['regret', 'anxiety', 'you', 'action', 'change...          #666666   \n",
       "2  ['regret', 'anxiety', 'you', 'action', 'change...          #666666   \n",
       "3  ['guide for little witches', 'n', 'moon calend...          #996633   \n",
       "4  ['guide for little witches', 'n', 'moon calend...          #996633   \n",
       "\n",
       "                               image_color_rest image_proportions  \\\n",
       "0                                   ['#6666cc']         2048x2048   \n",
       "1  ['#333333', '#663333', '#999999', '#333300']         2048x2048   \n",
       "2  ['#333333', '#663333', '#999999', '#333300']         2048x2048   \n",
       "3  ['#663333', '#666666', '#996666', '#333333']         1280x1280   \n",
       "4  ['#663333', '#666666', '#996666', '#333333']         1280x1280   \n",
       "\n",
       "        image_objects                                         image_tags  \\\n",
       "0       ['tableware']  ['poster', 'illustration', 'font', 'product', ...   \n",
       "1                  []  ['electric blue', 'landscape', 'font', 'slope'...   \n",
       "2                  []  ['electric blue', 'landscape', 'font', 'slope'...   \n",
       "3  ['packaged goods']  ['carnivore', 'electric blue', 'small to mediu...   \n",
       "4  ['packaged goods']  ['carnivore', 'electric blue', 'small to mediu...   \n",
       "\n",
       "   image_people_amount                                         image_clip  \\\n",
       "0                    1  a mulato man with a notebook sitting at the ta...   \n",
       "1                    1  a mulato man with a notebook sitting at the ta...   \n",
       "2                    1  a mulato man with a notebook sitting at the ta...   \n",
       "3                    1  a mulato man with a notebook sitting at the ta...   \n",
       "4                    1  a mulato man with a notebook sitting at the ta...   \n",
       "\n",
       "           image_clip_keywords       ctr  \n",
       "0  ['word1', 'word2', 'word3']  0.007162  \n",
       "1  ['word1', 'word2', 'word3']  0.005659  \n",
       "2  ['word1', 'word2', 'word3']  0.005659  \n",
       "3  ['word1', 'word2', 'word3']  0.007388  \n",
       "4  ['word1', 'word2', 'word3']  0.006329  \n",
       "\n",
       "[5 rows x 49 columns]"
      ]
     },
     "execution_count": 5,
     "metadata": {},
     "output_type": "execute_result"
    }
   ],
   "source": [
    "df = pd.read_excel('data/tagging.xlsx')\n",
    "df.head()"
   ]
  },
  {
   "cell_type": "code",
   "execution_count": 12,
   "metadata": {},
   "outputs": [
    {
     "data": {
      "text/plain": [
       "image_text_present              0\n",
       "image_text                      0\n",
       "image_eng_text                  0\n",
       "image_text_area                 0\n",
       "image_text_length               0\n",
       "image_language                  0\n",
       "image_text_contains_question    0\n",
       "image_text_contains_cta         0\n",
       "image_nouns                     0\n",
       "image_verbs                     0\n",
       "image_adjs                      0\n",
       "image_phrases                   0\n",
       "image_color_main                0\n",
       "image_color_rest                0\n",
       "image_proportions               0\n",
       "image_objects                   0\n",
       "image_tags                      0\n",
       "image_people_amount             0\n",
       "image_clip                      0\n",
       "image_clip_keywords             0\n",
       "ctr                             0\n",
       "dtype: int64"
      ]
     },
     "execution_count": 12,
     "metadata": {},
     "output_type": "execute_result"
    }
   ],
   "source": [
    "df[df.columns[28:]].isna().sum()"
   ]
  },
  {
   "cell_type": "markdown",
   "metadata": {},
   "source": [
    "Правильно подобранные слова текста объявления (заголовков, тела, описания), конечно, должны сильно мотивировать клиента на клик по нему, но в данном проект ограничимся влиянием графических решений рекламы, кроме того в признаках текста достаточно много пропусков, поэтому оставим в данных только те столбцы, которые отвечают за картинку объявления"
   ]
  },
  {
   "cell_type": "code",
   "execution_count": 14,
   "metadata": {},
   "outputs": [
    {
     "name": "stdout",
     "output_type": "stream",
     "text": [
      "<class 'pandas.core.frame.DataFrame'>\n",
      "RangeIndex: 399 entries, 0 to 398\n",
      "Data columns (total 21 columns):\n",
      " #   Column                        Non-Null Count  Dtype  \n",
      "---  ------                        --------------  -----  \n",
      " 0   image_text_present            399 non-null    bool   \n",
      " 1   image_text                    399 non-null    object \n",
      " 2   image_eng_text                399 non-null    object \n",
      " 3   image_text_area               399 non-null    int64  \n",
      " 4   image_text_length             399 non-null    int64  \n",
      " 5   image_language                399 non-null    object \n",
      " 6   image_text_contains_question  399 non-null    bool   \n",
      " 7   image_text_contains_cta       399 non-null    bool   \n",
      " 8   image_nouns                   399 non-null    object \n",
      " 9   image_verbs                   399 non-null    object \n",
      " 10  image_adjs                    399 non-null    object \n",
      " 11  image_phrases                 399 non-null    object \n",
      " 12  image_color_main              399 non-null    object \n",
      " 13  image_color_rest              399 non-null    object \n",
      " 14  image_proportions             399 non-null    object \n",
      " 15  image_objects                 399 non-null    object \n",
      " 16  image_tags                    399 non-null    object \n",
      " 17  image_people_amount           399 non-null    int64  \n",
      " 18  image_clip                    399 non-null    object \n",
      " 19  image_clip_keywords           399 non-null    object \n",
      " 20  ctr                           399 non-null    float64\n",
      "dtypes: bool(3), float64(1), int64(3), object(14)\n",
      "memory usage: 57.4+ KB\n"
     ]
    }
   ],
   "source": [
    "# Избавляемся от ненужных признаков и выводим информацию о датасете\n",
    "df = df[df.columns[28:]]\n",
    "df.info()"
   ]
  },
  {
   "cell_type": "markdown",
   "metadata": {},
   "source": [
    "В датасете 20 признаков, 14 из которых категориальные, 3 - числовые и 3 - булевые, 1 целевая переменнам (ctr), а также 399 наблюдений"
   ]
  },
  {
   "cell_type": "markdown",
   "metadata": {},
   "source": [
    "## Анализ и обработка данных"
   ]
  },
  {
   "cell_type": "code",
   "execution_count": 15,
   "metadata": {},
   "outputs": [
    {
     "data": {
      "text/plain": [
       "0"
      ]
     },
     "execution_count": 15,
     "metadata": {},
     "output_type": "execute_result"
    }
   ],
   "source": [
    "# Проверка на пропуски\n",
    "df.isnull().sum().sum()"
   ]
  },
  {
   "cell_type": "markdown",
   "metadata": {},
   "source": [
    "**Вывод**\n",
    "Пропуски в данных отсуствуют"
   ]
  },
  {
   "cell_type": "markdown",
   "metadata": {},
   "source": [
    "### Анализ признаков"
   ]
  },
  {
   "cell_type": "code",
   "execution_count": 45,
   "metadata": {},
   "outputs": [
    {
     "data": {
      "text/html": [
       "<div>\n",
       "<style scoped>\n",
       "    .dataframe tbody tr th:only-of-type {\n",
       "        vertical-align: middle;\n",
       "    }\n",
       "\n",
       "    .dataframe tbody tr th {\n",
       "        vertical-align: top;\n",
       "    }\n",
       "\n",
       "    .dataframe thead th {\n",
       "        text-align: right;\n",
       "    }\n",
       "</style>\n",
       "<table border=\"1\" class=\"dataframe\">\n",
       "  <thead>\n",
       "    <tr style=\"text-align: right;\">\n",
       "      <th></th>\n",
       "      <th>mean</th>\n",
       "      <th>std</th>\n",
       "      <th>min</th>\n",
       "      <th>25%</th>\n",
       "      <th>50%</th>\n",
       "      <th>75%</th>\n",
       "      <th>max</th>\n",
       "    </tr>\n",
       "  </thead>\n",
       "  <tbody>\n",
       "    <tr>\n",
       "      <th>image_text_area</th>\n",
       "      <td>11.829574</td>\n",
       "      <td>4.529194</td>\n",
       "      <td>0.0</td>\n",
       "      <td>10.0</td>\n",
       "      <td>10.0</td>\n",
       "      <td>10.0</td>\n",
       "      <td>30.0</td>\n",
       "    </tr>\n",
       "    <tr>\n",
       "      <th>image_text_length</th>\n",
       "      <td>172.994987</td>\n",
       "      <td>125.197291</td>\n",
       "      <td>25.0</td>\n",
       "      <td>100.0</td>\n",
       "      <td>150.0</td>\n",
       "      <td>200.0</td>\n",
       "      <td>800.0</td>\n",
       "    </tr>\n",
       "    <tr>\n",
       "      <th>image_people_amount</th>\n",
       "      <td>1.000000</td>\n",
       "      <td>0.000000</td>\n",
       "      <td>1.0</td>\n",
       "      <td>1.0</td>\n",
       "      <td>1.0</td>\n",
       "      <td>1.0</td>\n",
       "      <td>1.0</td>\n",
       "    </tr>\n",
       "  </tbody>\n",
       "</table>\n",
       "</div>"
      ],
      "text/plain": [
       "                           mean         std   min    25%    50%    75%    max\n",
       "image_text_area       11.829574    4.529194   0.0   10.0   10.0   10.0   30.0\n",
       "image_text_length    172.994987  125.197291  25.0  100.0  150.0  200.0  800.0\n",
       "image_people_amount    1.000000    0.000000   1.0    1.0    1.0    1.0    1.0"
      ]
     },
     "execution_count": 45,
     "metadata": {},
     "output_type": "execute_result"
    }
   ],
   "source": [
    "# Числовые признаки (без целевой переменныой - последний столбец)\n",
    "df.iloc[:, :-1].describe()[1:].T"
   ]
  },
  {
   "cell_type": "code",
   "execution_count": 39,
   "metadata": {},
   "outputs": [
    {
     "data": {
      "text/html": [
       "<div>\n",
       "<style scoped>\n",
       "    .dataframe tbody tr th:only-of-type {\n",
       "        vertical-align: middle;\n",
       "    }\n",
       "\n",
       "    .dataframe tbody tr th {\n",
       "        vertical-align: top;\n",
       "    }\n",
       "\n",
       "    .dataframe thead th {\n",
       "        text-align: right;\n",
       "    }\n",
       "</style>\n",
       "<table border=\"1\" class=\"dataframe\">\n",
       "  <thead>\n",
       "    <tr style=\"text-align: right;\">\n",
       "      <th></th>\n",
       "      <th>unique</th>\n",
       "      <th>top</th>\n",
       "      <th>freq</th>\n",
       "    </tr>\n",
       "  </thead>\n",
       "  <tbody>\n",
       "    <tr>\n",
       "      <th>image_text_present</th>\n",
       "      <td>1</td>\n",
       "      <td>True</td>\n",
       "      <td>399</td>\n",
       "    </tr>\n",
       "    <tr>\n",
       "      <th>image_text_contains_question</th>\n",
       "      <td>1</td>\n",
       "      <td>False</td>\n",
       "      <td>399</td>\n",
       "    </tr>\n",
       "    <tr>\n",
       "      <th>image_text_contains_cta</th>\n",
       "      <td>2</td>\n",
       "      <td>False</td>\n",
       "      <td>364</td>\n",
       "    </tr>\n",
       "  </tbody>\n",
       "</table>\n",
       "</div>"
      ],
      "text/plain": [
       "                             unique    top freq\n",
       "image_text_present                1   True  399\n",
       "image_text_contains_question      1  False  399\n",
       "image_text_contains_cta           2  False  364"
      ]
     },
     "execution_count": 39,
     "metadata": {},
     "output_type": "execute_result"
    }
   ],
   "source": [
    "# Булевы признаки\n",
    "df.describe(include='bool')[1:].T"
   ]
  },
  {
   "cell_type": "code",
   "execution_count": 31,
   "metadata": {},
   "outputs": [
    {
     "data": {
      "text/html": [
       "<div>\n",
       "<style scoped>\n",
       "    .dataframe tbody tr th:only-of-type {\n",
       "        vertical-align: middle;\n",
       "    }\n",
       "\n",
       "    .dataframe tbody tr th {\n",
       "        vertical-align: top;\n",
       "    }\n",
       "\n",
       "    .dataframe thead th {\n",
       "        text-align: right;\n",
       "    }\n",
       "</style>\n",
       "<table border=\"1\" class=\"dataframe\">\n",
       "  <thead>\n",
       "    <tr style=\"text-align: right;\">\n",
       "      <th></th>\n",
       "      <th>unique</th>\n",
       "      <th>top</th>\n",
       "      <th>freq</th>\n",
       "    </tr>\n",
       "  </thead>\n",
       "  <tbody>\n",
       "    <tr>\n",
       "      <th>image_text</th>\n",
       "      <td>73</td>\n",
       "      <td>Guide for little witches\\nn\\nMoon Calendar\\nRu...</td>\n",
       "      <td>69</td>\n",
       "    </tr>\n",
       "    <tr>\n",
       "      <th>image_eng_text</th>\n",
       "      <td>73</td>\n",
       "      <td>Guide for little witches\\nn\\nMoon Calendar\\nRu...</td>\n",
       "      <td>69</td>\n",
       "    </tr>\n",
       "    <tr>\n",
       "      <th>image_language</th>\n",
       "      <td>2</td>\n",
       "      <td>en</td>\n",
       "      <td>394</td>\n",
       "    </tr>\n",
       "    <tr>\n",
       "      <th>image_nouns</th>\n",
       "      <td>60</td>\n",
       "      <td>['holidays', 'moon', 'sounds', 'calendar', 'wi...</td>\n",
       "      <td>86</td>\n",
       "    </tr>\n",
       "    <tr>\n",
       "      <th>image_verbs</th>\n",
       "      <td>54</td>\n",
       "      <td>[]</td>\n",
       "      <td>119</td>\n",
       "    </tr>\n",
       "    <tr>\n",
       "      <th>image_adjs</th>\n",
       "      <td>43</td>\n",
       "      <td>['runic', 'little', 'magical', 'ancient']</td>\n",
       "      <td>114</td>\n",
       "    </tr>\n",
       "    <tr>\n",
       "      <th>image_phrases</th>\n",
       "      <td>73</td>\n",
       "      <td>['guide for little witches', 'n', 'moon calend...</td>\n",
       "      <td>69</td>\n",
       "    </tr>\n",
       "    <tr>\n",
       "      <th>image_color_main</th>\n",
       "      <td>26</td>\n",
       "      <td>#333333</td>\n",
       "      <td>168</td>\n",
       "    </tr>\n",
       "    <tr>\n",
       "      <th>image_color_rest</th>\n",
       "      <td>70</td>\n",
       "      <td>['#663333', '#666666', '#996666', '#333333']</td>\n",
       "      <td>83</td>\n",
       "    </tr>\n",
       "    <tr>\n",
       "      <th>image_proportions</th>\n",
       "      <td>10</td>\n",
       "      <td>2048x2048</td>\n",
       "      <td>257</td>\n",
       "    </tr>\n",
       "    <tr>\n",
       "      <th>image_objects</th>\n",
       "      <td>15</td>\n",
       "      <td>[]</td>\n",
       "      <td>121</td>\n",
       "    </tr>\n",
       "    <tr>\n",
       "      <th>image_tags</th>\n",
       "      <td>80</td>\n",
       "      <td>['carnivore', 'electric blue', 'small to mediu...</td>\n",
       "      <td>69</td>\n",
       "    </tr>\n",
       "    <tr>\n",
       "      <th>image_clip</th>\n",
       "      <td>1</td>\n",
       "      <td>a mulato man with a notebook sitting at the ta...</td>\n",
       "      <td>399</td>\n",
       "    </tr>\n",
       "    <tr>\n",
       "      <th>image_clip_keywords</th>\n",
       "      <td>1</td>\n",
       "      <td>['word1', 'word2', 'word3']</td>\n",
       "      <td>399</td>\n",
       "    </tr>\n",
       "  </tbody>\n",
       "</table>\n",
       "</div>"
      ],
      "text/plain": [
       "                    unique                                                top  \\\n",
       "image_text              73  Guide for little witches\\nn\\nMoon Calendar\\nRu...   \n",
       "image_eng_text          73  Guide for little witches\\nn\\nMoon Calendar\\nRu...   \n",
       "image_language           2                                                 en   \n",
       "image_nouns             60  ['holidays', 'moon', 'sounds', 'calendar', 'wi...   \n",
       "image_verbs             54                                                 []   \n",
       "image_adjs              43          ['runic', 'little', 'magical', 'ancient']   \n",
       "image_phrases           73  ['guide for little witches', 'n', 'moon calend...   \n",
       "image_color_main        26                                            #333333   \n",
       "image_color_rest        70       ['#663333', '#666666', '#996666', '#333333']   \n",
       "image_proportions       10                                          2048x2048   \n",
       "image_objects           15                                                 []   \n",
       "image_tags              80  ['carnivore', 'electric blue', 'small to mediu...   \n",
       "image_clip               1  a mulato man with a notebook sitting at the ta...   \n",
       "image_clip_keywords      1                        ['word1', 'word2', 'word3']   \n",
       "\n",
       "                    freq  \n",
       "image_text            69  \n",
       "image_eng_text        69  \n",
       "image_language       394  \n",
       "image_nouns           86  \n",
       "image_verbs          119  \n",
       "image_adjs           114  \n",
       "image_phrases         69  \n",
       "image_color_main     168  \n",
       "image_color_rest      83  \n",
       "image_proportions    257  \n",
       "image_objects        121  \n",
       "image_tags            69  \n",
       "image_clip           399  \n",
       "image_clip_keywords  399  "
      ]
     },
     "execution_count": 31,
     "metadata": {},
     "output_type": "execute_result"
    }
   ],
   "source": [
    "# Категориальные признаки\n",
    "df.describe(include='object')[1:].T"
   ]
  },
  {
   "cell_type": "code",
   "execution_count": 41,
   "metadata": {},
   "outputs": [
    {
     "data": {
      "text/plain": [
       "image_language  image_text_contains_cta\n",
       "en              False                      0.907268\n",
       "                True                       0.080201\n",
       "fr              True                       0.007519\n",
       "                False                      0.005013\n",
       "Name: proportion, dtype: float64"
      ]
     },
     "execution_count": 41,
     "metadata": {},
     "output_type": "execute_result"
    }
   ],
   "source": [
    "df[['image_language', 'image_text_contains_cta']].value_counts(normalize=True)"
   ]
  },
  {
   "cell_type": "code",
   "execution_count": 50,
   "metadata": {},
   "outputs": [
    {
     "name": "stdout",
     "output_type": "stream",
     "text": [
      "image_text_present              60\n",
      "image_text                      60\n",
      "image_eng_text                  60\n",
      "image_text_area                 60\n",
      "image_text_length               60\n",
      "image_language                  60\n",
      "image_text_contains_question    60\n",
      "image_text_contains_cta         60\n",
      "image_nouns                     60\n",
      "image_verbs                     60\n",
      "image_adjs                      60\n",
      "image_phrases                   60\n",
      "image_color_main                60\n",
      "image_color_rest                60\n",
      "image_proportions               60\n",
      "image_objects                   60\n",
      "image_tags                      60\n",
      "image_people_amount             60\n",
      "image_clip                      60\n",
      "image_clip_keywords             60\n",
      "ctr                             60\n",
      "dtype: int64\n"
     ]
    }
   ],
   "source": [
    "df_dup = df[df.duplicated()]\n",
    "print(df_dup.count())"
   ]
  },
  {
   "cell_type": "markdown",
   "metadata": {},
   "source": [
    "**Выводы**\n",
    "\n",
    "1. Признаки image_people_amount, image_clip, image_clip_keywords, image_text_present, image_text_contains_question имеют только по одному значению, поэтому никак не влияют на целевую переменную и могут быть удалены\n",
    "2. Признаки image_language, image_text_contains_cta содержит по два значения, но одно из них сильно превалирует (более 90% наблюдений), поэтому необходимо проверить их влияние на целевую переменную и если оно незначительно, удалить их\n",
    "4. 60 наблюдений - это дубликаты, которые также подлежат удалению\n",
    "5. Значение признаков image_nouns, image_verbs, image_adjs, image_phrases, image_color_rest, image_proportions, image_objects, image_tags представляют собой списки (масссивы) значений, в том числе и пустые, которые требуют преобразования\n",
    "6. В признаке image_text_area всего четыре уникальных знаыения, одно из которых (максимальное) встречается однажды, а следовательно с таким наблюдением тоже можно растаться, признав его выбросом, а сам признак может быть закодироован \n",
    "\n"
   ]
  },
  {
   "cell_type": "markdown",
   "metadata": {},
   "source": [
    "### Анализ целевой переменной"
   ]
  },
  {
   "cell_type": "code",
   "execution_count": 88,
   "metadata": {},
   "outputs": [
    {
     "data": {
      "application/vnd.plotly.v1+json": {
       "config": {
        "plotlyServerURL": "https://plot.ly"
       },
       "data": [
        {
         "alignmentgroup": "True",
         "bingroup": "x",
         "hovertemplate": "ctr=%{x}<br>count=%{y}<extra></extra>",
         "legendgroup": "",
         "marker": {
          "color": "#636efa",
          "pattern": {
           "shape": ""
          }
         },
         "name": "",
         "offsetgroup": "",
         "orientation": "v",
         "showlegend": false,
         "type": "histogram",
         "x": [
          0.007162037577548482,
          0.005658790242410339,
          0.005658790242410339,
          0.007388466396389235,
          0.006328589926580409,
          0.007150629566298772,
          0.01021873619089704,
          0.01342737386614816,
          0.00995408758675757,
          0.00995408758675757,
          0.004890869836830743,
          0.007139008620689656,
          0.007029020808685365,
          0.003739993876033419,
          0.009179844545698205,
          0.009179844545698205,
          0.007158689270951896,
          0.007379924173306571,
          0.01829939460649422,
          0.008126817741153659,
          0.0196169579769431,
          0.01609773308635442,
          0.0100111234705228,
          0.0197835644234021,
          0.006116495718452997,
          0.006229406919275124,
          0.009364273988956872,
          0.005530129672006103,
          0.005530129672006103,
          0.005530129672006103,
          0.01347414420975965,
          0.006494655623982445,
          0.005797358390213634,
          0.006615822842966094,
          0.006615822842966094,
          0.009791477787851315,
          0.006190248142038703,
          0.006188118811881188,
          0.006188118811881188,
          0.008011223330307436,
          0.007474813129671758,
          0.007872982548222019,
          0.007294060478441774,
          0.007600417871580191,
          0.003651062720041726,
          0.005170304298062122,
          0.006901569314435986,
          0.01177625122669284,
          0.01010849364608971,
          0.006738367946908064,
          0.0154483533459729,
          0.005660676114321906,
          0.006479147659620529,
          0.004897595725734639,
          0.04858404780462458,
          0.00941492938802959,
          0.02331002331002331,
          0.004586060287584197,
          0.004586060287584197,
          0.004586060287584197,
          0.009789627161008124,
          0.01560499121474731,
          0.005094361468102351,
          0.02135963071758288,
          0.005784399649430325,
          0.005784399649430325,
          0.007771164021164021,
          0.00659223817118554,
          0.005394463136439152,
          0.007305264238421926,
          0.0113390829008846,
          0.006892173755327832,
          0.006892173755327832,
          0.006892173755327832,
          0.01880582980724024,
          0.005220167558056886,
          0.008247422680412371,
          0.009630818619582664,
          0.00499895855030202,
          0.004875044901729358,
          0.002863278453829635,
          0.002863278453829635,
          0.002578382838283828,
          0.008472753148322826,
          0.008472753148322826,
          0.00884011583600061,
          0.007177947984653066,
          0.006938067544128151,
          0.004550227511375569,
          0.004550227511375569,
          0.007833911662647767,
          0.006419007232275117,
          0.006419007232275117,
          0.005081874647092038,
          0.005081874647092038,
          0.005081874647092038,
          0.002162374680558286,
          0.01934589406327764,
          0.006612116703859823,
          0.006612116703859823,
          0.00834798679394244,
          0.00834798679394244,
          0.00834798679394244,
          0.01037433508441537,
          0.003297065611605671,
          0.01279863481228669,
          0.0164225477141589,
          0.005016445303673203,
          0.005016445303673203,
          0.004190180036986188,
          0.005693530970845195,
          0.004014528770789524,
          0.01174033149171271,
          0.006663705019991115,
          0.009988901220865706,
          0.008946144211844694,
          0.01065203357004519,
          0.006736135333100802,
          0.007495010403838804,
          0.009365757476174828,
          0.01795918367346939,
          0.007484629778134189,
          0.006823343115734178,
          0.008250311332503113,
          0.009543002785845535,
          0.009543002785845535,
          0.005381818181818182,
          0.007621931065483824,
          0.005728314238952537,
          0.01026208626166401,
          0.01502101821578702,
          0.005725020127023884,
          0.005725020127023884,
          0.00820379718612615,
          0.004942339373970346,
          0.004942339373970346,
          0.02064967734879142,
          0.005747468953238026,
          0.007738191197807513,
          0.007738191197807513,
          0.01958181733006449,
          0.003138485680659082,
          0.01143764892772041,
          0.004560562727061916,
          0.006311892935109312,
          0.006436539386581762,
          0.01502744533429317,
          0.007247526547820076,
          0.007247526547820076,
          0.008042282142390283,
          0.008302170794233166,
          0.007622956827677197,
          0.01321961620469083,
          0.007160327638323828,
          0.007173601147776184,
          0.01501547987616099,
          0.00898176471817884,
          0.007691006685122709,
          0.007172131147540984,
          0.00749063670411985,
          0.004852333313364884,
          0.005203948878855131,
          0.01470588235294118,
          0.0080646911187137,
          0.008579855214943248,
          0.008186815328837083,
          0.0273811744822818,
          0.01197533791795115,
          0.01020956475013434,
          0.009500777336327518,
          0.009500777336327518,
          0.007602197726251771,
          0.00704264404147951,
          0.004125674389082831,
          0.004125674389082831,
          0.004125674389082831,
          0.008696518404144045,
          0.01338357588357588,
          0.00868187950959113,
          0.00485124068670398,
          0.01213458356315499,
          0.0116193286610107,
          0.00973141300116777,
          0.0083347694621567,
          0.006371716520596512,
          0.009573542210617928,
          0.007926023778071334,
          0.007926023778071334,
          0.006260434056761269,
          0.007210031347962382,
          0.01186255794927734,
          0.007934415226406501,
          0.005637479350031793,
          0.004781420765027323,
          0.008440340499206464,
          0.01309303758471965,
          0.00568495854717726,
          0.00568495854717726,
          0.00568495854717726,
          0.01962533452274755,
          0.006970046082949309,
          0.02264097876529321,
          0.003536267964241259,
          0.008651199370821865,
          0.006836447134954598,
          0.008231021960919937,
          0.006525059003193114,
          0.004375683700578215,
          0.004375683700578215,
          0.004375683700578215,
          0.00787277819054695,
          0.00267379679144385,
          0.008200197935812243,
          0.008338360275196433,
          0.01613836777773995,
          0.01613836777773995,
          0.007026386981654921,
          0.002595619076969896,
          0.0094749309119621,
          0.002420838578483587,
          0.03962214641826292,
          0.00694524070828351,
          0.00694524070828351,
          0.008665585247161274,
          0.008665585247161274,
          0.007793860346747256,
          0.007571477003051192,
          0.006298498437972387,
          0.009574468085106383,
          0.01175648195221149,
          0.007566112545924121,
          0.007899913930898807,
          0.004792037844811698,
          0.008826402456042423,
          0.01873571972581874,
          0.01665266213429073,
          0.004916183107672469,
          0.005152596115735236,
          0.006393767913573896,
          0.005419856249634781,
          0.0104028063384541,
          0.0104028063384541,
          0.0104028063384541,
          0.01028898062877104,
          0.009812409812409812,
          0.005886225088484178,
          0.008829856888972032,
          0.007401924500370096,
          0.01743425831759407,
          0.007231133315803313,
          0.009214659685863874,
          0.006202804746494067,
          0.01164938201449069,
          0.004542532676237412,
          0.004542532676237412,
          0.004948839697719521,
          0.004948839697719521,
          0.003083847307884647,
          0.003083847307884647,
          0.003083847307884647,
          0.01824,
          0.005819100575941749,
          0.004402201100550275,
          0.004402201100550275,
          0.004915816640039326,
          0.007187780772686433,
          0.00900794818957904,
          0.00900794818957904,
          0.00900794818957904,
          0.03206941709235952,
          0.00676402767102229,
          0.006404708326120824,
          0.007851534618129907,
          0.03140884606630756,
          0.03140884606630756,
          0.008095740936290039,
          0.009911738330108085,
          0.005063087679819979,
          0.005463938009139678,
          0.005463938009139678,
          0.00920158550396376,
          0.00479570305006714,
          0.006076441635778088,
          0.002366412213740458,
          0.002366412213740458,
          0.002366412213740458,
          0.004638340127521689,
          0.004638340127521689,
          0.004552719523417446,
          0.01569130563505378,
          0.007160291272951924,
          0.005437658989636864,
          0.006565719471183787,
          0.006866866866866867,
          0.0107621736062103,
          0.007790028763183125,
          0.003736222678871661,
          0.003736222678871661,
          0.007412398921832884,
          0.008989233824605414,
          0.008982996470965673,
          0.00473260766682442,
          0.009194619444917418,
          0.006538729854681754,
          0.01018329938900204,
          0.004795557799091368,
          0.007363113168564088,
          0.004360797694975197,
          0.007793994039886911,
          0.00655391624822585,
          0.00655391624822585,
          0.00655391624822585,
          0.009484788421374696,
          0.00790857563790387,
          0.007820831852115179,
          0.006877192982456141,
          0.007590209846978123,
          0.009155071587013511,
          0.00921601334445371,
          0.01209433581939125,
          0.02055601623532493,
          0.017232890201871,
          0.01126058988552755,
          0.01126058988552755,
          0.002846143346059037,
          0.005784293394164659,
          0.004229763615109359,
          0.01326865458695962,
          0.004484304932735426,
          0.003936953678849198,
          0.006646842749693896,
          0.01936066820200328,
          0.006020602060206021,
          0.006623536660505237,
          0.008180971235588681,
          0.008180971235588681,
          0.008180971235588681,
          0.004565735711671069,
          0.005515498401843455,
          0.007681018392968239,
          0.01106059353558734,
          0.006402439024390244,
          0.009521142537104453,
          0.009184372858122002,
          0.02232026991954321,
          0.007530548451264564,
          0.008472768278930846,
          0.008661884965050938,
          0.01423982869379015,
          0.01423982869379015,
          0.02120642872051764,
          0.01066055594301086,
          0.01822774339355086,
          0.003861003861003861,
          0.003861003861003861,
          0.01107499699048995,
          0.01015388613539752,
          0.006936416184971098,
          0.01606829788855858,
          0.006025267249757046,
          0.009205702647657842,
          0.004452567930884244,
          0.01207935741778982,
          0.01227573182247403,
          0.00521816365049406,
          0.00705606994114205,
          0.05011072994919449,
          0.005868885042604991,
          0.005868885042604991,
          0.01474078700811992,
          0.002858691902015871,
          0.01659509751297191,
          0.005089695452649145,
          0.01998734310726717,
          0.004436094149574657,
          0.008918521084076543,
          0.01820804038218857,
          0.01604763827210335,
          0.003745828509160254,
          0.006149116064565719,
          0.02261247960214469,
          0.02261247960214469,
          0.002655952056660311,
          0.002655952056660311,
          0.002655952056660311,
          0.00832639467110741,
          0.0201671511627907,
          0.00835302408489823,
          0.008479067302596715,
          0.002215197673272207,
          0.008530685001273236,
          0.00789091315524757,
          0.006861957701032816,
          0.009086846417399076,
          0.009086846417399076,
          0.009086846417399076,
          0.008775802734953823,
          0.01230875417002186,
          0.009104829698299052
         ],
         "xaxis": "x",
         "yaxis": "y"
        }
       ],
       "layout": {
        "barmode": "relative",
        "legend": {
         "tracegroupgap": 0
        },
        "template": {
         "data": {
          "bar": [
           {
            "error_x": {
             "color": "#2a3f5f"
            },
            "error_y": {
             "color": "#2a3f5f"
            },
            "marker": {
             "line": {
              "color": "#E5ECF6",
              "width": 0.5
             },
             "pattern": {
              "fillmode": "overlay",
              "size": 10,
              "solidity": 0.2
             }
            },
            "type": "bar"
           }
          ],
          "barpolar": [
           {
            "marker": {
             "line": {
              "color": "#E5ECF6",
              "width": 0.5
             },
             "pattern": {
              "fillmode": "overlay",
              "size": 10,
              "solidity": 0.2
             }
            },
            "type": "barpolar"
           }
          ],
          "carpet": [
           {
            "aaxis": {
             "endlinecolor": "#2a3f5f",
             "gridcolor": "white",
             "linecolor": "white",
             "minorgridcolor": "white",
             "startlinecolor": "#2a3f5f"
            },
            "baxis": {
             "endlinecolor": "#2a3f5f",
             "gridcolor": "white",
             "linecolor": "white",
             "minorgridcolor": "white",
             "startlinecolor": "#2a3f5f"
            },
            "type": "carpet"
           }
          ],
          "choropleth": [
           {
            "colorbar": {
             "outlinewidth": 0,
             "ticks": ""
            },
            "type": "choropleth"
           }
          ],
          "contour": [
           {
            "colorbar": {
             "outlinewidth": 0,
             "ticks": ""
            },
            "colorscale": [
             [
              0,
              "#0d0887"
             ],
             [
              0.1111111111111111,
              "#46039f"
             ],
             [
              0.2222222222222222,
              "#7201a8"
             ],
             [
              0.3333333333333333,
              "#9c179e"
             ],
             [
              0.4444444444444444,
              "#bd3786"
             ],
             [
              0.5555555555555556,
              "#d8576b"
             ],
             [
              0.6666666666666666,
              "#ed7953"
             ],
             [
              0.7777777777777778,
              "#fb9f3a"
             ],
             [
              0.8888888888888888,
              "#fdca26"
             ],
             [
              1,
              "#f0f921"
             ]
            ],
            "type": "contour"
           }
          ],
          "contourcarpet": [
           {
            "colorbar": {
             "outlinewidth": 0,
             "ticks": ""
            },
            "type": "contourcarpet"
           }
          ],
          "heatmap": [
           {
            "colorbar": {
             "outlinewidth": 0,
             "ticks": ""
            },
            "colorscale": [
             [
              0,
              "#0d0887"
             ],
             [
              0.1111111111111111,
              "#46039f"
             ],
             [
              0.2222222222222222,
              "#7201a8"
             ],
             [
              0.3333333333333333,
              "#9c179e"
             ],
             [
              0.4444444444444444,
              "#bd3786"
             ],
             [
              0.5555555555555556,
              "#d8576b"
             ],
             [
              0.6666666666666666,
              "#ed7953"
             ],
             [
              0.7777777777777778,
              "#fb9f3a"
             ],
             [
              0.8888888888888888,
              "#fdca26"
             ],
             [
              1,
              "#f0f921"
             ]
            ],
            "type": "heatmap"
           }
          ],
          "heatmapgl": [
           {
            "colorbar": {
             "outlinewidth": 0,
             "ticks": ""
            },
            "colorscale": [
             [
              0,
              "#0d0887"
             ],
             [
              0.1111111111111111,
              "#46039f"
             ],
             [
              0.2222222222222222,
              "#7201a8"
             ],
             [
              0.3333333333333333,
              "#9c179e"
             ],
             [
              0.4444444444444444,
              "#bd3786"
             ],
             [
              0.5555555555555556,
              "#d8576b"
             ],
             [
              0.6666666666666666,
              "#ed7953"
             ],
             [
              0.7777777777777778,
              "#fb9f3a"
             ],
             [
              0.8888888888888888,
              "#fdca26"
             ],
             [
              1,
              "#f0f921"
             ]
            ],
            "type": "heatmapgl"
           }
          ],
          "histogram": [
           {
            "marker": {
             "pattern": {
              "fillmode": "overlay",
              "size": 10,
              "solidity": 0.2
             }
            },
            "type": "histogram"
           }
          ],
          "histogram2d": [
           {
            "colorbar": {
             "outlinewidth": 0,
             "ticks": ""
            },
            "colorscale": [
             [
              0,
              "#0d0887"
             ],
             [
              0.1111111111111111,
              "#46039f"
             ],
             [
              0.2222222222222222,
              "#7201a8"
             ],
             [
              0.3333333333333333,
              "#9c179e"
             ],
             [
              0.4444444444444444,
              "#bd3786"
             ],
             [
              0.5555555555555556,
              "#d8576b"
             ],
             [
              0.6666666666666666,
              "#ed7953"
             ],
             [
              0.7777777777777778,
              "#fb9f3a"
             ],
             [
              0.8888888888888888,
              "#fdca26"
             ],
             [
              1,
              "#f0f921"
             ]
            ],
            "type": "histogram2d"
           }
          ],
          "histogram2dcontour": [
           {
            "colorbar": {
             "outlinewidth": 0,
             "ticks": ""
            },
            "colorscale": [
             [
              0,
              "#0d0887"
             ],
             [
              0.1111111111111111,
              "#46039f"
             ],
             [
              0.2222222222222222,
              "#7201a8"
             ],
             [
              0.3333333333333333,
              "#9c179e"
             ],
             [
              0.4444444444444444,
              "#bd3786"
             ],
             [
              0.5555555555555556,
              "#d8576b"
             ],
             [
              0.6666666666666666,
              "#ed7953"
             ],
             [
              0.7777777777777778,
              "#fb9f3a"
             ],
             [
              0.8888888888888888,
              "#fdca26"
             ],
             [
              1,
              "#f0f921"
             ]
            ],
            "type": "histogram2dcontour"
           }
          ],
          "mesh3d": [
           {
            "colorbar": {
             "outlinewidth": 0,
             "ticks": ""
            },
            "type": "mesh3d"
           }
          ],
          "parcoords": [
           {
            "line": {
             "colorbar": {
              "outlinewidth": 0,
              "ticks": ""
             }
            },
            "type": "parcoords"
           }
          ],
          "pie": [
           {
            "automargin": true,
            "type": "pie"
           }
          ],
          "scatter": [
           {
            "fillpattern": {
             "fillmode": "overlay",
             "size": 10,
             "solidity": 0.2
            },
            "type": "scatter"
           }
          ],
          "scatter3d": [
           {
            "line": {
             "colorbar": {
              "outlinewidth": 0,
              "ticks": ""
             }
            },
            "marker": {
             "colorbar": {
              "outlinewidth": 0,
              "ticks": ""
             }
            },
            "type": "scatter3d"
           }
          ],
          "scattercarpet": [
           {
            "marker": {
             "colorbar": {
              "outlinewidth": 0,
              "ticks": ""
             }
            },
            "type": "scattercarpet"
           }
          ],
          "scattergeo": [
           {
            "marker": {
             "colorbar": {
              "outlinewidth": 0,
              "ticks": ""
             }
            },
            "type": "scattergeo"
           }
          ],
          "scattergl": [
           {
            "marker": {
             "colorbar": {
              "outlinewidth": 0,
              "ticks": ""
             }
            },
            "type": "scattergl"
           }
          ],
          "scattermapbox": [
           {
            "marker": {
             "colorbar": {
              "outlinewidth": 0,
              "ticks": ""
             }
            },
            "type": "scattermapbox"
           }
          ],
          "scatterpolar": [
           {
            "marker": {
             "colorbar": {
              "outlinewidth": 0,
              "ticks": ""
             }
            },
            "type": "scatterpolar"
           }
          ],
          "scatterpolargl": [
           {
            "marker": {
             "colorbar": {
              "outlinewidth": 0,
              "ticks": ""
             }
            },
            "type": "scatterpolargl"
           }
          ],
          "scatterternary": [
           {
            "marker": {
             "colorbar": {
              "outlinewidth": 0,
              "ticks": ""
             }
            },
            "type": "scatterternary"
           }
          ],
          "surface": [
           {
            "colorbar": {
             "outlinewidth": 0,
             "ticks": ""
            },
            "colorscale": [
             [
              0,
              "#0d0887"
             ],
             [
              0.1111111111111111,
              "#46039f"
             ],
             [
              0.2222222222222222,
              "#7201a8"
             ],
             [
              0.3333333333333333,
              "#9c179e"
             ],
             [
              0.4444444444444444,
              "#bd3786"
             ],
             [
              0.5555555555555556,
              "#d8576b"
             ],
             [
              0.6666666666666666,
              "#ed7953"
             ],
             [
              0.7777777777777778,
              "#fb9f3a"
             ],
             [
              0.8888888888888888,
              "#fdca26"
             ],
             [
              1,
              "#f0f921"
             ]
            ],
            "type": "surface"
           }
          ],
          "table": [
           {
            "cells": {
             "fill": {
              "color": "#EBF0F8"
             },
             "line": {
              "color": "white"
             }
            },
            "header": {
             "fill": {
              "color": "#C8D4E3"
             },
             "line": {
              "color": "white"
             }
            },
            "type": "table"
           }
          ]
         },
         "layout": {
          "annotationdefaults": {
           "arrowcolor": "#2a3f5f",
           "arrowhead": 0,
           "arrowwidth": 1
          },
          "autotypenumbers": "strict",
          "coloraxis": {
           "colorbar": {
            "outlinewidth": 0,
            "ticks": ""
           }
          },
          "colorscale": {
           "diverging": [
            [
             0,
             "#8e0152"
            ],
            [
             0.1,
             "#c51b7d"
            ],
            [
             0.2,
             "#de77ae"
            ],
            [
             0.3,
             "#f1b6da"
            ],
            [
             0.4,
             "#fde0ef"
            ],
            [
             0.5,
             "#f7f7f7"
            ],
            [
             0.6,
             "#e6f5d0"
            ],
            [
             0.7,
             "#b8e186"
            ],
            [
             0.8,
             "#7fbc41"
            ],
            [
             0.9,
             "#4d9221"
            ],
            [
             1,
             "#276419"
            ]
           ],
           "sequential": [
            [
             0,
             "#0d0887"
            ],
            [
             0.1111111111111111,
             "#46039f"
            ],
            [
             0.2222222222222222,
             "#7201a8"
            ],
            [
             0.3333333333333333,
             "#9c179e"
            ],
            [
             0.4444444444444444,
             "#bd3786"
            ],
            [
             0.5555555555555556,
             "#d8576b"
            ],
            [
             0.6666666666666666,
             "#ed7953"
            ],
            [
             0.7777777777777778,
             "#fb9f3a"
            ],
            [
             0.8888888888888888,
             "#fdca26"
            ],
            [
             1,
             "#f0f921"
            ]
           ],
           "sequentialminus": [
            [
             0,
             "#0d0887"
            ],
            [
             0.1111111111111111,
             "#46039f"
            ],
            [
             0.2222222222222222,
             "#7201a8"
            ],
            [
             0.3333333333333333,
             "#9c179e"
            ],
            [
             0.4444444444444444,
             "#bd3786"
            ],
            [
             0.5555555555555556,
             "#d8576b"
            ],
            [
             0.6666666666666666,
             "#ed7953"
            ],
            [
             0.7777777777777778,
             "#fb9f3a"
            ],
            [
             0.8888888888888888,
             "#fdca26"
            ],
            [
             1,
             "#f0f921"
            ]
           ]
          },
          "colorway": [
           "#636efa",
           "#EF553B",
           "#00cc96",
           "#ab63fa",
           "#FFA15A",
           "#19d3f3",
           "#FF6692",
           "#B6E880",
           "#FF97FF",
           "#FECB52"
          ],
          "font": {
           "color": "#2a3f5f"
          },
          "geo": {
           "bgcolor": "white",
           "lakecolor": "white",
           "landcolor": "#E5ECF6",
           "showlakes": true,
           "showland": true,
           "subunitcolor": "white"
          },
          "hoverlabel": {
           "align": "left"
          },
          "hovermode": "closest",
          "mapbox": {
           "style": "light"
          },
          "paper_bgcolor": "white",
          "plot_bgcolor": "#E5ECF6",
          "polar": {
           "angularaxis": {
            "gridcolor": "white",
            "linecolor": "white",
            "ticks": ""
           },
           "bgcolor": "#E5ECF6",
           "radialaxis": {
            "gridcolor": "white",
            "linecolor": "white",
            "ticks": ""
           }
          },
          "scene": {
           "xaxis": {
            "backgroundcolor": "#E5ECF6",
            "gridcolor": "white",
            "gridwidth": 2,
            "linecolor": "white",
            "showbackground": true,
            "ticks": "",
            "zerolinecolor": "white"
           },
           "yaxis": {
            "backgroundcolor": "#E5ECF6",
            "gridcolor": "white",
            "gridwidth": 2,
            "linecolor": "white",
            "showbackground": true,
            "ticks": "",
            "zerolinecolor": "white"
           },
           "zaxis": {
            "backgroundcolor": "#E5ECF6",
            "gridcolor": "white",
            "gridwidth": 2,
            "linecolor": "white",
            "showbackground": true,
            "ticks": "",
            "zerolinecolor": "white"
           }
          },
          "shapedefaults": {
           "line": {
            "color": "#2a3f5f"
           }
          },
          "ternary": {
           "aaxis": {
            "gridcolor": "white",
            "linecolor": "white",
            "ticks": ""
           },
           "baxis": {
            "gridcolor": "white",
            "linecolor": "white",
            "ticks": ""
           },
           "bgcolor": "#E5ECF6",
           "caxis": {
            "gridcolor": "white",
            "linecolor": "white",
            "ticks": ""
           }
          },
          "title": {
           "x": 0.05
          },
          "xaxis": {
           "automargin": true,
           "gridcolor": "white",
           "linecolor": "white",
           "ticks": "",
           "title": {
            "standoff": 15
           },
           "zerolinecolor": "white",
           "zerolinewidth": 2
          },
          "yaxis": {
           "automargin": true,
           "gridcolor": "white",
           "linecolor": "white",
           "ticks": "",
           "title": {
            "standoff": 15
           },
           "zerolinecolor": "white",
           "zerolinewidth": 2
          }
         }
        },
        "title": {
         "text": "Распределение кликабельности (CTR)"
        },
        "xaxis": {
         "anchor": "y",
         "domain": [
          0,
          1
         ],
         "title": {
          "text": "ctr"
         }
        },
        "yaxis": {
         "anchor": "x",
         "domain": [
          0,
          1
         ],
         "title": {
          "text": "count"
         }
        }
       }
      }
     },
     "metadata": {},
     "output_type": "display_data"
    }
   ],
   "source": [
    "#Построим распределение таргета\n",
    "fig = px.histogram(df,\n",
    "                   x='ctr',\n",
    "                   title='Распределение кликабельности (CTR)'\n",
    "                   )\n",
    "fig.show();"
   ]
  },
  {
   "cell_type": "markdown",
   "metadata": {},
   "source": [
    "**Вывод**\n"
   ]
  },
  {
   "cell_type": "markdown",
   "metadata": {},
   "source": [
    "## EDA"
   ]
  },
  {
   "cell_type": "code",
   "execution_count": null,
   "metadata": {},
   "outputs": [],
   "source": []
  },
  {
   "cell_type": "code",
   "execution_count": 94,
   "metadata": {},
   "outputs": [],
   "source": [
    "#Удаляем неинформативные признаки\n",
    "drop_col = ['image_people_amount', 'image_clip', 'image_clip_keywords', 'image_text_present', 'image_text_contains_question']\n",
    "df_drop = df.drop(df[drop_col], axis=1)\n"
   ]
  },
  {
   "cell_type": "code",
   "execution_count": 101,
   "metadata": {},
   "outputs": [
    {
     "data": {
      "text/plain": [
       "(339, 16)"
      ]
     },
     "execution_count": 101,
     "metadata": {},
     "output_type": "execute_result"
    }
   ],
   "source": [
    "# Удаляем дубликаты\n",
    "\n",
    "df_drop = df_drop.drop_duplicates()\n",
    "df_drop.shape\n"
   ]
  },
  {
   "cell_type": "code",
   "execution_count": 104,
   "metadata": {},
   "outputs": [
    {
     "data": {
      "application/vnd.plotly.v1+json": {
       "config": {
        "plotlyServerURL": "https://plot.ly"
       },
       "data": [
        {
         "alignmentgroup": "True",
         "bingroup": "x",
         "hovertemplate": "variable=image_text_length<br>value=%{x}<br>count=%{y}<extra></extra>",
         "legendgroup": "image_text_length",
         "marker": {
          "color": "#636efa",
          "pattern": {
           "shape": ""
          }
         },
         "name": "image_text_length",
         "offsetgroup": "image_text_length",
         "orientation": "v",
         "showlegend": true,
         "type": "histogram",
         "x": [
          150,
          50,
          100,
          100,
          25,
          200,
          250,
          300,
          150,
          150,
          100,
          100,
          100,
          100,
          200,
          250,
          100,
          250,
          250,
          100,
          750,
          150,
          200,
          300,
          100,
          100,
          200,
          100,
          100,
          100,
          150,
          100,
          100,
          100,
          100,
          100,
          100,
          100,
          200,
          150,
          150,
          400,
          200,
          100,
          250,
          150,
          100,
          50,
          350,
          200,
          100,
          50,
          50,
          100,
          250,
          100,
          300,
          100,
          100,
          100,
          150,
          100,
          200,
          150,
          250,
          150,
          100,
          150,
          200,
          200,
          100,
          200,
          150,
          300,
          100,
          200,
          100,
          100,
          200,
          50,
          50,
          200,
          250,
          150,
          50,
          150,
          50,
          800,
          50,
          300,
          300,
          200,
          50,
          150,
          150,
          100,
          100,
          150,
          100,
          100,
          400,
          400,
          200,
          100,
          100,
          400,
          50,
          100,
          100,
          150,
          800,
          150,
          150,
          150,
          200,
          250,
          150,
          100,
          250,
          200,
          150,
          200,
          100,
          100,
          400,
          300,
          100,
          100,
          100,
          200,
          100,
          25,
          100,
          200,
          100,
          100,
          150,
          200,
          100,
          100,
          100,
          100,
          100,
          350,
          150,
          550,
          100,
          150,
          150,
          150,
          100,
          400,
          100,
          200,
          150,
          150,
          200,
          200,
          100,
          200,
          50,
          25,
          100,
          100,
          100,
          150,
          200,
          100,
          800,
          150,
          400,
          100,
          50,
          200,
          200,
          100,
          100,
          200,
          150,
          150,
          200,
          100,
          100,
          300,
          100,
          200,
          100,
          200,
          350,
          100,
          200,
          150,
          100,
          100,
          100,
          200,
          100,
          200,
          150,
          100,
          250,
          250,
          100,
          250,
          100,
          100,
          150,
          200,
          200,
          100,
          150,
          200,
          400,
          150,
          100,
          200,
          150,
          150,
          50,
          200,
          400,
          150,
          150,
          50,
          200,
          150,
          350,
          150,
          200,
          200,
          200,
          200,
          200,
          200,
          100,
          150,
          50,
          100,
          200,
          100,
          100,
          250,
          200,
          100,
          100,
          100,
          200,
          100,
          100,
          50,
          100,
          50,
          150,
          150,
          200,
          100,
          100,
          200,
          100,
          150,
          100,
          50,
          150,
          100,
          500,
          200,
          200,
          200,
          200,
          250,
          800,
          800,
          50,
          150,
          100,
          250,
          800,
          200,
          50,
          100,
          250,
          100,
          300,
          150,
          150,
          100,
          200,
          200,
          200,
          100,
          200,
          400,
          100,
          150,
          100,
          200,
          250,
          400,
          250,
          100,
          150,
          150,
          200,
          250,
          100,
          100,
          150,
          300,
          250,
          100,
          150,
          350,
          100,
          800,
          200,
          250,
          250,
          250,
          150,
          100,
          250,
          800,
          200,
          100,
          200,
          100,
          100,
          200,
          250,
          100,
          200,
          200,
          100,
          100,
          100,
          200,
          150,
          100,
          100
         ],
         "xaxis": "x",
         "yaxis": "y"
        }
       ],
       "layout": {
        "barmode": "relative",
        "legend": {
         "title": {
          "text": "variable"
         },
         "tracegroupgap": 0
        },
        "margin": {
         "t": 60
        },
        "template": {
         "data": {
          "bar": [
           {
            "error_x": {
             "color": "#2a3f5f"
            },
            "error_y": {
             "color": "#2a3f5f"
            },
            "marker": {
             "line": {
              "color": "#E5ECF6",
              "width": 0.5
             },
             "pattern": {
              "fillmode": "overlay",
              "size": 10,
              "solidity": 0.2
             }
            },
            "type": "bar"
           }
          ],
          "barpolar": [
           {
            "marker": {
             "line": {
              "color": "#E5ECF6",
              "width": 0.5
             },
             "pattern": {
              "fillmode": "overlay",
              "size": 10,
              "solidity": 0.2
             }
            },
            "type": "barpolar"
           }
          ],
          "carpet": [
           {
            "aaxis": {
             "endlinecolor": "#2a3f5f",
             "gridcolor": "white",
             "linecolor": "white",
             "minorgridcolor": "white",
             "startlinecolor": "#2a3f5f"
            },
            "baxis": {
             "endlinecolor": "#2a3f5f",
             "gridcolor": "white",
             "linecolor": "white",
             "minorgridcolor": "white",
             "startlinecolor": "#2a3f5f"
            },
            "type": "carpet"
           }
          ],
          "choropleth": [
           {
            "colorbar": {
             "outlinewidth": 0,
             "ticks": ""
            },
            "type": "choropleth"
           }
          ],
          "contour": [
           {
            "colorbar": {
             "outlinewidth": 0,
             "ticks": ""
            },
            "colorscale": [
             [
              0,
              "#0d0887"
             ],
             [
              0.1111111111111111,
              "#46039f"
             ],
             [
              0.2222222222222222,
              "#7201a8"
             ],
             [
              0.3333333333333333,
              "#9c179e"
             ],
             [
              0.4444444444444444,
              "#bd3786"
             ],
             [
              0.5555555555555556,
              "#d8576b"
             ],
             [
              0.6666666666666666,
              "#ed7953"
             ],
             [
              0.7777777777777778,
              "#fb9f3a"
             ],
             [
              0.8888888888888888,
              "#fdca26"
             ],
             [
              1,
              "#f0f921"
             ]
            ],
            "type": "contour"
           }
          ],
          "contourcarpet": [
           {
            "colorbar": {
             "outlinewidth": 0,
             "ticks": ""
            },
            "type": "contourcarpet"
           }
          ],
          "heatmap": [
           {
            "colorbar": {
             "outlinewidth": 0,
             "ticks": ""
            },
            "colorscale": [
             [
              0,
              "#0d0887"
             ],
             [
              0.1111111111111111,
              "#46039f"
             ],
             [
              0.2222222222222222,
              "#7201a8"
             ],
             [
              0.3333333333333333,
              "#9c179e"
             ],
             [
              0.4444444444444444,
              "#bd3786"
             ],
             [
              0.5555555555555556,
              "#d8576b"
             ],
             [
              0.6666666666666666,
              "#ed7953"
             ],
             [
              0.7777777777777778,
              "#fb9f3a"
             ],
             [
              0.8888888888888888,
              "#fdca26"
             ],
             [
              1,
              "#f0f921"
             ]
            ],
            "type": "heatmap"
           }
          ],
          "heatmapgl": [
           {
            "colorbar": {
             "outlinewidth": 0,
             "ticks": ""
            },
            "colorscale": [
             [
              0,
              "#0d0887"
             ],
             [
              0.1111111111111111,
              "#46039f"
             ],
             [
              0.2222222222222222,
              "#7201a8"
             ],
             [
              0.3333333333333333,
              "#9c179e"
             ],
             [
              0.4444444444444444,
              "#bd3786"
             ],
             [
              0.5555555555555556,
              "#d8576b"
             ],
             [
              0.6666666666666666,
              "#ed7953"
             ],
             [
              0.7777777777777778,
              "#fb9f3a"
             ],
             [
              0.8888888888888888,
              "#fdca26"
             ],
             [
              1,
              "#f0f921"
             ]
            ],
            "type": "heatmapgl"
           }
          ],
          "histogram": [
           {
            "marker": {
             "pattern": {
              "fillmode": "overlay",
              "size": 10,
              "solidity": 0.2
             }
            },
            "type": "histogram"
           }
          ],
          "histogram2d": [
           {
            "colorbar": {
             "outlinewidth": 0,
             "ticks": ""
            },
            "colorscale": [
             [
              0,
              "#0d0887"
             ],
             [
              0.1111111111111111,
              "#46039f"
             ],
             [
              0.2222222222222222,
              "#7201a8"
             ],
             [
              0.3333333333333333,
              "#9c179e"
             ],
             [
              0.4444444444444444,
              "#bd3786"
             ],
             [
              0.5555555555555556,
              "#d8576b"
             ],
             [
              0.6666666666666666,
              "#ed7953"
             ],
             [
              0.7777777777777778,
              "#fb9f3a"
             ],
             [
              0.8888888888888888,
              "#fdca26"
             ],
             [
              1,
              "#f0f921"
             ]
            ],
            "type": "histogram2d"
           }
          ],
          "histogram2dcontour": [
           {
            "colorbar": {
             "outlinewidth": 0,
             "ticks": ""
            },
            "colorscale": [
             [
              0,
              "#0d0887"
             ],
             [
              0.1111111111111111,
              "#46039f"
             ],
             [
              0.2222222222222222,
              "#7201a8"
             ],
             [
              0.3333333333333333,
              "#9c179e"
             ],
             [
              0.4444444444444444,
              "#bd3786"
             ],
             [
              0.5555555555555556,
              "#d8576b"
             ],
             [
              0.6666666666666666,
              "#ed7953"
             ],
             [
              0.7777777777777778,
              "#fb9f3a"
             ],
             [
              0.8888888888888888,
              "#fdca26"
             ],
             [
              1,
              "#f0f921"
             ]
            ],
            "type": "histogram2dcontour"
           }
          ],
          "mesh3d": [
           {
            "colorbar": {
             "outlinewidth": 0,
             "ticks": ""
            },
            "type": "mesh3d"
           }
          ],
          "parcoords": [
           {
            "line": {
             "colorbar": {
              "outlinewidth": 0,
              "ticks": ""
             }
            },
            "type": "parcoords"
           }
          ],
          "pie": [
           {
            "automargin": true,
            "type": "pie"
           }
          ],
          "scatter": [
           {
            "fillpattern": {
             "fillmode": "overlay",
             "size": 10,
             "solidity": 0.2
            },
            "type": "scatter"
           }
          ],
          "scatter3d": [
           {
            "line": {
             "colorbar": {
              "outlinewidth": 0,
              "ticks": ""
             }
            },
            "marker": {
             "colorbar": {
              "outlinewidth": 0,
              "ticks": ""
             }
            },
            "type": "scatter3d"
           }
          ],
          "scattercarpet": [
           {
            "marker": {
             "colorbar": {
              "outlinewidth": 0,
              "ticks": ""
             }
            },
            "type": "scattercarpet"
           }
          ],
          "scattergeo": [
           {
            "marker": {
             "colorbar": {
              "outlinewidth": 0,
              "ticks": ""
             }
            },
            "type": "scattergeo"
           }
          ],
          "scattergl": [
           {
            "marker": {
             "colorbar": {
              "outlinewidth": 0,
              "ticks": ""
             }
            },
            "type": "scattergl"
           }
          ],
          "scattermapbox": [
           {
            "marker": {
             "colorbar": {
              "outlinewidth": 0,
              "ticks": ""
             }
            },
            "type": "scattermapbox"
           }
          ],
          "scatterpolar": [
           {
            "marker": {
             "colorbar": {
              "outlinewidth": 0,
              "ticks": ""
             }
            },
            "type": "scatterpolar"
           }
          ],
          "scatterpolargl": [
           {
            "marker": {
             "colorbar": {
              "outlinewidth": 0,
              "ticks": ""
             }
            },
            "type": "scatterpolargl"
           }
          ],
          "scatterternary": [
           {
            "marker": {
             "colorbar": {
              "outlinewidth": 0,
              "ticks": ""
             }
            },
            "type": "scatterternary"
           }
          ],
          "surface": [
           {
            "colorbar": {
             "outlinewidth": 0,
             "ticks": ""
            },
            "colorscale": [
             [
              0,
              "#0d0887"
             ],
             [
              0.1111111111111111,
              "#46039f"
             ],
             [
              0.2222222222222222,
              "#7201a8"
             ],
             [
              0.3333333333333333,
              "#9c179e"
             ],
             [
              0.4444444444444444,
              "#bd3786"
             ],
             [
              0.5555555555555556,
              "#d8576b"
             ],
             [
              0.6666666666666666,
              "#ed7953"
             ],
             [
              0.7777777777777778,
              "#fb9f3a"
             ],
             [
              0.8888888888888888,
              "#fdca26"
             ],
             [
              1,
              "#f0f921"
             ]
            ],
            "type": "surface"
           }
          ],
          "table": [
           {
            "cells": {
             "fill": {
              "color": "#EBF0F8"
             },
             "line": {
              "color": "white"
             }
            },
            "header": {
             "fill": {
              "color": "#C8D4E3"
             },
             "line": {
              "color": "white"
             }
            },
            "type": "table"
           }
          ]
         },
         "layout": {
          "annotationdefaults": {
           "arrowcolor": "#2a3f5f",
           "arrowhead": 0,
           "arrowwidth": 1
          },
          "autotypenumbers": "strict",
          "coloraxis": {
           "colorbar": {
            "outlinewidth": 0,
            "ticks": ""
           }
          },
          "colorscale": {
           "diverging": [
            [
             0,
             "#8e0152"
            ],
            [
             0.1,
             "#c51b7d"
            ],
            [
             0.2,
             "#de77ae"
            ],
            [
             0.3,
             "#f1b6da"
            ],
            [
             0.4,
             "#fde0ef"
            ],
            [
             0.5,
             "#f7f7f7"
            ],
            [
             0.6,
             "#e6f5d0"
            ],
            [
             0.7,
             "#b8e186"
            ],
            [
             0.8,
             "#7fbc41"
            ],
            [
             0.9,
             "#4d9221"
            ],
            [
             1,
             "#276419"
            ]
           ],
           "sequential": [
            [
             0,
             "#0d0887"
            ],
            [
             0.1111111111111111,
             "#46039f"
            ],
            [
             0.2222222222222222,
             "#7201a8"
            ],
            [
             0.3333333333333333,
             "#9c179e"
            ],
            [
             0.4444444444444444,
             "#bd3786"
            ],
            [
             0.5555555555555556,
             "#d8576b"
            ],
            [
             0.6666666666666666,
             "#ed7953"
            ],
            [
             0.7777777777777778,
             "#fb9f3a"
            ],
            [
             0.8888888888888888,
             "#fdca26"
            ],
            [
             1,
             "#f0f921"
            ]
           ],
           "sequentialminus": [
            [
             0,
             "#0d0887"
            ],
            [
             0.1111111111111111,
             "#46039f"
            ],
            [
             0.2222222222222222,
             "#7201a8"
            ],
            [
             0.3333333333333333,
             "#9c179e"
            ],
            [
             0.4444444444444444,
             "#bd3786"
            ],
            [
             0.5555555555555556,
             "#d8576b"
            ],
            [
             0.6666666666666666,
             "#ed7953"
            ],
            [
             0.7777777777777778,
             "#fb9f3a"
            ],
            [
             0.8888888888888888,
             "#fdca26"
            ],
            [
             1,
             "#f0f921"
            ]
           ]
          },
          "colorway": [
           "#636efa",
           "#EF553B",
           "#00cc96",
           "#ab63fa",
           "#FFA15A",
           "#19d3f3",
           "#FF6692",
           "#B6E880",
           "#FF97FF",
           "#FECB52"
          ],
          "font": {
           "color": "#2a3f5f"
          },
          "geo": {
           "bgcolor": "white",
           "lakecolor": "white",
           "landcolor": "#E5ECF6",
           "showlakes": true,
           "showland": true,
           "subunitcolor": "white"
          },
          "hoverlabel": {
           "align": "left"
          },
          "hovermode": "closest",
          "mapbox": {
           "style": "light"
          },
          "paper_bgcolor": "white",
          "plot_bgcolor": "#E5ECF6",
          "polar": {
           "angularaxis": {
            "gridcolor": "white",
            "linecolor": "white",
            "ticks": ""
           },
           "bgcolor": "#E5ECF6",
           "radialaxis": {
            "gridcolor": "white",
            "linecolor": "white",
            "ticks": ""
           }
          },
          "scene": {
           "xaxis": {
            "backgroundcolor": "#E5ECF6",
            "gridcolor": "white",
            "gridwidth": 2,
            "linecolor": "white",
            "showbackground": true,
            "ticks": "",
            "zerolinecolor": "white"
           },
           "yaxis": {
            "backgroundcolor": "#E5ECF6",
            "gridcolor": "white",
            "gridwidth": 2,
            "linecolor": "white",
            "showbackground": true,
            "ticks": "",
            "zerolinecolor": "white"
           },
           "zaxis": {
            "backgroundcolor": "#E5ECF6",
            "gridcolor": "white",
            "gridwidth": 2,
            "linecolor": "white",
            "showbackground": true,
            "ticks": "",
            "zerolinecolor": "white"
           }
          },
          "shapedefaults": {
           "line": {
            "color": "#2a3f5f"
           }
          },
          "ternary": {
           "aaxis": {
            "gridcolor": "white",
            "linecolor": "white",
            "ticks": ""
           },
           "baxis": {
            "gridcolor": "white",
            "linecolor": "white",
            "ticks": ""
           },
           "bgcolor": "#E5ECF6",
           "caxis": {
            "gridcolor": "white",
            "linecolor": "white",
            "ticks": ""
           }
          },
          "title": {
           "x": 0.05
          },
          "xaxis": {
           "automargin": true,
           "gridcolor": "white",
           "linecolor": "white",
           "ticks": "",
           "title": {
            "standoff": 15
           },
           "zerolinecolor": "white",
           "zerolinewidth": 2
          },
          "yaxis": {
           "automargin": true,
           "gridcolor": "white",
           "linecolor": "white",
           "ticks": "",
           "title": {
            "standoff": 15
           },
           "zerolinecolor": "white",
           "zerolinewidth": 2
          }
         }
        },
        "xaxis": {
         "anchor": "y",
         "domain": [
          0,
          1
         ],
         "title": {
          "text": "value"
         }
        },
        "yaxis": {
         "anchor": "x",
         "domain": [
          0,
          1
         ],
         "title": {
          "text": "count"
         }
        }
       }
      }
     },
     "metadata": {},
     "output_type": "display_data"
    }
   ],
   "source": [
    "px.histogram(df_drop.image_text_length)"
   ]
  },
  {
   "cell_type": "code",
   "execution_count": 117,
   "metadata": {},
   "outputs": [
    {
     "data": {
      "text/plain": [
       "5      ['cg artwork', 'magenta', 'purple', 'font', 'c...\n",
       "154    ['happy', 'magenta', 'font', 'fictional charac...\n",
       "188    ['illustration', 'happy', 'purple', 'font', 'm...\n",
       "255    ['eye', 'art', 'cartoon', 'doll', 'eyebrow', '...\n",
       "256    ['eye', 'art', 'cartoon', 'doll', 'eyebrow', '...\n",
       "Name: image_tags, dtype: object"
      ]
     },
     "execution_count": 117,
     "metadata": {},
     "output_type": "execute_result"
    }
   ],
   "source": [
    "df[df.image_language == 'fr'].image_tags#.duplicated()"
   ]
  },
  {
   "cell_type": "code",
   "execution_count": 72,
   "metadata": {},
   "outputs": [
    {
     "data": {
      "text/html": [
       "<div>\n",
       "<style scoped>\n",
       "    .dataframe tbody tr th:only-of-type {\n",
       "        vertical-align: middle;\n",
       "    }\n",
       "\n",
       "    .dataframe tbody tr th {\n",
       "        vertical-align: top;\n",
       "    }\n",
       "\n",
       "    .dataframe thead th {\n",
       "        text-align: right;\n",
       "    }\n",
       "</style>\n",
       "<table border=\"1\" class=\"dataframe\">\n",
       "  <thead>\n",
       "    <tr style=\"text-align: right;\">\n",
       "      <th></th>\n",
       "      <th>image_text_present</th>\n",
       "      <th>image_text</th>\n",
       "      <th>image_eng_text</th>\n",
       "      <th>image_text_area</th>\n",
       "      <th>image_text_length</th>\n",
       "      <th>image_language</th>\n",
       "      <th>image_text_contains_question</th>\n",
       "      <th>image_text_contains_cta</th>\n",
       "      <th>image_nouns</th>\n",
       "      <th>image_verbs</th>\n",
       "      <th>...</th>\n",
       "      <th>image_phrases</th>\n",
       "      <th>image_color_main</th>\n",
       "      <th>image_color_rest</th>\n",
       "      <th>image_proportions</th>\n",
       "      <th>image_objects</th>\n",
       "      <th>image_tags</th>\n",
       "      <th>image_people_amount</th>\n",
       "      <th>image_clip</th>\n",
       "      <th>image_clip_keywords</th>\n",
       "      <th>ctr</th>\n",
       "    </tr>\n",
       "  </thead>\n",
       "  <tbody>\n",
       "    <tr>\n",
       "      <th>0</th>\n",
       "      <td>True</td>\n",
       "      <td>Hot apple cider\\nCollect acorns\\nand nuts\\nMab...</td>\n",
       "      <td>Hot apple cider\\nCollect acorns\\nand nuts\\nMab...</td>\n",
       "      <td>10</td>\n",
       "      <td>150</td>\n",
       "      <td>en</td>\n",
       "      <td>False</td>\n",
       "      <td>False</td>\n",
       "      <td>['fruit', 'thanks', 'leaves', 'pies', 'cider',...</td>\n",
       "      <td>['reflect', 'give', 'collect']</td>\n",
       "      <td>...</td>\n",
       "      <td>['hot apple cider', 'collect acorns', 'and nut...</td>\n",
       "      <td>#ccffff</td>\n",
       "      <td>['#6666cc']</td>\n",
       "      <td>2048x2048</td>\n",
       "      <td>['tableware']</td>\n",
       "      <td>['poster', 'illustration', 'font', 'product', ...</td>\n",
       "      <td>1</td>\n",
       "      <td>a mulato man with a notebook sitting at the ta...</td>\n",
       "      <td>['word1', 'word2', 'word3']</td>\n",
       "      <td>0.007162</td>\n",
       "    </tr>\n",
       "    <tr>\n",
       "      <th>1</th>\n",
       "      <td>True</td>\n",
       "      <td>Regret\\nAnxiety\\nYou\\nAction\\nChange your mindset</td>\n",
       "      <td>Regret\\nAnxiety\\nYou\\nAction\\nChange your mindset</td>\n",
       "      <td>0</td>\n",
       "      <td>50</td>\n",
       "      <td>en</td>\n",
       "      <td>False</td>\n",
       "      <td>False</td>\n",
       "      <td>['action', 'anxiety', 'mindset']</td>\n",
       "      <td>['regret', 'change']</td>\n",
       "      <td>...</td>\n",
       "      <td>['regret', 'anxiety', 'you', 'action', 'change...</td>\n",
       "      <td>#666666</td>\n",
       "      <td>['#333333', '#663333', '#999999', '#333300']</td>\n",
       "      <td>2048x2048</td>\n",
       "      <td>[]</td>\n",
       "      <td>['electric blue', 'landscape', 'font', 'slope'...</td>\n",
       "      <td>1</td>\n",
       "      <td>a mulato man with a notebook sitting at the ta...</td>\n",
       "      <td>['word1', 'word2', 'word3']</td>\n",
       "      <td>0.005659</td>\n",
       "    </tr>\n",
       "    <tr>\n",
       "      <th>2</th>\n",
       "      <td>True</td>\n",
       "      <td>Regret\\nAnxiety\\nYou\\nAction\\nChange your mindset</td>\n",
       "      <td>Regret\\nAnxiety\\nYou\\nAction\\nChange your mindset</td>\n",
       "      <td>0</td>\n",
       "      <td>50</td>\n",
       "      <td>en</td>\n",
       "      <td>False</td>\n",
       "      <td>False</td>\n",
       "      <td>['action', 'anxiety', 'mindset']</td>\n",
       "      <td>['regret', 'change']</td>\n",
       "      <td>...</td>\n",
       "      <td>['regret', 'anxiety', 'you', 'action', 'change...</td>\n",
       "      <td>#666666</td>\n",
       "      <td>['#333333', '#663333', '#999999', '#333300']</td>\n",
       "      <td>2048x2048</td>\n",
       "      <td>[]</td>\n",
       "      <td>['electric blue', 'landscape', 'font', 'slope'...</td>\n",
       "      <td>1</td>\n",
       "      <td>a mulato man with a notebook sitting at the ta...</td>\n",
       "      <td>['word1', 'word2', 'word3']</td>\n",
       "      <td>0.005659</td>\n",
       "    </tr>\n",
       "    <tr>\n",
       "      <th>3</th>\n",
       "      <td>True</td>\n",
       "      <td>Guide for little witches\\nn\\nMoon Calendar\\nRu...</td>\n",
       "      <td>Guide for little witches\\nn\\nMoon Calendar\\nRu...</td>\n",
       "      <td>10</td>\n",
       "      <td>100</td>\n",
       "      <td>en</td>\n",
       "      <td>False</td>\n",
       "      <td>False</td>\n",
       "      <td>['holidays', 'moon', 'sounds', 'calendar', 'wi...</td>\n",
       "      <td>[]</td>\n",
       "      <td>...</td>\n",
       "      <td>['guide for little witches', 'n', 'moon calend...</td>\n",
       "      <td>#996633</td>\n",
       "      <td>['#663333', '#666666', '#996666', '#333333']</td>\n",
       "      <td>1280x1280</td>\n",
       "      <td>['packaged goods']</td>\n",
       "      <td>['carnivore', 'electric blue', 'small to mediu...</td>\n",
       "      <td>1</td>\n",
       "      <td>a mulato man with a notebook sitting at the ta...</td>\n",
       "      <td>['word1', 'word2', 'word3']</td>\n",
       "      <td>0.007388</td>\n",
       "    </tr>\n",
       "    <tr>\n",
       "      <th>4</th>\n",
       "      <td>True</td>\n",
       "      <td>Guide for little witches\\nn\\nMoon Calendar\\nRu...</td>\n",
       "      <td>Guide for little witches\\nn\\nMoon Calendar\\nRu...</td>\n",
       "      <td>10</td>\n",
       "      <td>100</td>\n",
       "      <td>en</td>\n",
       "      <td>False</td>\n",
       "      <td>False</td>\n",
       "      <td>['holidays', 'moon', 'sounds', 'calendar', 'wi...</td>\n",
       "      <td>[]</td>\n",
       "      <td>...</td>\n",
       "      <td>['guide for little witches', 'n', 'moon calend...</td>\n",
       "      <td>#996633</td>\n",
       "      <td>['#663333', '#666666', '#996666', '#333333']</td>\n",
       "      <td>1280x1280</td>\n",
       "      <td>['packaged goods']</td>\n",
       "      <td>['carnivore', 'electric blue', 'small to mediu...</td>\n",
       "      <td>1</td>\n",
       "      <td>a mulato man with a notebook sitting at the ta...</td>\n",
       "      <td>['word1', 'word2', 'word3']</td>\n",
       "      <td>0.006329</td>\n",
       "    </tr>\n",
       "    <tr>\n",
       "      <th>...</th>\n",
       "      <td>...</td>\n",
       "      <td>...</td>\n",
       "      <td>...</td>\n",
       "      <td>...</td>\n",
       "      <td>...</td>\n",
       "      <td>...</td>\n",
       "      <td>...</td>\n",
       "      <td>...</td>\n",
       "      <td>...</td>\n",
       "      <td>...</td>\n",
       "      <td>...</td>\n",
       "      <td>...</td>\n",
       "      <td>...</td>\n",
       "      <td>...</td>\n",
       "      <td>...</td>\n",
       "      <td>...</td>\n",
       "      <td>...</td>\n",
       "      <td>...</td>\n",
       "      <td>...</td>\n",
       "      <td>...</td>\n",
       "      <td>...</td>\n",
       "    </tr>\n",
       "    <tr>\n",
       "      <th>394</th>\n",
       "      <td>True</td>\n",
       "      <td>\"Being sad spurs from\\na negative mindset and ...</td>\n",
       "      <td>Being sad spurs from\\na negative mindset and n...</td>\n",
       "      <td>10</td>\n",
       "      <td>200</td>\n",
       "      <td>en</td>\n",
       "      <td>False</td>\n",
       "      <td>True</td>\n",
       "      <td>['ones', 'mindset', 'emotions', 'spurs', 'othe...</td>\n",
       "      <td>['choose', 'needs', 'benefit', 'worked', 'affe...</td>\n",
       "      <td>...</td>\n",
       "      <td>['\"being sad spurs from', 'a negative mindset ...</td>\n",
       "      <td>#663366</td>\n",
       "      <td>[]</td>\n",
       "      <td>2048x2048</td>\n",
       "      <td>[]</td>\n",
       "      <td>['electric blue', 'font', 'astronomical object...</td>\n",
       "      <td>1</td>\n",
       "      <td>a mulato man with a notebook sitting at the ta...</td>\n",
       "      <td>['word1', 'word2', 'word3']</td>\n",
       "      <td>0.009087</td>\n",
       "    </tr>\n",
       "    <tr>\n",
       "      <th>395</th>\n",
       "      <td>True</td>\n",
       "      <td>\"Being sad spurs from\\na negative mindset and ...</td>\n",
       "      <td>Being sad spurs from\\na negative mindset and n...</td>\n",
       "      <td>10</td>\n",
       "      <td>200</td>\n",
       "      <td>en</td>\n",
       "      <td>False</td>\n",
       "      <td>True</td>\n",
       "      <td>['ones', 'mindset', 'emotions', 'spurs', 'othe...</td>\n",
       "      <td>['choose', 'needs', 'benefit', 'worked', 'affe...</td>\n",
       "      <td>...</td>\n",
       "      <td>['\"being sad spurs from', 'a negative mindset ...</td>\n",
       "      <td>#663366</td>\n",
       "      <td>[]</td>\n",
       "      <td>2048x2048</td>\n",
       "      <td>[]</td>\n",
       "      <td>['electric blue', 'font', 'astronomical object...</td>\n",
       "      <td>1</td>\n",
       "      <td>a mulato man with a notebook sitting at the ta...</td>\n",
       "      <td>['word1', 'word2', 'word3']</td>\n",
       "      <td>0.009087</td>\n",
       "    </tr>\n",
       "    <tr>\n",
       "      <th>396</th>\n",
       "      <td>True</td>\n",
       "      <td>Hot apple cider\\nCollect acorns\\nand nuts\\nMab...</td>\n",
       "      <td>Hot apple cider\\nCollect acorns\\nand nuts\\nMab...</td>\n",
       "      <td>10</td>\n",
       "      <td>150</td>\n",
       "      <td>en</td>\n",
       "      <td>False</td>\n",
       "      <td>False</td>\n",
       "      <td>['fruit', 'thanks', 'leaves', 'pies', 'cider',...</td>\n",
       "      <td>['reflect', 'give', 'collect']</td>\n",
       "      <td>...</td>\n",
       "      <td>['hot apple cider', 'collect acorns', 'and nut...</td>\n",
       "      <td>#ccffff</td>\n",
       "      <td>['#6666cc']</td>\n",
       "      <td>2048x2048</td>\n",
       "      <td>['tableware']</td>\n",
       "      <td>['poster', 'illustration', 'font', 'product', ...</td>\n",
       "      <td>1</td>\n",
       "      <td>a mulato man with a notebook sitting at the ta...</td>\n",
       "      <td>['word1', 'word2', 'word3']</td>\n",
       "      <td>0.008776</td>\n",
       "    </tr>\n",
       "    <tr>\n",
       "      <th>397</th>\n",
       "      <td>True</td>\n",
       "      <td>Guide for little witches\\nn\\nMoon Calendar\\nRu...</td>\n",
       "      <td>Guide for little witches\\nn\\nMoon Calendar\\nRu...</td>\n",
       "      <td>10</td>\n",
       "      <td>100</td>\n",
       "      <td>en</td>\n",
       "      <td>False</td>\n",
       "      <td>False</td>\n",
       "      <td>['holidays', 'moon', 'sounds', 'calendar', 'wi...</td>\n",
       "      <td>[]</td>\n",
       "      <td>...</td>\n",
       "      <td>['guide for little witches', 'n', 'moon calend...</td>\n",
       "      <td>#996633</td>\n",
       "      <td>['#663333', '#666666', '#996666', '#333333']</td>\n",
       "      <td>1280x1280</td>\n",
       "      <td>['packaged goods']</td>\n",
       "      <td>['carnivore', 'electric blue', 'small to mediu...</td>\n",
       "      <td>1</td>\n",
       "      <td>a mulato man with a notebook sitting at the ta...</td>\n",
       "      <td>['word1', 'word2', 'word3']</td>\n",
       "      <td>0.012309</td>\n",
       "    </tr>\n",
       "    <tr>\n",
       "      <th>398</th>\n",
       "      <td>True</td>\n",
       "      <td>Guide for little witches\\nn\\nMoon Calendar\\nRu...</td>\n",
       "      <td>Guide for little witches\\nn\\nMoon Calendar\\nRu...</td>\n",
       "      <td>10</td>\n",
       "      <td>100</td>\n",
       "      <td>en</td>\n",
       "      <td>False</td>\n",
       "      <td>False</td>\n",
       "      <td>['holidays', 'moon', 'sounds', 'calendar', 'wi...</td>\n",
       "      <td>[]</td>\n",
       "      <td>...</td>\n",
       "      <td>['guide for little witches', 'n', 'moon calend...</td>\n",
       "      <td>#996633</td>\n",
       "      <td>['#663333', '#666666', '#996666', '#333333']</td>\n",
       "      <td>1280x1280</td>\n",
       "      <td>['packaged goods']</td>\n",
       "      <td>['carnivore', 'electric blue', 'small to mediu...</td>\n",
       "      <td>1</td>\n",
       "      <td>a mulato man with a notebook sitting at the ta...</td>\n",
       "      <td>['word1', 'word2', 'word3']</td>\n",
       "      <td>0.009105</td>\n",
       "    </tr>\n",
       "  </tbody>\n",
       "</table>\n",
       "<p>317 rows × 21 columns</p>\n",
       "</div>"
      ],
      "text/plain": [
       "     image_text_present                                         image_text  \\\n",
       "0                  True  Hot apple cider\\nCollect acorns\\nand nuts\\nMab...   \n",
       "1                  True  Regret\\nAnxiety\\nYou\\nAction\\nChange your mindset   \n",
       "2                  True  Regret\\nAnxiety\\nYou\\nAction\\nChange your mindset   \n",
       "3                  True  Guide for little witches\\nn\\nMoon Calendar\\nRu...   \n",
       "4                  True  Guide for little witches\\nn\\nMoon Calendar\\nRu...   \n",
       "..                  ...                                                ...   \n",
       "394                True  \"Being sad spurs from\\na negative mindset and ...   \n",
       "395                True  \"Being sad spurs from\\na negative mindset and ...   \n",
       "396                True  Hot apple cider\\nCollect acorns\\nand nuts\\nMab...   \n",
       "397                True  Guide for little witches\\nn\\nMoon Calendar\\nRu...   \n",
       "398                True  Guide for little witches\\nn\\nMoon Calendar\\nRu...   \n",
       "\n",
       "                                        image_eng_text  image_text_area  \\\n",
       "0    Hot apple cider\\nCollect acorns\\nand nuts\\nMab...               10   \n",
       "1    Regret\\nAnxiety\\nYou\\nAction\\nChange your mindset                0   \n",
       "2    Regret\\nAnxiety\\nYou\\nAction\\nChange your mindset                0   \n",
       "3    Guide for little witches\\nn\\nMoon Calendar\\nRu...               10   \n",
       "4    Guide for little witches\\nn\\nMoon Calendar\\nRu...               10   \n",
       "..                                                 ...              ...   \n",
       "394  Being sad spurs from\\na negative mindset and n...               10   \n",
       "395  Being sad spurs from\\na negative mindset and n...               10   \n",
       "396  Hot apple cider\\nCollect acorns\\nand nuts\\nMab...               10   \n",
       "397  Guide for little witches\\nn\\nMoon Calendar\\nRu...               10   \n",
       "398  Guide for little witches\\nn\\nMoon Calendar\\nRu...               10   \n",
       "\n",
       "     image_text_length image_language  image_text_contains_question  \\\n",
       "0                  150             en                         False   \n",
       "1                   50             en                         False   \n",
       "2                   50             en                         False   \n",
       "3                  100             en                         False   \n",
       "4                  100             en                         False   \n",
       "..                 ...            ...                           ...   \n",
       "394                200             en                         False   \n",
       "395                200             en                         False   \n",
       "396                150             en                         False   \n",
       "397                100             en                         False   \n",
       "398                100             en                         False   \n",
       "\n",
       "     image_text_contains_cta  \\\n",
       "0                      False   \n",
       "1                      False   \n",
       "2                      False   \n",
       "3                      False   \n",
       "4                      False   \n",
       "..                       ...   \n",
       "394                     True   \n",
       "395                     True   \n",
       "396                    False   \n",
       "397                    False   \n",
       "398                    False   \n",
       "\n",
       "                                           image_nouns  \\\n",
       "0    ['fruit', 'thanks', 'leaves', 'pies', 'cider',...   \n",
       "1                     ['action', 'anxiety', 'mindset']   \n",
       "2                     ['action', 'anxiety', 'mindset']   \n",
       "3    ['holidays', 'moon', 'sounds', 'calendar', 'wi...   \n",
       "4    ['holidays', 'moon', 'sounds', 'calendar', 'wi...   \n",
       "..                                                 ...   \n",
       "394  ['ones', 'mindset', 'emotions', 'spurs', 'othe...   \n",
       "395  ['ones', 'mindset', 'emotions', 'spurs', 'othe...   \n",
       "396  ['fruit', 'thanks', 'leaves', 'pies', 'cider',...   \n",
       "397  ['holidays', 'moon', 'sounds', 'calendar', 'wi...   \n",
       "398  ['holidays', 'moon', 'sounds', 'calendar', 'wi...   \n",
       "\n",
       "                                           image_verbs  ...  \\\n",
       "0                       ['reflect', 'give', 'collect']  ...   \n",
       "1                                 ['regret', 'change']  ...   \n",
       "2                                 ['regret', 'change']  ...   \n",
       "3                                                   []  ...   \n",
       "4                                                   []  ...   \n",
       "..                                                 ...  ...   \n",
       "394  ['choose', 'needs', 'benefit', 'worked', 'affe...  ...   \n",
       "395  ['choose', 'needs', 'benefit', 'worked', 'affe...  ...   \n",
       "396                     ['reflect', 'give', 'collect']  ...   \n",
       "397                                                 []  ...   \n",
       "398                                                 []  ...   \n",
       "\n",
       "                                         image_phrases image_color_main  \\\n",
       "0    ['hot apple cider', 'collect acorns', 'and nut...          #ccffff   \n",
       "1    ['regret', 'anxiety', 'you', 'action', 'change...          #666666   \n",
       "2    ['regret', 'anxiety', 'you', 'action', 'change...          #666666   \n",
       "3    ['guide for little witches', 'n', 'moon calend...          #996633   \n",
       "4    ['guide for little witches', 'n', 'moon calend...          #996633   \n",
       "..                                                 ...              ...   \n",
       "394  ['\"being sad spurs from', 'a negative mindset ...          #663366   \n",
       "395  ['\"being sad spurs from', 'a negative mindset ...          #663366   \n",
       "396  ['hot apple cider', 'collect acorns', 'and nut...          #ccffff   \n",
       "397  ['guide for little witches', 'n', 'moon calend...          #996633   \n",
       "398  ['guide for little witches', 'n', 'moon calend...          #996633   \n",
       "\n",
       "                                 image_color_rest image_proportions  \\\n",
       "0                                     ['#6666cc']         2048x2048   \n",
       "1    ['#333333', '#663333', '#999999', '#333300']         2048x2048   \n",
       "2    ['#333333', '#663333', '#999999', '#333300']         2048x2048   \n",
       "3    ['#663333', '#666666', '#996666', '#333333']         1280x1280   \n",
       "4    ['#663333', '#666666', '#996666', '#333333']         1280x1280   \n",
       "..                                            ...               ...   \n",
       "394                                            []         2048x2048   \n",
       "395                                            []         2048x2048   \n",
       "396                                   ['#6666cc']         2048x2048   \n",
       "397  ['#663333', '#666666', '#996666', '#333333']         1280x1280   \n",
       "398  ['#663333', '#666666', '#996666', '#333333']         1280x1280   \n",
       "\n",
       "          image_objects                                         image_tags  \\\n",
       "0         ['tableware']  ['poster', 'illustration', 'font', 'product', ...   \n",
       "1                    []  ['electric blue', 'landscape', 'font', 'slope'...   \n",
       "2                    []  ['electric blue', 'landscape', 'font', 'slope'...   \n",
       "3    ['packaged goods']  ['carnivore', 'electric blue', 'small to mediu...   \n",
       "4    ['packaged goods']  ['carnivore', 'electric blue', 'small to mediu...   \n",
       "..                  ...                                                ...   \n",
       "394                  []  ['electric blue', 'font', 'astronomical object...   \n",
       "395                  []  ['electric blue', 'font', 'astronomical object...   \n",
       "396       ['tableware']  ['poster', 'illustration', 'font', 'product', ...   \n",
       "397  ['packaged goods']  ['carnivore', 'electric blue', 'small to mediu...   \n",
       "398  ['packaged goods']  ['carnivore', 'electric blue', 'small to mediu...   \n",
       "\n",
       "    image_people_amount                                         image_clip  \\\n",
       "0                     1  a mulato man with a notebook sitting at the ta...   \n",
       "1                     1  a mulato man with a notebook sitting at the ta...   \n",
       "2                     1  a mulato man with a notebook sitting at the ta...   \n",
       "3                     1  a mulato man with a notebook sitting at the ta...   \n",
       "4                     1  a mulato man with a notebook sitting at the ta...   \n",
       "..                  ...                                                ...   \n",
       "394                   1  a mulato man with a notebook sitting at the ta...   \n",
       "395                   1  a mulato man with a notebook sitting at the ta...   \n",
       "396                   1  a mulato man with a notebook sitting at the ta...   \n",
       "397                   1  a mulato man with a notebook sitting at the ta...   \n",
       "398                   1  a mulato man with a notebook sitting at the ta...   \n",
       "\n",
       "             image_clip_keywords       ctr  \n",
       "0    ['word1', 'word2', 'word3']  0.007162  \n",
       "1    ['word1', 'word2', 'word3']  0.005659  \n",
       "2    ['word1', 'word2', 'word3']  0.005659  \n",
       "3    ['word1', 'word2', 'word3']  0.007388  \n",
       "4    ['word1', 'word2', 'word3']  0.006329  \n",
       "..                           ...       ...  \n",
       "394  ['word1', 'word2', 'word3']  0.009087  \n",
       "395  ['word1', 'word2', 'word3']  0.009087  \n",
       "396  ['word1', 'word2', 'word3']  0.008776  \n",
       "397  ['word1', 'word2', 'word3']  0.012309  \n",
       "398  ['word1', 'word2', 'word3']  0.009105  \n",
       "\n",
       "[317 rows x 21 columns]"
      ]
     },
     "execution_count": 72,
     "metadata": {},
     "output_type": "execute_result"
    }
   ],
   "source": [
    "df[df.image_text_area < 20]"
   ]
  }
 ],
 "metadata": {
  "kernelspec": {
   "display_name": "Python 3",
   "language": "python",
   "name": "python3"
  },
  "language_info": {
   "codemirror_mode": {
    "name": "ipython",
    "version": 3
   },
   "file_extension": ".py",
   "mimetype": "text/x-python",
   "name": "python",
   "nbconvert_exporter": "python",
   "pygments_lexer": "ipython3",
   "version": "3.9.12"
  }
 },
 "nbformat": 4,
 "nbformat_minor": 2
}
